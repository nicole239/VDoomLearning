{
 "cells": [
  {
   "cell_type": "markdown",
   "metadata": {},
   "source": [
    "#Deep Learning - Proyecto 1"
   ]
  },
  {
   "cell_type": "code",
   "execution_count": 2,
   "metadata": {},
   "outputs": [],
   "source": [
    "from __future__ import division\n",
    "from __future__ import print_function\n",
    "from vizdoom import *\n",
    "import itertools as it\n",
    "from random import sample, randint, random\n",
    "from time import time, sleep\n",
    "import numpy as np\n",
    "import skimage.color, skimage.transform\n",
    "import torch\n",
    "import torch.nn as nn\n",
    "import torch.nn.functional as F\n",
    "import torch.optim as optim\n",
    "from torchvision import transforms\n",
    "from torch.autograd import Variable\n",
    "from tqdm import trange\n",
    "from torch.utils.data import IterableDataset, DataLoader\n",
    "from torch.distributions import Categorical\n",
    "# ⚡ PyTorch Lightning\n",
    "import pytorch_lightning as pl\n",
    "\n",
    "# 🏋️‍♀️ Weights & Biases\n",
    "import wandb\n",
    "\n",
    "# ⚡ 🤝 🏋️‍♀️\n",
    "from pytorch_lightning.loggers import WandbLogger\n",
    "\n",
    "import cv2"
   ]
  },
  {
   "cell_type": "markdown",
   "metadata": {},
   "source": [
    "##Configuracion"
   ]
  },
  {
   "cell_type": "code",
   "execution_count": 3,
   "metadata": {},
   "outputs": [
    {
     "name": "stderr",
     "output_type": "stream",
     "text": [
      "Global seed set to 1190065759\n"
     ]
    },
    {
     "data": {
      "text/plain": [
       "1190065759"
      ]
     },
     "execution_count": 3,
     "metadata": {},
     "output_type": "execute_result"
    }
   ],
   "source": [
    "# Q-learning settings\n",
    "learning_rate = 0.00025\n",
    "discount_factor = 0.99\n",
    "epochs = 20\n",
    "learning_steps_per_epoch = 2000\n",
    "replay_memory_size = 10000\n",
    "\n",
    "# NN learning settings\n",
    "batch_size = 64\n",
    "\n",
    "# Training regime\n",
    "test_episodes_per_epoch = 100\n",
    "\n",
    "# Other parameters\n",
    "frame_repeat = 12\n",
    "resolution = (30, 45)\n",
    "episodes_to_watch = 10\n",
    "\n",
    "model_savefile = \"./model-doom.pth\"\n",
    "save_model = True\n",
    "load_model = False\n",
    "skip_learning = False\n",
    "\n",
    "# Configuration file path\n",
    "#config_file_path = \"../scenarios/simpler_basic.cfg\"\n",
    "config_file_path = \"../../scenarios/deadly_corridor.cfg\"\n",
    "#config_file_path = \"../../scenarios/basic.cfg\"\n",
    "\n",
    "pl.seed_everything(hash(\"setting random seeds\") % 2**32 - 1)"
   ]
  },
  {
   "cell_type": "markdown",
   "metadata": {},
   "source": [
    "##Preprocesamiento"
   ]
  },
  {
   "cell_type": "code",
   "execution_count": 4,
   "metadata": {},
   "outputs": [],
   "source": [
    "# Converts and down-samples the input image\n",
    "def preprocess(img):\n",
    "    img = skimage.transform.resize(img, resolution)\n",
    "    img = img.astype(np.float32)\n",
    "    img = img.reshape([1, 1, resolution[0], resolution[1]])\n",
    "    img = torch.from_numpy(img)\n",
    "    img = Variable(img)\n",
    "    return img"
   ]
  },
  {
   "cell_type": "code",
   "execution_count": 5,
   "metadata": {},
   "outputs": [],
   "source": [
    "import math\n",
    "def distance(x1,y1,x2,y2):\n",
    "    return math.sqrt(math.pow(x1-x2,2) + math.pow(y1-y2,2))"
   ]
  },
  {
   "cell_type": "code",
   "execution_count": 6,
   "metadata": {},
   "outputs": [],
   "source": [
    "doom_red_color = [0, 0, 203]\n",
    "doom_blue_color = [203, 0, 0]\n",
    "\n",
    "def draw_bounding_box(buffer, x, y, width, height, color):\n",
    "    for i in range(width):\n",
    "        buffer[y, x + i, :] = color\n",
    "        buffer[y + height, x + i, :] = color\n",
    "\n",
    "    for i in range(height):\n",
    "        buffer[y + i, x, :] = color\n",
    "        buffer[y + i, x + width, :] = color"
   ]
  },
  {
   "cell_type": "markdown",
   "metadata": {},
   "source": [
    "##Reproducir juego aprendido"
   ]
  },
  {
   "cell_type": "code",
   "execution_count": 7,
   "metadata": {},
   "outputs": [],
   "source": [
    "class ReplayMemory:\n",
    "    def __init__(self, capacity):\n",
    "        channels = 1\n",
    "        state_shape = (capacity, channels, resolution[0], resolution[1])\n",
    "        self.s1 = np.zeros(state_shape, dtype=np.float32)\n",
    "        self.s2 = np.zeros(state_shape, dtype=np.float32)\n",
    "        self.a = np.zeros(capacity, dtype=np.int32)\n",
    "        self.r = np.zeros(capacity, dtype=np.float32)\n",
    "        self.isterminal = np.zeros(capacity, dtype=np.float32)\n",
    "\n",
    "        self.capacity = capacity\n",
    "        self.size = 0\n",
    "        self.pos = 0\n",
    "\n",
    "    def add_transition(self, s1, action, s2, isterminal, reward):\n",
    "        self.s1[self.pos, 0, :, :] = s1\n",
    "        self.a[self.pos] = action\n",
    "        if not isterminal:\n",
    "            self.s2[self.pos, 0, :, :] = s2\n",
    "        self.isterminal[self.pos] = isterminal\n",
    "        self.r[self.pos] = reward\n",
    "\n",
    "        self.pos = (self.pos + 1) % self.capacity\n",
    "        self.size = min(self.size + 1, self.capacity)\n",
    "\n",
    "    def get_sample(self, sample_size):\n",
    "        i = sample(range(0, self.size), sample_size)\n",
    "        return self.s1[i], self.a[i], self.r[i], self.isterminal[i], self.s2[i] \n",
    "\n",
    "    def clean_memory(self):\n",
    "        self.pos = 0\n",
    "        self.size = 0\n",
    "\n"
   ]
  },
  {
   "cell_type": "code",
   "execution_count": 8,
   "metadata": {},
   "outputs": [],
   "source": [
    "class RLDataset(IterableDataset):\n",
    "    \"\"\"\n",
    "    Iterable Dataset containing the ReplayMemory\n",
    "    which will be updated with new experiences during training\n",
    "    Args:\n",
    "        buffer: replay buffer\n",
    "        sample_size: number of experiences to sample at a time\n",
    "    \"\"\"\n",
    "\n",
    "    def __init__(self, buffer: ReplayMemory, sample_size: int = batch_size) -> None:\n",
    "        self.buffer = buffer\n",
    "        self.sample_size = sample_size\n",
    "\n",
    "    def __iter__(self):\n",
    "        states, actions, rewards, dones, new_states = self.buffer.get_sample(self.sample_size)\n",
    "        for i in range(len(dones)):\n",
    "            yield states[i], actions[i], rewards[i], dones[i], new_states[i]"
   ]
  },
  {
   "cell_type": "code",
   "execution_count": 9,
   "metadata": {},
   "outputs": [],
   "source": [
    "class RewardVariables():\n",
    "    def __init__(self):\n",
    "        self.distance = 1312\n",
    "        self.ammo = 55\n",
    "        self.hits = 0\n",
    "        self.health = 100\n",
    "        self.goal_X = 1312\n",
    "        self.goal_Y = 0\n",
    "        self.total_reward = 0\n",
    "\n",
    "    def update(self, game):\n",
    "        reward = 0\n",
    "\n",
    "        player_x = game.get_game_variable(GameVariable.POSITION_X)\n",
    "        player_y = game.get_game_variable(GameVariable.POSITION_Y)\n",
    "        d = distance(self.goal_X,self.goal_Y,player_x,player_y )\n",
    "\n",
    "        reward += self.distance - d \n",
    "        self.distance = d\n",
    "        \n",
    "        hits = game.get_game_variable(GameVariable.KILLCOUNT) \n",
    "        delta_hits = hits - self.hits\n",
    "        reward += delta_hits * 100 \n",
    "        self.hits = hits\n",
    "\n",
    "        ammo = game.get_game_variable(GameVariable.AMMO4)\n",
    "        \n",
    "        if delta_hits == 0:\n",
    "            delta_ammo = ammo - self.ammo\n",
    "            reward += delta_ammo * 10\n",
    "        self.ammo = ammo\n",
    "        \n",
    "        health = game.get_game_variable(GameVariable.HEALTH) \n",
    "        reward += health - self.health\n",
    "        self.health = health\n",
    "        \n",
    "        self.total_reward += reward\n",
    "        return reward\n",
    "\n",
    "    "
   ]
  },
  {
   "cell_type": "markdown",
   "metadata": {},
   "source": [
    "##Modelo de Policy"
   ]
  },
  {
   "cell_type": "code",
   "execution_count": 10,
   "metadata": {},
   "outputs": [],
   "source": [
    "class Net(nn.Module):\n",
    "    def __init__(self, available_actions_count):\n",
    "        super(Net, self).__init__()\n",
    "        self.conv1 = nn.Conv2d(1, 8, kernel_size=6, stride=3)\n",
    "        self.conv2 = nn.Conv2d(8, 8, kernel_size=3, stride=2)\n",
    "        self.fc1 = nn.Linear(192, 128)\n",
    "        self.fc2 = nn.Linear(128, available_actions_count)\n",
    "\n",
    "    def forward(self, x):\n",
    "        x = F.relu(self.conv1(x))\n",
    "        x = F.relu(self.conv2(x))\n",
    "        x = x.view(-1, 192)\n",
    "        x = F.relu(self.fc1(x))\n",
    "        x = self.fc2(x)\n",
    "        return x"
   ]
  },
  {
   "cell_type": "code",
   "execution_count": 45,
   "metadata": {},
   "outputs": [],
   "source": [
    "from vit_pytorch import ViT\n",
    "\n",
    "class VisionTransformer(nn.Module):\n",
    "    def __init__(self, available_actions_count):\n",
    "        super(VisionTransformer,self).__init__()\n",
    "        print(\"Available actions count: \",available_actions_count)\n",
    "        self.vit = ViT(\n",
    "                    image_size = 45,\n",
    "                    patch_size = 5,\n",
    "                    num_classes = available_actions_count,\n",
    "                    dim = available_actions_count,\n",
    "                    depth = 2,\n",
    "                    heads = 2,\n",
    "                    mlp_dim = available_actions_count,\n",
    "                    dropout = 0.1,\n",
    "                    emb_dropout = 0.1,\n",
    "                    channels=1\n",
    "                    )\n",
    "\n",
    "    def forward(self,x):\n",
    "        return self.vit(x)"
   ]
  },
  {
   "cell_type": "code",
   "execution_count": 18,
   "metadata": {},
   "outputs": [],
   "source": [
    "class PolicyModel(pl.LightningModule):\n",
    "    def __init__(self, preprocess = True, use_original_model=False):\n",
    "        super().__init__()\n",
    "        self.lr      = learning_rate\n",
    "        self.preprocess = preprocess\n",
    "        # Create Doom instance\n",
    "        self.game = self.initialize_vizdoom(config_file_path)\n",
    "\n",
    "        # Action = which buttons are pressed\n",
    "        n = self.game.get_available_buttons_size()\n",
    "        self.actions = [list(a) for a in it.product([0, 1], repeat=n)]\n",
    "\n",
    "        # Create replay memory which will store the transitions\n",
    "        self.memory = ReplayMemory(capacity=replay_memory_size)\n",
    "\n",
    "        if use_original_model:            \n",
    "            self.net = VisionTransformer(len(self.actions))\n",
    "        else:\n",
    "            self.net = Net(len(self.actions))\n",
    "        \n",
    "    def initialize_vizdoom(self, config_file_path):\n",
    "        game = DoomGame()\n",
    "        game.load_config(config_file_path)\n",
    "        game.set_window_visible(False)\n",
    "        game.set_mode(Mode.PLAYER)\n",
    "        game.set_screen_format(ScreenFormat.GRAY8)        \n",
    "        game.set_depth_buffer_enabled(True)\n",
    "        game.set_screen_resolution(ScreenResolution.RES_640X480)\n",
    "        game.init()\n",
    "        return game\n",
    "\n",
    "    def forward(self, x): \n",
    "        logits = self.net(x)\n",
    "        return Categorical(logits=logits)\n",
    "\n",
    "    def get_action(self,state):\n",
    "        return self(state).sample().item()\n",
    "\n",
    "    def get_state(self):\n",
    "        if self.preprocess:\n",
    "            state = preprocess(self.game.get_state().depth_buffer)\n",
    "        else:\n",
    "            state = preprocess(self.game.get_state().screen_buffer)\n",
    "        return state\n",
    "\n",
    "        \n",
    "    def loss(self,state, action, reward):       \n",
    "        logp = self(state).log_prob(action)\n",
    "        return -(logp * reward).mean()\n",
    "\n",
    "    def on_train_epoch_start(self):\n",
    "        #Llena la memoria\n",
    "        self.memory.clean_memory()\n",
    "        self.game.new_episode()\n",
    "        variables = RewardVariables()\n",
    "        for learning_step in trange(learning_steps_per_epoch, leave=False):   \n",
    "            state = self.get_state()\n",
    "            action= self.get_action(state)\n",
    "            self.game.make_action(self.actions[action], frame_repeat)\n",
    "            reward = variables.update(self.game)\n",
    "            done = self.game.is_episode_finished()\n",
    "            next_state = self.get_state() if not done else None\n",
    "            # Remember the transition that was just experienced.\n",
    "            self.memory.add_transition(state, action, next_state, done, reward)\n",
    "            \n",
    "            if self.game.is_episode_finished():\n",
    "                score = self.game.get_total_reward()\n",
    "                self.log('train/score', score, on_epoch=True)    \n",
    "                self.log('train/reward', variables.total_reward, on_epoch=True)            \n",
    "                self.game.new_episode()  \n",
    "                variables = RewardVariables()      \n",
    "\n",
    "    def discount_reward(self,reward):\n",
    "        R = 0\n",
    "        rewards_with_discount=[]\n",
    "        for r in torch.flip(reward, [0]):\n",
    "            R = r + discount_factor * R\n",
    "            rewards_with_discount.insert(0,R)\n",
    "        \n",
    "        # Scale rewards\n",
    "        rewards_with_discount = torch.FloatTensor(rewards_with_discount)\n",
    "        rewards_with_discount = (rewards_with_discount - rewards_with_discount.mean()) / (rewards_with_discount.std() + np.finfo(np.float32).eps)\n",
    "        return rewards_with_discount\n",
    "\n",
    "    def training_step(self, batch, batch_idx):\n",
    "        state, action, reward, _, _ = batch\n",
    "\n",
    "        # Discount future rewards back to the present       \n",
    "        reward = self.discount_reward(reward) \n",
    "        \n",
    "        # Calculate loss\n",
    "        loss = self.loss(state,action,reward)        \n",
    "\n",
    "        # logging metrics we calculated by hand\n",
    "        self.log('train/loss', loss, on_epoch=True)\n",
    "        \n",
    "        return loss\n",
    "\n",
    "    def configure_optimizers(self):\n",
    "        return torch.optim.SGD(model.parameters(), self.lr)\n",
    "\n",
    "    #paso de pruebas que se realizarán al finalizar todo el entrenamiento\n",
    "    def test_step(self, batch, batch_idx):\n",
    "        print(\"Testing...\")\n",
    "        \n",
    "\n",
    "    def on_validation_start(self):      \n",
    "        for _ in trange(test_episodes_per_epoch, leave=False):\n",
    "            self.game.new_episode()\n",
    "            variables = RewardVariables()\n",
    "            while not self.game.is_episode_finished():\n",
    "                state = self.get_state()\n",
    "                action= self.get_action(state)\n",
    "                self.game.make_action(self.actions[action], frame_repeat)\n",
    "                variables.update(self.game)\n",
    "\n",
    "            r = self.game.get_total_reward()\n",
    "            self.log(\"val/total_score\", r, on_step=True, on_epoch=True)\n",
    "            self.log(\"val/total_reward\", variables.total_reward, on_step=True, on_epoch=True)\n",
    "\n",
    "    def on_train_end(self):\n",
    "        self.game.close()\n",
    "        \n",
    "        # Reinitialize the game with window visible\n",
    "        self.game.set_window_visible(True)\n",
    "        self.game.set_mode(Mode.PLAYER )\n",
    "        self.game.set_depth_buffer_enabled(True)\n",
    "        self.game.set_screen_format(ScreenFormat.GRAY8)\n",
    "        self.game.set_render_hud(True)\n",
    "        self.game.init()\n",
    "\n",
    "        btns = self.game.get_available_buttons()\n",
    "        print(btns)\n",
    "        for _ in range(episodes_to_watch):\n",
    "            self.game.new_episode()\n",
    "            variables = RewardVariables()\n",
    "            while not self.game.is_episode_finished():\n",
    "                state = self.get_state()\n",
    "                action = self.get_action(state)\n",
    "                self.game.set_action(self.actions[action])\n",
    "                for _ in range(frame_repeat):\n",
    "                    self.game.advance_action()\n",
    "                variables.update(self.game)\n",
    "            # Sleep between episodes\n",
    "            sleep(1.0)\n",
    "            score = self.game.get_total_reward()\n",
    "            print(\"test/total_score\", score)\n",
    "            print(\"test/total_reward\",variables.total_reward)\n",
    "\n",
    "        torch.save(self.net, model_savefile)\n",
    "        self.game.close()\n",
    "\n",
    "    def train_dataloader(self) -> DataLoader:\n",
    "        \"\"\"Initialize the Replay Buffer dataset used for retrieving experiences\"\"\"\n",
    "        self.hparams.episode_length = 200\n",
    "        self.hparams.batch_size = 16\n",
    "        dataset = RLDataset(self.memory, self.hparams.episode_length)\n",
    "        dataloader = DataLoader(dataset=dataset,\n",
    "                                batch_size=self.hparams.batch_size,\n",
    "                                )\n",
    "        return dataloader\n",
    "            "
   ]
  },
  {
   "cell_type": "code",
   "execution_count": 12,
   "metadata": {},
   "outputs": [
    {
     "name": "stdout",
     "output_type": "stream",
     "text": [
      "[Button.MOVE_LEFT, Button.MOVE_RIGHT, Button.ATTACK, Button.MOVE_FORWARD, Button.MOVE_BACKWARD, Button.TURN_LEFT, Button.TURN_RIGHT]\n",
      "test/total_score -58.877716064453125\n",
      "test/total_reward -126.97801231636117\n",
      "test/total_score -115.98735046386719\n",
      "test/total_reward -206.0829541014516\n",
      "test/total_score 222.21640014648438\n",
      "test/total_reward 142.09238411086812\n",
      "test/total_score -113.28485107421875\n",
      "test/total_reward -203.37948714058416\n",
      "test/total_score -82.85179138183594\n",
      "test/total_reward -170.9503774161533\n",
      "test/total_score 68.25814819335938\n",
      "test/total_reward 70.14656640967632\n",
      "test/total_score -109.70040893554688\n",
      "test/total_reward -133.79695982497128\n",
      "test/total_score -103.48106384277344\n",
      "test/total_reward -125.57810082288461\n",
      "test/total_score -94.95051574707031\n",
      "test/total_reward -174.9994301461786\n",
      "test/total_score 236.17828369140625\n",
      "test/total_reward 248.04714551873803\n"
     ]
    }
   ],
   "source": [
    "model = PolicyModel()\n",
    "model.on_train_end()"
   ]
  },
  {
   "cell_type": "code",
   "execution_count": 22,
   "metadata": {},
   "outputs": [
    {
     "name": "stderr",
     "output_type": "stream",
     "text": [
      "wandb: Appending key for api.wandb.ai to your netrc file: C:\\Users\\nicol/.netrc\n"
     ]
    }
   ],
   "source": [
    "wandb.finish()\n",
    "!wandb login --relogin 70434303a5ed54f05105b62078db2447874ee020\n",
    "wandb_logger = WandbLogger(project=\"VDoomLearning\")"
   ]
  },
  {
   "cell_type": "code",
   "execution_count": 44,
   "metadata": {},
   "outputs": [
    {
     "name": "stderr",
     "output_type": "stream",
     "text": [
      "GPU available: False, used: False\n",
      "TPU available: False, using: 0 TPU cores\n",
      "IPU available: False, using: 0 IPUs\n",
      "\n",
      "  | Name | Type              | Params\n",
      "-------------------------------------------\n",
      "0 | net  | VisionTransformer | 225 K \n",
      "-------------------------------------------\n",
      "225 K     Trainable params\n",
      "0         Non-trainable params\n",
      "225 K     Total params\n",
      "0.903     Total estimated model params size (MB)\n",
      "C:\\Users\\nicol\\AppData\\Local\\Programs\\Python\\Python36\\lib\\site-packages\\pytorch_lightning\\trainer\\data_loading.py:111: UserWarning: The dataloader, train_dataloader, does not have many workers which may be a bottleneck. Consider increasing the value of the `num_workers` argument` (try 4 which is the number of cpus on this machine) in the `DataLoader` init to improve performance.\n",
      "  f\"The dataloader, {name}, does not have many workers which may be a bottleneck.\"\n"
     ]
    },
    {
     "name": "stdout",
     "output_type": "stream",
     "text": [
      "Available actions count:  128\n",
      "Epoch 0: : 0it [00:00, ?it/s]"
     ]
    },
    {
     "name": "stderr",
     "output_type": "stream",
     "text": []
    },
    {
     "name": "stdout",
     "output_type": "stream",
     "text": [
      "torch.Size([1, 1, 30, 45])\n",
      "torch.Size([1, 1, 32, 32])\n"
     ]
    },
    {
     "name": "stderr",
     "output_type": "stream",
     "text": []
    },
    {
     "name": "stdout",
     "output_type": "stream",
     "text": [
      "torch.Size([1, 1, 30, 45])\n",
      "torch.Size([1, 1, 32, 32])\n"
     ]
    },
    {
     "name": "stderr",
     "output_type": "stream",
     "text": []
    },
    {
     "name": "stdout",
     "output_type": "stream",
     "text": [
      "torch.Size([1, 1, 30, 45])\n",
      "torch.Size([1, 1, 32, 32])\n"
     ]
    },
    {
     "name": "stderr",
     "output_type": "stream",
     "text": []
    },
    {
     "name": "stdout",
     "output_type": "stream",
     "text": [
      "torch.Size([1, 1, 30, 45])\n",
      "torch.Size([1, 1, 32, 32])\n"
     ]
    },
    {
     "name": "stderr",
     "output_type": "stream",
     "text": []
    },
    {
     "name": "stdout",
     "output_type": "stream",
     "text": [
      "torch.Size([1, 1, 30, 45])\n",
      "torch.Size([1, 1, 32, 32])\n"
     ]
    },
    {
     "name": "stderr",
     "output_type": "stream",
     "text": []
    },
    {
     "name": "stdout",
     "output_type": "stream",
     "text": [
      "torch.Size([1, 1, 30, 45])\n",
      "torch.Size([1, 1, 32, 32])\n"
     ]
    },
    {
     "name": "stderr",
     "output_type": "stream",
     "text": []
    },
    {
     "name": "stdout",
     "output_type": "stream",
     "text": [
      "torch.Size([1, 1, 30, 45])\n",
      "torch.Size([1, 1, 32, 32])\n"
     ]
    },
    {
     "name": "stderr",
     "output_type": "stream",
     "text": []
    },
    {
     "name": "stdout",
     "output_type": "stream",
     "text": [
      "torch.Size([1, 1, 30, 45])\n",
      "torch.Size([1, 1, 32, 32])\n"
     ]
    },
    {
     "name": "stderr",
     "output_type": "stream",
     "text": []
    },
    {
     "name": "stdout",
     "output_type": "stream",
     "text": [
      "torch.Size([1, 1, 30, 45])\n",
      "torch.Size([1, 1, 32, 32])\n"
     ]
    },
    {
     "name": "stderr",
     "output_type": "stream",
     "text": []
    },
    {
     "name": "stdout",
     "output_type": "stream",
     "text": [
      "torch.Size([1, 1, 30, 45])\n",
      "torch.Size([1, 1, 32, 32])\n"
     ]
    },
    {
     "name": "stderr",
     "output_type": "stream",
     "text": []
    },
    {
     "name": "stdout",
     "output_type": "stream",
     "text": [
      "torch.Size([1, 1, 30, 45])\n",
      "torch.Size([1, 1, 32, 32])\n"
     ]
    },
    {
     "name": "stderr",
     "output_type": "stream",
     "text": []
    },
    {
     "name": "stdout",
     "output_type": "stream",
     "text": [
      "torch.Size([1, 1, 30, 45])\n",
      "torch.Size([1, 1, 32, 32])\n"
     ]
    },
    {
     "name": "stderr",
     "output_type": "stream",
     "text": []
    },
    {
     "name": "stdout",
     "output_type": "stream",
     "text": [
      "torch.Size([1, 1, 30, 45])\n",
      "torch.Size([1, 1, 32, 32])\n"
     ]
    },
    {
     "name": "stderr",
     "output_type": "stream",
     "text": []
    },
    {
     "name": "stdout",
     "output_type": "stream",
     "text": [
      "torch.Size([1, 1, 30, 45])\n",
      "torch.Size([1, 1, 32, 32])\n"
     ]
    },
    {
     "name": "stderr",
     "output_type": "stream",
     "text": []
    },
    {
     "name": "stdout",
     "output_type": "stream",
     "text": [
      "torch.Size([1, 1, 30, 45])\n",
      "torch.Size([1, 1, 32, 32])\n"
     ]
    },
    {
     "name": "stderr",
     "output_type": "stream",
     "text": []
    },
    {
     "name": "stdout",
     "output_type": "stream",
     "text": [
      "torch.Size([1, 1, 30, 45])\n",
      "torch.Size([1, 1, 32, 32])\n"
     ]
    },
    {
     "name": "stderr",
     "output_type": "stream",
     "text": []
    },
    {
     "name": "stdout",
     "output_type": "stream",
     "text": [
      "torch.Size([1, 1, 30, 45])\n",
      "torch.Size([1, 1, 32, 32])\n"
     ]
    },
    {
     "name": "stderr",
     "output_type": "stream",
     "text": []
    },
    {
     "name": "stdout",
     "output_type": "stream",
     "text": [
      "torch.Size([1, 1, 30, 45])\n",
      "torch.Size([1, 1, 32, 32])\n",
      "torch.Size([1, 1, 30, 45])\n",
      "torch.Size([1, 1, 32, 32])\n"
     ]
    },
    {
     "name": "stderr",
     "output_type": "stream",
     "text": []
    },
    {
     "name": "stdout",
     "output_type": "stream",
     "text": [
      "torch.Size([1, 1, 30, 45])\n",
      "torch.Size([1, 1, 32, 32])\n"
     ]
    },
    {
     "name": "stderr",
     "output_type": "stream",
     "text": []
    },
    {
     "name": "stdout",
     "output_type": "stream",
     "text": [
      "torch.Size([1, 1, 30, 45])\n",
      "torch.Size([1, 1, 32, 32])\n"
     ]
    },
    {
     "name": "stderr",
     "output_type": "stream",
     "text": []
    },
    {
     "name": "stdout",
     "output_type": "stream",
     "text": [
      "torch.Size([1, 1, 30, 45])\n",
      "torch.Size([1, 1, 32, 32])\n",
      "torch.Size([1, 1, 30, 45])\n",
      "torch.Size([1, 1, 32, 32])\n"
     ]
    },
    {
     "name": "stderr",
     "output_type": "stream",
     "text": []
    },
    {
     "name": "stdout",
     "output_type": "stream",
     "text": [
      "torch.Size([1, 1, 30, 45])\n",
      "torch.Size([1, 1, 32, 32])\n",
      "torch.Size([1, 1, 30, 45])"
     ]
    },
    {
     "name": "stderr",
     "output_type": "stream",
     "text": []
    },
    {
     "name": "stdout",
     "output_type": "stream",
     "text": [
      "\n",
      "torch.Size([1, 1, 32, 32])\n"
     ]
    },
    {
     "name": "stderr",
     "output_type": "stream",
     "text": []
    },
    {
     "name": "stdout",
     "output_type": "stream",
     "text": [
      "torch.Size([1, 1, 30, 45])\n",
      "torch.Size([1, 1, 32, 32])\n",
      "torch.Size([1, 1, 30, 45])\n",
      "torch.Size([1, 1, 32, 32])\n"
     ]
    },
    {
     "name": "stderr",
     "output_type": "stream",
     "text": []
    },
    {
     "name": "stdout",
     "output_type": "stream",
     "text": [
      "torch.Size([1, 1, 30, 45])\n",
      "torch.Size([1, 1, 32, 32])\n",
      "torch.Size([1, 1, 30, 45])\n",
      "torch.Size([1, 1, 32, 32])\n"
     ]
    },
    {
     "name": "stderr",
     "output_type": "stream",
     "text": []
    },
    {
     "name": "stdout",
     "output_type": "stream",
     "text": [
      "torch.Size([1, 1, 30, 45])\n",
      "torch.Size([1, 1, 32, 32])\n",
      "torch.Size([1, 1, 30, 45])"
     ]
    },
    {
     "name": "stderr",
     "output_type": "stream",
     "text": []
    },
    {
     "name": "stdout",
     "output_type": "stream",
     "text": [
      "\n",
      "torch.Size([1, 1, 32, 32])\n",
      "torch.Size([1, 1, 30, 45])\n",
      "torch.Size([1, 1, 32, 32])\n"
     ]
    },
    {
     "name": "stderr",
     "output_type": "stream",
     "text": []
    },
    {
     "name": "stdout",
     "output_type": "stream",
     "text": [
      "torch.Size([1, 1, 30, 45])\n",
      "torch.Size([1, 1, 32, 32])\n",
      "torch.Size([1, 1, 30, 45])\n",
      "torch.Size([1, 1, 32, 32])\n"
     ]
    },
    {
     "name": "stderr",
     "output_type": "stream",
     "text": []
    },
    {
     "name": "stdout",
     "output_type": "stream",
     "text": [
      "torch.Size([1, 1, 30, 45])\n",
      "torch.Size([1, 1, 32, 32])\n"
     ]
    },
    {
     "name": "stderr",
     "output_type": "stream",
     "text": []
    },
    {
     "name": "stdout",
     "output_type": "stream",
     "text": [
      "torch.Size([1, 1, 30, 45])\n",
      "torch.Size([1, 1, 32, 32])\n",
      "torch.Size([1, 1, 30, 45])\n",
      "torch.Size([1, 1, 32, 32])\n"
     ]
    },
    {
     "name": "stderr",
     "output_type": "stream",
     "text": []
    },
    {
     "name": "stdout",
     "output_type": "stream",
     "text": [
      "torch.Size([1, 1, 30, 45])\n",
      "torch.Size([1, 1, 32, 32])\n",
      "torch.Size([1, 1, 30, 45])\n",
      "torch.Size([1, 1, 32, 32])\n"
     ]
    },
    {
     "name": "stderr",
     "output_type": "stream",
     "text": []
    },
    {
     "name": "stdout",
     "output_type": "stream",
     "text": [
      "torch.Size([1, 1, 30, 45])\n",
      "torch.Size([1, 1, 32, 32])\n",
      "torch.Size([1, 1, 30, 45])\n",
      "torch.Size([1, 1, 32, 32])\n"
     ]
    },
    {
     "name": "stderr",
     "output_type": "stream",
     "text": []
    },
    {
     "name": "stdout",
     "output_type": "stream",
     "text": [
      "torch.Size([1, 1, 30, 45])\n",
      "torch.Size([1, 1, 32, 32])\n",
      "torch.Size([1, 1, 30, 45])"
     ]
    },
    {
     "name": "stderr",
     "output_type": "stream",
     "text": []
    },
    {
     "name": "stdout",
     "output_type": "stream",
     "text": [
      "\n",
      "torch.Size([1, 1, 32, 32])\n",
      "torch.Size([1, 1, 30, 45])\n",
      "torch.Size([1, 1, 32, 32])\n"
     ]
    },
    {
     "name": "stderr",
     "output_type": "stream",
     "text": []
    },
    {
     "name": "stdout",
     "output_type": "stream",
     "text": [
      "torch.Size([1, 1, 30, 45])\n",
      "torch.Size([1, 1, 32, 32])\n",
      "torch.Size([1, 1, 30, 45])\n",
      "torch.Size([1, 1, 32, 32])\n"
     ]
    },
    {
     "name": "stderr",
     "output_type": "stream",
     "text": []
    },
    {
     "name": "stdout",
     "output_type": "stream",
     "text": [
      "torch.Size([1, 1, 30, 45])\n",
      "torch.Size([1, 1, 32, 32])\n"
     ]
    },
    {
     "name": "stderr",
     "output_type": "stream",
     "text": []
    },
    {
     "name": "stdout",
     "output_type": "stream",
     "text": [
      "torch.Size([1, 1, 30, 45])\n",
      "torch.Size([1, 1, 32, 32])\n"
     ]
    },
    {
     "name": "stderr",
     "output_type": "stream",
     "text": []
    },
    {
     "name": "stdout",
     "output_type": "stream",
     "text": [
      "torch.Size([1, 1, 30, 45])\n",
      "torch.Size([1, 1, 32, 32])\n",
      "torch.Size([1, 1, 30, 45])\n",
      "torch.Size([1, 1, 32, 32])\n"
     ]
    },
    {
     "name": "stderr",
     "output_type": "stream",
     "text": []
    },
    {
     "name": "stdout",
     "output_type": "stream",
     "text": [
      "torch.Size([1, 1, 30, 45])\n",
      "torch.Size([1, 1, 32, 32])\n",
      "torch.Size([1, 1, 30, 45])"
     ]
    },
    {
     "name": "stderr",
     "output_type": "stream",
     "text": []
    },
    {
     "name": "stdout",
     "output_type": "stream",
     "text": [
      "\n",
      "torch.Size([1, 1, 32, 32])\n",
      "torch.Size([1, 1, 30, 45])\n",
      "torch.Size([1, 1, 32, 32])\n"
     ]
    },
    {
     "name": "stderr",
     "output_type": "stream",
     "text": []
    },
    {
     "name": "stdout",
     "output_type": "stream",
     "text": [
      "torch.Size([1, 1, 30, 45])\n",
      "torch.Size([1, 1, 32, 32])\n",
      "torch.Size([1, 1, 30, 45])\n",
      "torch.Size([1, 1, 32, 32])\n"
     ]
    },
    {
     "name": "stderr",
     "output_type": "stream",
     "text": []
    },
    {
     "name": "stdout",
     "output_type": "stream",
     "text": [
      "torch.Size([1, 1, 30, 45])\n",
      "torch.Size([1, 1, 32, 32])\n"
     ]
    },
    {
     "name": "stderr",
     "output_type": "stream",
     "text": []
    },
    {
     "name": "stdout",
     "output_type": "stream",
     "text": [
      "torch.Size([1, 1, 30, 45])\n",
      "torch.Size([1, 1, 32, 32])\n"
     ]
    },
    {
     "name": "stderr",
     "output_type": "stream",
     "text": []
    },
    {
     "name": "stdout",
     "output_type": "stream",
     "text": [
      "torch.Size([1, 1, 30, 45])\n",
      "torch.Size([1, 1, 32, 32])\n"
     ]
    },
    {
     "name": "stderr",
     "output_type": "stream",
     "text": []
    },
    {
     "name": "stdout",
     "output_type": "stream",
     "text": [
      "torch.Size([1, 1, 30, 45])\n",
      "torch.Size([1, 1, 32, 32])\n",
      "torch.Size([1, 1, 30, 45])\n",
      "torch.Size([1, 1, 32, 32])\n"
     ]
    },
    {
     "name": "stderr",
     "output_type": "stream",
     "text": []
    },
    {
     "name": "stdout",
     "output_type": "stream",
     "text": [
      "torch.Size([1, 1, 30, 45])\n",
      "torch.Size([1, 1, 32, 32])\n"
     ]
    },
    {
     "name": "stderr",
     "output_type": "stream",
     "text": []
    },
    {
     "name": "stdout",
     "output_type": "stream",
     "text": [
      "torch.Size([1, 1, 30, 45])\n",
      "torch.Size([1, 1, 32, 32])\n",
      "torch.Size([1, 1, 30, 45])\n",
      "torch.Size([1, 1, 32, 32])\n"
     ]
    },
    {
     "name": "stderr",
     "output_type": "stream",
     "text": []
    },
    {
     "name": "stdout",
     "output_type": "stream",
     "text": [
      "torch.Size([1, 1, 30, 45])\n",
      "torch.Size([1, 1, 32, 32])\n",
      "torch.Size([1, 1, 30, 45])"
     ]
    },
    {
     "name": "stderr",
     "output_type": "stream",
     "text": []
    },
    {
     "name": "stdout",
     "output_type": "stream",
     "text": [
      "\n",
      "torch.Size([1, 1, 32, 32])\n",
      "torch.Size([1, 1, 30, 45])\n",
      "torch.Size([1, 1, 32, 32])\n"
     ]
    },
    {
     "name": "stderr",
     "output_type": "stream",
     "text": []
    },
    {
     "name": "stdout",
     "output_type": "stream",
     "text": [
      "torch.Size([1, 1, 30, 45])\n",
      "torch.Size([1, 1, 32, 32])\n",
      "torch.Size([1, 1, 30, 45])\n",
      "torch.Size([1, 1, 32, 32])\n"
     ]
    },
    {
     "name": "stderr",
     "output_type": "stream",
     "text": []
    },
    {
     "name": "stdout",
     "output_type": "stream",
     "text": [
      "torch.Size([1, 1, 30, 45])\n",
      "torch.Size([1, 1, 32, 32])\n",
      "torch.Size([1, 1, 30, 45])\n",
      "torch.Size([1, 1, 32, 32])\n"
     ]
    },
    {
     "name": "stderr",
     "output_type": "stream",
     "text": []
    },
    {
     "name": "stdout",
     "output_type": "stream",
     "text": [
      "torch.Size([1, 1, 30, 45])\n",
      "torch.Size([1, 1, 32, 32])\n",
      "torch.Size([1, 1, 30, 45])"
     ]
    },
    {
     "name": "stderr",
     "output_type": "stream",
     "text": []
    },
    {
     "name": "stdout",
     "output_type": "stream",
     "text": [
      "\n",
      "torch.Size([1, 1, 32, 32])\n",
      "torch.Size([1, 1, 30, 45])\n",
      "torch.Size([1, 1, 32, 32])\n"
     ]
    },
    {
     "name": "stderr",
     "output_type": "stream",
     "text": [
      "\n",
      "  4%|▎         | 74/2000 [00:26<06:38,  4.83it/s]"
     ]
    },
    {
     "name": "stdout",
     "output_type": "stream",
     "text": [
      "torch.Size([1, 1, 30, 45])\n",
      "torch.Size([1, 1, 32, 32])\n"
     ]
    },
    {
     "name": "stderr",
     "output_type": "stream",
     "text": [
      "\u001b[A"
     ]
    },
    {
     "name": "stdout",
     "output_type": "stream",
     "text": [
      "torch.Size([1, 1, 30, 45])\n",
      "torch.Size([1, 1, 32, 32])\n",
      "torch.Size([1, 1, 30, 45])\n",
      "torch.Size([1, 1, 32, 32])\n"
     ]
    },
    {
     "name": "stderr",
     "output_type": "stream",
     "text": []
    },
    {
     "name": "stdout",
     "output_type": "stream",
     "text": [
      "torch.Size([1, 1, 30, 45])\n",
      "torch.Size([1, 1, 32, 32])\n",
      "torch.Size([1, 1, 30, 45])"
     ]
    },
    {
     "name": "stderr",
     "output_type": "stream",
     "text": []
    },
    {
     "name": "stdout",
     "output_type": "stream",
     "text": [
      "\n",
      "torch.Size([1, 1, 32, 32])\n",
      "torch.Size([1, 1, 30, 45])"
     ]
    },
    {
     "name": "stderr",
     "output_type": "stream",
     "text": []
    },
    {
     "name": "stdout",
     "output_type": "stream",
     "text": [
      "\n",
      "torch.Size([1, 1, 32, 32])\n"
     ]
    },
    {
     "name": "stderr",
     "output_type": "stream",
     "text": []
    },
    {
     "name": "stdout",
     "output_type": "stream",
     "text": [
      "torch.Size([1, 1, 30, 45])\n",
      "torch.Size([1, 1, 32, 32])\n"
     ]
    },
    {
     "name": "stderr",
     "output_type": "stream",
     "text": []
    },
    {
     "name": "stdout",
     "output_type": "stream",
     "text": [
      "torch.Size([1, 1, 30, 45])\n",
      "torch.Size([1, 1, 32, 32])\n"
     ]
    },
    {
     "name": "stderr",
     "output_type": "stream",
     "text": []
    },
    {
     "name": "stdout",
     "output_type": "stream",
     "text": [
      "torch.Size([1, 1, 30, 45])\n",
      "torch.Size([1, 1, 32, 32])\n",
      "torch.Size([1, 1, 30, 45])\n",
      "torch.Size([1, 1, 32, 32])\n"
     ]
    },
    {
     "name": "stderr",
     "output_type": "stream",
     "text": []
    },
    {
     "name": "stdout",
     "output_type": "stream",
     "text": [
      "torch.Size([1, 1, 30, 45])\n",
      "torch.Size([1, 1, 32, 32])\n",
      "torch.Size([1, 1, 30, 45])\n",
      "torch.Size([1, 1, 32, 32])\n"
     ]
    },
    {
     "name": "stderr",
     "output_type": "stream",
     "text": []
    },
    {
     "name": "stdout",
     "output_type": "stream",
     "text": [
      "torch.Size([1, 1, 30, 45])\n",
      "torch.Size([1, 1, 32, 32])\n",
      "torch.Size([1, 1, 30, 45])"
     ]
    },
    {
     "name": "stderr",
     "output_type": "stream",
     "text": []
    },
    {
     "name": "stdout",
     "output_type": "stream",
     "text": [
      "\n",
      "torch.Size([1, 1, 32, 32])\n",
      "torch.Size([1, 1, 30, 45])\n",
      "torch.Size([1, 1, 32, 32])\n"
     ]
    },
    {
     "name": "stderr",
     "output_type": "stream",
     "text": []
    },
    {
     "name": "stdout",
     "output_type": "stream",
     "text": [
      "torch.Size([1, 1, 30, 45])\n",
      "torch.Size([1, 1, 32, 32])\n",
      "torch.Size([1, 1, 30, 45])\n",
      "torch.Size([1, 1, 32, 32])\n"
     ]
    },
    {
     "name": "stderr",
     "output_type": "stream",
     "text": []
    },
    {
     "name": "stdout",
     "output_type": "stream",
     "text": [
      "torch.Size([1, 1, 30, 45])\n",
      "torch.Size([1, 1, 32, 32])\n",
      "torch.Size([1, 1, 30, 45])\n",
      "torch.Size([1, 1, 32, 32])\n"
     ]
    },
    {
     "name": "stderr",
     "output_type": "stream",
     "text": []
    },
    {
     "name": "stdout",
     "output_type": "stream",
     "text": [
      "torch.Size([1, 1, 30, 45])\n",
      "torch.Size([1, 1, 32, 32])\n",
      "torch.Size([1, 1, 30, 45])\n",
      "torch.Size([1, 1, 32, 32])\n"
     ]
    },
    {
     "name": "stderr",
     "output_type": "stream",
     "text": []
    },
    {
     "name": "stdout",
     "output_type": "stream",
     "text": [
      "torch.Size([1, 1, 30, 45])\n",
      "torch.Size([1, 1, 32, 32])\n",
      "torch.Size([1, 1, 30, 45])\n",
      "torch.Size([1, 1, 32, 32])\n"
     ]
    },
    {
     "name": "stderr",
     "output_type": "stream",
     "text": []
    },
    {
     "name": "stdout",
     "output_type": "stream",
     "text": [
      "torch.Size([1, 1, 30, 45])\n",
      "torch.Size([1, 1, 32, 32])\n",
      "torch.Size([1, 1, 30, 45])\n",
      "torch.Size([1, 1, 32, 32])\n"
     ]
    },
    {
     "name": "stderr",
     "output_type": "stream",
     "text": []
    },
    {
     "name": "stdout",
     "output_type": "stream",
     "text": [
      "torch.Size([1, 1, 30, 45])\n",
      "torch.Size([1, 1, 32, 32])\n"
     ]
    },
    {
     "name": "stderr",
     "output_type": "stream",
     "text": []
    },
    {
     "name": "stdout",
     "output_type": "stream",
     "text": [
      "torch.Size([1, 1, 30, 45])\n",
      "torch.Size([1, 1, 32, 32])\n"
     ]
    },
    {
     "name": "stderr",
     "output_type": "stream",
     "text": []
    },
    {
     "name": "stdout",
     "output_type": "stream",
     "text": [
      "torch.Size([1, 1, 30, 45])\n",
      "torch.Size([1, 1, 32, 32])\n",
      "torch.Size([1, 1, 30, 45])"
     ]
    },
    {
     "name": "stderr",
     "output_type": "stream",
     "text": []
    },
    {
     "name": "stdout",
     "output_type": "stream",
     "text": [
      "\n",
      "torch.Size([1, 1, 32, 32])\n",
      "torch.Size([1, 1, 30, 45])\n",
      "torch.Size([1, 1, 32, 32])\n"
     ]
    },
    {
     "name": "stderr",
     "output_type": "stream",
     "text": []
    },
    {
     "name": "stdout",
     "output_type": "stream",
     "text": [
      "torch.Size([1, 1, 30, 45])\n",
      "torch.Size([1, 1, 32, 32])\n",
      "torch.Size([1, 1, 30, 45])\n",
      "torch.Size([1, 1, 32, 32])\n"
     ]
    },
    {
     "name": "stderr",
     "output_type": "stream",
     "text": []
    },
    {
     "name": "stdout",
     "output_type": "stream",
     "text": [
      "torch.Size([1, 1, 30, 45])\n",
      "torch.Size([1, 1, 32, 32])\n",
      "torch.Size([1, 1, 30, 45])"
     ]
    },
    {
     "name": "stderr",
     "output_type": "stream",
     "text": []
    },
    {
     "name": "stdout",
     "output_type": "stream",
     "text": [
      "\n",
      "torch.Size([1, 1, 32, 32])\n",
      "torch.Size([1, 1, 30, 45])"
     ]
    },
    {
     "name": "stderr",
     "output_type": "stream",
     "text": []
    },
    {
     "name": "stdout",
     "output_type": "stream",
     "text": [
      "\n",
      "torch.Size([1, 1, 32, 32])\n",
      "torch.Size([1, 1, 30, 45])\n",
      "torch.Size([1, 1, 32, 32])\n"
     ]
    },
    {
     "name": "stderr",
     "output_type": "stream",
     "text": []
    },
    {
     "name": "stdout",
     "output_type": "stream",
     "text": [
      "torch.Size([1, 1, 30, 45])\n",
      "torch.Size([1, 1, 32, 32])\n"
     ]
    },
    {
     "name": "stderr",
     "output_type": "stream",
     "text": []
    },
    {
     "name": "stdout",
     "output_type": "stream",
     "text": [
      "torch.Size([1, 1, 30, 45])\n",
      "torch.Size([1, 1, 32, 32])\n"
     ]
    },
    {
     "name": "stderr",
     "output_type": "stream",
     "text": []
    },
    {
     "name": "stdout",
     "output_type": "stream",
     "text": [
      "torch.Size([1, 1, 30, 45])\n",
      "torch.Size([1, 1, 32, 32])\n"
     ]
    },
    {
     "name": "stderr",
     "output_type": "stream",
     "text": []
    },
    {
     "name": "stdout",
     "output_type": "stream",
     "text": [
      "torch.Size([1, 1, 30, 45])\n",
      "torch.Size([1, 1, 32, 32])\n"
     ]
    },
    {
     "name": "stderr",
     "output_type": "stream",
     "text": []
    },
    {
     "name": "stdout",
     "output_type": "stream",
     "text": [
      "torch.Size([1, 1, 30, 45])\n",
      "torch.Size([1, 1, 32, 32])\n"
     ]
    },
    {
     "name": "stderr",
     "output_type": "stream",
     "text": []
    },
    {
     "name": "stdout",
     "output_type": "stream",
     "text": [
      "torch.Size([1, 1, 30, 45])\n",
      "torch.Size([1, 1, 32, 32])\n",
      "torch.Size([1, 1, 30, 45])"
     ]
    },
    {
     "name": "stderr",
     "output_type": "stream",
     "text": []
    },
    {
     "name": "stdout",
     "output_type": "stream",
     "text": [
      "\n",
      "torch.Size([1, 1, 32, 32])\n",
      "torch.Size([1, 1, 30, 45])\n",
      "torch.Size([1, 1, 32, 32])\n"
     ]
    },
    {
     "name": "stderr",
     "output_type": "stream",
     "text": []
    },
    {
     "name": "stdout",
     "output_type": "stream",
     "text": [
      "torch.Size([1, 1, 30, 45])\n",
      "torch.Size([1, 1, 32, 32])\n"
     ]
    },
    {
     "name": "stderr",
     "output_type": "stream",
     "text": []
    },
    {
     "name": "stdout",
     "output_type": "stream",
     "text": [
      "torch.Size([1, 1, 30, 45])\n",
      "torch.Size([1, 1, 32, 32])\n"
     ]
    },
    {
     "name": "stderr",
     "output_type": "stream",
     "text": []
    },
    {
     "name": "stdout",
     "output_type": "stream",
     "text": [
      "torch.Size([1, 1, 30, 45])\n",
      "torch.Size([1, 1, 32, 32])\n",
      "torch.Size([1, 1, 30, 45])\n"
     ]
    },
    {
     "name": "stderr",
     "output_type": "stream",
     "text": []
    },
    {
     "name": "stdout",
     "output_type": "stream",
     "text": [
      "torch.Size([1, 1, 32, 32])\n",
      "torch.Size([1, 1, 30, 45])"
     ]
    },
    {
     "name": "stderr",
     "output_type": "stream",
     "text": []
    },
    {
     "name": "stdout",
     "output_type": "stream",
     "text": [
      "\n",
      "torch.Size([1, 1, 32, 32])\n",
      "torch.Size([1, 1, 30, 45])"
     ]
    },
    {
     "name": "stderr",
     "output_type": "stream",
     "text": []
    },
    {
     "name": "stdout",
     "output_type": "stream",
     "text": [
      "\n",
      "torch.Size([1, 1, 32, 32])\n"
     ]
    },
    {
     "name": "stderr",
     "output_type": "stream",
     "text": []
    },
    {
     "name": "stdout",
     "output_type": "stream",
     "text": [
      "torch.Size([1, 1, 30, 45])\n",
      "torch.Size([1, 1, 32, 32])\n"
     ]
    },
    {
     "name": "stderr",
     "output_type": "stream",
     "text": []
    },
    {
     "name": "stdout",
     "output_type": "stream",
     "text": [
      "torch.Size([1, 1, 30, 45])\n",
      "torch.Size([1, 1, 32, 32])\n",
      "torch.Size([1, 1, 30, 45])\n",
      "torch.Size([1, 1, 32, 32])\n"
     ]
    },
    {
     "name": "stderr",
     "output_type": "stream",
     "text": []
    },
    {
     "name": "stdout",
     "output_type": "stream",
     "text": [
      "torch.Size([1, 1, 30, 45])\n",
      "torch.Size([1, 1, 32, 32])\n",
      "torch.Size([1, 1, 30, 45])\n",
      "torch.Size([1, 1, 32, 32])\n"
     ]
    },
    {
     "name": "stderr",
     "output_type": "stream",
     "text": []
    },
    {
     "name": "stdout",
     "output_type": "stream",
     "text": [
      "torch.Size([1, 1, 30, 45])\n",
      "torch.Size([1, 1, 32, 32])\n",
      "torch.Size([1, 1, 30, 45])\n",
      "torch.Size([1, 1, 32, 32])\n"
     ]
    },
    {
     "name": "stderr",
     "output_type": "stream",
     "text": []
    },
    {
     "name": "stdout",
     "output_type": "stream",
     "text": [
      "torch.Size([1, 1, 30, 45])\n",
      "torch.Size([1, 1, 32, 32])\n",
      "torch.Size([1, 1, 30, 45])"
     ]
    },
    {
     "name": "stderr",
     "output_type": "stream",
     "text": []
    },
    {
     "name": "stdout",
     "output_type": "stream",
     "text": [
      "\n",
      "torch.Size([1, 1, 32, 32])\n",
      "torch.Size([1, 1, 30, 45])\n",
      "torch.Size([1, 1, 32, 32])\n"
     ]
    },
    {
     "name": "stderr",
     "output_type": "stream",
     "text": []
    },
    {
     "name": "stdout",
     "output_type": "stream",
     "text": [
      "torch.Size([1, 1, 30, 45])\n",
      "torch.Size([1, 1, 32, 32])\n",
      "torch.Size([1, 1, 30, 45])\n",
      "torch.Size([1, 1, 32, 32])\n"
     ]
    },
    {
     "name": "stderr",
     "output_type": "stream",
     "text": []
    },
    {
     "name": "stdout",
     "output_type": "stream",
     "text": [
      "torch.Size([1, 1, 30, 45])\n",
      "torch.Size([1, 1, 32, 32])\n"
     ]
    },
    {
     "name": "stderr",
     "output_type": "stream",
     "text": []
    },
    {
     "name": "stdout",
     "output_type": "stream",
     "text": [
      "torch.Size([1, 1, 30, 45])\n",
      "torch.Size([1, 1, 32, 32])\n"
     ]
    },
    {
     "name": "stderr",
     "output_type": "stream",
     "text": []
    },
    {
     "name": "stdout",
     "output_type": "stream",
     "text": [
      "torch.Size([1, 1, 30, 45])\n",
      "torch.Size([1, 1, 32, 32])\n",
      "torch.Size([1, 1, 30, 45])"
     ]
    },
    {
     "name": "stderr",
     "output_type": "stream",
     "text": []
    },
    {
     "name": "stdout",
     "output_type": "stream",
     "text": [
      "\n",
      "torch.Size([1, 1, 32, 32])\n",
      "torch.Size([1, 1, 30, 45])\n",
      "torch.Size([1, 1, 32, 32])\n"
     ]
    },
    {
     "name": "stderr",
     "output_type": "stream",
     "text": []
    },
    {
     "name": "stdout",
     "output_type": "stream",
     "text": [
      "torch.Size([1, 1, 30, 45])\n",
      "torch.Size([1, 1, 32, 32])\n"
     ]
    },
    {
     "name": "stderr",
     "output_type": "stream",
     "text": []
    },
    {
     "name": "stdout",
     "output_type": "stream",
     "text": [
      "torch.Size([1, 1, 30, 45])\n",
      "torch.Size([1, 1, 32, 32])\n"
     ]
    },
    {
     "name": "stderr",
     "output_type": "stream",
     "text": []
    },
    {
     "name": "stdout",
     "output_type": "stream",
     "text": [
      "torch.Size([1, 1, 30, 45])\n",
      "torch.Size([1, 1, 32, 32])\n"
     ]
    },
    {
     "name": "stderr",
     "output_type": "stream",
     "text": []
    },
    {
     "name": "stdout",
     "output_type": "stream",
     "text": [
      "torch.Size([1, 1, 30, 45])\n",
      "torch.Size([1, 1, 32, 32])\n",
      "torch.Size([1, 1, 30, 45])"
     ]
    },
    {
     "name": "stderr",
     "output_type": "stream",
     "text": []
    },
    {
     "name": "stdout",
     "output_type": "stream",
     "text": [
      "\n",
      "torch.Size([1, 1, 32, 32])\n",
      "torch.Size([1, 1, 30, 45])"
     ]
    },
    {
     "name": "stderr",
     "output_type": "stream",
     "text": []
    },
    {
     "name": "stdout",
     "output_type": "stream",
     "text": [
      "\n",
      "torch.Size([1, 1, 32, 32])\n",
      "torch.Size([1, 1, 30, 45])"
     ]
    },
    {
     "name": "stderr",
     "output_type": "stream",
     "text": []
    },
    {
     "name": "stdout",
     "output_type": "stream",
     "text": [
      "\n",
      "torch.Size([1, 1, 32, 32])\n",
      "torch.Size([1, 1, 30, 45])\n",
      "torch.Size([1, 1, 32, 32])\n"
     ]
    },
    {
     "name": "stderr",
     "output_type": "stream",
     "text": []
    },
    {
     "name": "stdout",
     "output_type": "stream",
     "text": [
      "torch.Size([1, 1, 30, 45])\n",
      "torch.Size([1, 1, 32, 32])\n",
      "torch.Size([1, 1, 30, 45])\n",
      "torch.Size([1, 1, 32, 32])\n"
     ]
    },
    {
     "name": "stderr",
     "output_type": "stream",
     "text": []
    },
    {
     "name": "stdout",
     "output_type": "stream",
     "text": [
      "torch.Size([1, 1, 30, 45])\n",
      "torch.Size([1, 1, 32, 32])\n",
      "torch.Size([1, 1, 30, 45])\n",
      "torch.Size([1, 1, 32, 32])\n"
     ]
    },
    {
     "name": "stderr",
     "output_type": "stream",
     "text": []
    },
    {
     "name": "stdout",
     "output_type": "stream",
     "text": [
      "torch.Size([1, 1, 30, 45])\n",
      "torch.Size([1, 1, 32, 32])\n"
     ]
    },
    {
     "name": "stderr",
     "output_type": "stream",
     "text": []
    },
    {
     "name": "stdout",
     "output_type": "stream",
     "text": [
      "torch.Size([1, 1, 30, 45])\n",
      "torch.Size([1, 1, 32, 32])\n"
     ]
    },
    {
     "name": "stderr",
     "output_type": "stream",
     "text": []
    },
    {
     "name": "stdout",
     "output_type": "stream",
     "text": [
      "torch.Size([1, 1, 30, 45])\n",
      "torch.Size([1, 1, 32, 32])\n"
     ]
    },
    {
     "name": "stderr",
     "output_type": "stream",
     "text": []
    },
    {
     "name": "stdout",
     "output_type": "stream",
     "text": [
      "torch.Size([1, 1, 30, 45])\n",
      "torch.Size([1, 1, 32, 32])\n"
     ]
    },
    {
     "name": "stderr",
     "output_type": "stream",
     "text": []
    },
    {
     "name": "stdout",
     "output_type": "stream",
     "text": [
      "torch.Size([1, 1, 30, 45])\n",
      "torch.Size([1, 1, 32, 32])\n"
     ]
    },
    {
     "name": "stderr",
     "output_type": "stream",
     "text": []
    },
    {
     "name": "stdout",
     "output_type": "stream",
     "text": [
      "torch.Size([1, 1, 30, 45])\n",
      "torch.Size([1, 1, 32, 32])\n"
     ]
    },
    {
     "name": "stderr",
     "output_type": "stream",
     "text": []
    },
    {
     "name": "stdout",
     "output_type": "stream",
     "text": [
      "torch.Size([1, 1, 30, 45])\n",
      "torch.Size([1, 1, 32, 32])\n"
     ]
    },
    {
     "name": "stderr",
     "output_type": "stream",
     "text": []
    },
    {
     "name": "stdout",
     "output_type": "stream",
     "text": [
      "torch.Size([1, 1, 30, 45])\n",
      "torch.Size([1, 1, 32, 32])\n"
     ]
    },
    {
     "name": "stderr",
     "output_type": "stream",
     "text": []
    },
    {
     "name": "stdout",
     "output_type": "stream",
     "text": [
      "torch.Size([1, 1, 30, 45])\n",
      "torch.Size([1, 1, 32, 32])\n",
      "torch.Size([1, 1, 30, 45])\n",
      "torch.Size([1, 1, 32, 32])\n"
     ]
    },
    {
     "name": "stderr",
     "output_type": "stream",
     "text": []
    },
    {
     "name": "stdout",
     "output_type": "stream",
     "text": [
      "torch.Size([1, 1, 30, 45])\n",
      "torch.Size([1, 1, 32, 32])\n"
     ]
    },
    {
     "name": "stderr",
     "output_type": "stream",
     "text": []
    },
    {
     "name": "stdout",
     "output_type": "stream",
     "text": [
      "torch.Size([1, 1, 30, 45])\n",
      "torch.Size([1, 1, 32, 32])\n"
     ]
    },
    {
     "name": "stderr",
     "output_type": "stream",
     "text": []
    },
    {
     "name": "stdout",
     "output_type": "stream",
     "text": [
      "torch.Size([1, 1, 30, 45])\n",
      "torch.Size([1, 1, 32, 32])\n"
     ]
    },
    {
     "name": "stderr",
     "output_type": "stream",
     "text": []
    },
    {
     "name": "stdout",
     "output_type": "stream",
     "text": [
      "torch.Size([1, 1, 30, 45])\n",
      "torch.Size([1, 1, 32, 32])\n"
     ]
    },
    {
     "name": "stderr",
     "output_type": "stream",
     "text": []
    },
    {
     "name": "stdout",
     "output_type": "stream",
     "text": [
      "torch.Size([1, 1, 30, 45])\n",
      "torch.Size([1, 1, 32, 32])\n",
      "torch.Size([1, 1, 30, 45])\n",
      "torch.Size([1, 1, 32, 32])\n"
     ]
    },
    {
     "name": "stderr",
     "output_type": "stream",
     "text": []
    },
    {
     "name": "stdout",
     "output_type": "stream",
     "text": [
      "torch.Size([1, 1, 30, 45])\n",
      "torch.Size([1, 1, 32, 32])\n"
     ]
    },
    {
     "name": "stderr",
     "output_type": "stream",
     "text": []
    },
    {
     "name": "stdout",
     "output_type": "stream",
     "text": [
      "torch.Size([1, 1, 30, 45])\n",
      "torch.Size([1, 1, 32, 32])\n",
      "torch.Size([1, 1, 30, 45])\n",
      "torch.Size([1, 1, 32, 32])\n"
     ]
    },
    {
     "name": "stderr",
     "output_type": "stream",
     "text": []
    },
    {
     "name": "stdout",
     "output_type": "stream",
     "text": [
      "torch.Size([1, 1, 30, 45])\n",
      "torch.Size([1, 1, 32, 32])\n",
      "torch.Size([1, 1, 30, 45])\n",
      "torch.Size([1, 1, 32, 32])\n"
     ]
    },
    {
     "name": "stderr",
     "output_type": "stream",
     "text": []
    },
    {
     "name": "stdout",
     "output_type": "stream",
     "text": [
      "torch.Size([1, 1, 30, 45])\n",
      "torch.Size([1, 1, 32, 32])\n"
     ]
    },
    {
     "name": "stderr",
     "output_type": "stream",
     "text": []
    },
    {
     "name": "stdout",
     "output_type": "stream",
     "text": [
      "torch.Size([1, 1, 30, 45])\n",
      "torch.Size([1, 1, 32, 32])\n",
      "torch.Size([1, 1, 30, 45])\n"
     ]
    },
    {
     "name": "stderr",
     "output_type": "stream",
     "text": []
    },
    {
     "name": "stdout",
     "output_type": "stream",
     "text": [
      "torch.Size([1, 1, 32, 32])\n",
      "torch.Size([1, 1, 30, 45])\n",
      "torch.Size([1, 1, 32, 32])\n"
     ]
    },
    {
     "name": "stderr",
     "output_type": "stream",
     "text": []
    },
    {
     "name": "stdout",
     "output_type": "stream",
     "text": [
      "torch.Size([1, 1, 30, 45])\n",
      "torch.Size([1, 1, 32, 32])\n"
     ]
    },
    {
     "name": "stderr",
     "output_type": "stream",
     "text": []
    },
    {
     "name": "stdout",
     "output_type": "stream",
     "text": [
      "torch.Size([1, 1, 30, 45])\n",
      "torch.Size([1, 1, 32, 32])\n",
      "torch.Size([1, 1, 30, 45])"
     ]
    },
    {
     "name": "stderr",
     "output_type": "stream",
     "text": []
    },
    {
     "name": "stdout",
     "output_type": "stream",
     "text": [
      "\n",
      "torch.Size([1, 1, 32, 32])\n"
     ]
    },
    {
     "name": "stderr",
     "output_type": "stream",
     "text": []
    },
    {
     "name": "stdout",
     "output_type": "stream",
     "text": [
      "torch.Size([1, 1, 30, 45])\n",
      "torch.Size([1, 1, 32, 32])\n"
     ]
    },
    {
     "name": "stderr",
     "output_type": "stream",
     "text": []
    },
    {
     "name": "stdout",
     "output_type": "stream",
     "text": [
      "torch.Size([1, 1, 30, 45])\n",
      "torch.Size([1, 1, 32, 32])\n",
      "torch.Size([1, 1, 30, 45])\n",
      "torch.Size([1, 1, 32, 32])\n"
     ]
    },
    {
     "name": "stderr",
     "output_type": "stream",
     "text": []
    },
    {
     "name": "stdout",
     "output_type": "stream",
     "text": [
      "torch.Size([1, 1, 30, 45])\n",
      "torch.Size([1, 1, 32, 32])\n"
     ]
    },
    {
     "name": "stderr",
     "output_type": "stream",
     "text": []
    },
    {
     "name": "stdout",
     "output_type": "stream",
     "text": [
      "torch.Size([1, 1, 30, 45])\n",
      "torch.Size([1, 1, 32, 32])\n",
      "torch.Size([1, 1, 30, 45])\n",
      "torch.Size([1, 1, 32, 32])\n"
     ]
    },
    {
     "name": "stderr",
     "output_type": "stream",
     "text": []
    },
    {
     "name": "stdout",
     "output_type": "stream",
     "text": [
      "torch.Size([1, 1, 30, 45])\n",
      "torch.Size([1, 1, 32, 32])\n"
     ]
    },
    {
     "name": "stderr",
     "output_type": "stream",
     "text": []
    },
    {
     "name": "stdout",
     "output_type": "stream",
     "text": [
      "torch.Size([1, 1, 30, 45])\n",
      "torch.Size([1, 1, 32, 32])\n"
     ]
    },
    {
     "name": "stderr",
     "output_type": "stream",
     "text": []
    },
    {
     "name": "stdout",
     "output_type": "stream",
     "text": [
      "torch.Size([1, 1, 30, 45])\n",
      "torch.Size([1, 1, 32, 32])\n"
     ]
    },
    {
     "name": "stderr",
     "output_type": "stream",
     "text": []
    },
    {
     "name": "stdout",
     "output_type": "stream",
     "text": [
      "torch.Size([1, 1, 30, 45])\n",
      "torch.Size([1, 1, 32, 32])\n",
      "torch.Size([1, 1, 30, 45])\n",
      "torch.Size([1, 1, 32, 32])\n"
     ]
    },
    {
     "name": "stderr",
     "output_type": "stream",
     "text": []
    },
    {
     "name": "stdout",
     "output_type": "stream",
     "text": [
      "torch.Size([1, 1, 30, 45])\n",
      "torch.Size([1, 1, 32, 32])\n",
      "torch.Size([1, 1, 30, 45])\n",
      "torch.Size([1, 1, 32, 32])\n"
     ]
    },
    {
     "name": "stderr",
     "output_type": "stream",
     "text": []
    },
    {
     "name": "stdout",
     "output_type": "stream",
     "text": [
      "torch.Size([1, 1, 30, 45])\n",
      "torch.Size([1, 1, 32, 32])\n",
      "torch.Size([1, 1, 30, 45])\n",
      "torch.Size([1, 1, 32, 32])\n"
     ]
    },
    {
     "name": "stderr",
     "output_type": "stream",
     "text": []
    },
    {
     "name": "stdout",
     "output_type": "stream",
     "text": [
      "torch.Size([1, 1, 30, 45])\n",
      "torch.Size([1, 1, 32, 32])\n"
     ]
    },
    {
     "name": "stderr",
     "output_type": "stream",
     "text": []
    },
    {
     "name": "stdout",
     "output_type": "stream",
     "text": [
      "torch.Size([1, 1, 30, 45])\n",
      "torch.Size([1, 1, 32, 32])\n",
      "torch.Size([1, 1, 30, 45])\n"
     ]
    },
    {
     "name": "stderr",
     "output_type": "stream",
     "text": []
    },
    {
     "name": "stdout",
     "output_type": "stream",
     "text": [
      "torch.Size([1, 1, 32, 32])\n",
      "torch.Size([1, 1, 30, 45])\n",
      "torch.Size([1, 1, 32, 32])\n"
     ]
    },
    {
     "name": "stderr",
     "output_type": "stream",
     "text": []
    },
    {
     "name": "stdout",
     "output_type": "stream",
     "text": [
      "torch.Size([1, 1, 30, 45])\n",
      "torch.Size([1, 1, 32, 32])\n"
     ]
    },
    {
     "name": "stderr",
     "output_type": "stream",
     "text": []
    },
    {
     "name": "stdout",
     "output_type": "stream",
     "text": [
      "torch.Size([1, 1, 30, 45])\n",
      "torch.Size([1, 1, 32, 32])\n",
      "torch.Size([1, 1, 30, 45])\n",
      "torch.Size([1, 1, 32, 32])\n"
     ]
    },
    {
     "name": "stderr",
     "output_type": "stream",
     "text": []
    },
    {
     "name": "stdout",
     "output_type": "stream",
     "text": [
      "torch.Size([1, 1, 30, 45])\n",
      "torch.Size([1, 1, 32, 32])\n"
     ]
    },
    {
     "name": "stderr",
     "output_type": "stream",
     "text": []
    },
    {
     "name": "stdout",
     "output_type": "stream",
     "text": [
      "torch.Size([1, 1, 30, 45])\n",
      "torch.Size([1, 1, 32, 32])\n",
      "torch.Size([1, 1, 30, 45])\n",
      "torch.Size([1, 1, 32, 32])\n"
     ]
    },
    {
     "name": "stderr",
     "output_type": "stream",
     "text": []
    },
    {
     "name": "stdout",
     "output_type": "stream",
     "text": [
      "torch.Size([1, 1, 30, 45])\n",
      "torch.Size([1, 1, 32, 32])\n",
      "torch.Size([1, 1, 30, 45])\n",
      "torch.Size([1, 1, 32, 32])\n"
     ]
    },
    {
     "name": "stderr",
     "output_type": "stream",
     "text": []
    },
    {
     "name": "stdout",
     "output_type": "stream",
     "text": [
      "torch.Size([1, 1, 30, 45])\n",
      "torch.Size([1, 1, 32, 32])\n"
     ]
    },
    {
     "name": "stderr",
     "output_type": "stream",
     "text": []
    },
    {
     "name": "stdout",
     "output_type": "stream",
     "text": [
      "torch.Size([1, 1, 30, 45])\n",
      "torch.Size([1, 1, 32, 32])\n",
      "torch.Size([1, 1, 30, 45])\n",
      "torch.Size([1, 1, 32, 32])\n"
     ]
    },
    {
     "name": "stderr",
     "output_type": "stream",
     "text": []
    },
    {
     "name": "stdout",
     "output_type": "stream",
     "text": [
      "torch.Size([1, 1, 30, 45])\n",
      "torch.Size([1, 1, 32, 32])\n",
      "torch.Size([1, 1, 30, 45])\n",
      "torch.Size([1, 1, 32, 32])\n"
     ]
    },
    {
     "name": "stderr",
     "output_type": "stream",
     "text": []
    },
    {
     "name": "stdout",
     "output_type": "stream",
     "text": [
      "torch.Size([1, 1, 30, 45])\n",
      "torch.Size([1, 1, 32, 32])\n",
      "torch.Size([1, 1, 30, 45])\n",
      "torch.Size([1, 1, 32, 32])\n"
     ]
    },
    {
     "name": "stderr",
     "output_type": "stream",
     "text": []
    },
    {
     "name": "stdout",
     "output_type": "stream",
     "text": [
      "torch.Size([1, 1, 30, 45])\n",
      "torch.Size([1, 1, 32, 32])\n",
      "torch.Size([1, 1, 30, 45])\n",
      "torch.Size([1, 1, 32, 32])\n"
     ]
    },
    {
     "name": "stderr",
     "output_type": "stream",
     "text": []
    },
    {
     "name": "stdout",
     "output_type": "stream",
     "text": [
      "torch.Size([1, 1, 30, 45])\n",
      "torch.Size([1, 1, 32, 32])\n",
      "torch.Size([1, 1, 30, 45])\n",
      "torch.Size([1, 1, 32, 32])\n",
      "torch.Size([1, 1, 30, 45])"
     ]
    },
    {
     "name": "stderr",
     "output_type": "stream",
     "text": []
    },
    {
     "name": "stdout",
     "output_type": "stream",
     "text": [
      "\n",
      "torch.Size([1, 1, 32, 32])\n",
      "torch.Size([1, 1, 30, 45])\n",
      "torch.Size([1, 1, 32, 32])\n"
     ]
    },
    {
     "name": "stderr",
     "output_type": "stream",
     "text": []
    },
    {
     "name": "stdout",
     "output_type": "stream",
     "text": [
      "torch.Size([1, 1, 30, 45])\n",
      "torch.Size([1, 1, 32, 32])\n",
      "torch.Size([1, 1, 30, 45])\n",
      "torch.Size([1, 1, 32, 32])\n"
     ]
    },
    {
     "name": "stderr",
     "output_type": "stream",
     "text": []
    },
    {
     "name": "stdout",
     "output_type": "stream",
     "text": [
      "torch.Size([1, 1, 30, 45])\n",
      "torch.Size([1, 1, 32, 32])\n",
      "torch.Size([1, 1, 30, 45])\n",
      "torch.Size([1, 1, 32, 32])\n"
     ]
    },
    {
     "name": "stderr",
     "output_type": "stream",
     "text": []
    },
    {
     "name": "stdout",
     "output_type": "stream",
     "text": [
      "torch.Size([1, 1, 30, 45])\n",
      "torch.Size([1, 1, 32, 32])\n"
     ]
    },
    {
     "name": "stderr",
     "output_type": "stream",
     "text": []
    },
    {
     "name": "stdout",
     "output_type": "stream",
     "text": [
      "torch.Size([1, 1, 30, 45])\n",
      "torch.Size([1, 1, 32, 32])\n",
      "torch.Size([1, 1, 30, 45])"
     ]
    },
    {
     "name": "stderr",
     "output_type": "stream",
     "text": []
    },
    {
     "name": "stdout",
     "output_type": "stream",
     "text": [
      "\n",
      "torch.Size([1, 1, 32, 32])\n",
      "torch.Size([1, 1, 30, 45])"
     ]
    },
    {
     "name": "stderr",
     "output_type": "stream",
     "text": []
    },
    {
     "name": "stdout",
     "output_type": "stream",
     "text": [
      "\n",
      "torch.Size([1, 1, 32, 32])\n",
      "torch.Size([1, 1, 30, 45])\n",
      "torch.Size([1, 1, 32, 32])\n"
     ]
    },
    {
     "name": "stderr",
     "output_type": "stream",
     "text": []
    },
    {
     "name": "stdout",
     "output_type": "stream",
     "text": [
      "torch.Size([1, 1, 30, 45])\n",
      "torch.Size([1, 1, 32, 32])\n",
      "torch.Size([1, 1, 30, 45])\n",
      "torch.Size([1, 1, 32, 32])\n"
     ]
    },
    {
     "name": "stderr",
     "output_type": "stream",
     "text": []
    },
    {
     "name": "stdout",
     "output_type": "stream",
     "text": [
      "torch.Size([1, 1, 30, 45])\n",
      "torch.Size([1, 1, 32, 32])\n",
      "torch.Size([1, 1, 30, 45])\n",
      "torch.Size([1, 1, 32, 32])\n"
     ]
    },
    {
     "name": "stderr",
     "output_type": "stream",
     "text": []
    },
    {
     "name": "stdout",
     "output_type": "stream",
     "text": [
      "torch.Size([1, 1, 30, 45])\n",
      "torch.Size([1, 1, 32, 32])\n",
      "torch.Size([1, 1, 30, 45])\n",
      "torch.Size([1, 1, 32, 32])\n",
      "torch.Size([1, 1, 30, 45])"
     ]
    },
    {
     "name": "stderr",
     "output_type": "stream",
     "text": []
    },
    {
     "name": "stdout",
     "output_type": "stream",
     "text": [
      "\n",
      "torch.Size([1, 1, 32, 32])\n",
      "torch.Size([1, 1, 30, 45])\n",
      "torch.Size([1, 1, 32, 32])\n"
     ]
    },
    {
     "name": "stderr",
     "output_type": "stream",
     "text": []
    },
    {
     "name": "stdout",
     "output_type": "stream",
     "text": [
      "torch.Size([1, 1, 30, 45])\n",
      "torch.Size([1, 1, 32, 32])\n",
      "torch.Size([1, 1, 30, 45])\n",
      "torch.Size([1, 1, 32, 32])\n"
     ]
    },
    {
     "name": "stderr",
     "output_type": "stream",
     "text": []
    },
    {
     "name": "stdout",
     "output_type": "stream",
     "text": [
      "torch.Size([1, 1, 30, 45])\n",
      "torch.Size([1, 1, 32, 32])\n",
      "torch.Size([1, 1, 30, 45])"
     ]
    },
    {
     "name": "stderr",
     "output_type": "stream",
     "text": []
    },
    {
     "name": "stdout",
     "output_type": "stream",
     "text": [
      "\n",
      "torch.Size([1, 1, 32, 32])\n",
      "torch.Size([1, 1, 30, 45])\n",
      "torch.Size([1, 1, 32, 32])\n"
     ]
    },
    {
     "name": "stderr",
     "output_type": "stream",
     "text": []
    },
    {
     "name": "stdout",
     "output_type": "stream",
     "text": [
      "torch.Size([1, 1, 30, 45])\n",
      "torch.Size([1, 1, 32, 32])\n"
     ]
    },
    {
     "name": "stderr",
     "output_type": "stream",
     "text": []
    },
    {
     "name": "stdout",
     "output_type": "stream",
     "text": [
      "torch.Size([1, 1, 30, 45])\n",
      "torch.Size([1, 1, 32, 32])\n"
     ]
    },
    {
     "name": "stderr",
     "output_type": "stream",
     "text": []
    },
    {
     "name": "stdout",
     "output_type": "stream",
     "text": [
      "torch.Size([1, 1, 30, 45])\n",
      "torch.Size([1, 1, 32, 32])\n"
     ]
    },
    {
     "name": "stderr",
     "output_type": "stream",
     "text": []
    },
    {
     "name": "stdout",
     "output_type": "stream",
     "text": [
      "torch.Size([1, 1, 30, 45])\n",
      "torch.Size([1, 1, 32, 32])\n",
      "torch.Size([1, 1, 30, 45])\n",
      "torch.Size([1, 1, 32, 32])\n"
     ]
    },
    {
     "name": "stderr",
     "output_type": "stream",
     "text": []
    },
    {
     "name": "stdout",
     "output_type": "stream",
     "text": [
      "torch.Size([1, 1, 30, 45])\n",
      "torch.Size([1, 1, 32, 32])\n",
      "torch.Size([1, 1, 30, 45])\n",
      "torch.Size([1, 1, 32, 32])\n"
     ]
    },
    {
     "name": "stderr",
     "output_type": "stream",
     "text": []
    },
    {
     "name": "stdout",
     "output_type": "stream",
     "text": [
      "torch.Size([1, 1, 30, 45])\n",
      "torch.Size([1, 1, 32, 32])\n",
      "torch.Size([1, 1, 30, 45])\n",
      "torch.Size([1, 1, 32, 32])\n"
     ]
    },
    {
     "name": "stderr",
     "output_type": "stream",
     "text": []
    },
    {
     "name": "stdout",
     "output_type": "stream",
     "text": [
      "torch.Size([1, 1, 30, 45])\n",
      "torch.Size([1, 1, 32, 32])\n",
      "torch.Size([1, 1, 30, 45])\n",
      "torch.Size([1, 1, 32, 32])\n"
     ]
    },
    {
     "name": "stderr",
     "output_type": "stream",
     "text": []
    },
    {
     "name": "stdout",
     "output_type": "stream",
     "text": [
      "torch.Size([1, 1, 30, 45])\n",
      "torch.Size([1, 1, 32, 32])\n",
      "torch.Size([1, 1, 30, 45])\n",
      "torch.Size([1, 1, 32, 32])\n"
     ]
    },
    {
     "name": "stderr",
     "output_type": "stream",
     "text": []
    },
    {
     "name": "stdout",
     "output_type": "stream",
     "text": [
      "torch.Size([1, 1, 30, 45])\n",
      "torch.Size([1, 1, 32, 32])\n",
      "torch.Size([1, 1, 30, 45])\n",
      "torch.Size([1, 1, 32, 32])\n"
     ]
    },
    {
     "name": "stderr",
     "output_type": "stream",
     "text": []
    },
    {
     "name": "stdout",
     "output_type": "stream",
     "text": [
      "torch.Size([1, 1, 30, 45])\n",
      "torch.Size([1, 1, 32, 32])\n"
     ]
    },
    {
     "name": "stderr",
     "output_type": "stream",
     "text": []
    },
    {
     "name": "stdout",
     "output_type": "stream",
     "text": [
      "torch.Size([1, 1, 30, 45])\n",
      "torch.Size([1, 1, 32, 32])\n"
     ]
    },
    {
     "name": "stderr",
     "output_type": "stream",
     "text": []
    },
    {
     "name": "stdout",
     "output_type": "stream",
     "text": [
      "torch.Size([1, 1, 30, 45])\n",
      "torch.Size([1, 1, 32, 32])\n"
     ]
    },
    {
     "name": "stderr",
     "output_type": "stream",
     "text": []
    },
    {
     "name": "stdout",
     "output_type": "stream",
     "text": [
      "torch.Size([1, 1, 30, 45])\n",
      "torch.Size([1, 1, 32, 32])\n"
     ]
    },
    {
     "name": "stderr",
     "output_type": "stream",
     "text": []
    },
    {
     "name": "stdout",
     "output_type": "stream",
     "text": [
      "torch.Size([1, 1, 30, 45])\n",
      "torch.Size([1, 1, 32, 32])\n"
     ]
    },
    {
     "name": "stderr",
     "output_type": "stream",
     "text": []
    },
    {
     "name": "stdout",
     "output_type": "stream",
     "text": [
      "torch.Size([1, 1, 30, 45])\n",
      "torch.Size([1, 1, 32, 32])\n",
      "torch.Size([1, 1, 30, 45])\n",
      "torch.Size([1, 1, 32, 32])\n",
      "torch.Size([1, 1, 30, 45])"
     ]
    },
    {
     "name": "stderr",
     "output_type": "stream",
     "text": []
    },
    {
     "name": "stdout",
     "output_type": "stream",
     "text": [
      "\n",
      "torch.Size([1, 1, 32, 32])\n",
      "torch.Size([1, 1, 30, 45])\n",
      "torch.Size([1, 1, 32, 32])\n"
     ]
    },
    {
     "name": "stderr",
     "output_type": "stream",
     "text": []
    },
    {
     "name": "stdout",
     "output_type": "stream",
     "text": [
      "torch.Size([1, 1, 30, 45])\n",
      "torch.Size([1, 1, 32, 32])\n",
      "torch.Size([1, 1, 30, 45])\n",
      "torch.Size([1, 1, 32, 32])\n"
     ]
    },
    {
     "name": "stderr",
     "output_type": "stream",
     "text": []
    },
    {
     "name": "stdout",
     "output_type": "stream",
     "text": [
      "torch.Size([1, 1, 30, 45])\n",
      "torch.Size([1, 1, 32, 32])\n",
      "torch.Size([1, 1, 30, 45])\n",
      "torch.Size([1, 1, 32, 32])\n"
     ]
    },
    {
     "name": "stderr",
     "output_type": "stream",
     "text": []
    },
    {
     "name": "stdout",
     "output_type": "stream",
     "text": [
      "torch.Size([1, 1, 30, 45])\n",
      "torch.Size([1, 1, 32, 32])\n",
      "torch.Size([1, 1, 30, 45])\n",
      "torch.Size([1, 1, 32, 32])\n"
     ]
    },
    {
     "name": "stderr",
     "output_type": "stream",
     "text": []
    },
    {
     "name": "stdout",
     "output_type": "stream",
     "text": [
      "torch.Size([1, 1, 30, 45])\n",
      "torch.Size([1, 1, 32, 32])\n",
      "torch.Size([1, 1, 30, 45])"
     ]
    },
    {
     "name": "stderr",
     "output_type": "stream",
     "text": []
    },
    {
     "name": "stdout",
     "output_type": "stream",
     "text": [
      "\n",
      "torch.Size([1, 1, 32, 32])\n",
      "torch.Size([1, 1, 30, 45])\n",
      "torch.Size([1, 1, 32, 32])\n"
     ]
    },
    {
     "name": "stderr",
     "output_type": "stream",
     "text": []
    },
    {
     "name": "stdout",
     "output_type": "stream",
     "text": [
      "torch.Size([1, 1, 30, 45])\n",
      "torch.Size([1, 1, 32, 32])\n",
      "torch.Size([1, 1, 30, 45])\n",
      "torch.Size([1, 1, 32, 32])\n"
     ]
    },
    {
     "name": "stderr",
     "output_type": "stream",
     "text": []
    },
    {
     "name": "stdout",
     "output_type": "stream",
     "text": [
      "torch.Size([1, 1, 30, 45])\n",
      "torch.Size([1, 1, 32, 32])\n",
      "torch.Size([1, 1, 30, 45])\n",
      "torch.Size([1, 1, 32, 32])\n"
     ]
    },
    {
     "name": "stderr",
     "output_type": "stream",
     "text": []
    },
    {
     "name": "stdout",
     "output_type": "stream",
     "text": [
      "torch.Size([1, 1, 30, 45])\n",
      "torch.Size([1, 1, 32, 32])\n",
      "torch.Size([1, 1, 30, 45])\n",
      "torch.Size([1, 1, 32, 32])\n"
     ]
    },
    {
     "name": "stderr",
     "output_type": "stream",
     "text": []
    },
    {
     "name": "stdout",
     "output_type": "stream",
     "text": [
      "torch.Size([1, 1, 30, 45])\n",
      "torch.Size([1, 1, 32, 32])\n",
      "torch.Size([1, 1, 30, 45])\n",
      "torch.Size([1, 1, 32, 32])\n",
      "torch.Size([1, 1, 30, 45])"
     ]
    },
    {
     "name": "stderr",
     "output_type": "stream",
     "text": []
    },
    {
     "name": "stdout",
     "output_type": "stream",
     "text": [
      "\n",
      "torch.Size([1, 1, 32, 32])\n",
      "torch.Size([1, 1, 30, 45])\n",
      "torch.Size([1, 1, 32, 32])\n"
     ]
    },
    {
     "name": "stderr",
     "output_type": "stream",
     "text": []
    },
    {
     "name": "stdout",
     "output_type": "stream",
     "text": [
      "torch.Size([1, 1, 30, 45])\n",
      "torch.Size([1, 1, 32, 32])\n"
     ]
    },
    {
     "name": "stderr",
     "output_type": "stream",
     "text": []
    },
    {
     "name": "stdout",
     "output_type": "stream",
     "text": [
      "torch.Size([1, 1, 30, 45])\n",
      "torch.Size([1, 1, 32, 32])\n",
      "torch.Size([1, 1, 30, 45])\n",
      "torch.Size([1, 1, 32, 32])\n"
     ]
    },
    {
     "name": "stderr",
     "output_type": "stream",
     "text": []
    },
    {
     "name": "stdout",
     "output_type": "stream",
     "text": [
      "torch.Size([1, 1, 30, 45])\n",
      "torch.Size([1, 1, 32, 32])\n",
      "torch.Size([1, 1, 30, 45])\n",
      "torch.Size([1, 1, 32, 32])\n"
     ]
    },
    {
     "name": "stderr",
     "output_type": "stream",
     "text": []
    },
    {
     "name": "stdout",
     "output_type": "stream",
     "text": [
      "torch.Size([1, 1, 30, 45])\n",
      "torch.Size([1, 1, 32, 32])\n",
      "torch.Size([1, 1, 30, 45])\n",
      "torch.Size([1, 1, 32, 32])\n"
     ]
    },
    {
     "name": "stderr",
     "output_type": "stream",
     "text": []
    },
    {
     "name": "stdout",
     "output_type": "stream",
     "text": [
      "torch.Size([1, 1, 30, 45])\n",
      "torch.Size([1, 1, 32, 32])\n",
      "torch.Size([1, 1, 30, 45])\n",
      "torch.Size([1, 1, 32, 32])\n"
     ]
    },
    {
     "name": "stderr",
     "output_type": "stream",
     "text": []
    },
    {
     "name": "stdout",
     "output_type": "stream",
     "text": [
      "torch.Size([1, 1, 30, 45])\n",
      "torch.Size([1, 1, 32, 32])\n",
      "torch.Size([1, 1, 30, 45])\n",
      "torch.Size([1, 1, 32, 32])\n",
      "torch.Size([1, 1, 30, 45])"
     ]
    },
    {
     "name": "stderr",
     "output_type": "stream",
     "text": []
    },
    {
     "name": "stdout",
     "output_type": "stream",
     "text": [
      "\n",
      "torch.Size([1, 1, 32, 32])\n",
      "torch.Size([1, 1, 30, 45])\n",
      "torch.Size([1, 1, 32, 32])\n"
     ]
    },
    {
     "name": "stderr",
     "output_type": "stream",
     "text": []
    },
    {
     "name": "stdout",
     "output_type": "stream",
     "text": [
      "torch.Size([1, 1, 30, 45])\n",
      "torch.Size([1, 1, 32, 32])\n",
      "torch.Size([1, 1, 30, 45])\n",
      "torch.Size([1, 1, 32, 32])\n"
     ]
    },
    {
     "name": "stderr",
     "output_type": "stream",
     "text": []
    },
    {
     "name": "stdout",
     "output_type": "stream",
     "text": [
      "torch.Size([1, 1, 30, 45])\n",
      "torch.Size([1, 1, 32, 32])\n"
     ]
    },
    {
     "name": "stderr",
     "output_type": "stream",
     "text": []
    },
    {
     "name": "stdout",
     "output_type": "stream",
     "text": [
      "torch.Size([1, 1, 30, 45])\n",
      "torch.Size([1, 1, 32, 32])\n",
      "torch.Size([1, 1, 30, 45])"
     ]
    },
    {
     "name": "stderr",
     "output_type": "stream",
     "text": []
    },
    {
     "name": "stdout",
     "output_type": "stream",
     "text": [
      "\n",
      "torch.Size([1, 1, 32, 32])\n"
     ]
    },
    {
     "name": "stderr",
     "output_type": "stream",
     "text": []
    },
    {
     "name": "stdout",
     "output_type": "stream",
     "text": [
      "torch.Size([1, 1, 30, 45])\n",
      "torch.Size([1, 1, 32, 32])\n",
      "torch.Size([1, 1, 30, 45])"
     ]
    },
    {
     "name": "stderr",
     "output_type": "stream",
     "text": []
    },
    {
     "name": "stdout",
     "output_type": "stream",
     "text": [
      "\n",
      "torch.Size([1, 1, 32, 32])\n",
      "torch.Size([1, 1, 30, 45])\n",
      "torch.Size([1, 1, 32, 32])\n"
     ]
    },
    {
     "name": "stderr",
     "output_type": "stream",
     "text": []
    },
    {
     "name": "stdout",
     "output_type": "stream",
     "text": [
      "torch.Size([1, 1, 30, 45])\n",
      "torch.Size([1, 1, 32, 32])\n"
     ]
    },
    {
     "name": "stderr",
     "output_type": "stream",
     "text": []
    },
    {
     "name": "stdout",
     "output_type": "stream",
     "text": [
      "torch.Size([1, 1, 30, 45])\n",
      "torch.Size([1, 1, 32, 32])\n",
      "torch.Size([1, 1, 30, 45])\n",
      "torch.Size([1, 1, 32, 32])\n"
     ]
    },
    {
     "name": "stderr",
     "output_type": "stream",
     "text": []
    },
    {
     "name": "stdout",
     "output_type": "stream",
     "text": [
      "torch.Size([1, 1, 30, 45])\n",
      "torch.Size([1, 1, 32, 32])\n",
      "torch.Size([1, 1, 30, 45])\n",
      "torch.Size([1, 1, 32, 32])\n"
     ]
    },
    {
     "name": "stderr",
     "output_type": "stream",
     "text": []
    },
    {
     "name": "stdout",
     "output_type": "stream",
     "text": [
      "torch.Size([1, 1, 30, 45])\n",
      "torch.Size([1, 1, 32, 32])\n",
      "torch.Size([1, 1, 30, 45])\n",
      "torch.Size([1, 1, 32, 32])\n"
     ]
    },
    {
     "name": "stderr",
     "output_type": "stream",
     "text": []
    },
    {
     "name": "stdout",
     "output_type": "stream",
     "text": [
      "torch.Size([1, 1, 30, 45])\n",
      "torch.Size([1, 1, 32, 32])\n",
      "torch.Size([1, 1, 30, 45])\n",
      "torch.Size([1, 1, 32, 32])\n"
     ]
    },
    {
     "name": "stderr",
     "output_type": "stream",
     "text": []
    },
    {
     "name": "stdout",
     "output_type": "stream",
     "text": [
      "torch.Size([1, 1, 30, 45])\n",
      "torch.Size([1, 1, 32, 32])\n"
     ]
    },
    {
     "name": "stderr",
     "output_type": "stream",
     "text": []
    },
    {
     "name": "stdout",
     "output_type": "stream",
     "text": [
      "torch.Size([1, 1, 30, 45])\n",
      "torch.Size([1, 1, 32, 32])\n",
      "torch.Size([1, 1, 30, 45])\n",
      "torch.Size([1, 1, 32, 32])\n"
     ]
    },
    {
     "name": "stderr",
     "output_type": "stream",
     "text": []
    },
    {
     "name": "stdout",
     "output_type": "stream",
     "text": [
      "torch.Size([1, 1, 30, 45])\n",
      "torch.Size([1, 1, 32, 32])\n",
      "torch.Size([1, 1, 30, 45])\n",
      "torch.Size([1, 1, 32, 32])\n"
     ]
    },
    {
     "name": "stderr",
     "output_type": "stream",
     "text": []
    },
    {
     "name": "stdout",
     "output_type": "stream",
     "text": [
      "torch.Size([1, 1, 30, 45])\n",
      "torch.Size([1, 1, 32, 32])\n",
      "torch.Size([1, 1, 30, 45])\n",
      "torch.Size([1, 1, 32, 32])\n"
     ]
    },
    {
     "name": "stderr",
     "output_type": "stream",
     "text": []
    },
    {
     "name": "stdout",
     "output_type": "stream",
     "text": [
      "torch.Size([1, 1, 30, 45])\n",
      "torch.Size([1, 1, 32, 32])\n",
      "torch.Size([1, 1, 30, 45])\n",
      "torch.Size([1, 1, 32, 32])\n"
     ]
    },
    {
     "name": "stderr",
     "output_type": "stream",
     "text": []
    },
    {
     "name": "stdout",
     "output_type": "stream",
     "text": [
      "torch.Size([1, 1, 30, 45])\n",
      "torch.Size([1, 1, 32, 32])\n",
      "torch.Size([1, 1, 30, 45])\n",
      "torch.Size([1, 1, 32, 32])\n"
     ]
    },
    {
     "name": "stderr",
     "output_type": "stream",
     "text": []
    },
    {
     "name": "stdout",
     "output_type": "stream",
     "text": [
      "torch.Size([1, 1, 30, 45])\n",
      "torch.Size([1, 1, 32, 32])\n",
      "torch.Size([1, 1, 30, 45])\n",
      "torch.Size([1, 1, 32, 32])\n"
     ]
    },
    {
     "name": "stderr",
     "output_type": "stream",
     "text": []
    },
    {
     "name": "stdout",
     "output_type": "stream",
     "text": [
      "torch.Size([1, 1, 30, 45])\n",
      "torch.Size([1, 1, 32, 32])\n",
      "torch.Size([1, 1, 30, 45])\n"
     ]
    },
    {
     "name": "stderr",
     "output_type": "stream",
     "text": []
    },
    {
     "name": "stdout",
     "output_type": "stream",
     "text": [
      "torch.Size([1, 1, 32, 32])\n",
      "torch.Size([1, 1, 30, 45])\n",
      "torch.Size([1, 1, 32, 32])\n"
     ]
    },
    {
     "name": "stderr",
     "output_type": "stream",
     "text": []
    },
    {
     "name": "stdout",
     "output_type": "stream",
     "text": [
      "torch.Size([1, 1, 30, 45])\n",
      "torch.Size([1, 1, 32, 32])\n",
      "torch.Size([1, 1, 30, 45])\n",
      "torch.Size([1, 1, 32, 32])\n"
     ]
    },
    {
     "name": "stderr",
     "output_type": "stream",
     "text": []
    },
    {
     "name": "stdout",
     "output_type": "stream",
     "text": [
      "torch.Size([1, 1, 30, 45])\n",
      "torch.Size([1, 1, 32, 32])\n",
      "torch.Size([1, 1, 30, 45])\n",
      "torch.Size([1, 1, 32, 32])\n"
     ]
    },
    {
     "name": "stderr",
     "output_type": "stream",
     "text": []
    },
    {
     "name": "stdout",
     "output_type": "stream",
     "text": [
      "torch.Size([1, 1, 30, 45])\n",
      "torch.Size([1, 1, 32, 32])\n",
      "torch.Size([1, 1, 30, 45])"
     ]
    },
    {
     "name": "stderr",
     "output_type": "stream",
     "text": []
    },
    {
     "name": "stdout",
     "output_type": "stream",
     "text": [
      "\n",
      "torch.Size([1, 1, 32, 32])\n",
      "torch.Size([1, 1, 30, 45])\n",
      "torch.Size([1, 1, 32, 32])\n"
     ]
    },
    {
     "name": "stderr",
     "output_type": "stream",
     "text": []
    },
    {
     "name": "stdout",
     "output_type": "stream",
     "text": [
      "torch.Size([1, 1, 30, 45])\n",
      "torch.Size([1, 1, 32, 32])\n",
      "torch.Size([1, 1, 30, 45])\n",
      "torch.Size([1, 1, 32, 32])\n"
     ]
    },
    {
     "name": "stderr",
     "output_type": "stream",
     "text": []
    },
    {
     "name": "stdout",
     "output_type": "stream",
     "text": [
      "torch.Size([1, 1, 30, 45])\n",
      "torch.Size([1, 1, 32, 32])\n",
      "torch.Size([1, 1, 30, 45])\n",
      "torch.Size([1, 1, 32, 32])\n"
     ]
    },
    {
     "name": "stderr",
     "output_type": "stream",
     "text": []
    },
    {
     "name": "stdout",
     "output_type": "stream",
     "text": [
      "torch.Size([1, 1, 30, 45])\n",
      "torch.Size([1, 1, 32, 32])\n",
      "torch.Size([1, 1, 30, 45])\n",
      "torch.Size([1, 1, 32, 32])\n"
     ]
    },
    {
     "name": "stderr",
     "output_type": "stream",
     "text": []
    },
    {
     "name": "stdout",
     "output_type": "stream",
     "text": [
      "torch.Size([1, 1, 30, 45])\n",
      "torch.Size([1, 1, 32, 32])\n",
      "torch.Size([1, 1, 30, 45])\n",
      "torch.Size([1, 1, 32, 32])\n"
     ]
    },
    {
     "name": "stderr",
     "output_type": "stream",
     "text": []
    },
    {
     "name": "stdout",
     "output_type": "stream",
     "text": [
      "torch.Size([1, 1, 30, 45])\n",
      "torch.Size([1, 1, 32, 32])\n",
      "torch.Size([1, 1, 30, 45])\n",
      "torch.Size([1, 1, 32, 32])\n"
     ]
    },
    {
     "name": "stderr",
     "output_type": "stream",
     "text": []
    },
    {
     "name": "stdout",
     "output_type": "stream",
     "text": [
      "torch.Size([1, 1, 30, 45])\n",
      "torch.Size([1, 1, 32, 32])\n",
      "torch.Size([1, 1, 30, 45])\n",
      "torch.Size([1, 1, 32, 32])\n"
     ]
    },
    {
     "name": "stderr",
     "output_type": "stream",
     "text": []
    },
    {
     "name": "stdout",
     "output_type": "stream",
     "text": [
      "torch.Size([1, 1, 30, 45])\n",
      "torch.Size([1, 1, 32, 32])\n",
      "torch.Size([1, 1, 30, 45])\n",
      "torch.Size([1, 1, 32, 32])\n"
     ]
    },
    {
     "name": "stderr",
     "output_type": "stream",
     "text": []
    },
    {
     "name": "stdout",
     "output_type": "stream",
     "text": [
      "torch.Size([1, 1, 30, 45])\n",
      "torch.Size([1, 1, 32, 32])\n",
      "torch.Size([1, 1, 30, 45])\n",
      "torch.Size([1, 1, 32, 32])\n"
     ]
    },
    {
     "name": "stderr",
     "output_type": "stream",
     "text": []
    },
    {
     "name": "stdout",
     "output_type": "stream",
     "text": [
      "torch.Size([1, 1, 30, 45])\n",
      "torch.Size([1, 1, 32, 32])\n",
      "torch.Size([1, 1, 30, 45])\n",
      "torch.Size([1, 1, 32, 32])\n"
     ]
    },
    {
     "name": "stderr",
     "output_type": "stream",
     "text": []
    },
    {
     "name": "stdout",
     "output_type": "stream",
     "text": [
      "torch.Size([1, 1, 30, 45])\n",
      "torch.Size([1, 1, 32, 32])\n"
     ]
    },
    {
     "name": "stderr",
     "output_type": "stream",
     "text": []
    },
    {
     "name": "stdout",
     "output_type": "stream",
     "text": [
      "torch.Size([1, 1, 30, 45])\n",
      "torch.Size([1, 1, 32, 32])\n",
      "torch.Size([1, 1, 30, 45])\n",
      "torch.Size([1, 1, 32, 32])\n"
     ]
    },
    {
     "name": "stderr",
     "output_type": "stream",
     "text": []
    },
    {
     "name": "stdout",
     "output_type": "stream",
     "text": [
      "torch.Size([1, 1, 30, 45])\n",
      "torch.Size([1, 1, 32, 32])\n",
      "torch.Size([1, 1, 30, 45])\n",
      "torch.Size([1, 1, 32, 32])\n"
     ]
    },
    {
     "name": "stderr",
     "output_type": "stream",
     "text": []
    },
    {
     "name": "stdout",
     "output_type": "stream",
     "text": [
      "torch.Size([1, 1, 30, 45])\n",
      "torch.Size([1, 1, 32, 32])\n",
      "torch.Size([1, 1, 30, 45])\n",
      "torch.Size([1, 1, 32, 32])\n"
     ]
    },
    {
     "name": "stderr",
     "output_type": "stream",
     "text": []
    },
    {
     "name": "stdout",
     "output_type": "stream",
     "text": [
      "torch.Size([1, 1, 30, 45])\n",
      "torch.Size([1, 1, 32, 32])\n",
      "torch.Size([1, 1, 30, 45])\n",
      "torch.Size([1, 1, 32, 32])\n"
     ]
    },
    {
     "name": "stderr",
     "output_type": "stream",
     "text": []
    },
    {
     "name": "stdout",
     "output_type": "stream",
     "text": [
      "torch.Size([1, 1, 30, 45])\n",
      "torch.Size([1, 1, 32, 32])\n"
     ]
    },
    {
     "name": "stderr",
     "output_type": "stream",
     "text": []
    },
    {
     "name": "stdout",
     "output_type": "stream",
     "text": [
      "torch.Size([1, 1, 30, 45])\n",
      "torch.Size([1, 1, 32, 32])\n",
      "torch.Size([1, 1, 30, 45])\n",
      "torch.Size([1, 1, 32, 32])\n"
     ]
    },
    {
     "name": "stderr",
     "output_type": "stream",
     "text": []
    },
    {
     "name": "stdout",
     "output_type": "stream",
     "text": [
      "torch.Size([1, 1, 30, 45])\n",
      "torch.Size([1, 1, 32, 32])\n",
      "torch.Size([1, 1, 30, 45])\n",
      "torch.Size([1, 1, 32, 32])\n"
     ]
    },
    {
     "name": "stderr",
     "output_type": "stream",
     "text": []
    },
    {
     "name": "stdout",
     "output_type": "stream",
     "text": [
      "torch.Size([1, 1, 30, 45])\n",
      "torch.Size([1, 1, 32, 32])\n",
      "torch.Size([1, 1, 30, 45])\n",
      "torch.Size([1, 1, 32, 32])\n"
     ]
    },
    {
     "name": "stderr",
     "output_type": "stream",
     "text": []
    },
    {
     "name": "stdout",
     "output_type": "stream",
     "text": [
      "torch.Size([1, 1, 30, 45])\n",
      "torch.Size([1, 1, 32, 32])\n",
      "torch.Size([1, 1, 30, 45])\n",
      "torch.Size([1, 1, 32, 32])\n"
     ]
    },
    {
     "name": "stderr",
     "output_type": "stream",
     "text": []
    },
    {
     "name": "stdout",
     "output_type": "stream",
     "text": [
      "torch.Size([1, 1, 30, 45])\n",
      "torch.Size([1, 1, 32, 32])\n",
      "torch.Size([1, 1, 30, 45])\n",
      "torch.Size([1, 1, 32, 32])\n",
      "torch.Size([1, 1, 30, 45])"
     ]
    },
    {
     "name": "stderr",
     "output_type": "stream",
     "text": []
    },
    {
     "name": "stdout",
     "output_type": "stream",
     "text": [
      "\n",
      "torch.Size([1, 1, 32, 32])\n",
      "torch.Size([1, 1, 30, 45])\n",
      "torch.Size([1, 1, 32, 32])\n"
     ]
    },
    {
     "name": "stderr",
     "output_type": "stream",
     "text": []
    },
    {
     "name": "stdout",
     "output_type": "stream",
     "text": [
      "torch.Size([1, 1, 30, 45])\n",
      "torch.Size([1, 1, 32, 32])\n",
      "torch.Size([1, 1, 30, 45])\n",
      "torch.Size([1, 1, 32, 32])\n"
     ]
    },
    {
     "name": "stderr",
     "output_type": "stream",
     "text": []
    },
    {
     "name": "stdout",
     "output_type": "stream",
     "text": [
      "torch.Size([1, 1, 30, 45])\n",
      "torch.Size([1, 1, 32, 32])\n",
      "torch.Size([1, 1, 30, 45])\n",
      "torch.Size([1, 1, 32, 32])\n"
     ]
    },
    {
     "name": "stderr",
     "output_type": "stream",
     "text": [
      "\n"
     ]
    },
    {
     "name": "stdout",
     "output_type": "stream",
     "text": [
      "torch.Size([1, 1, 30, 45])\n",
      "torch.Size([1, 1, 32, 32])\n",
      "torch.Size([1, 1, 30, 45])\n",
      "torch.Size([1, 1, 32, 32])\n"
     ]
    },
    {
     "name": "stderr",
     "output_type": "stream",
     "text": []
    },
    {
     "name": "stdout",
     "output_type": "stream",
     "text": [
      "torch.Size([1, 1, 30, 45])\n",
      "torch.Size([1, 1, 32, 32])\n",
      "torch.Size([1, 1, 30, 45])\n",
      "torch.Size([1, 1, 32, 32])\n",
      "torch.Size([1, 1, 30, 45])"
     ]
    },
    {
     "name": "stderr",
     "output_type": "stream",
     "text": []
    },
    {
     "name": "stdout",
     "output_type": "stream",
     "text": [
      "\n",
      "torch.Size([1, 1, 32, 32])\n",
      "torch.Size([1, 1, 30, 45])\n",
      "torch.Size([1, 1, 32, 32])\n"
     ]
    },
    {
     "name": "stderr",
     "output_type": "stream",
     "text": []
    },
    {
     "name": "stdout",
     "output_type": "stream",
     "text": [
      "torch.Size([1, 1, 30, 45])\n",
      "torch.Size([1, 1, 32, 32])\n",
      "torch.Size([1, 1, 30, 45])\n",
      "torch.Size([1, 1, 32, 32])\n"
     ]
    },
    {
     "name": "stderr",
     "output_type": "stream",
     "text": []
    },
    {
     "name": "stdout",
     "output_type": "stream",
     "text": [
      "torch.Size([1, 1, 30, 45])\n",
      "torch.Size([1, 1, 32, 32])\n",
      "torch.Size([1, 1, 30, 45])"
     ]
    },
    {
     "name": "stderr",
     "output_type": "stream",
     "text": []
    },
    {
     "name": "stdout",
     "output_type": "stream",
     "text": [
      "\n",
      "torch.Size([1, 1, 32, 32])\n",
      "torch.Size([1, 1, 30, 45])\n",
      "torch.Size([1, 1, 32, 32])\n"
     ]
    },
    {
     "name": "stderr",
     "output_type": "stream",
     "text": []
    },
    {
     "name": "stdout",
     "output_type": "stream",
     "text": [
      "torch.Size([1, 1, 30, 45])\n",
      "torch.Size([1, 1, 32, 32])\n",
      "torch.Size([1, 1, 30, 45])\n",
      "torch.Size([1, 1, 32, 32])\n"
     ]
    },
    {
     "name": "stderr",
     "output_type": "stream",
     "text": []
    },
    {
     "name": "stdout",
     "output_type": "stream",
     "text": [
      "torch.Size([1, 1, 30, 45])\n",
      "torch.Size([1, 1, 32, 32])\n",
      "torch.Size([1, 1, 30, 45])\n",
      "torch.Size([1, 1, 32, 32])\n"
     ]
    },
    {
     "name": "stderr",
     "output_type": "stream",
     "text": []
    },
    {
     "name": "stdout",
     "output_type": "stream",
     "text": [
      "torch.Size([1, 1, 30, 45])\n",
      "torch.Size([1, 1, 32, 32])\n",
      "torch.Size([1, 1, 30, 45])\n",
      "torch.Size([1, 1, 32, 32])\n",
      "torch.Size([1, 1, 30, 45])"
     ]
    },
    {
     "name": "stderr",
     "output_type": "stream",
     "text": []
    },
    {
     "name": "stdout",
     "output_type": "stream",
     "text": [
      "\n",
      "torch.Size([1, 1, 32, 32])\n",
      "torch.Size([1, 1, 30, 45])\n",
      "torch.Size([1, 1, 32, 32])\n",
      "torch.Size([1, 1, 30, 45])"
     ]
    },
    {
     "name": "stderr",
     "output_type": "stream",
     "text": []
    },
    {
     "name": "stdout",
     "output_type": "stream",
     "text": [
      "\n",
      "torch.Size([1, 1, 32, 32])\n",
      "torch.Size([1, 1, 30, 45])\n",
      "torch.Size([1, 1, 32, 32])\n",
      "torch.Size([1, 1, 30, 45])"
     ]
    },
    {
     "name": "stderr",
     "output_type": "stream",
     "text": []
    },
    {
     "name": "stdout",
     "output_type": "stream",
     "text": [
      "\n",
      "torch.Size([1, 1, 32, 32])\n",
      "torch.Size([1, 1, 30, 45])\n",
      "torch.Size([1, 1, 32, 32])\n"
     ]
    },
    {
     "name": "stderr",
     "output_type": "stream",
     "text": []
    },
    {
     "name": "stdout",
     "output_type": "stream",
     "text": [
      "torch.Size([1, 1, 30, 45])\n",
      "torch.Size([1, 1, 32, 32])\n",
      "torch.Size([1, 1, 30, 45])\n",
      "torch.Size([1, 1, 32, 32])\n"
     ]
    },
    {
     "name": "stderr",
     "output_type": "stream",
     "text": []
    },
    {
     "name": "stdout",
     "output_type": "stream",
     "text": [
      "torch.Size([1, 1, 30, 45])\n",
      "torch.Size([1, 1, 32, 32])\n",
      "torch.Size([1, 1, 30, 45])\n",
      "torch.Size([1, 1, 32, 32])\n"
     ]
    },
    {
     "name": "stderr",
     "output_type": "stream",
     "text": []
    },
    {
     "name": "stdout",
     "output_type": "stream",
     "text": [
      "torch.Size([1, 1, 30, 45])\n",
      "torch.Size([1, 1, 32, 32])\n",
      "torch.Size([1, 1, 30, 45])\n",
      "torch.Size([1, 1, 32, 32])\n"
     ]
    },
    {
     "name": "stderr",
     "output_type": "stream",
     "text": []
    },
    {
     "name": "stdout",
     "output_type": "stream",
     "text": [
      "torch.Size([1, 1, 30, 45])\n",
      "torch.Size([1, 1, 32, 32])\n",
      "torch.Size([1, 1, 30, 45])\n",
      "torch.Size([1, 1, 32, 32])\n"
     ]
    },
    {
     "name": "stderr",
     "output_type": "stream",
     "text": []
    },
    {
     "name": "stdout",
     "output_type": "stream",
     "text": [
      "torch.Size([1, 1, 30, 45])\n",
      "torch.Size([1, 1, 32, 32])\n",
      "torch.Size([1, 1, 30, 45])\n",
      "torch.Size([1, 1, 32, 32])\n"
     ]
    },
    {
     "name": "stderr",
     "output_type": "stream",
     "text": []
    },
    {
     "name": "stdout",
     "output_type": "stream",
     "text": [
      "torch.Size([1, 1, 30, 45])\n",
      "torch.Size([1, 1, 32, 32])\n",
      "torch.Size([1, 1, 30, 45])\n",
      "torch.Size([1, 1, 32, 32])\n",
      "torch.Size([1, 1, 30, 45])\n"
     ]
    },
    {
     "name": "stderr",
     "output_type": "stream",
     "text": []
    },
    {
     "name": "stdout",
     "output_type": "stream",
     "text": [
      "torch.Size([1, 1, 32, 32])\n",
      "torch.Size([1, 1, 30, 45])\n",
      "torch.Size([1, 1, 32, 32])\n",
      "torch.Size([1, 1, 30, 45])"
     ]
    },
    {
     "name": "stderr",
     "output_type": "stream",
     "text": []
    },
    {
     "name": "stdout",
     "output_type": "stream",
     "text": [
      "\n",
      "torch.Size([1, 1, 32, 32])\n",
      "torch.Size([1, 1, 30, 45])\n",
      "torch.Size([1, 1, 32, 32])\n"
     ]
    },
    {
     "name": "stderr",
     "output_type": "stream",
     "text": []
    },
    {
     "name": "stdout",
     "output_type": "stream",
     "text": [
      "torch.Size([1, 1, 30, 45])\n",
      "torch.Size([1, 1, 32, 32])\n",
      "torch.Size([1, 1, 30, 45])\n",
      "torch.Size([1, 1, 32, 32])\n",
      "torch.Size([1, 1, 30, 45])"
     ]
    },
    {
     "name": "stderr",
     "output_type": "stream",
     "text": []
    },
    {
     "name": "stdout",
     "output_type": "stream",
     "text": [
      "\n",
      "torch.Size([1, 1, 32, 32])\n",
      "torch.Size([1, 1, 30, 45])\n",
      "torch.Size([1, 1, 32, 32])\n"
     ]
    },
    {
     "name": "stderr",
     "output_type": "stream",
     "text": []
    },
    {
     "name": "stdout",
     "output_type": "stream",
     "text": [
      "torch.Size([1, 1, 30, 45])\n",
      "torch.Size([1, 1, 32, 32])\n",
      "torch.Size([1, 1, 30, 45])\n",
      "torch.Size([1, 1, 32, 32])\n"
     ]
    },
    {
     "name": "stderr",
     "output_type": "stream",
     "text": []
    },
    {
     "name": "stdout",
     "output_type": "stream",
     "text": [
      "torch.Size([1, 1, 30, 45])\n",
      "torch.Size([1, 1, 32, 32])\n",
      "torch.Size([1, 1, 30, 45])\n",
      "torch.Size([1, 1, 32, 32])\n"
     ]
    },
    {
     "name": "stderr",
     "output_type": "stream",
     "text": []
    },
    {
     "name": "stdout",
     "output_type": "stream",
     "text": [
      "torch.Size([1, 1, 30, 45])\n",
      "torch.Size([1, 1, 32, 32])\n",
      "torch.Size([1, 1, 30, 45])\n",
      "torch.Size([1, 1, 32, 32])\n"
     ]
    },
    {
     "name": "stderr",
     "output_type": "stream",
     "text": []
    },
    {
     "name": "stdout",
     "output_type": "stream",
     "text": [
      "torch.Size([1, 1, 30, 45])\n",
      "torch.Size([1, 1, 32, 32])\n",
      "torch.Size([1, 1, 30, 45])\n",
      "torch.Size([1, 1, 32, 32])\n",
      "torch.Size([1, 1, 30, 45])"
     ]
    },
    {
     "name": "stderr",
     "output_type": "stream",
     "text": []
    },
    {
     "name": "stdout",
     "output_type": "stream",
     "text": [
      "\n",
      "torch.Size([1, 1, 32, 32])\n",
      "torch.Size([1, 1, 30, 45])\n",
      "torch.Size([1, 1, 32, 32])\n"
     ]
    },
    {
     "name": "stderr",
     "output_type": "stream",
     "text": []
    },
    {
     "name": "stdout",
     "output_type": "stream",
     "text": [
      "torch.Size([1, 1, 30, 45])\n",
      "torch.Size([1, 1, 32, 32])\n",
      "torch.Size([1, 1, 30, 45])\n",
      "torch.Size([1, 1, 32, 32])\n"
     ]
    },
    {
     "name": "stderr",
     "output_type": "stream",
     "text": []
    },
    {
     "name": "stdout",
     "output_type": "stream",
     "text": [
      "torch.Size([1, 1, 30, 45])\n",
      "torch.Size([1, 1, 32, 32])\n",
      "torch.Size([1, 1, 30, 45])\n",
      "torch.Size([1, 1, 32, 32])\n"
     ]
    },
    {
     "name": "stderr",
     "output_type": "stream",
     "text": []
    },
    {
     "name": "stdout",
     "output_type": "stream",
     "text": [
      "torch.Size([1, 1, 30, 45])\n",
      "torch.Size([1, 1, 32, 32])\n",
      "torch.Size([1, 1, 30, 45])\n",
      "torch.Size([1, 1, 32, 32])\n",
      "torch.Size([1, 1, 30, 45])"
     ]
    },
    {
     "name": "stderr",
     "output_type": "stream",
     "text": []
    },
    {
     "name": "stdout",
     "output_type": "stream",
     "text": [
      "\n",
      "torch.Size([1, 1, 32, 32])\n",
      "torch.Size([1, 1, 30, 45])\n",
      "torch.Size([1, 1, 32, 32])\n",
      "torch.Size([1, 1, 30, 45])"
     ]
    },
    {
     "name": "stderr",
     "output_type": "stream",
     "text": []
    },
    {
     "name": "stdout",
     "output_type": "stream",
     "text": [
      "\n",
      "torch.Size([1, 1, 32, 32])\n",
      "torch.Size([1, 1, 30, 45])\n",
      "torch.Size([1, 1, 32, 32])\n"
     ]
    },
    {
     "name": "stderr",
     "output_type": "stream",
     "text": []
    },
    {
     "name": "stdout",
     "output_type": "stream",
     "text": [
      "torch.Size([1, 1, 30, 45])\n",
      "torch.Size([1, 1, 32, 32])\n",
      "torch.Size([1, 1, 30, 45])\n",
      "torch.Size([1, 1, 32, 32])\n"
     ]
    },
    {
     "name": "stderr",
     "output_type": "stream",
     "text": [
      "\n"
     ]
    },
    {
     "name": "stdout",
     "output_type": "stream",
     "text": [
      "torch.Size([1, 1, 30, 45])\n",
      "torch.Size([1, 1, 32, 32])\n",
      "torch.Size([1, 1, 30, 45])\n",
      "torch.Size([1, 1, 32, 32])\n"
     ]
    },
    {
     "name": "stderr",
     "output_type": "stream",
     "text": []
    },
    {
     "name": "stdout",
     "output_type": "stream",
     "text": [
      "torch.Size([1, 1, 30, 45])\n",
      "torch.Size([1, 1, 32, 32])\n",
      "torch.Size([1, 1, 30, 45])\n",
      "torch.Size([1, 1, 32, 32])\n",
      "torch.Size([1, 1, 30, 45])"
     ]
    },
    {
     "name": "stderr",
     "output_type": "stream",
     "text": []
    },
    {
     "name": "stdout",
     "output_type": "stream",
     "text": [
      "\n",
      "torch.Size([1, 1, 32, 32])\n",
      "torch.Size([1, 1, 30, 45])\n",
      "torch.Size([1, 1, 32, 32])\n"
     ]
    },
    {
     "name": "stderr",
     "output_type": "stream",
     "text": []
    },
    {
     "name": "stdout",
     "output_type": "stream",
     "text": [
      "torch.Size([1, 1, 30, 45])\n",
      "torch.Size([1, 1, 32, 32])\n",
      "torch.Size([1, 1, 30, 45])\n",
      "torch.Size([1, 1, 32, 32])\n"
     ]
    },
    {
     "name": "stderr",
     "output_type": "stream",
     "text": []
    },
    {
     "name": "stdout",
     "output_type": "stream",
     "text": [
      "torch.Size([1, 1, 30, 45])\n",
      "torch.Size([1, 1, 32, 32])\n",
      "torch.Size([1, 1, 30, 45])"
     ]
    },
    {
     "name": "stderr",
     "output_type": "stream",
     "text": []
    },
    {
     "name": "stdout",
     "output_type": "stream",
     "text": [
      "\n",
      "torch.Size([1, 1, 32, 32])\n",
      "torch.Size([1, 1, 30, 45])\n",
      "torch.Size([1, 1, 32, 32])\n"
     ]
    },
    {
     "name": "stderr",
     "output_type": "stream",
     "text": []
    },
    {
     "name": "stdout",
     "output_type": "stream",
     "text": [
      "torch.Size([1, 1, 30, 45])\n",
      "torch.Size([1, 1, 32, 32])\n",
      "torch.Size([1, 1, 30, 45])\n",
      "torch.Size([1, 1, 32, 32])\n"
     ]
    },
    {
     "name": "stderr",
     "output_type": "stream",
     "text": []
    },
    {
     "name": "stdout",
     "output_type": "stream",
     "text": [
      "torch.Size([1, 1, 30, 45])\n",
      "torch.Size([1, 1, 32, 32])\n",
      "torch.Size([1, 1, 30, 45])\n",
      "torch.Size([1, 1, 32, 32])\n"
     ]
    },
    {
     "name": "stderr",
     "output_type": "stream",
     "text": []
    },
    {
     "name": "stdout",
     "output_type": "stream",
     "text": [
      "torch.Size([1, 1, 30, 45])\n",
      "torch.Size([1, 1, 32, 32])\n",
      "torch.Size([1, 1, 30, 45])\n",
      "torch.Size([1, 1, 32, 32])\n"
     ]
    },
    {
     "name": "stderr",
     "output_type": "stream",
     "text": []
    },
    {
     "name": "stdout",
     "output_type": "stream",
     "text": [
      "torch.Size([1, 1, 30, 45])\n",
      "torch.Size([1, 1, 32, 32])\n",
      "torch.Size([1, 1, 30, 45])"
     ]
    },
    {
     "name": "stderr",
     "output_type": "stream",
     "text": []
    },
    {
     "name": "stdout",
     "output_type": "stream",
     "text": [
      "\n",
      "torch.Size([1, 1, 32, 32])\n",
      "torch.Size([1, 1, 30, 45])\n",
      "torch.Size([1, 1, 32, 32])\n"
     ]
    },
    {
     "name": "stderr",
     "output_type": "stream",
     "text": []
    },
    {
     "name": "stdout",
     "output_type": "stream",
     "text": [
      "torch.Size([1, 1, 30, 45])\n",
      "torch.Size([1, 1, 32, 32])\n"
     ]
    },
    {
     "name": "stderr",
     "output_type": "stream",
     "text": []
    },
    {
     "name": "stdout",
     "output_type": "stream",
     "text": [
      "torch.Size([1, 1, 30, 45])\n",
      "torch.Size([1, 1, 32, 32])\n",
      "torch.Size([1, 1, 30, 45])\n",
      "torch.Size([1, 1, 32, 32])\n"
     ]
    },
    {
     "name": "stderr",
     "output_type": "stream",
     "text": []
    },
    {
     "name": "stdout",
     "output_type": "stream",
     "text": [
      "torch.Size([1, 1, 30, 45])\n",
      "torch.Size([1, 1, 32, 32])\n",
      "torch.Size([1, 1, 30, 45])\n",
      "torch.Size([1, 1, 32, 32])\n"
     ]
    },
    {
     "name": "stderr",
     "output_type": "stream",
     "text": []
    },
    {
     "name": "stdout",
     "output_type": "stream",
     "text": [
      "torch.Size([1, 1, 30, 45])\n",
      "torch.Size([1, 1, 32, 32])\n"
     ]
    },
    {
     "name": "stderr",
     "output_type": "stream",
     "text": []
    },
    {
     "name": "stdout",
     "output_type": "stream",
     "text": [
      "torch.Size([1, 1, 30, 45])\n",
      "torch.Size([1, 1, 32, 32])\n"
     ]
    },
    {
     "name": "stderr",
     "output_type": "stream",
     "text": []
    },
    {
     "name": "stdout",
     "output_type": "stream",
     "text": [
      "torch.Size([1, 1, 30, 45])\n",
      "torch.Size([1, 1, 32, 32])\n"
     ]
    },
    {
     "name": "stderr",
     "output_type": "stream",
     "text": []
    },
    {
     "name": "stdout",
     "output_type": "stream",
     "text": [
      "torch.Size([1, 1, 30, 45])\n",
      "torch.Size([1, 1, 32, 32])\n",
      "torch.Size([1, 1, 30, 45])"
     ]
    },
    {
     "name": "stderr",
     "output_type": "stream",
     "text": []
    },
    {
     "name": "stdout",
     "output_type": "stream",
     "text": [
      "\n",
      "torch.Size([1, 1, 32, 32])\n",
      "torch.Size([1, 1, 30, 45])"
     ]
    },
    {
     "name": "stderr",
     "output_type": "stream",
     "text": []
    },
    {
     "name": "stdout",
     "output_type": "stream",
     "text": [
      "\n",
      "torch.Size([1, 1, 32, 32])\n"
     ]
    },
    {
     "name": "stderr",
     "output_type": "stream",
     "text": []
    },
    {
     "name": "stdout",
     "output_type": "stream",
     "text": [
      "torch.Size([1, 1, 30, 45])\n",
      "torch.Size([1, 1, 32, 32])\n",
      "torch.Size([1, 1, 30, 45])\n",
      "torch.Size([1, 1, 32, 32])\n"
     ]
    },
    {
     "name": "stderr",
     "output_type": "stream",
     "text": []
    },
    {
     "name": "stdout",
     "output_type": "stream",
     "text": [
      "torch.Size([1, 1, 30, 45])\n",
      "torch.Size([1, 1, 32, 32])\n",
      "torch.Size([1, 1, 30, 45])\n",
      "torch.Size([1, 1, 32, 32])\n"
     ]
    },
    {
     "name": "stderr",
     "output_type": "stream",
     "text": []
    },
    {
     "name": "stdout",
     "output_type": "stream",
     "text": [
      "torch.Size([1, 1, 30, 45])\n",
      "torch.Size([1, 1, 32, 32])\n",
      "torch.Size([1, 1, 30, 45])\n",
      "torch.Size([1, 1, 32, 32])\n"
     ]
    },
    {
     "name": "stderr",
     "output_type": "stream",
     "text": []
    },
    {
     "name": "stdout",
     "output_type": "stream",
     "text": [
      "torch.Size([1, 1, 30, 45])\n",
      "torch.Size([1, 1, 32, 32])\n",
      "torch.Size([1, 1, 30, 45])\n",
      "torch.Size([1, 1, 32, 32])\n"
     ]
    },
    {
     "name": "stderr",
     "output_type": "stream",
     "text": []
    },
    {
     "name": "stdout",
     "output_type": "stream",
     "text": [
      "torch.Size([1, 1, 30, 45])\n",
      "torch.Size([1, 1, 32, 32])\n",
      "torch.Size([1, 1, 30, 45])\n",
      "torch.Size([1, 1, 32, 32])\n"
     ]
    },
    {
     "name": "stderr",
     "output_type": "stream",
     "text": []
    },
    {
     "name": "stdout",
     "output_type": "stream",
     "text": [
      "torch.Size([1, 1, 30, 45])\n",
      "torch.Size([1, 1, 32, 32])\n",
      "torch.Size([1, 1, 30, 45])\n",
      "torch.Size([1, 1, 32, 32])\n"
     ]
    },
    {
     "name": "stderr",
     "output_type": "stream",
     "text": []
    },
    {
     "name": "stdout",
     "output_type": "stream",
     "text": [
      "torch.Size([1, 1, 30, 45])\n",
      "torch.Size([1, 1, 32, 32])\n",
      "torch.Size([1, 1, 30, 45])\n",
      "torch.Size([1, 1, 32, 32])\n"
     ]
    },
    {
     "name": "stderr",
     "output_type": "stream",
     "text": []
    },
    {
     "name": "stdout",
     "output_type": "stream",
     "text": [
      "torch.Size([1, 1, 30, 45])\n",
      "torch.Size([1, 1, 32, 32])\n",
      "torch.Size([1, 1, 30, 45])\n",
      "torch.Size([1, 1, 32, 32])\n"
     ]
    },
    {
     "name": "stderr",
     "output_type": "stream",
     "text": []
    },
    {
     "name": "stdout",
     "output_type": "stream",
     "text": [
      "torch.Size([1, 1, 30, 45])\n",
      "torch.Size([1, 1, 32, 32])\n",
      "torch.Size([1, 1, 30, 45])\n",
      "torch.Size([1, 1, 32, 32])\n"
     ]
    },
    {
     "name": "stderr",
     "output_type": "stream",
     "text": []
    },
    {
     "name": "stdout",
     "output_type": "stream",
     "text": [
      "torch.Size([1, 1, 30, 45])\n",
      "torch.Size([1, 1, 32, 32])\n",
      "torch.Size([1, 1, 30, 45])\n",
      "torch.Size([1, 1, 32, 32])\n"
     ]
    },
    {
     "name": "stderr",
     "output_type": "stream",
     "text": []
    },
    {
     "name": "stdout",
     "output_type": "stream",
     "text": [
      "torch.Size([1, 1, 30, 45])\n",
      "torch.Size([1, 1, 32, 32])\n",
      "torch.Size([1, 1, 30, 45])\n",
      "torch.Size([1, 1, 32, 32])\n"
     ]
    },
    {
     "name": "stderr",
     "output_type": "stream",
     "text": []
    },
    {
     "name": "stdout",
     "output_type": "stream",
     "text": [
      "torch.Size([1, 1, 30, 45])\n",
      "torch.Size([1, 1, 32, 32])\n",
      "torch.Size([1, 1, 30, 45])\n",
      "torch.Size([1, 1, 32, 32])\n"
     ]
    },
    {
     "name": "stderr",
     "output_type": "stream",
     "text": []
    },
    {
     "name": "stdout",
     "output_type": "stream",
     "text": [
      "torch.Size([1, 1, 30, 45])\n",
      "torch.Size([1, 1, 32, 32])\n",
      "torch.Size([1, 1, 30, 45])\n",
      "torch.Size([1, 1, 32, 32])\n"
     ]
    },
    {
     "name": "stderr",
     "output_type": "stream",
     "text": []
    },
    {
     "name": "stdout",
     "output_type": "stream",
     "text": [
      "torch.Size([1, 1, 30, 45])\n",
      "torch.Size([1, 1, 32, 32])\n",
      "torch.Size([1, 1, 30, 45])\n",
      "torch.Size([1, 1, 32, 32])\n"
     ]
    },
    {
     "name": "stderr",
     "output_type": "stream",
     "text": []
    },
    {
     "name": "stdout",
     "output_type": "stream",
     "text": [
      "torch.Size([1, 1, 30, 45])\n",
      "torch.Size([1, 1, 32, 32])\n",
      "torch.Size([1, 1, 30, 45])\n",
      "torch.Size([1, 1, 32, 32])\n",
      "torch.Size([1, 1, 30, 45])"
     ]
    },
    {
     "name": "stderr",
     "output_type": "stream",
     "text": []
    },
    {
     "name": "stdout",
     "output_type": "stream",
     "text": [
      "\n",
      "torch.Size([1, 1, 32, 32])\n",
      "torch.Size([1, 1, 30, 45])\n",
      "torch.Size([1, 1, 32, 32])\n"
     ]
    },
    {
     "name": "stderr",
     "output_type": "stream",
     "text": []
    },
    {
     "name": "stdout",
     "output_type": "stream",
     "text": [
      "torch.Size([1, 1, 30, 45])\n",
      "torch.Size([1, 1, 32, 32])\n",
      "torch.Size([1, 1, 30, 45])\n",
      "torch.Size([1, 1, 32, 32])\n"
     ]
    },
    {
     "name": "stderr",
     "output_type": "stream",
     "text": []
    },
    {
     "name": "stdout",
     "output_type": "stream",
     "text": [
      "torch.Size([1, 1, 30, 45])\n",
      "torch.Size([1, 1, 32, 32])\n",
      "torch.Size([1, 1, 30, 45])\n",
      "torch.Size([1, 1, 32, 32])\n"
     ]
    },
    {
     "name": "stderr",
     "output_type": "stream",
     "text": []
    },
    {
     "name": "stdout",
     "output_type": "stream",
     "text": [
      "torch.Size([1, 1, 30, 45])\n",
      "torch.Size([1, 1, 32, 32])\n",
      "torch.Size([1, 1, 30, 45])\n",
      "torch.Size([1, 1, 32, 32])\n"
     ]
    },
    {
     "name": "stderr",
     "output_type": "stream",
     "text": []
    },
    {
     "name": "stdout",
     "output_type": "stream",
     "text": [
      "torch.Size([1, 1, 30, 45])\n",
      "torch.Size([1, 1, 32, 32])\n",
      "torch.Size([1, 1, 30, 45])\n",
      "torch.Size([1, 1, 32, 32])\n"
     ]
    },
    {
     "name": "stderr",
     "output_type": "stream",
     "text": []
    },
    {
     "name": "stdout",
     "output_type": "stream",
     "text": [
      "torch.Size([1, 1, 30, 45])\n",
      "torch.Size([1, 1, 32, 32])\n",
      "torch.Size([1, 1, 30, 45])\n",
      "torch.Size([1, 1, 32, 32])\n"
     ]
    },
    {
     "name": "stderr",
     "output_type": "stream",
     "text": []
    },
    {
     "name": "stdout",
     "output_type": "stream",
     "text": [
      "torch.Size([1, 1, 30, 45])\n",
      "torch.Size([1, 1, 32, 32])\n",
      "torch.Size([1, 1, 30, 45])\n",
      "torch.Size([1, 1, 32, 32])\n"
     ]
    },
    {
     "name": "stderr",
     "output_type": "stream",
     "text": []
    },
    {
     "name": "stdout",
     "output_type": "stream",
     "text": [
      "torch.Size([1, 1, 30, 45])\n",
      "torch.Size([1, 1, 32, 32])\n",
      "torch.Size([1, 1, 30, 45])\n",
      "torch.Size([1, 1, 32, 32])\n"
     ]
    },
    {
     "name": "stderr",
     "output_type": "stream",
     "text": [
      "\n"
     ]
    },
    {
     "name": "stdout",
     "output_type": "stream",
     "text": [
      "torch.Size([1, 1, 30, 45])\n",
      "torch.Size([1, 1, 32, 32])\n",
      "torch.Size([1, 1, 30, 45])\n",
      "torch.Size([1, 1, 32, 32])\n"
     ]
    },
    {
     "name": "stderr",
     "output_type": "stream",
     "text": []
    },
    {
     "name": "stdout",
     "output_type": "stream",
     "text": [
      "torch.Size([1, 1, 30, 45])\n",
      "torch.Size([1, 1, 32, 32])\n"
     ]
    },
    {
     "name": "stderr",
     "output_type": "stream",
     "text": []
    },
    {
     "name": "stdout",
     "output_type": "stream",
     "text": [
      "torch.Size([1, 1, 30, 45])\n",
      "torch.Size([1, 1, 32, 32])\n",
      "torch.Size([1, 1, 30, 45])"
     ]
    },
    {
     "name": "stderr",
     "output_type": "stream",
     "text": []
    },
    {
     "name": "stdout",
     "output_type": "stream",
     "text": [
      "\n",
      "torch.Size([1, 1, 32, 32])\n",
      "torch.Size([1, 1, 30, 45])\n",
      "torch.Size([1, 1, 32, 32])\n"
     ]
    },
    {
     "name": "stderr",
     "output_type": "stream",
     "text": []
    },
    {
     "name": "stdout",
     "output_type": "stream",
     "text": [
      "torch.Size([1, 1, 30, 45])\n",
      "torch.Size([1, 1, 32, 32])\n",
      "torch.Size([1, 1, 30, 45])\n",
      "torch.Size([1, 1, 32, 32])\n"
     ]
    },
    {
     "name": "stderr",
     "output_type": "stream",
     "text": []
    },
    {
     "name": "stdout",
     "output_type": "stream",
     "text": [
      "torch.Size([1, 1, 30, 45])\n",
      "torch.Size([1, 1, 32, 32])\n",
      "torch.Size([1, 1, 30, 45])\n",
      "torch.Size([1, 1, 32, 32])\n"
     ]
    },
    {
     "name": "stderr",
     "output_type": "stream",
     "text": []
    },
    {
     "name": "stdout",
     "output_type": "stream",
     "text": [
      "torch.Size([1, 1, 30, 45])\n",
      "torch.Size([1, 1, 32, 32])\n",
      "torch.Size([1, 1, 30, 45])\n",
      "torch.Size([1, 1, 32, 32])\n"
     ]
    },
    {
     "name": "stderr",
     "output_type": "stream",
     "text": []
    },
    {
     "name": "stdout",
     "output_type": "stream",
     "text": [
      "torch.Size([1, 1, 30, 45])\n",
      "torch.Size([1, 1, 32, 32])\n",
      "torch.Size([1, 1, 30, 45])\n",
      "torch.Size([1, 1, 32, 32])\n",
      "torch.Size([1, 1, 30, 45])"
     ]
    },
    {
     "name": "stderr",
     "output_type": "stream",
     "text": []
    },
    {
     "name": "stdout",
     "output_type": "stream",
     "text": [
      "\n",
      "torch.Size([1, 1, 32, 32])\n",
      "torch.Size([1, 1, 30, 45])\n",
      "torch.Size([1, 1, 32, 32])\n"
     ]
    },
    {
     "name": "stderr",
     "output_type": "stream",
     "text": []
    },
    {
     "name": "stdout",
     "output_type": "stream",
     "text": [
      "torch.Size([1, 1, 30, 45])\n",
      "torch.Size([1, 1, 32, 32])\n",
      "torch.Size([1, 1, 30, 45])\n",
      "torch.Size([1, 1, 32, 32])\n"
     ]
    },
    {
     "name": "stderr",
     "output_type": "stream",
     "text": []
    },
    {
     "name": "stdout",
     "output_type": "stream",
     "text": [
      "torch.Size([1, 1, 30, 45])\n",
      "torch.Size([1, 1, 32, 32])\n",
      "torch.Size([1, 1, 30, 45])\n",
      "torch.Size([1, 1, 32, 32])\n"
     ]
    },
    {
     "name": "stderr",
     "output_type": "stream",
     "text": []
    },
    {
     "name": "stdout",
     "output_type": "stream",
     "text": [
      "torch.Size([1, 1, 30, 45])\n",
      "torch.Size([1, 1, 32, 32])\n",
      "torch.Size([1, 1, 30, 45])\n",
      "torch.Size([1, 1, 32, 32])\n"
     ]
    },
    {
     "name": "stderr",
     "output_type": "stream",
     "text": []
    },
    {
     "name": "stdout",
     "output_type": "stream",
     "text": [
      "torch.Size([1, 1, 30, 45])\n",
      "torch.Size([1, 1, 32, 32])\n",
      "torch.Size([1, 1, 30, 45])\n",
      "torch.Size([1, 1, 32, 32])\n"
     ]
    },
    {
     "name": "stderr",
     "output_type": "stream",
     "text": []
    },
    {
     "name": "stdout",
     "output_type": "stream",
     "text": [
      "torch.Size([1, 1, 30, 45])\n",
      "torch.Size([1, 1, 32, 32])\n",
      "torch.Size([1, 1, 30, 45])\n",
      "torch.Size([1, 1, 32, 32])\n"
     ]
    },
    {
     "name": "stderr",
     "output_type": "stream",
     "text": []
    },
    {
     "name": "stdout",
     "output_type": "stream",
     "text": [
      "torch.Size([1, 1, 30, 45])\n",
      "torch.Size([1, 1, 32, 32])\n",
      "torch.Size([1, 1, 30, 45])\n",
      "torch.Size([1, 1, 32, 32])\n"
     ]
    },
    {
     "name": "stderr",
     "output_type": "stream",
     "text": []
    },
    {
     "name": "stdout",
     "output_type": "stream",
     "text": [
      "torch.Size([1, 1, 30, 45])\n",
      "torch.Size([1, 1, 32, 32])\n",
      "torch.Size([1, 1, 30, 45])\n",
      "torch.Size([1, 1, 32, 32])\n"
     ]
    },
    {
     "name": "stderr",
     "output_type": "stream",
     "text": []
    },
    {
     "name": "stdout",
     "output_type": "stream",
     "text": [
      "torch.Size([1, 1, 30, 45])\n",
      "torch.Size([1, 1, 32, 32])\n",
      "torch.Size([1, 1, 30, 45])\n",
      "torch.Size([1, 1, 32, 32])\n"
     ]
    },
    {
     "name": "stderr",
     "output_type": "stream",
     "text": []
    },
    {
     "name": "stdout",
     "output_type": "stream",
     "text": [
      "torch.Size([1, 1, 30, 45])\n",
      "torch.Size([1, 1, 32, 32])\n",
      "torch.Size([1, 1, 30, 45])\n",
      "torch.Size([1, 1, 32, 32])\n"
     ]
    },
    {
     "name": "stderr",
     "output_type": "stream",
     "text": []
    },
    {
     "name": "stdout",
     "output_type": "stream",
     "text": [
      "torch.Size([1, 1, 30, 45])\n",
      "torch.Size([1, 1, 32, 32])\n",
      "torch.Size([1, 1, 30, 45])"
     ]
    },
    {
     "name": "stderr",
     "output_type": "stream",
     "text": []
    },
    {
     "name": "stdout",
     "output_type": "stream",
     "text": [
      "\n",
      "torch.Size([1, 1, 32, 32])\n",
      "torch.Size([1, 1, 30, 45])\n",
      "torch.Size([1, 1, 32, 32])\n"
     ]
    },
    {
     "name": "stderr",
     "output_type": "stream",
     "text": []
    },
    {
     "name": "stdout",
     "output_type": "stream",
     "text": [
      "torch.Size([1, 1, 30, 45])\n",
      "torch.Size([1, 1, 32, 32])\n",
      "torch.Size([1, 1, 30, 45])\n",
      "torch.Size([1, 1, 32, 32])\n"
     ]
    },
    {
     "name": "stderr",
     "output_type": "stream",
     "text": []
    },
    {
     "name": "stdout",
     "output_type": "stream",
     "text": [
      "torch.Size([1, 1, 30, 45])\n",
      "torch.Size([1, 1, 32, 32])\n",
      "torch.Size([1, 1, 30, 45])\n",
      "torch.Size([1, 1, 32, 32])\n"
     ]
    },
    {
     "name": "stderr",
     "output_type": "stream",
     "text": []
    },
    {
     "name": "stdout",
     "output_type": "stream",
     "text": [
      "torch.Size([1, 1, 30, 45])\n",
      "torch.Size([1, 1, 32, 32])\n",
      "torch.Size([1, 1, 30, 45])\n",
      "torch.Size([1, 1, 32, 32])\n"
     ]
    },
    {
     "name": "stderr",
     "output_type": "stream",
     "text": []
    },
    {
     "name": "stdout",
     "output_type": "stream",
     "text": [
      "torch.Size([1, 1, 30, 45])\n",
      "torch.Size([1, 1, 32, 32])\n",
      "torch.Size([1, 1, 30, 45])\n",
      "torch.Size([1, 1, 32, 32])\n"
     ]
    },
    {
     "name": "stderr",
     "output_type": "stream",
     "text": []
    },
    {
     "name": "stdout",
     "output_type": "stream",
     "text": [
      "torch.Size([1, 1, 30, 45])\n",
      "torch.Size([1, 1, 32, 32])\n",
      "torch.Size([1, 1, 30, 45])\n",
      "torch.Size([1, 1, 32, 32])\n"
     ]
    },
    {
     "name": "stderr",
     "output_type": "stream",
     "text": []
    },
    {
     "name": "stdout",
     "output_type": "stream",
     "text": [
      "torch.Size([1, 1, 30, 45])\n",
      "torch.Size([1, 1, 32, 32])\n",
      "torch.Size([1, 1, 30, 45])\n",
      "torch.Size([1, 1, 32, 32])\n"
     ]
    },
    {
     "name": "stderr",
     "output_type": "stream",
     "text": []
    },
    {
     "name": "stdout",
     "output_type": "stream",
     "text": [
      "torch.Size([1, 1, 30, 45])\n",
      "torch.Size([1, 1, 32, 32])\n",
      "torch.Size([1, 1, 30, 45])\n",
      "torch.Size([1, 1, 32, 32])\n"
     ]
    },
    {
     "name": "stderr",
     "output_type": "stream",
     "text": []
    },
    {
     "name": "stdout",
     "output_type": "stream",
     "text": [
      "torch.Size([1, 1, 30, 45])\n",
      "torch.Size([1, 1, 32, 32])\n",
      "torch.Size([1, 1, 30, 45])\n",
      "torch.Size([1, 1, 32, 32])\n"
     ]
    },
    {
     "name": "stderr",
     "output_type": "stream",
     "text": []
    },
    {
     "name": "stdout",
     "output_type": "stream",
     "text": [
      "torch.Size([1, 1, 30, 45])\n",
      "torch.Size([1, 1, 32, 32])\n",
      "torch.Size([1, 1, 30, 45])\n",
      "torch.Size([1, 1, 32, 32])\n"
     ]
    },
    {
     "name": "stderr",
     "output_type": "stream",
     "text": []
    },
    {
     "name": "stdout",
     "output_type": "stream",
     "text": [
      "torch.Size([1, 1, 30, 45])\n",
      "torch.Size([1, 1, 32, 32])\n",
      "torch.Size([1, 1, 30, 45])\n",
      "torch.Size([1, 1, 32, 32])\n"
     ]
    },
    {
     "name": "stderr",
     "output_type": "stream",
     "text": []
    },
    {
     "name": "stdout",
     "output_type": "stream",
     "text": [
      "torch.Size([1, 1, 30, 45])\n",
      "torch.Size([1, 1, 32, 32])\n",
      "torch.Size([1, 1, 30, 45])"
     ]
    },
    {
     "name": "stderr",
     "output_type": "stream",
     "text": []
    },
    {
     "name": "stdout",
     "output_type": "stream",
     "text": [
      "\n",
      "torch.Size([1, 1, 32, 32])\n",
      "torch.Size([1, 1, 30, 45])\n",
      "torch.Size([1, 1, 32, 32])\n"
     ]
    },
    {
     "name": "stderr",
     "output_type": "stream",
     "text": []
    },
    {
     "name": "stdout",
     "output_type": "stream",
     "text": [
      "torch.Size([1, 1, 30, 45])\n",
      "torch.Size([1, 1, 32, 32])\n",
      "torch.Size([1, 1, 30, 45])\n",
      "torch.Size([1, 1, 32, 32])\n"
     ]
    },
    {
     "name": "stderr",
     "output_type": "stream",
     "text": []
    },
    {
     "name": "stdout",
     "output_type": "stream",
     "text": [
      "torch.Size([1, 1, 30, 45])\n",
      "torch.Size([1, 1, 32, 32])\n",
      "torch.Size([1, 1, 30, 45])\n",
      "torch.Size([1, 1, 32, 32])\n"
     ]
    },
    {
     "name": "stderr",
     "output_type": "stream",
     "text": []
    },
    {
     "name": "stdout",
     "output_type": "stream",
     "text": [
      "torch.Size([1, 1, 30, 45])\n",
      "torch.Size([1, 1, 32, 32])\n",
      "torch.Size([1, 1, 30, 45])"
     ]
    },
    {
     "name": "stderr",
     "output_type": "stream",
     "text": []
    },
    {
     "name": "stdout",
     "output_type": "stream",
     "text": [
      "\n",
      "torch.Size([1, 1, 32, 32])\n",
      "torch.Size([1, 1, 30, 45])\n",
      "torch.Size([1, 1, 32, 32])\n"
     ]
    },
    {
     "name": "stderr",
     "output_type": "stream",
     "text": []
    },
    {
     "name": "stdout",
     "output_type": "stream",
     "text": [
      "torch.Size([1, 1, 30, 45])\n",
      "torch.Size([1, 1, 32, 32])\n",
      "torch.Size([1, 1, 30, 45])\n",
      "torch.Size([1, 1, 32, 32])\n"
     ]
    },
    {
     "name": "stderr",
     "output_type": "stream",
     "text": []
    },
    {
     "name": "stdout",
     "output_type": "stream",
     "text": [
      "torch.Size([1, 1, 30, 45])\n",
      "torch.Size([1, 1, 32, 32])\n"
     ]
    },
    {
     "name": "stderr",
     "output_type": "stream",
     "text": []
    },
    {
     "name": "stdout",
     "output_type": "stream",
     "text": [
      "torch.Size([1, 1, 30, 45])\n",
      "torch.Size([1, 1, 32, 32])\n",
      "torch.Size([1, 1, 30, 45])\n",
      "torch.Size([1, 1, 32, 32])\n"
     ]
    },
    {
     "name": "stderr",
     "output_type": "stream",
     "text": []
    },
    {
     "name": "stdout",
     "output_type": "stream",
     "text": [
      "torch.Size([1, 1, 30, 45])\n",
      "torch.Size([1, 1, 32, 32])\n"
     ]
    },
    {
     "name": "stderr",
     "output_type": "stream",
     "text": []
    },
    {
     "name": "stdout",
     "output_type": "stream",
     "text": [
      "torch.Size([1, 1, 30, 45])\n",
      "torch.Size([1, 1, 32, 32])\n"
     ]
    },
    {
     "name": "stderr",
     "output_type": "stream",
     "text": []
    },
    {
     "name": "stdout",
     "output_type": "stream",
     "text": [
      "torch.Size([1, 1, 30, 45])\n",
      "torch.Size([1, 1, 32, 32])\n",
      "torch.Size([1, 1, 30, 45])\n",
      "torch.Size([1, 1, 32, 32])\n"
     ]
    },
    {
     "name": "stderr",
     "output_type": "stream",
     "text": []
    },
    {
     "name": "stdout",
     "output_type": "stream",
     "text": [
      "torch.Size([1, 1, 30, 45])\n",
      "torch.Size([1, 1, 32, 32])\n",
      "torch.Size([1, 1, 30, 45])\n",
      "torch.Size([1, 1, 32, 32])\n"
     ]
    },
    {
     "name": "stderr",
     "output_type": "stream",
     "text": []
    },
    {
     "name": "stdout",
     "output_type": "stream",
     "text": [
      "torch.Size([1, 1, 30, 45])\n",
      "torch.Size([1, 1, 32, 32])\n",
      "torch.Size([1, 1, 30, 45])\n",
      "torch.Size([1, 1, 32, 32])\n"
     ]
    },
    {
     "name": "stderr",
     "output_type": "stream",
     "text": []
    },
    {
     "name": "stdout",
     "output_type": "stream",
     "text": [
      "torch.Size([1, 1, 30, 45])\n",
      "torch.Size([1, 1, 32, 32])\n",
      "torch.Size([1, 1, 30, 45])\n",
      "torch.Size([1, 1, 32, 32])\n"
     ]
    },
    {
     "name": "stderr",
     "output_type": "stream",
     "text": []
    },
    {
     "name": "stdout",
     "output_type": "stream",
     "text": [
      "torch.Size([1, 1, 30, 45])\n",
      "torch.Size([1, 1, 32, 32])\n",
      "torch.Size([1, 1, 30, 45])\n",
      "torch.Size([1, 1, 32, 32])\n"
     ]
    },
    {
     "name": "stderr",
     "output_type": "stream",
     "text": []
    },
    {
     "name": "stdout",
     "output_type": "stream",
     "text": [
      "torch.Size([1, 1, 30, 45])\n",
      "torch.Size([1, 1, 32, 32])\n"
     ]
    },
    {
     "name": "stderr",
     "output_type": "stream",
     "text": []
    },
    {
     "name": "stdout",
     "output_type": "stream",
     "text": [
      "torch.Size([1, 1, 30, 45])\n",
      "torch.Size([1, 1, 32, 32])\n"
     ]
    },
    {
     "name": "stderr",
     "output_type": "stream",
     "text": []
    },
    {
     "name": "stdout",
     "output_type": "stream",
     "text": [
      "torch.Size([1, 1, 30, 45])\n",
      "torch.Size([1, 1, 32, 32])\n",
      "torch.Size([1, 1, 30, 45])\n",
      "torch.Size([1, 1, 32, 32])\n"
     ]
    },
    {
     "name": "stderr",
     "output_type": "stream",
     "text": []
    },
    {
     "name": "stdout",
     "output_type": "stream",
     "text": [
      "torch.Size([1, 1, 30, 45])\n",
      "torch.Size([1, 1, 32, 32])\n"
     ]
    },
    {
     "name": "stderr",
     "output_type": "stream",
     "text": []
    },
    {
     "name": "stdout",
     "output_type": "stream",
     "text": [
      "torch.Size([1, 1, 30, 45])\n",
      "torch.Size([1, 1, 32, 32])\n"
     ]
    },
    {
     "name": "stderr",
     "output_type": "stream",
     "text": []
    },
    {
     "name": "stdout",
     "output_type": "stream",
     "text": [
      "torch.Size([1, 1, 30, 45])\n",
      "torch.Size([1, 1, 32, 32])\n"
     ]
    },
    {
     "name": "stderr",
     "output_type": "stream",
     "text": []
    },
    {
     "name": "stdout",
     "output_type": "stream",
     "text": [
      "torch.Size([1, 1, 30, 45])\n",
      "torch.Size([1, 1, 32, 32])\n"
     ]
    },
    {
     "name": "stderr",
     "output_type": "stream",
     "text": []
    },
    {
     "name": "stdout",
     "output_type": "stream",
     "text": [
      "torch.Size([1, 1, 30, 45])\n",
      "torch.Size([1, 1, 32, 32])\n",
      "torch.Size([1, 1, 30, 45])\n",
      "torch.Size([1, 1, 32, 32])\n"
     ]
    },
    {
     "name": "stderr",
     "output_type": "stream",
     "text": []
    },
    {
     "name": "stdout",
     "output_type": "stream",
     "text": [
      "torch.Size([1, 1, 30, 45])\n",
      "torch.Size([1, 1, 32, 32])\n",
      "torch.Size([1, 1, 30, 45])\n",
      "torch.Size([1, 1, 32, 32])\n"
     ]
    },
    {
     "name": "stderr",
     "output_type": "stream",
     "text": []
    },
    {
     "name": "stdout",
     "output_type": "stream",
     "text": [
      "torch.Size([1, 1, 30, 45])\n",
      "torch.Size([1, 1, 32, 32])\n",
      "torch.Size([1, 1, 30, 45])\n",
      "torch.Size([1, 1, 32, 32])\n"
     ]
    },
    {
     "name": "stderr",
     "output_type": "stream",
     "text": []
    },
    {
     "name": "stdout",
     "output_type": "stream",
     "text": [
      "torch.Size([1, 1, 30, 45])\n",
      "torch.Size([1, 1, 32, 32])\n"
     ]
    },
    {
     "name": "stderr",
     "output_type": "stream",
     "text": []
    },
    {
     "name": "stdout",
     "output_type": "stream",
     "text": [
      "torch.Size([1, 1, 30, 45])\n",
      "torch.Size([1, 1, 32, 32])\n",
      "torch.Size([1, 1, 30, 45])\n",
      "torch.Size([1, 1, 32, 32])\n"
     ]
    },
    {
     "name": "stderr",
     "output_type": "stream",
     "text": []
    },
    {
     "name": "stdout",
     "output_type": "stream",
     "text": [
      "torch.Size([1, 1, 30, 45])\n",
      "torch.Size([1, 1, 32, 32])\n",
      "torch.Size([1, 1, 30, 45])\n",
      "torch.Size([1, 1, 32, 32])\n"
     ]
    },
    {
     "name": "stderr",
     "output_type": "stream",
     "text": []
    },
    {
     "name": "stdout",
     "output_type": "stream",
     "text": [
      "torch.Size([1, 1, 30, 45])\n",
      "torch.Size([1, 1, 32, 32])\n",
      "torch.Size([1, 1, 30, 45])\n",
      "torch.Size([1, 1, 32, 32])\n"
     ]
    },
    {
     "name": "stderr",
     "output_type": "stream",
     "text": []
    },
    {
     "name": "stdout",
     "output_type": "stream",
     "text": [
      "torch.Size([1, 1, 30, 45])\n",
      "torch.Size([1, 1, 32, 32])\n"
     ]
    },
    {
     "name": "stderr",
     "output_type": "stream",
     "text": []
    },
    {
     "name": "stdout",
     "output_type": "stream",
     "text": [
      "torch.Size([1, 1, 30, 45])\n",
      "torch.Size([1, 1, 32, 32])\n",
      "torch.Size([1, 1, 30, 45])\n",
      "torch.Size([1, 1, 32, 32])\n"
     ]
    },
    {
     "name": "stderr",
     "output_type": "stream",
     "text": []
    },
    {
     "name": "stdout",
     "output_type": "stream",
     "text": [
      "torch.Size([1, 1, 30, 45])\n",
      "torch.Size([1, 1, 32, 32])\n",
      "torch.Size([1, 1, 30, 45])\n",
      "torch.Size([1, 1, 32, 32])\n"
     ]
    },
    {
     "name": "stderr",
     "output_type": "stream",
     "text": []
    },
    {
     "name": "stdout",
     "output_type": "stream",
     "text": [
      "torch.Size([1, 1, 30, 45])\n",
      "torch.Size([1, 1, 32, 32])\n"
     ]
    },
    {
     "name": "stderr",
     "output_type": "stream",
     "text": []
    },
    {
     "name": "stdout",
     "output_type": "stream",
     "text": [
      "torch.Size([1, 1, 30, 45])\n",
      "torch.Size([1, 1, 32, 32])\n"
     ]
    },
    {
     "name": "stderr",
     "output_type": "stream",
     "text": []
    },
    {
     "name": "stdout",
     "output_type": "stream",
     "text": [
      "torch.Size([1, 1, 30, 45])\n",
      "torch.Size([1, 1, 32, 32])\n",
      "torch.Size([1, 1, 30, 45])"
     ]
    },
    {
     "name": "stderr",
     "output_type": "stream",
     "text": []
    },
    {
     "name": "stdout",
     "output_type": "stream",
     "text": [
      "\n",
      "torch.Size([1, 1, 32, 32])\n",
      "torch.Size([1, 1, 30, 45])\n",
      "torch.Size([1, 1, 32, 32])\n"
     ]
    },
    {
     "name": "stderr",
     "output_type": "stream",
     "text": []
    },
    {
     "name": "stdout",
     "output_type": "stream",
     "text": [
      "torch.Size([1, 1, 30, 45])\n",
      "torch.Size([1, 1, 32, 32])\n",
      "torch.Size([1, 1, 30, 45])\n",
      "torch.Size([1, 1, 32, 32])\n"
     ]
    },
    {
     "name": "stderr",
     "output_type": "stream",
     "text": []
    },
    {
     "name": "stdout",
     "output_type": "stream",
     "text": [
      "torch.Size([1, 1, 30, 45])\n",
      "torch.Size([1, 1, 32, 32])\n",
      "torch.Size([1, 1, 30, 45])\n",
      "torch.Size([1, 1, 32, 32])\n"
     ]
    },
    {
     "name": "stderr",
     "output_type": "stream",
     "text": []
    },
    {
     "name": "stdout",
     "output_type": "stream",
     "text": [
      "torch.Size([1, 1, 30, 45])\n",
      "torch.Size([1, 1, 32, 32])\n",
      "torch.Size([1, 1, 30, 45])\n",
      "torch.Size([1, 1, 32, 32])\n"
     ]
    },
    {
     "name": "stderr",
     "output_type": "stream",
     "text": []
    },
    {
     "name": "stdout",
     "output_type": "stream",
     "text": [
      "torch.Size([1, 1, 30, 45])\n",
      "torch.Size([1, 1, 32, 32])\n",
      "torch.Size([1, 1, 30, 45])\n",
      "torch.Size([1, 1, 32, 32])\n"
     ]
    },
    {
     "name": "stderr",
     "output_type": "stream",
     "text": []
    },
    {
     "name": "stdout",
     "output_type": "stream",
     "text": [
      "torch.Size([1, 1, 30, 45])\n",
      "torch.Size([1, 1, 32, 32])\n",
      "torch.Size([1, 1, 30, 45])\n",
      "torch.Size([1, 1, 32, 32])\n"
     ]
    },
    {
     "name": "stderr",
     "output_type": "stream",
     "text": []
    },
    {
     "name": "stdout",
     "output_type": "stream",
     "text": [
      "torch.Size([1, 1, 30, 45])\n",
      "torch.Size([1, 1, 32, 32])\n",
      "torch.Size([1, 1, 30, 45])\n",
      "torch.Size([1, 1, 32, 32])\n"
     ]
    },
    {
     "name": "stderr",
     "output_type": "stream",
     "text": []
    },
    {
     "name": "stdout",
     "output_type": "stream",
     "text": [
      "torch.Size([1, 1, 30, 45])\n",
      "torch.Size([1, 1, 32, 32])\n",
      "torch.Size([1, 1, 30, 45])\n",
      "torch.Size([1, 1, 32, 32])\n"
     ]
    },
    {
     "name": "stderr",
     "output_type": "stream",
     "text": []
    },
    {
     "name": "stdout",
     "output_type": "stream",
     "text": [
      "torch.Size([1, 1, 30, 45])\n",
      "torch.Size([1, 1, 32, 32])\n",
      "torch.Size([1, 1, 30, 45])\n",
      "torch.Size([1, 1, 32, 32])\n"
     ]
    },
    {
     "name": "stderr",
     "output_type": "stream",
     "text": []
    },
    {
     "name": "stdout",
     "output_type": "stream",
     "text": [
      "torch.Size([1, 1, 30, 45])\n",
      "torch.Size([1, 1, 32, 32])\n",
      "torch.Size([1, 1, 30, 45])\n",
      "torch.Size([1, 1, 32, 32])\n"
     ]
    },
    {
     "name": "stderr",
     "output_type": "stream",
     "text": []
    },
    {
     "name": "stdout",
     "output_type": "stream",
     "text": [
      "torch.Size([1, 1, 30, 45])\n",
      "torch.Size([1, 1, 32, 32])\n",
      "torch.Size([1, 1, 30, 45])\n",
      "torch.Size([1, 1, 32, 32])\n"
     ]
    },
    {
     "name": "stderr",
     "output_type": "stream",
     "text": []
    },
    {
     "name": "stdout",
     "output_type": "stream",
     "text": [
      "torch.Size([1, 1, 30, 45])\n",
      "torch.Size([1, 1, 32, 32])\n"
     ]
    },
    {
     "name": "stderr",
     "output_type": "stream",
     "text": []
    },
    {
     "name": "stdout",
     "output_type": "stream",
     "text": [
      "torch.Size([1, 1, 30, 45])\n",
      "torch.Size([1, 1, 32, 32])\n",
      "torch.Size([1, 1, 30, 45])\n",
      "torch.Size([1, 1, 32, 32])\n"
     ]
    },
    {
     "name": "stderr",
     "output_type": "stream",
     "text": []
    },
    {
     "name": "stdout",
     "output_type": "stream",
     "text": [
      "torch.Size([1, 1, 30, 45])\n",
      "torch.Size([1, 1, 32, 32])\n",
      "torch.Size([1, 1, 30, 45])\n",
      "torch.Size([1, 1, 32, 32])\n"
     ]
    },
    {
     "name": "stderr",
     "output_type": "stream",
     "text": []
    },
    {
     "name": "stdout",
     "output_type": "stream",
     "text": [
      "torch.Size([1, 1, 30, 45])\n",
      "torch.Size([1, 1, 32, 32])\n",
      "torch.Size([1, 1, 30, 45])\n",
      "torch.Size([1, 1, 32, 32])\n"
     ]
    },
    {
     "name": "stderr",
     "output_type": "stream",
     "text": []
    },
    {
     "name": "stdout",
     "output_type": "stream",
     "text": [
      "torch.Size([1, 1, 30, 45])\n",
      "torch.Size([1, 1, 32, 32])\n",
      "torch.Size([1, 1, 30, 45])\n",
      "torch.Size([1, 1, 32, 32])\n"
     ]
    },
    {
     "name": "stderr",
     "output_type": "stream",
     "text": []
    },
    {
     "name": "stdout",
     "output_type": "stream",
     "text": [
      "torch.Size([1, 1, 30, 45])\n",
      "torch.Size([1, 1, 32, 32])\n",
      "torch.Size([1, 1, 30, 45])\n",
      "torch.Size([1, 1, 32, 32])\n"
     ]
    },
    {
     "name": "stderr",
     "output_type": "stream",
     "text": []
    },
    {
     "name": "stdout",
     "output_type": "stream",
     "text": [
      "torch.Size([1, 1, 30, 45])\n",
      "torch.Size([1, 1, 32, 32])\n",
      "torch.Size([1, 1, 30, 45])\n",
      "torch.Size([1, 1, 32, 32])\n"
     ]
    },
    {
     "name": "stderr",
     "output_type": "stream",
     "text": []
    },
    {
     "name": "stdout",
     "output_type": "stream",
     "text": [
      "torch.Size([1, 1, 30, 45])\n",
      "torch.Size([1, 1, 32, 32])\n",
      "torch.Size([1, 1, 30, 45])\n",
      "torch.Size([1, 1, 32, 32])\n"
     ]
    },
    {
     "name": "stderr",
     "output_type": "stream",
     "text": []
    },
    {
     "name": "stdout",
     "output_type": "stream",
     "text": [
      "torch.Size([1, 1, 30, 45])\n",
      "torch.Size([1, 1, 32, 32])\n",
      "torch.Size([1, 1, 30, 45])\n",
      "torch.Size([1, 1, 32, 32])\n"
     ]
    },
    {
     "name": "stderr",
     "output_type": "stream",
     "text": []
    },
    {
     "name": "stdout",
     "output_type": "stream",
     "text": [
      "torch.Size([1, 1, 30, 45])\n",
      "torch.Size([1, 1, 32, 32])\n",
      "torch.Size([1, 1, 30, 45])\n",
      "torch.Size([1, 1, 32, 32])\n"
     ]
    },
    {
     "name": "stderr",
     "output_type": "stream",
     "text": []
    },
    {
     "name": "stdout",
     "output_type": "stream",
     "text": [
      "torch.Size([1, 1, 30, 45])\n",
      "torch.Size([1, 1, 32, 32])\n",
      "torch.Size([1, 1, 30, 45])\n",
      "torch.Size([1, 1, 32, 32])\n"
     ]
    },
    {
     "name": "stderr",
     "output_type": "stream",
     "text": []
    },
    {
     "name": "stdout",
     "output_type": "stream",
     "text": [
      "torch.Size([1, 1, 30, 45])\n",
      "torch.Size([1, 1, 32, 32])\n",
      "torch.Size([1, 1, 30, 45])\n",
      "torch.Size([1, 1, 32, 32])\n"
     ]
    },
    {
     "name": "stderr",
     "output_type": "stream",
     "text": []
    },
    {
     "name": "stdout",
     "output_type": "stream",
     "text": [
      "torch.Size([1, 1, 30, 45])\n",
      "torch.Size([1, 1, 32, 32])\n",
      "torch.Size([1, 1, 30, 45])\n",
      "torch.Size([1, 1, 32, 32])\n"
     ]
    },
    {
     "name": "stderr",
     "output_type": "stream",
     "text": []
    },
    {
     "name": "stdout",
     "output_type": "stream",
     "text": [
      "torch.Size([1, 1, 30, 45])\n",
      "torch.Size([1, 1, 32, 32])\n",
      "torch.Size([1, 1, 30, 45])\n",
      "torch.Size([1, 1, 32, 32])\n"
     ]
    },
    {
     "name": "stderr",
     "output_type": "stream",
     "text": []
    },
    {
     "name": "stdout",
     "output_type": "stream",
     "text": [
      "torch.Size([1, 1, 30, 45])\n",
      "torch.Size([1, 1, 32, 32])\n"
     ]
    },
    {
     "name": "stderr",
     "output_type": "stream",
     "text": []
    },
    {
     "name": "stdout",
     "output_type": "stream",
     "text": [
      "torch.Size([1, 1, 30, 45])\n",
      "torch.Size([1, 1, 32, 32])\n",
      "torch.Size([1, 1, 30, 45])\n",
      "torch.Size([1, 1, 32, 32])\n"
     ]
    },
    {
     "name": "stderr",
     "output_type": "stream",
     "text": []
    },
    {
     "name": "stdout",
     "output_type": "stream",
     "text": [
      "torch.Size([1, 1, 30, 45])\n",
      "torch.Size([1, 1, 32, 32])\n",
      "torch.Size([1, 1, 30, 45])\n",
      "torch.Size([1, 1, 32, 32])\n"
     ]
    },
    {
     "name": "stderr",
     "output_type": "stream",
     "text": []
    },
    {
     "name": "stdout",
     "output_type": "stream",
     "text": [
      "torch.Size([1, 1, 30, 45])\n",
      "torch.Size([1, 1, 32, 32])\n",
      "torch.Size([1, 1, 30, 45])\n",
      "torch.Size([1, 1, 32, 32])\n"
     ]
    },
    {
     "name": "stderr",
     "output_type": "stream",
     "text": []
    },
    {
     "name": "stdout",
     "output_type": "stream",
     "text": [
      "torch.Size([1, 1, 30, 45])\n",
      "torch.Size([1, 1, 32, 32])\n",
      "torch.Size([1, 1, 30, 45])\n",
      "torch.Size([1, 1, 32, 32])\n"
     ]
    },
    {
     "name": "stderr",
     "output_type": "stream",
     "text": []
    },
    {
     "name": "stdout",
     "output_type": "stream",
     "text": [
      "torch.Size([1, 1, 30, 45])\n",
      "torch.Size([1, 1, 32, 32])\n"
     ]
    },
    {
     "name": "stderr",
     "output_type": "stream",
     "text": []
    },
    {
     "name": "stdout",
     "output_type": "stream",
     "text": [
      "torch.Size([1, 1, 30, 45])\n",
      "torch.Size([1, 1, 32, 32])\n",
      "torch.Size([1, 1, 30, 45])\n",
      "torch.Size([1, 1, 32, 32])\n"
     ]
    },
    {
     "name": "stderr",
     "output_type": "stream",
     "text": []
    },
    {
     "name": "stdout",
     "output_type": "stream",
     "text": [
      "torch.Size([1, 1, 30, 45])\n",
      "torch.Size([1, 1, 32, 32])\n",
      "torch.Size([1, 1, 30, 45])\n",
      "torch.Size([1, 1, 32, 32])\n"
     ]
    },
    {
     "name": "stderr",
     "output_type": "stream",
     "text": []
    },
    {
     "name": "stdout",
     "output_type": "stream",
     "text": [
      "torch.Size([1, 1, 30, 45])\n",
      "torch.Size([1, 1, 32, 32])\n",
      "torch.Size([1, 1, 30, 45])\n",
      "torch.Size([1, 1, 32, 32])\n"
     ]
    },
    {
     "name": "stderr",
     "output_type": "stream",
     "text": []
    },
    {
     "name": "stdout",
     "output_type": "stream",
     "text": [
      "torch.Size([1, 1, 30, 45])\n",
      "torch.Size([1, 1, 32, 32])\n",
      "torch.Size([1, 1, 30, 45])\n",
      "torch.Size([1, 1, 32, 32])\n"
     ]
    },
    {
     "name": "stderr",
     "output_type": "stream",
     "text": []
    },
    {
     "name": "stdout",
     "output_type": "stream",
     "text": [
      "torch.Size([1, 1, 30, 45])\n",
      "torch.Size([1, 1, 32, 32])\n",
      "torch.Size([1, 1, 30, 45])\n",
      "torch.Size([1, 1, 32, 32])\n",
      "torch.Size([1, 1, 30, 45])"
     ]
    },
    {
     "name": "stderr",
     "output_type": "stream",
     "text": []
    },
    {
     "name": "stdout",
     "output_type": "stream",
     "text": [
      "\n",
      "torch.Size([1, 1, 32, 32])\n",
      "torch.Size([1, 1, 30, 45])\n",
      "torch.Size([1, 1, 32, 32])\n"
     ]
    },
    {
     "name": "stderr",
     "output_type": "stream",
     "text": []
    },
    {
     "name": "stdout",
     "output_type": "stream",
     "text": [
      "torch.Size([1, 1, 30, 45])\n",
      "torch.Size([1, 1, 32, 32])\n",
      "torch.Size([1, 1, 30, 45])\n",
      "torch.Size([1, 1, 32, 32])\n"
     ]
    },
    {
     "name": "stderr",
     "output_type": "stream",
     "text": []
    },
    {
     "name": "stdout",
     "output_type": "stream",
     "text": [
      "torch.Size([1, 1, 30, 45])\n",
      "torch.Size([1, 1, 32, 32])\n",
      "torch.Size([1, 1, 30, 45])\n",
      "torch.Size([1, 1, 32, 32])\n"
     ]
    },
    {
     "name": "stderr",
     "output_type": "stream",
     "text": []
    },
    {
     "name": "stdout",
     "output_type": "stream",
     "text": [
      "torch.Size([1, 1, 30, 45])\n",
      "torch.Size([1, 1, 32, 32])\n",
      "torch.Size([1, 1, 30, 45])\n",
      "torch.Size([1, 1, 32, 32])\n"
     ]
    },
    {
     "name": "stderr",
     "output_type": "stream",
     "text": []
    },
    {
     "name": "stdout",
     "output_type": "stream",
     "text": [
      "torch.Size([1, 1, 30, 45])\n",
      "torch.Size([1, 1, 32, 32])\n",
      "torch.Size([1, 1, 30, 45])\n",
      "torch.Size([1, 1, 32, 32])\n"
     ]
    },
    {
     "name": "stderr",
     "output_type": "stream",
     "text": []
    },
    {
     "name": "stdout",
     "output_type": "stream",
     "text": [
      "torch.Size([1, 1, 30, 45])\n",
      "torch.Size([1, 1, 32, 32])\n",
      "torch.Size([1, 1, 30, 45])\n",
      "torch.Size([1, 1, 32, 32])\n",
      "torch.Size([1, 1, 30, 45])"
     ]
    },
    {
     "name": "stderr",
     "output_type": "stream",
     "text": []
    },
    {
     "name": "stdout",
     "output_type": "stream",
     "text": [
      "\n",
      "torch.Size([1, 1, 32, 32])\n",
      "torch.Size([1, 1, 30, 45])\n",
      "torch.Size([1, 1, 32, 32])\n"
     ]
    },
    {
     "name": "stderr",
     "output_type": "stream",
     "text": []
    },
    {
     "name": "stdout",
     "output_type": "stream",
     "text": [
      "torch.Size([1, 1, 30, 45])\n",
      "torch.Size([1, 1, 32, 32])\n",
      "torch.Size([1, 1, 30, 45])\n",
      "torch.Size([1, 1, 32, 32])\n",
      "torch.Size([1, 1, 30, 45])\n"
     ]
    },
    {
     "name": "stderr",
     "output_type": "stream",
     "text": []
    },
    {
     "name": "stdout",
     "output_type": "stream",
     "text": [
      "torch.Size([1, 1, 32, 32])\n",
      "torch.Size([1, 1, 30, 45])\n",
      "torch.Size([1, 1, 32, 32])\n"
     ]
    },
    {
     "name": "stderr",
     "output_type": "stream",
     "text": []
    },
    {
     "name": "stdout",
     "output_type": "stream",
     "text": [
      "torch.Size([1, 1, 30, 45])\n",
      "torch.Size([1, 1, 32, 32])\n",
      "torch.Size([1, 1, 30, 45])\n",
      "torch.Size([1, 1, 32, 32])\n"
     ]
    },
    {
     "name": "stderr",
     "output_type": "stream",
     "text": []
    },
    {
     "name": "stdout",
     "output_type": "stream",
     "text": [
      "torch.Size([1, 1, 30, 45])\n",
      "torch.Size([1, 1, 32, 32])\n"
     ]
    },
    {
     "name": "stderr",
     "output_type": "stream",
     "text": []
    },
    {
     "name": "stdout",
     "output_type": "stream",
     "text": [
      "torch.Size([1, 1, 30, 45])\n",
      "torch.Size([1, 1, 32, 32])\n"
     ]
    },
    {
     "name": "stderr",
     "output_type": "stream",
     "text": []
    },
    {
     "name": "stdout",
     "output_type": "stream",
     "text": [
      "torch.Size([1, 1, 30, 45])\n",
      "torch.Size([1, 1, 32, 32])\n",
      "torch.Size([1, 1, 30, 45])\n",
      "torch.Size([1, 1, 32, 32])\n"
     ]
    },
    {
     "name": "stderr",
     "output_type": "stream",
     "text": []
    },
    {
     "name": "stdout",
     "output_type": "stream",
     "text": [
      "torch.Size([1, 1, 30, 45])\n",
      "torch.Size([1, 1, 32, 32])\n",
      "torch.Size([1, 1, 30, 45])\n",
      "torch.Size([1, 1, 32, 32])\n"
     ]
    },
    {
     "name": "stderr",
     "output_type": "stream",
     "text": []
    },
    {
     "name": "stdout",
     "output_type": "stream",
     "text": [
      "torch.Size([1, 1, 30, 45])\n",
      "torch.Size([1, 1, 32, 32])\n",
      "torch.Size([1, 1, 30, 45])\n",
      "torch.Size([1, 1, 32, 32])\n"
     ]
    },
    {
     "name": "stderr",
     "output_type": "stream",
     "text": []
    },
    {
     "name": "stdout",
     "output_type": "stream",
     "text": [
      "torch.Size([1, 1, 30, 45])\n",
      "torch.Size([1, 1, 32, 32])\n",
      "torch.Size([1, 1, 30, 45])\n",
      "torch.Size([1, 1, 32, 32])\n"
     ]
    },
    {
     "name": "stderr",
     "output_type": "stream",
     "text": []
    },
    {
     "name": "stdout",
     "output_type": "stream",
     "text": [
      "torch.Size([1, 1, 30, 45])\n",
      "torch.Size([1, 1, 32, 32])\n",
      "torch.Size([1, 1, 30, 45])\n",
      "torch.Size([1, 1, 32, 32])\n"
     ]
    },
    {
     "name": "stderr",
     "output_type": "stream",
     "text": []
    },
    {
     "name": "stdout",
     "output_type": "stream",
     "text": [
      "torch.Size([1, 1, 30, 45])\n",
      "torch.Size([1, 1, 32, 32])\n",
      "torch.Size([1, 1, 30, 45])\n",
      "torch.Size([1, 1, 32, 32])\n"
     ]
    },
    {
     "name": "stderr",
     "output_type": "stream",
     "text": []
    },
    {
     "name": "stdout",
     "output_type": "stream",
     "text": [
      "torch.Size([1, 1, 30, 45])\n",
      "torch.Size([1, 1, 32, 32])\n",
      "torch.Size([1, 1, 30, 45])\n",
      "torch.Size([1, 1, 32, 32])\n"
     ]
    },
    {
     "name": "stderr",
     "output_type": "stream",
     "text": []
    },
    {
     "name": "stdout",
     "output_type": "stream",
     "text": [
      "torch.Size([1, 1, 30, 45])\n",
      "torch.Size([1, 1, 32, 32])\n",
      "torch.Size([1, 1, 30, 45])\n",
      "torch.Size([1, 1, 32, 32])\n"
     ]
    },
    {
     "name": "stderr",
     "output_type": "stream",
     "text": []
    },
    {
     "name": "stdout",
     "output_type": "stream",
     "text": [
      "torch.Size([1, 1, 30, 45])\n",
      "torch.Size([1, 1, 32, 32])\n",
      "torch.Size([1, 1, 30, 45])\n",
      "torch.Size([1, 1, 32, 32])\n",
      "torch.Size([1, 1, 30, 45])"
     ]
    },
    {
     "name": "stderr",
     "output_type": "stream",
     "text": []
    },
    {
     "name": "stdout",
     "output_type": "stream",
     "text": [
      "\n",
      "torch.Size([1, 1, 32, 32])\n",
      "torch.Size([1, 1, 30, 45])\n",
      "torch.Size([1, 1, 32, 32])\n"
     ]
    },
    {
     "name": "stderr",
     "output_type": "stream",
     "text": [
      "\n"
     ]
    },
    {
     "name": "stdout",
     "output_type": "stream",
     "text": [
      "torch.Size([1, 1, 30, 45])\n",
      "torch.Size([1, 1, 32, 32])\n",
      "torch.Size([1, 1, 30, 45])\n",
      "torch.Size([1, 1, 32, 32])\n"
     ]
    },
    {
     "name": "stderr",
     "output_type": "stream",
     "text": []
    },
    {
     "name": "stdout",
     "output_type": "stream",
     "text": [
      "torch.Size([1, 1, 30, 45])\n",
      "torch.Size([1, 1, 32, 32])\n",
      "torch.Size([1, 1, 30, 45])\n",
      "torch.Size([1, 1, 32, 32])\n"
     ]
    },
    {
     "name": "stderr",
     "output_type": "stream",
     "text": []
    },
    {
     "name": "stdout",
     "output_type": "stream",
     "text": [
      "torch.Size([1, 1, 30, 45])\n",
      "torch.Size([1, 1, 32, 32])\n",
      "torch.Size([1, 1, 30, 45])\n",
      "torch.Size([1, 1, 32, 32])\n"
     ]
    },
    {
     "name": "stderr",
     "output_type": "stream",
     "text": [
      "\n"
     ]
    },
    {
     "name": "stdout",
     "output_type": "stream",
     "text": [
      "torch.Size([1, 1, 30, 45])\n",
      "torch.Size([1, 1, 32, 32])\n",
      "torch.Size([1, 1, 30, 45])\n",
      "torch.Size([1, 1, 32, 32])\n"
     ]
    },
    {
     "name": "stderr",
     "output_type": "stream",
     "text": []
    },
    {
     "name": "stdout",
     "output_type": "stream",
     "text": [
      "torch.Size([1, 1, 30, 45])\n",
      "torch.Size([1, 1, 32, 32])\n",
      "torch.Size([1, 1, 30, 45])\n",
      "torch.Size([1, 1, 32, 32])\n"
     ]
    },
    {
     "name": "stderr",
     "output_type": "stream",
     "text": []
    },
    {
     "name": "stdout",
     "output_type": "stream",
     "text": [
      "torch.Size([1, 1, 30, 45])\n",
      "torch.Size([1, 1, 32, 32])\n",
      "torch.Size([1, 1, 30, 45])\n",
      "torch.Size([1, 1, 32, 32])\n"
     ]
    },
    {
     "name": "stderr",
     "output_type": "stream",
     "text": []
    },
    {
     "name": "stdout",
     "output_type": "stream",
     "text": [
      "torch.Size([1, 1, 30, 45])\n",
      "torch.Size([1, 1, 32, 32])\n",
      "torch.Size([1, 1, 30, 45])\n",
      "torch.Size([1, 1, 32, 32])\n"
     ]
    },
    {
     "name": "stderr",
     "output_type": "stream",
     "text": []
    },
    {
     "name": "stdout",
     "output_type": "stream",
     "text": [
      "torch.Size([1, 1, 30, 45])\n",
      "torch.Size([1, 1, 32, 32])\n",
      "torch.Size([1, 1, 30, 45])"
     ]
    },
    {
     "name": "stderr",
     "output_type": "stream",
     "text": []
    },
    {
     "name": "stdout",
     "output_type": "stream",
     "text": [
      "\n",
      "torch.Size([1, 1, 32, 32])\n",
      "torch.Size([1, 1, 30, 45])\n",
      "torch.Size([1, 1, 32, 32])\n"
     ]
    },
    {
     "name": "stderr",
     "output_type": "stream",
     "text": []
    },
    {
     "name": "stdout",
     "output_type": "stream",
     "text": [
      "torch.Size([1, 1, 30, 45])\n",
      "torch.Size([1, 1, 32, 32])\n"
     ]
    },
    {
     "name": "stderr",
     "output_type": "stream",
     "text": []
    },
    {
     "name": "stdout",
     "output_type": "stream",
     "text": [
      "torch.Size([1, 1, 30, 45])\n",
      "torch.Size([1, 1, 32, 32])\n"
     ]
    },
    {
     "name": "stderr",
     "output_type": "stream",
     "text": []
    },
    {
     "name": "stdout",
     "output_type": "stream",
     "text": [
      "torch.Size([1, 1, 30, 45])\n",
      "torch.Size([1, 1, 32, 32])\n"
     ]
    },
    {
     "name": "stderr",
     "output_type": "stream",
     "text": []
    },
    {
     "name": "stdout",
     "output_type": "stream",
     "text": [
      "torch.Size([1, 1, 30, 45])\n",
      "torch.Size([1, 1, 32, 32])\n",
      "torch.Size([1, 1, 30, 45])\n",
      "torch.Size([1, 1, 32, 32])\n"
     ]
    },
    {
     "name": "stderr",
     "output_type": "stream",
     "text": []
    },
    {
     "name": "stdout",
     "output_type": "stream",
     "text": [
      "torch.Size([1, 1, 30, 45])\n",
      "torch.Size([1, 1, 32, 32])\n",
      "torch.Size([1, 1, 30, 45])\n",
      "torch.Size([1, 1, 32, 32])\n"
     ]
    },
    {
     "name": "stderr",
     "output_type": "stream",
     "text": []
    },
    {
     "name": "stdout",
     "output_type": "stream",
     "text": [
      "torch.Size([1, 1, 30, 45])\n",
      "torch.Size([1, 1, 32, 32])\n"
     ]
    },
    {
     "name": "stderr",
     "output_type": "stream",
     "text": []
    },
    {
     "name": "stdout",
     "output_type": "stream",
     "text": [
      "torch.Size([1, 1, 30, 45])\n",
      "torch.Size([1, 1, 32, 32])\n",
      "torch.Size([1, 1, 30, 45])\n",
      "torch.Size([1, 1, 32, 32])\n"
     ]
    },
    {
     "name": "stderr",
     "output_type": "stream",
     "text": []
    },
    {
     "name": "stdout",
     "output_type": "stream",
     "text": [
      "torch.Size([1, 1, 30, 45])\n",
      "torch.Size([1, 1, 32, 32])\n"
     ]
    },
    {
     "name": "stderr",
     "output_type": "stream",
     "text": []
    },
    {
     "name": "stdout",
     "output_type": "stream",
     "text": [
      "torch.Size([1, 1, 30, 45])\n",
      "torch.Size([1, 1, 32, 32])\n",
      "torch.Size([1, 1, 30, 45])\n",
      "torch.Size([1, 1, 32, 32])\n"
     ]
    },
    {
     "name": "stderr",
     "output_type": "stream",
     "text": []
    },
    {
     "name": "stdout",
     "output_type": "stream",
     "text": [
      "torch.Size([1, 1, 30, 45])\n",
      "torch.Size([1, 1, 32, 32])\n",
      "torch.Size([1, 1, 30, 45])\n",
      "torch.Size([1, 1, 32, 32])\n"
     ]
    },
    {
     "name": "stderr",
     "output_type": "stream",
     "text": []
    },
    {
     "name": "stdout",
     "output_type": "stream",
     "text": [
      "torch.Size([1, 1, 30, 45])\n",
      "torch.Size([1, 1, 32, 32])\n",
      "torch.Size([1, 1, 30, 45])\n",
      "torch.Size([1, 1, 32, 32])\n"
     ]
    },
    {
     "name": "stderr",
     "output_type": "stream",
     "text": []
    },
    {
     "name": "stdout",
     "output_type": "stream",
     "text": [
      "torch.Size([1, 1, 30, 45])\n",
      "torch.Size([1, 1, 32, 32])\n",
      "torch.Size([1, 1, 30, 45])\n",
      "torch.Size([1, 1, 32, 32])\n"
     ]
    },
    {
     "name": "stderr",
     "output_type": "stream",
     "text": []
    },
    {
     "name": "stdout",
     "output_type": "stream",
     "text": [
      "torch.Size([1, 1, 30, 45])\n",
      "torch.Size([1, 1, 32, 32])\n",
      "torch.Size([1, 1, 30, 45])\n",
      "torch.Size([1, 1, 32, 32])\n"
     ]
    },
    {
     "name": "stderr",
     "output_type": "stream",
     "text": []
    },
    {
     "name": "stdout",
     "output_type": "stream",
     "text": [
      "torch.Size([1, 1, 30, 45])\n",
      "torch.Size([1, 1, 32, 32])\n",
      "torch.Size([1, 1, 30, 45])\n",
      "torch.Size([1, 1, 32, 32])\n"
     ]
    },
    {
     "name": "stderr",
     "output_type": "stream",
     "text": []
    },
    {
     "name": "stdout",
     "output_type": "stream",
     "text": [
      "torch.Size([1, 1, 30, 45])\n",
      "torch.Size([1, 1, 32, 32])\n",
      "torch.Size([1, 1, 30, 45])\n",
      "torch.Size([1, 1, 32, 32])\n"
     ]
    },
    {
     "name": "stderr",
     "output_type": "stream",
     "text": []
    },
    {
     "name": "stdout",
     "output_type": "stream",
     "text": [
      "torch.Size([1, 1, 30, 45])\n",
      "torch.Size([1, 1, 32, 32])\n",
      "torch.Size([1, 1, 30, 45])\n",
      "torch.Size([1, 1, 32, 32])\n"
     ]
    },
    {
     "name": "stderr",
     "output_type": "stream",
     "text": []
    },
    {
     "name": "stdout",
     "output_type": "stream",
     "text": [
      "torch.Size([1, 1, 30, 45])\n",
      "torch.Size([1, 1, 32, 32])\n",
      "torch.Size([1, 1, 30, 45])\n",
      "torch.Size([1, 1, 32, 32])\n",
      "torch.Size([1, 1, 30, 45])"
     ]
    },
    {
     "name": "stderr",
     "output_type": "stream",
     "text": []
    },
    {
     "name": "stdout",
     "output_type": "stream",
     "text": [
      "\n",
      "torch.Size([1, 1, 32, 32])\n",
      "torch.Size([1, 1, 30, 45])\n",
      "torch.Size([1, 1, 32, 32])\n",
      "torch.Size([1, 1, 30, 45])"
     ]
    },
    {
     "name": "stderr",
     "output_type": "stream",
     "text": []
    },
    {
     "name": "stdout",
     "output_type": "stream",
     "text": [
      "\n",
      "torch.Size([1, 1, 32, 32])\n",
      "torch.Size([1, 1, 30, 45])\n",
      "torch.Size([1, 1, 32, 32])\n"
     ]
    },
    {
     "name": "stderr",
     "output_type": "stream",
     "text": []
    },
    {
     "name": "stdout",
     "output_type": "stream",
     "text": [
      "torch.Size([1, 1, 30, 45])\n",
      "torch.Size([1, 1, 32, 32])\n",
      "torch.Size([1, 1, 30, 45])\n",
      "torch.Size([1, 1, 32, 32])\n",
      "torch.Size([1, 1, 30, 45])"
     ]
    },
    {
     "name": "stderr",
     "output_type": "stream",
     "text": []
    },
    {
     "name": "stdout",
     "output_type": "stream",
     "text": [
      "\n",
      "torch.Size([1, 1, 32, 32])\n",
      "torch.Size([1, 1, 30, 45])\n",
      "torch.Size([1, 1, 32, 32])\n"
     ]
    },
    {
     "name": "stderr",
     "output_type": "stream",
     "text": []
    },
    {
     "name": "stdout",
     "output_type": "stream",
     "text": [
      "torch.Size([1, 1, 30, 45])\n",
      "torch.Size([1, 1, 32, 32])\n"
     ]
    },
    {
     "name": "stderr",
     "output_type": "stream",
     "text": []
    },
    {
     "name": "stdout",
     "output_type": "stream",
     "text": [
      "torch.Size([1, 1, 30, 45])\n",
      "torch.Size([1, 1, 32, 32])\n"
     ]
    },
    {
     "name": "stderr",
     "output_type": "stream",
     "text": []
    },
    {
     "name": "stdout",
     "output_type": "stream",
     "text": [
      "torch.Size([1, 1, 30, 45])\n",
      "torch.Size([1, 1, 32, 32])\n",
      "torch.Size([1, 1, 30, 45])\n",
      "torch.Size([1, 1, 32, 32])\n"
     ]
    },
    {
     "name": "stderr",
     "output_type": "stream",
     "text": []
    },
    {
     "name": "stdout",
     "output_type": "stream",
     "text": [
      "torch.Size([1, 1, 30, 45])\n",
      "torch.Size([1, 1, 32, 32])\n",
      "torch.Size([1, 1, 30, 45])\n",
      "torch.Size([1, 1, 32, 32])\n"
     ]
    },
    {
     "name": "stderr",
     "output_type": "stream",
     "text": []
    },
    {
     "name": "stdout",
     "output_type": "stream",
     "text": [
      "torch.Size([1, 1, 30, 45])\n",
      "torch.Size([1, 1, 32, 32])\n",
      "torch.Size([1, 1, 30, 45])\n",
      "torch.Size([1, 1, 32, 32])\n"
     ]
    },
    {
     "name": "stderr",
     "output_type": "stream",
     "text": []
    },
    {
     "name": "stdout",
     "output_type": "stream",
     "text": [
      "torch.Size([1, 1, 30, 45])\n",
      "torch.Size([1, 1, 32, 32])\n",
      "torch.Size([1, 1, 30, 45])\n",
      "torch.Size([1, 1, 32, 32])\n"
     ]
    },
    {
     "name": "stderr",
     "output_type": "stream",
     "text": []
    },
    {
     "name": "stdout",
     "output_type": "stream",
     "text": [
      "torch.Size([1, 1, 30, 45])\n",
      "torch.Size([1, 1, 32, 32])\n",
      "torch.Size([1, 1, 30, 45])\n",
      "torch.Size([1, 1, 32, 32])\n"
     ]
    },
    {
     "name": "stderr",
     "output_type": "stream",
     "text": []
    },
    {
     "name": "stdout",
     "output_type": "stream",
     "text": [
      "torch.Size([1, 1, 30, 45])\n",
      "torch.Size([1, 1, 32, 32])\n",
      "torch.Size([1, 1, 30, 45])\n",
      "torch.Size([1, 1, 32, 32])\n"
     ]
    },
    {
     "name": "stderr",
     "output_type": "stream",
     "text": []
    },
    {
     "name": "stdout",
     "output_type": "stream",
     "text": [
      "torch.Size([1, 1, 30, 45])\n",
      "torch.Size([1, 1, 32, 32])\n",
      "torch.Size([1, 1, 30, 45])\n",
      "torch.Size([1, 1, 32, 32])\n"
     ]
    },
    {
     "name": "stderr",
     "output_type": "stream",
     "text": []
    },
    {
     "name": "stdout",
     "output_type": "stream",
     "text": [
      "torch.Size([1, 1, 30, 45])\n",
      "torch.Size([1, 1, 32, 32])\n",
      "torch.Size([1, 1, 30, 45])\n",
      "torch.Size([1, 1, 32, 32])\n"
     ]
    },
    {
     "name": "stderr",
     "output_type": "stream",
     "text": []
    },
    {
     "name": "stdout",
     "output_type": "stream",
     "text": [
      "torch.Size([1, 1, 30, 45])\n",
      "torch.Size([1, 1, 32, 32])\n",
      "torch.Size([1, 1, 30, 45])\n",
      "torch.Size([1, 1, 32, 32])\n",
      "torch.Size([1, 1, 30, 45])"
     ]
    },
    {
     "name": "stderr",
     "output_type": "stream",
     "text": []
    },
    {
     "name": "stdout",
     "output_type": "stream",
     "text": [
      "\n",
      "torch.Size([1, 1, 32, 32])\n",
      "torch.Size([1, 1, 30, 45])\n",
      "torch.Size([1, 1, 32, 32])\n"
     ]
    },
    {
     "name": "stderr",
     "output_type": "stream",
     "text": []
    },
    {
     "name": "stdout",
     "output_type": "stream",
     "text": [
      "torch.Size([1, 1, 30, 45])\n",
      "torch.Size([1, 1, 32, 32])\n",
      "torch.Size([1, 1, 30, 45])\n",
      "torch.Size([1, 1, 32, 32])\n"
     ]
    },
    {
     "name": "stderr",
     "output_type": "stream",
     "text": []
    },
    {
     "name": "stdout",
     "output_type": "stream",
     "text": [
      "torch.Size([1, 1, 30, 45])\n",
      "torch.Size([1, 1, 32, 32])\n",
      "torch.Size([1, 1, 30, 45])\n",
      "torch.Size([1, 1, 32, 32])\n"
     ]
    },
    {
     "name": "stderr",
     "output_type": "stream",
     "text": []
    },
    {
     "name": "stdout",
     "output_type": "stream",
     "text": [
      "torch.Size([1, 1, 30, 45])\n",
      "torch.Size([1, 1, 32, 32])\n",
      "torch.Size([1, 1, 30, 45])\n",
      "torch.Size([1, 1, 32, 32])\n"
     ]
    },
    {
     "name": "stderr",
     "output_type": "stream",
     "text": []
    },
    {
     "name": "stdout",
     "output_type": "stream",
     "text": [
      "torch.Size([1, 1, 30, 45])\n",
      "torch.Size([1, 1, 32, 32])\n",
      "torch.Size([1, 1, 30, 45])\n",
      "torch.Size([1, 1, 32, 32])\n"
     ]
    },
    {
     "name": "stderr",
     "output_type": "stream",
     "text": []
    },
    {
     "name": "stdout",
     "output_type": "stream",
     "text": [
      "torch.Size([1, 1, 30, 45])\n",
      "torch.Size([1, 1, 32, 32])\n"
     ]
    },
    {
     "name": "stderr",
     "output_type": "stream",
     "text": []
    },
    {
     "name": "stdout",
     "output_type": "stream",
     "text": [
      "torch.Size([1, 1, 30, 45])\n",
      "torch.Size([1, 1, 32, 32])\n",
      "torch.Size([1, 1, 30, 45])\n",
      "torch.Size([1, 1, 32, 32])\n"
     ]
    },
    {
     "name": "stderr",
     "output_type": "stream",
     "text": []
    },
    {
     "name": "stdout",
     "output_type": "stream",
     "text": [
      "torch.Size([1, 1, 30, 45])\n",
      "torch.Size([1, 1, 32, 32])\n"
     ]
    },
    {
     "name": "stderr",
     "output_type": "stream",
     "text": [
      "\n"
     ]
    },
    {
     "name": "stdout",
     "output_type": "stream",
     "text": [
      "torch.Size([1, 1, 30, 45])\n",
      "torch.Size([1, 1, 32, 32])\n",
      "torch.Size([1, 1, 30, 45])\n",
      "torch.Size([1, 1, 32, 32])\n"
     ]
    },
    {
     "name": "stderr",
     "output_type": "stream",
     "text": []
    },
    {
     "name": "stdout",
     "output_type": "stream",
     "text": [
      "torch.Size([1, 1, 30, 45])\n",
      "torch.Size([1, 1, 32, 32])\n",
      "torch.Size([1, 1, 30, 45])\n",
      "torch.Size([1, 1, 32, 32])\n"
     ]
    },
    {
     "name": "stderr",
     "output_type": "stream",
     "text": []
    },
    {
     "name": "stdout",
     "output_type": "stream",
     "text": [
      "torch.Size([1, 1, 30, 45])\n",
      "torch.Size([1, 1, 32, 32])\n",
      "torch.Size([1, 1, 30, 45])\n",
      "torch.Size([1, 1, 32, 32])\n"
     ]
    },
    {
     "name": "stderr",
     "output_type": "stream",
     "text": []
    },
    {
     "name": "stdout",
     "output_type": "stream",
     "text": [
      "torch.Size([1, 1, 30, 45])\n",
      "torch.Size([1, 1, 32, 32])\n"
     ]
    },
    {
     "name": "stderr",
     "output_type": "stream",
     "text": []
    },
    {
     "name": "stdout",
     "output_type": "stream",
     "text": [
      "torch.Size([1, 1, 30, 45])\n",
      "torch.Size([1, 1, 32, 32])\n"
     ]
    },
    {
     "name": "stderr",
     "output_type": "stream",
     "text": []
    },
    {
     "name": "stdout",
     "output_type": "stream",
     "text": [
      "torch.Size([1, 1, 30, 45])\n",
      "torch.Size([1, 1, 32, 32])\n",
      "torch.Size([1, 1, 30, 45])\n"
     ]
    },
    {
     "name": "stderr",
     "output_type": "stream",
     "text": []
    },
    {
     "name": "stdout",
     "output_type": "stream",
     "text": [
      "torch.Size([1, 1, 32, 32])\n",
      "torch.Size([1, 1, 30, 45])"
     ]
    },
    {
     "name": "stderr",
     "output_type": "stream",
     "text": []
    },
    {
     "name": "stdout",
     "output_type": "stream",
     "text": [
      "\n",
      "torch.Size([1, 1, 32, 32])\n",
      "torch.Size([1, 1, 30, 45])\n",
      "torch.Size([1, 1, 32, 32])\n"
     ]
    },
    {
     "name": "stderr",
     "output_type": "stream",
     "text": []
    },
    {
     "name": "stdout",
     "output_type": "stream",
     "text": [
      "torch.Size([1, 1, 30, 45])\n",
      "torch.Size([1, 1, 32, 32])\n",
      "torch.Size([1, 1, 30, 45])\n",
      "torch.Size([1, 1, 32, 32])\n"
     ]
    },
    {
     "name": "stderr",
     "output_type": "stream",
     "text": []
    },
    {
     "name": "stdout",
     "output_type": "stream",
     "text": [
      "torch.Size([1, 1, 30, 45])\n",
      "torch.Size([1, 1, 32, 32])\n",
      "torch.Size([1, 1, 30, 45])\n",
      "torch.Size([1, 1, 32, 32])\n"
     ]
    },
    {
     "name": "stderr",
     "output_type": "stream",
     "text": []
    },
    {
     "name": "stdout",
     "output_type": "stream",
     "text": [
      "torch.Size([1, 1, 30, 45])\n",
      "torch.Size([1, 1, 32, 32])\n",
      "torch.Size([1, 1, 30, 45])"
     ]
    },
    {
     "name": "stderr",
     "output_type": "stream",
     "text": []
    },
    {
     "name": "stdout",
     "output_type": "stream",
     "text": [
      "\n",
      "torch.Size([1, 1, 32, 32])\n",
      "torch.Size([1, 1, 30, 45])\n"
     ]
    },
    {
     "name": "stderr",
     "output_type": "stream",
     "text": []
    },
    {
     "name": "stdout",
     "output_type": "stream",
     "text": [
      "torch.Size([1, 1, 32, 32])\n",
      "torch.Size([1, 1, 30, 45])"
     ]
    },
    {
     "name": "stderr",
     "output_type": "stream",
     "text": []
    },
    {
     "name": "stdout",
     "output_type": "stream",
     "text": [
      "\n",
      "torch.Size([1, 1, 32, 32])\n",
      "torch.Size([1, 1, 30, 45])\n",
      "torch.Size([1, 1, 32, 32])\n"
     ]
    },
    {
     "name": "stderr",
     "output_type": "stream",
     "text": []
    },
    {
     "name": "stdout",
     "output_type": "stream",
     "text": [
      "torch.Size([1, 1, 30, 45])\n",
      "torch.Size([1, 1, 32, 32])\n"
     ]
    },
    {
     "name": "stderr",
     "output_type": "stream",
     "text": []
    },
    {
     "name": "stdout",
     "output_type": "stream",
     "text": [
      "torch.Size([1, 1, 30, 45])\n",
      "torch.Size([1, 1, 32, 32])\n"
     ]
    },
    {
     "name": "stderr",
     "output_type": "stream",
     "text": []
    },
    {
     "name": "stdout",
     "output_type": "stream",
     "text": [
      "torch.Size([1, 1, 30, 45])\n",
      "torch.Size([1, 1, 32, 32])\n",
      "torch.Size([1, 1, 30, 45])\n",
      "torch.Size([1, 1, 32, 32])\n"
     ]
    },
    {
     "name": "stderr",
     "output_type": "stream",
     "text": []
    },
    {
     "name": "stdout",
     "output_type": "stream",
     "text": [
      "torch.Size([1, 1, 30, 45])\n",
      "torch.Size([1, 1, 32, 32])\n",
      "torch.Size([1, 1, 30, 45])\n",
      "torch.Size([1, 1, 32, 32])\n"
     ]
    },
    {
     "name": "stderr",
     "output_type": "stream",
     "text": []
    },
    {
     "name": "stdout",
     "output_type": "stream",
     "text": [
      "torch.Size([1, 1, 30, 45])\n",
      "torch.Size([1, 1, 32, 32])\n",
      "torch.Size([1, 1, 30, 45])"
     ]
    },
    {
     "name": "stderr",
     "output_type": "stream",
     "text": []
    },
    {
     "name": "stdout",
     "output_type": "stream",
     "text": [
      "\n",
      "torch.Size([1, 1, 32, 32])\n",
      "torch.Size([1, 1, 30, 45])\n",
      "torch.Size([1, 1, 32, 32])\n"
     ]
    },
    {
     "name": "stderr",
     "output_type": "stream",
     "text": []
    },
    {
     "name": "stdout",
     "output_type": "stream",
     "text": [
      "torch.Size([1, 1, 30, 45])\n",
      "torch.Size([1, 1, 32, 32])\n"
     ]
    },
    {
     "name": "stderr",
     "output_type": "stream",
     "text": []
    },
    {
     "name": "stdout",
     "output_type": "stream",
     "text": [
      "torch.Size([1, 1, 30, 45])\n",
      "torch.Size([1, 1, 32, 32])\n"
     ]
    },
    {
     "name": "stderr",
     "output_type": "stream",
     "text": []
    },
    {
     "name": "stdout",
     "output_type": "stream",
     "text": [
      "torch.Size([1, 1, 30, 45])\n",
      "torch.Size([1, 1, 32, 32])\n",
      "torch.Size([1, 1, 30, 45])"
     ]
    },
    {
     "name": "stderr",
     "output_type": "stream",
     "text": []
    },
    {
     "name": "stdout",
     "output_type": "stream",
     "text": [
      "\n",
      "torch.Size([1, 1, 32, 32])\n",
      "torch.Size([1, 1, 30, 45])\n",
      "torch.Size([1, 1, 32, 32])\n"
     ]
    },
    {
     "name": "stderr",
     "output_type": "stream",
     "text": []
    },
    {
     "name": "stdout",
     "output_type": "stream",
     "text": [
      "torch.Size([1, 1, 30, 45])\n",
      "torch.Size([1, 1, 32, 32])\n",
      "torch.Size([1, 1, 30, 45])"
     ]
    },
    {
     "name": "stderr",
     "output_type": "stream",
     "text": []
    },
    {
     "name": "stdout",
     "output_type": "stream",
     "text": [
      "\n",
      "torch.Size([1, 1, 32, 32])\n"
     ]
    },
    {
     "name": "stderr",
     "output_type": "stream",
     "text": []
    },
    {
     "name": "stdout",
     "output_type": "stream",
     "text": [
      "torch.Size([1, 1, 30, 45])\n",
      "torch.Size([1, 1, 32, 32])\n",
      "torch.Size([1, 1, 30, 45])\n",
      "torch.Size([1, 1, 32, 32])\n"
     ]
    },
    {
     "name": "stderr",
     "output_type": "stream",
     "text": []
    },
    {
     "name": "stdout",
     "output_type": "stream",
     "text": [
      "torch.Size([1, 1, 30, 45])\n",
      "torch.Size([1, 1, 32, 32])\n"
     ]
    },
    {
     "name": "stderr",
     "output_type": "stream",
     "text": []
    },
    {
     "name": "stdout",
     "output_type": "stream",
     "text": [
      "torch.Size([1, 1, 30, 45])\n",
      "torch.Size([1, 1, 32, 32])\n",
      "torch.Size([1, 1, 30, 45])\n",
      "torch.Size([1, 1, 32, 32])\n"
     ]
    },
    {
     "name": "stderr",
     "output_type": "stream",
     "text": []
    },
    {
     "name": "stdout",
     "output_type": "stream",
     "text": [
      "torch.Size([1, 1, 30, 45])\n",
      "torch.Size([1, 1, 32, 32])\n",
      "torch.Size([1, 1, 30, 45])\n",
      "torch.Size([1, 1, 32, 32])\n"
     ]
    },
    {
     "name": "stderr",
     "output_type": "stream",
     "text": []
    },
    {
     "name": "stdout",
     "output_type": "stream",
     "text": [
      "torch.Size([1, 1, 30, 45])\n",
      "torch.Size([1, 1, 32, 32])\n",
      "torch.Size([1, 1, 30, 45])\n",
      "torch.Size([1, 1, 32, 32])\n"
     ]
    },
    {
     "name": "stderr",
     "output_type": "stream",
     "text": []
    },
    {
     "name": "stdout",
     "output_type": "stream",
     "text": [
      "torch.Size([1, 1, 30, 45])\n",
      "torch.Size([1, 1, 32, 32])\n",
      "torch.Size([1, 1, 30, 45])\n",
      "torch.Size([1, 1, 32, 32])\n"
     ]
    },
    {
     "name": "stderr",
     "output_type": "stream",
     "text": []
    },
    {
     "name": "stdout",
     "output_type": "stream",
     "text": [
      "torch.Size([1, 1, 30, 45])\n",
      "torch.Size([1, 1, 32, 32])\n",
      "torch.Size([1, 1, 30, 45])\n",
      "torch.Size([1, 1, 32, 32])\n"
     ]
    },
    {
     "name": "stderr",
     "output_type": "stream",
     "text": []
    },
    {
     "name": "stdout",
     "output_type": "stream",
     "text": [
      "torch.Size([1, 1, 30, 45])\n",
      "torch.Size([1, 1, 32, 32])\n",
      "torch.Size([1, 1, 30, 45])\n",
      "torch.Size([1, 1, 32, 32])\n"
     ]
    },
    {
     "name": "stderr",
     "output_type": "stream",
     "text": []
    },
    {
     "name": "stdout",
     "output_type": "stream",
     "text": [
      "torch.Size([1, 1, 30, 45])\n",
      "torch.Size([1, 1, 32, 32])\n"
     ]
    },
    {
     "name": "stderr",
     "output_type": "stream",
     "text": []
    },
    {
     "name": "stdout",
     "output_type": "stream",
     "text": [
      "torch.Size([1, 1, 30, 45])\n",
      "torch.Size([1, 1, 32, 32])\n",
      "torch.Size([1, 1, 30, 45])\n",
      "torch.Size([1, 1, 32, 32])\n"
     ]
    },
    {
     "name": "stderr",
     "output_type": "stream",
     "text": []
    },
    {
     "name": "stdout",
     "output_type": "stream",
     "text": [
      "torch.Size([1, 1, 30, 45])\n",
      "torch.Size([1, 1, 32, 32])\n",
      "torch.Size([1, 1, 30, 45])\n",
      "torch.Size([1, 1, 32, 32])\n"
     ]
    },
    {
     "name": "stderr",
     "output_type": "stream",
     "text": []
    },
    {
     "name": "stdout",
     "output_type": "stream",
     "text": [
      "torch.Size([1, 1, 30, 45])\n",
      "torch.Size([1, 1, 32, 32])\n",
      "torch.Size([1, 1, 30, 45])\n",
      "torch.Size([1, 1, 32, 32])\n"
     ]
    },
    {
     "name": "stderr",
     "output_type": "stream",
     "text": []
    },
    {
     "name": "stdout",
     "output_type": "stream",
     "text": [
      "torch.Size([1, 1, 30, 45])\n",
      "torch.Size([1, 1, 32, 32])\n",
      "torch.Size([1, 1, 30, 45])\n",
      "torch.Size([1, 1, 32, 32])\n"
     ]
    },
    {
     "name": "stderr",
     "output_type": "stream",
     "text": []
    },
    {
     "name": "stdout",
     "output_type": "stream",
     "text": [
      "torch.Size([1, 1, 30, 45])\n",
      "torch.Size([1, 1, 32, 32])\n",
      "torch.Size([1, 1, 30, 45])\n",
      "torch.Size([1, 1, 32, 32])\n"
     ]
    },
    {
     "name": "stderr",
     "output_type": "stream",
     "text": []
    },
    {
     "name": "stdout",
     "output_type": "stream",
     "text": [
      "torch.Size([1, 1, 30, 45])\n",
      "torch.Size([1, 1, 32, 32])\n",
      "torch.Size([1, 1, 30, 45])"
     ]
    },
    {
     "name": "stderr",
     "output_type": "stream",
     "text": []
    },
    {
     "name": "stdout",
     "output_type": "stream",
     "text": [
      "\n",
      "torch.Size([1, 1, 32, 32])\n",
      "torch.Size([1, 1, 30, 45])\n",
      "torch.Size([1, 1, 32, 32])\n"
     ]
    },
    {
     "name": "stderr",
     "output_type": "stream",
     "text": []
    },
    {
     "name": "stdout",
     "output_type": "stream",
     "text": [
      "torch.Size([1, 1, 30, 45])\n",
      "torch.Size([1, 1, 32, 32])\n"
     ]
    },
    {
     "name": "stderr",
     "output_type": "stream",
     "text": [
      "\n"
     ]
    },
    {
     "name": "stdout",
     "output_type": "stream",
     "text": [
      "torch.Size([1, 1, 30, 45])\n",
      "torch.Size([1, 1, 32, 32])\n"
     ]
    },
    {
     "name": "stderr",
     "output_type": "stream",
     "text": []
    },
    {
     "name": "stdout",
     "output_type": "stream",
     "text": [
      "torch.Size([1, 1, 30, 45])\n",
      "torch.Size([1, 1, 32, 32])\n",
      "torch.Size([1, 1, 30, 45])\n",
      "torch.Size([1, 1, 32, 32])\n"
     ]
    },
    {
     "name": "stderr",
     "output_type": "stream",
     "text": []
    },
    {
     "name": "stdout",
     "output_type": "stream",
     "text": [
      "torch.Size([1, 1, 30, 45])\n",
      "torch.Size([1, 1, 32, 32])\n",
      "torch.Size([1, 1, 30, 45])\n",
      "torch.Size([1, 1, 32, 32])\n"
     ]
    },
    {
     "name": "stderr",
     "output_type": "stream",
     "text": []
    },
    {
     "name": "stdout",
     "output_type": "stream",
     "text": [
      "torch.Size([1, 1, 30, 45])\n",
      "torch.Size([1, 1, 32, 32])\n"
     ]
    },
    {
     "name": "stderr",
     "output_type": "stream",
     "text": []
    },
    {
     "name": "stdout",
     "output_type": "stream",
     "text": [
      "torch.Size([1, 1, 30, 45])\n",
      "torch.Size([1, 1, 32, 32])\n",
      "torch.Size([1, 1, 30, 45])\n",
      "torch.Size([1, 1, 32, 32])\n"
     ]
    },
    {
     "name": "stderr",
     "output_type": "stream",
     "text": []
    },
    {
     "name": "stdout",
     "output_type": "stream",
     "text": [
      "torch.Size([1, 1, 30, 45])\n",
      "torch.Size([1, 1, 32, 32])\n",
      "torch.Size([1, 1, 30, 45])\n",
      "torch.Size([1, 1, 32, 32])\n"
     ]
    },
    {
     "name": "stderr",
     "output_type": "stream",
     "text": []
    },
    {
     "name": "stdout",
     "output_type": "stream",
     "text": [
      "torch.Size([1, 1, 30, 45])\n",
      "torch.Size([1, 1, 32, 32])\n",
      "torch.Size([1, 1, 30, 45])\n",
      "torch.Size([1, 1, 32, 32])\n"
     ]
    },
    {
     "name": "stderr",
     "output_type": "stream",
     "text": [
      "\n"
     ]
    },
    {
     "name": "stdout",
     "output_type": "stream",
     "text": [
      "torch.Size([1, 1, 30, 45])\n",
      "torch.Size([1, 1, 32, 32])\n",
      "torch.Size([1, 1, 30, 45])\n",
      "torch.Size([1, 1, 32, 32])\n"
     ]
    },
    {
     "name": "stderr",
     "output_type": "stream",
     "text": []
    },
    {
     "name": "stdout",
     "output_type": "stream",
     "text": [
      "torch.Size([1, 1, 30, 45])\n",
      "torch.Size([1, 1, 32, 32])\n",
      "torch.Size([1, 1, 30, 45])\n",
      "torch.Size([1, 1, 32, 32])\n"
     ]
    },
    {
     "name": "stderr",
     "output_type": "stream",
     "text": []
    },
    {
     "name": "stdout",
     "output_type": "stream",
     "text": [
      "torch.Size([1, 1, 30, 45])\n",
      "torch.Size([1, 1, 32, 32])\n",
      "torch.Size([1, 1, 30, 45])\n",
      "torch.Size([1, 1, 32, 32])\n"
     ]
    },
    {
     "name": "stderr",
     "output_type": "stream",
     "text": []
    },
    {
     "name": "stdout",
     "output_type": "stream",
     "text": [
      "torch.Size([1, 1, 30, 45])\n",
      "torch.Size([1, 1, 32, 32])\n",
      "torch.Size([1, 1, 30, 45])\n",
      "torch.Size([1, 1, 32, 32])\n"
     ]
    },
    {
     "name": "stderr",
     "output_type": "stream",
     "text": []
    },
    {
     "name": "stdout",
     "output_type": "stream",
     "text": [
      "torch.Size([1, 1, 30, 45])\n",
      "torch.Size([1, 1, 32, 32])\n",
      "torch.Size([1, 1, 30, 45])\n",
      "torch.Size([1, 1, 32, 32])\n"
     ]
    },
    {
     "name": "stderr",
     "output_type": "stream",
     "text": []
    },
    {
     "name": "stdout",
     "output_type": "stream",
     "text": [
      "torch.Size([1, 1, 30, 45])\n",
      "torch.Size([1, 1, 32, 32])\n",
      "torch.Size([1, 1, 30, 45])\n",
      "torch.Size([1, 1, 32, 32])\n"
     ]
    },
    {
     "name": "stderr",
     "output_type": "stream",
     "text": []
    },
    {
     "name": "stdout",
     "output_type": "stream",
     "text": [
      "torch.Size([1, 1, 30, 45])\n",
      "torch.Size([1, 1, 32, 32])\n",
      "torch.Size([1, 1, 30, 45])\n",
      "torch.Size([1, 1, 32, 32])\n"
     ]
    },
    {
     "name": "stderr",
     "output_type": "stream",
     "text": []
    },
    {
     "name": "stdout",
     "output_type": "stream",
     "text": [
      "torch.Size([1, 1, 30, 45])\n",
      "torch.Size([1, 1, 32, 32])\n"
     ]
    },
    {
     "name": "stderr",
     "output_type": "stream",
     "text": []
    },
    {
     "name": "stdout",
     "output_type": "stream",
     "text": [
      "torch.Size([1, 1, 30, 45])\n",
      "torch.Size([1, 1, 32, 32])\n",
      "torch.Size([1, 1, 30, 45])\n",
      "torch.Size([1, 1, 32, 32])\n"
     ]
    },
    {
     "name": "stderr",
     "output_type": "stream",
     "text": []
    },
    {
     "name": "stdout",
     "output_type": "stream",
     "text": [
      "torch.Size([1, 1, 30, 45])\n",
      "torch.Size([1, 1, 32, 32])\n",
      "torch.Size([1, 1, 30, 45])\n",
      "torch.Size([1, 1, 32, 32])\n"
     ]
    },
    {
     "name": "stderr",
     "output_type": "stream",
     "text": []
    },
    {
     "name": "stdout",
     "output_type": "stream",
     "text": [
      "torch.Size([1, 1, 30, 45])\n",
      "torch.Size([1, 1, 32, 32])\n",
      "torch.Size([1, 1, 30, 45])\n",
      "torch.Size([1, 1, 32, 32])\n"
     ]
    },
    {
     "name": "stderr",
     "output_type": "stream",
     "text": []
    },
    {
     "name": "stdout",
     "output_type": "stream",
     "text": [
      "torch.Size([1, 1, 30, 45])\n",
      "torch.Size([1, 1, 32, 32])\n",
      "torch.Size([1, 1, 30, 45])\n",
      "torch.Size([1, 1, 32, 32])\n"
     ]
    },
    {
     "name": "stderr",
     "output_type": "stream",
     "text": []
    },
    {
     "name": "stdout",
     "output_type": "stream",
     "text": [
      "torch.Size([1, 1, 30, 45])\n",
      "torch.Size([1, 1, 32, 32])\n"
     ]
    },
    {
     "name": "stderr",
     "output_type": "stream",
     "text": []
    },
    {
     "name": "stdout",
     "output_type": "stream",
     "text": [
      "torch.Size([1, 1, 30, 45])\n",
      "torch.Size([1, 1, 32, 32])\n"
     ]
    },
    {
     "name": "stderr",
     "output_type": "stream",
     "text": []
    },
    {
     "name": "stdout",
     "output_type": "stream",
     "text": [
      "torch.Size([1, 1, 30, 45])\n",
      "torch.Size([1, 1, 32, 32])\n",
      "torch.Size([1, 1, 30, 45])"
     ]
    },
    {
     "name": "stderr",
     "output_type": "stream",
     "text": []
    },
    {
     "name": "stdout",
     "output_type": "stream",
     "text": [
      "\n",
      "torch.Size([1, 1, 32, 32])\n",
      "torch.Size([1, 1, 30, 45])"
     ]
    },
    {
     "name": "stderr",
     "output_type": "stream",
     "text": []
    },
    {
     "name": "stdout",
     "output_type": "stream",
     "text": [
      "\n",
      "torch.Size([1, 1, 32, 32])\n"
     ]
    },
    {
     "name": "stderr",
     "output_type": "stream",
     "text": []
    },
    {
     "name": "stdout",
     "output_type": "stream",
     "text": [
      "torch.Size([1, 1, 30, 45])\n",
      "torch.Size([1, 1, 32, 32])\n",
      "torch.Size([1, 1, 30, 45])"
     ]
    },
    {
     "name": "stderr",
     "output_type": "stream",
     "text": []
    },
    {
     "name": "stdout",
     "output_type": "stream",
     "text": [
      "\n",
      "torch.Size([1, 1, 32, 32])\n",
      "torch.Size([1, 1, 30, 45])\n",
      "torch.Size([1, 1, 32, 32])\n"
     ]
    },
    {
     "name": "stderr",
     "output_type": "stream",
     "text": []
    },
    {
     "name": "stdout",
     "output_type": "stream",
     "text": [
      "torch.Size([1, 1, 30, 45])\n",
      "torch.Size([1, 1, 32, 32])\n"
     ]
    },
    {
     "name": "stderr",
     "output_type": "stream",
     "text": []
    },
    {
     "name": "stdout",
     "output_type": "stream",
     "text": [
      "torch.Size([1, 1, 30, 45])\n",
      "torch.Size([1, 1, 32, 32])\n",
      "torch.Size([1, 1, 30, 45])\n",
      "torch.Size([1, 1, 32, 32])\n"
     ]
    },
    {
     "name": "stderr",
     "output_type": "stream",
     "text": []
    },
    {
     "name": "stdout",
     "output_type": "stream",
     "text": [
      "torch.Size([1, 1, 30, 45])\n",
      "torch.Size([1, 1, 32, 32])\n",
      "torch.Size([1, 1, 30, 45])\n",
      "torch.Size([1, 1, 32, 32])\n"
     ]
    },
    {
     "name": "stderr",
     "output_type": "stream",
     "text": []
    },
    {
     "name": "stdout",
     "output_type": "stream",
     "text": [
      "torch.Size([1, 1, 30, 45])\n",
      "torch.Size([1, 1, 32, 32])\n",
      "torch.Size([1, 1, 30, 45])\n",
      "torch.Size([1, 1, 32, 32])\n"
     ]
    },
    {
     "name": "stderr",
     "output_type": "stream",
     "text": []
    },
    {
     "name": "stdout",
     "output_type": "stream",
     "text": [
      "torch.Size([1, 1, 30, 45])\n",
      "torch.Size([1, 1, 32, 32])\n",
      "torch.Size([1, 1, 30, 45])\n",
      "torch.Size([1, 1, 32, 32])\n"
     ]
    },
    {
     "name": "stderr",
     "output_type": "stream",
     "text": []
    },
    {
     "name": "stdout",
     "output_type": "stream",
     "text": [
      "torch.Size([1, 1, 30, 45])\n",
      "torch.Size([1, 1, 32, 32])\n",
      "torch.Size([1, 1, 30, 45])\n",
      "torch.Size([1, 1, 32, 32])\n"
     ]
    },
    {
     "name": "stderr",
     "output_type": "stream",
     "text": []
    },
    {
     "name": "stdout",
     "output_type": "stream",
     "text": [
      "torch.Size([1, 1, 30, 45])\n",
      "torch.Size([1, 1, 32, 32])\n"
     ]
    },
    {
     "name": "stderr",
     "output_type": "stream",
     "text": []
    },
    {
     "name": "stdout",
     "output_type": "stream",
     "text": [
      "torch.Size([1, 1, 30, 45])\n",
      "torch.Size([1, 1, 32, 32])\n",
      "torch.Size([1, 1, 30, 45])\n",
      "torch.Size([1, 1, 32, 32])\n"
     ]
    },
    {
     "name": "stderr",
     "output_type": "stream",
     "text": []
    },
    {
     "name": "stdout",
     "output_type": "stream",
     "text": [
      "torch.Size([1, 1, 30, 45])\n",
      "torch.Size([1, 1, 32, 32])\n"
     ]
    },
    {
     "name": "stderr",
     "output_type": "stream",
     "text": []
    },
    {
     "name": "stdout",
     "output_type": "stream",
     "text": [
      "torch.Size([1, 1, 30, 45])\n",
      "torch.Size([1, 1, 32, 32])\n",
      "torch.Size([1, 1, 30, 45])\n",
      "torch.Size([1, 1, 32, 32])\n"
     ]
    },
    {
     "name": "stderr",
     "output_type": "stream",
     "text": []
    },
    {
     "name": "stdout",
     "output_type": "stream",
     "text": [
      "torch.Size([1, 1, 30, 45])\n",
      "torch.Size([1, 1, 32, 32])\n",
      "torch.Size([1, 1, 30, 45])\n",
      "torch.Size([1, 1, 32, 32])\n"
     ]
    },
    {
     "name": "stderr",
     "output_type": "stream",
     "text": []
    },
    {
     "name": "stdout",
     "output_type": "stream",
     "text": [
      "torch.Size([1, 1, 30, 45])\n",
      "torch.Size([1, 1, 32, 32])\n",
      "torch.Size([1, 1, 30, 45])"
     ]
    },
    {
     "name": "stderr",
     "output_type": "stream",
     "text": []
    },
    {
     "name": "stdout",
     "output_type": "stream",
     "text": [
      "\n",
      "torch.Size([1, 1, 32, 32])\n",
      "torch.Size([1, 1, 30, 45])\n",
      "torch.Size([1, 1, 32, 32])\n"
     ]
    },
    {
     "name": "stderr",
     "output_type": "stream",
     "text": []
    },
    {
     "name": "stdout",
     "output_type": "stream",
     "text": [
      "torch.Size([1, 1, 30, 45])\n",
      "torch.Size([1, 1, 32, 32])\n",
      "torch.Size([1, 1, 30, 45])\n",
      "torch.Size([1, 1, 32, 32])\n"
     ]
    },
    {
     "name": "stderr",
     "output_type": "stream",
     "text": []
    },
    {
     "name": "stdout",
     "output_type": "stream",
     "text": [
      "torch.Size([1, 1, 30, 45])\n",
      "torch.Size([1, 1, 32, 32])\n",
      "torch.Size([1, 1, 30, 45])\n",
      "torch.Size([1, 1, 32, 32])\n"
     ]
    },
    {
     "name": "stderr",
     "output_type": "stream",
     "text": []
    },
    {
     "name": "stdout",
     "output_type": "stream",
     "text": [
      "torch.Size([1, 1, 30, 45])\n",
      "torch.Size([1, 1, 32, 32])\n",
      "torch.Size([1, 1, 30, 45])\n",
      "torch.Size([1, 1, 32, 32])\n"
     ]
    },
    {
     "name": "stderr",
     "output_type": "stream",
     "text": []
    },
    {
     "name": "stdout",
     "output_type": "stream",
     "text": [
      "torch.Size([1, 1, 30, 45])\n",
      "torch.Size([1, 1, 32, 32])\n",
      "torch.Size([1, 1, 30, 45])\n",
      "torch.Size([1, 1, 32, 32])\n"
     ]
    },
    {
     "name": "stderr",
     "output_type": "stream",
     "text": []
    },
    {
     "name": "stdout",
     "output_type": "stream",
     "text": [
      "torch.Size([1, 1, 30, 45])\n",
      "torch.Size([1, 1, 32, 32])\n",
      "torch.Size([1, 1, 30, 45])\n",
      "torch.Size([1, 1, 32, 32])\n"
     ]
    },
    {
     "name": "stderr",
     "output_type": "stream",
     "text": []
    },
    {
     "name": "stdout",
     "output_type": "stream",
     "text": [
      "torch.Size([1, 1, 30, 45])\n",
      "torch.Size([1, 1, 32, 32])\n",
      "torch.Size([1, 1, 30, 45])\n",
      "torch.Size([1, 1, 32, 32])\n"
     ]
    },
    {
     "name": "stderr",
     "output_type": "stream",
     "text": []
    },
    {
     "name": "stdout",
     "output_type": "stream",
     "text": [
      "torch.Size([1, 1, 30, 45])\n",
      "torch.Size([1, 1, 32, 32])\n",
      "torch.Size([1, 1, 30, 45])\n",
      "torch.Size([1, 1, 32, 32])\n"
     ]
    },
    {
     "name": "stderr",
     "output_type": "stream",
     "text": []
    },
    {
     "name": "stdout",
     "output_type": "stream",
     "text": [
      "torch.Size([1, 1, 30, 45])\n",
      "torch.Size([1, 1, 32, 32])\n",
      "torch.Size([1, 1, 30, 45])\n",
      "torch.Size([1, 1, 32, 32])\n"
     ]
    },
    {
     "name": "stderr",
     "output_type": "stream",
     "text": []
    },
    {
     "name": "stdout",
     "output_type": "stream",
     "text": [
      "torch.Size([1, 1, 30, 45])\n",
      "torch.Size([1, 1, 32, 32])\n",
      "torch.Size([1, 1, 30, 45])\n",
      "torch.Size([1, 1, 32, 32])\n"
     ]
    },
    {
     "name": "stderr",
     "output_type": "stream",
     "text": []
    },
    {
     "name": "stdout",
     "output_type": "stream",
     "text": [
      "torch.Size([1, 1, 30, 45])\n",
      "torch.Size([1, 1, 32, 32])\n",
      "torch.Size([1, 1, 30, 45])\n",
      "torch.Size([1, 1, 32, 32])\n"
     ]
    },
    {
     "name": "stderr",
     "output_type": "stream",
     "text": []
    },
    {
     "name": "stdout",
     "output_type": "stream",
     "text": [
      "torch.Size([1, 1, 30, 45])\n",
      "torch.Size([1, 1, 32, 32])\n",
      "torch.Size([1, 1, 30, 45])\n",
      "torch.Size([1, 1, 32, 32])\n"
     ]
    },
    {
     "name": "stderr",
     "output_type": "stream",
     "text": []
    },
    {
     "name": "stdout",
     "output_type": "stream",
     "text": [
      "torch.Size([1, 1, 30, 45])\n",
      "torch.Size([1, 1, 32, 32])\n",
      "torch.Size([1, 1, 30, 45])\n",
      "torch.Size([1, 1, 32, 32])\n"
     ]
    },
    {
     "name": "stderr",
     "output_type": "stream",
     "text": []
    },
    {
     "name": "stdout",
     "output_type": "stream",
     "text": [
      "torch.Size([1, 1, 30, 45])\n",
      "torch.Size([1, 1, 32, 32])\n",
      "torch.Size([1, 1, 30, 45])\n",
      "torch.Size([1, 1, 32, 32])\n"
     ]
    },
    {
     "name": "stderr",
     "output_type": "stream",
     "text": []
    },
    {
     "name": "stdout",
     "output_type": "stream",
     "text": [
      "torch.Size([1, 1, 30, 45])\n",
      "torch.Size([1, 1, 32, 32])\n",
      "torch.Size([1, 1, 30, 45])\n",
      "torch.Size([1, 1, 32, 32])\n"
     ]
    },
    {
     "name": "stderr",
     "output_type": "stream",
     "text": []
    },
    {
     "name": "stdout",
     "output_type": "stream",
     "text": [
      "torch.Size([1, 1, 30, 45])\n",
      "torch.Size([1, 1, 32, 32])\n",
      "torch.Size([1, 1, 30, 45])\n",
      "torch.Size([1, 1, 32, 32])\n"
     ]
    },
    {
     "name": "stderr",
     "output_type": "stream",
     "text": []
    },
    {
     "name": "stdout",
     "output_type": "stream",
     "text": [
      "torch.Size([1, 1, 30, 45])\n",
      "torch.Size([1, 1, 32, 32])\n",
      "torch.Size([1, 1, 30, 45])\n",
      "torch.Size([1, 1, 32, 32])\n"
     ]
    },
    {
     "name": "stderr",
     "output_type": "stream",
     "text": []
    },
    {
     "name": "stdout",
     "output_type": "stream",
     "text": [
      "torch.Size([1, 1, 30, 45])\n",
      "torch.Size([1, 1, 32, 32])\n",
      "torch.Size([1, 1, 30, 45])\n",
      "torch.Size([1, 1, 32, 32])\n"
     ]
    },
    {
     "name": "stderr",
     "output_type": "stream",
     "text": []
    },
    {
     "name": "stdout",
     "output_type": "stream",
     "text": [
      "torch.Size([1, 1, 30, 45])\n",
      "torch.Size([1, 1, 32, 32])\n",
      "torch.Size([1, 1, 30, 45])\n",
      "torch.Size([1, 1, 32, 32])\n"
     ]
    },
    {
     "name": "stderr",
     "output_type": "stream",
     "text": []
    },
    {
     "name": "stdout",
     "output_type": "stream",
     "text": [
      "torch.Size([1, 1, 30, 45])\n",
      "torch.Size([1, 1, 32, 32])\n",
      "torch.Size([1, 1, 30, 45])\n",
      "torch.Size([1, 1, 32, 32])\n"
     ]
    },
    {
     "name": "stderr",
     "output_type": "stream",
     "text": []
    },
    {
     "name": "stdout",
     "output_type": "stream",
     "text": [
      "torch.Size([1, 1, 30, 45])\n",
      "torch.Size([1, 1, 32, 32])\n"
     ]
    },
    {
     "name": "stderr",
     "output_type": "stream",
     "text": []
    },
    {
     "name": "stdout",
     "output_type": "stream",
     "text": [
      "torch.Size([1, 1, 30, 45])\n",
      "torch.Size([1, 1, 32, 32])\n",
      "torch.Size([1, 1, 30, 45])\n",
      "torch.Size([1, 1, 32, 32])\n"
     ]
    },
    {
     "name": "stderr",
     "output_type": "stream",
     "text": []
    },
    {
     "name": "stdout",
     "output_type": "stream",
     "text": [
      "torch.Size([1, 1, 30, 45])\n",
      "torch.Size([1, 1, 32, 32])\n",
      "torch.Size([1, 1, 30, 45])\n",
      "torch.Size([1, 1, 32, 32])\n"
     ]
    },
    {
     "name": "stderr",
     "output_type": "stream",
     "text": []
    },
    {
     "name": "stdout",
     "output_type": "stream",
     "text": [
      "torch.Size([1, 1, 30, 45])\n",
      "torch.Size([1, 1, 32, 32])\n",
      "torch.Size([1, 1, 30, 45])\n",
      "torch.Size([1, 1, 32, 32])\n"
     ]
    },
    {
     "name": "stderr",
     "output_type": "stream",
     "text": []
    },
    {
     "name": "stdout",
     "output_type": "stream",
     "text": [
      "torch.Size([1, 1, 30, 45])\n",
      "torch.Size([1, 1, 32, 32])\n"
     ]
    },
    {
     "name": "stderr",
     "output_type": "stream",
     "text": []
    },
    {
     "name": "stdout",
     "output_type": "stream",
     "text": [
      "torch.Size([1, 1, 30, 45])\n",
      "torch.Size([1, 1, 32, 32])\n"
     ]
    },
    {
     "name": "stderr",
     "output_type": "stream",
     "text": []
    },
    {
     "name": "stdout",
     "output_type": "stream",
     "text": [
      "torch.Size([1, 1, 30, 45])\n",
      "torch.Size([1, 1, 32, 32])\n",
      "torch.Size([1, 1, 30, 45])\n",
      "torch.Size([1, 1, 32, 32])\n"
     ]
    },
    {
     "name": "stderr",
     "output_type": "stream",
     "text": []
    },
    {
     "name": "stdout",
     "output_type": "stream",
     "text": [
      "torch.Size([1, 1, 30, 45])\n",
      "torch.Size([1, 1, 32, 32])\n",
      "torch.Size([1, 1, 30, 45])"
     ]
    },
    {
     "name": "stderr",
     "output_type": "stream",
     "text": [
      "\n"
     ]
    },
    {
     "name": "stdout",
     "output_type": "stream",
     "text": [
      "\n",
      "torch.Size([1, 1, 32, 32])\n"
     ]
    },
    {
     "name": "stderr",
     "output_type": "stream",
     "text": []
    },
    {
     "name": "stdout",
     "output_type": "stream",
     "text": [
      "torch.Size([1, 1, 30, 45])\n",
      "torch.Size([1, 1, 32, 32])\n",
      "torch.Size([1, 1, 30, 45])\n",
      "torch.Size([1, 1, 32, 32])\n"
     ]
    },
    {
     "name": "stderr",
     "output_type": "stream",
     "text": [
      "\n"
     ]
    },
    {
     "name": "stdout",
     "output_type": "stream",
     "text": [
      "torch.Size([1, 1, 30, 45])\n",
      "torch.Size([1, 1, 32, 32])\n"
     ]
    },
    {
     "name": "stderr",
     "output_type": "stream",
     "text": []
    },
    {
     "name": "stdout",
     "output_type": "stream",
     "text": [
      "torch.Size([1, 1, 30, 45])\n",
      "torch.Size([1, 1, 32, 32])\n",
      "torch.Size([1, 1, 30, 45])\n",
      "torch.Size([1, 1, 32, 32])\n"
     ]
    },
    {
     "name": "stderr",
     "output_type": "stream",
     "text": []
    },
    {
     "name": "stdout",
     "output_type": "stream",
     "text": [
      "torch.Size([1, 1, 30, 45])\n",
      "torch.Size([1, 1, 32, 32])\n",
      "torch.Size([1, 1, 30, 45])\n",
      "torch.Size([1, 1, 32, 32])\n"
     ]
    },
    {
     "name": "stderr",
     "output_type": "stream",
     "text": []
    },
    {
     "name": "stdout",
     "output_type": "stream",
     "text": [
      "torch.Size([1, 1, 30, 45])\n",
      "torch.Size([1, 1, 32, 32])\n",
      "torch.Size([1, 1, 30, 45])\n",
      "torch.Size([1, 1, 32, 32])\n"
     ]
    },
    {
     "name": "stderr",
     "output_type": "stream",
     "text": []
    },
    {
     "name": "stdout",
     "output_type": "stream",
     "text": [
      "torch.Size([1, 1, 30, 45])\n",
      "torch.Size([1, 1, 32, 32])\n",
      "torch.Size([1, 1, 30, 45])\n",
      "torch.Size([1, 1, 32, 32])\n"
     ]
    },
    {
     "name": "stderr",
     "output_type": "stream",
     "text": []
    },
    {
     "name": "stdout",
     "output_type": "stream",
     "text": [
      "torch.Size([1, 1, 30, 45])\n",
      "torch.Size([1, 1, 32, 32])\n",
      "torch.Size([1, 1, 30, 45])\n",
      "torch.Size([1, 1, 32, 32])\n"
     ]
    },
    {
     "name": "stderr",
     "output_type": "stream",
     "text": []
    },
    {
     "name": "stdout",
     "output_type": "stream",
     "text": [
      "torch.Size([1, 1, 30, 45])\n",
      "torch.Size([1, 1, 32, 32])\n"
     ]
    },
    {
     "name": "stderr",
     "output_type": "stream",
     "text": []
    },
    {
     "name": "stdout",
     "output_type": "stream",
     "text": [
      "torch.Size([1, 1, 30, 45])\n",
      "torch.Size([1, 1, 32, 32])\n"
     ]
    },
    {
     "name": "stderr",
     "output_type": "stream",
     "text": []
    },
    {
     "name": "stdout",
     "output_type": "stream",
     "text": [
      "torch.Size([1, 1, 30, 45])\n",
      "torch.Size([1, 1, 32, 32])\n"
     ]
    },
    {
     "name": "stderr",
     "output_type": "stream",
     "text": []
    },
    {
     "name": "stdout",
     "output_type": "stream",
     "text": [
      "torch.Size([1, 1, 30, 45])\n",
      "torch.Size([1, 1, 32, 32])\n",
      "torch.Size([1, 1, 30, 45])"
     ]
    },
    {
     "name": "stderr",
     "output_type": "stream",
     "text": []
    },
    {
     "name": "stdout",
     "output_type": "stream",
     "text": [
      "\n",
      "torch.Size([1, 1, 32, 32])\n",
      "torch.Size([1, 1, 30, 45])\n",
      "torch.Size([1, 1, 32, 32])\n"
     ]
    },
    {
     "name": "stderr",
     "output_type": "stream",
     "text": []
    },
    {
     "name": "stdout",
     "output_type": "stream",
     "text": [
      "torch.Size([1, 1, 30, 45])\n",
      "torch.Size([1, 1, 32, 32])\n",
      "torch.Size([1, 1, 30, 45])\n",
      "torch.Size([1, 1, 32, 32])\n"
     ]
    },
    {
     "name": "stderr",
     "output_type": "stream",
     "text": []
    },
    {
     "name": "stdout",
     "output_type": "stream",
     "text": [
      "torch.Size([1, 1, 30, 45])\n",
      "torch.Size([1, 1, 32, 32])\n",
      "torch.Size([1, 1, 30, 45])\n",
      "torch.Size([1, 1, 32, 32])\n"
     ]
    },
    {
     "name": "stderr",
     "output_type": "stream",
     "text": []
    },
    {
     "name": "stdout",
     "output_type": "stream",
     "text": [
      "torch.Size([1, 1, 30, 45])\n",
      "torch.Size([1, 1, 32, 32])\n",
      "torch.Size([1, 1, 30, 45])\n",
      "torch.Size([1, 1, 32, 32])\n"
     ]
    },
    {
     "name": "stderr",
     "output_type": "stream",
     "text": []
    },
    {
     "name": "stdout",
     "output_type": "stream",
     "text": [
      "torch.Size([1, 1, 30, 45])\n",
      "torch.Size([1, 1, 32, 32])\n"
     ]
    },
    {
     "name": "stderr",
     "output_type": "stream",
     "text": []
    },
    {
     "name": "stdout",
     "output_type": "stream",
     "text": [
      "torch.Size([1, 1, 30, 45])\n",
      "torch.Size([1, 1, 32, 32])\n"
     ]
    },
    {
     "name": "stderr",
     "output_type": "stream",
     "text": []
    },
    {
     "name": "stdout",
     "output_type": "stream",
     "text": [
      "torch.Size([1, 1, 30, 45])\n",
      "torch.Size([1, 1, 32, 32])\n",
      "torch.Size([1, 1, 30, 45])\n",
      "torch.Size([1, 1, 32, 32])\n"
     ]
    },
    {
     "name": "stderr",
     "output_type": "stream",
     "text": []
    },
    {
     "name": "stdout",
     "output_type": "stream",
     "text": [
      "torch.Size([1, 1, 30, 45])\n",
      "torch.Size([1, 1, 32, 32])\n",
      "torch.Size([1, 1, 30, 45])\n",
      "torch.Size([1, 1, 32, 32])\n"
     ]
    },
    {
     "name": "stderr",
     "output_type": "stream",
     "text": []
    },
    {
     "name": "stdout",
     "output_type": "stream",
     "text": [
      "torch.Size([1, 1, 30, 45])\n",
      "torch.Size([1, 1, 32, 32])\n",
      "torch.Size([1, 1, 30, 45])\n",
      "torch.Size([1, 1, 32, 32])\n"
     ]
    },
    {
     "name": "stderr",
     "output_type": "stream",
     "text": []
    },
    {
     "name": "stdout",
     "output_type": "stream",
     "text": [
      "torch.Size([1, 1, 30, 45])\n",
      "torch.Size([1, 1, 32, 32])\n",
      "torch.Size([1, 1, 30, 45])\n",
      "torch.Size([1, 1, 32, 32])\n"
     ]
    },
    {
     "name": "stderr",
     "output_type": "stream",
     "text": []
    },
    {
     "name": "stdout",
     "output_type": "stream",
     "text": [
      "torch.Size([1, 1, 30, 45])\n",
      "torch.Size([1, 1, 32, 32])\n",
      "torch.Size([1, 1, 30, 45])"
     ]
    },
    {
     "name": "stderr",
     "output_type": "stream",
     "text": []
    },
    {
     "name": "stdout",
     "output_type": "stream",
     "text": [
      "\n",
      "torch.Size([1, 1, 32, 32])\n",
      "torch.Size([1, 1, 30, 45])\n",
      "torch.Size([1, 1, 32, 32])\n"
     ]
    },
    {
     "name": "stderr",
     "output_type": "stream",
     "text": []
    },
    {
     "name": "stdout",
     "output_type": "stream",
     "text": [
      "torch.Size([1, 1, 30, 45])\n",
      "torch.Size([1, 1, 32, 32])\n"
     ]
    },
    {
     "name": "stderr",
     "output_type": "stream",
     "text": []
    },
    {
     "name": "stdout",
     "output_type": "stream",
     "text": [
      "torch.Size([1, 1, 30, 45])\n",
      "torch.Size([1, 1, 32, 32])\n",
      "torch.Size([1, 1, 30, 45])\n",
      "torch.Size([1, 1, 32, 32])\n"
     ]
    },
    {
     "name": "stderr",
     "output_type": "stream",
     "text": []
    },
    {
     "name": "stdout",
     "output_type": "stream",
     "text": [
      "torch.Size([1, 1, 30, 45])\n",
      "torch.Size([1, 1, 32, 32])\n",
      "torch.Size([1, 1, 30, 45])\n",
      "torch.Size([1, 1, 32, 32])\n"
     ]
    },
    {
     "name": "stderr",
     "output_type": "stream",
     "text": []
    },
    {
     "name": "stdout",
     "output_type": "stream",
     "text": [
      "torch.Size([1, 1, 30, 45])\n",
      "torch.Size([1, 1, 32, 32])\n",
      "torch.Size([1, 1, 30, 45])\n",
      "torch.Size([1, 1, 32, 32])\n"
     ]
    },
    {
     "name": "stderr",
     "output_type": "stream",
     "text": []
    },
    {
     "name": "stdout",
     "output_type": "stream",
     "text": [
      "torch.Size([1, 1, 30, 45])\n",
      "torch.Size([1, 1, 32, 32])\n",
      "torch.Size([1, 1, 30, 45])\n",
      "torch.Size([1, 1, 32, 32])\n"
     ]
    },
    {
     "name": "stderr",
     "output_type": "stream",
     "text": []
    },
    {
     "name": "stdout",
     "output_type": "stream",
     "text": [
      "torch.Size([1, 1, 30, 45])\n",
      "torch.Size([1, 1, 32, 32])\n",
      "torch.Size([1, 1, 30, 45])\n",
      "torch.Size([1, 1, 32, 32])\n"
     ]
    },
    {
     "name": "stderr",
     "output_type": "stream",
     "text": []
    },
    {
     "name": "stdout",
     "output_type": "stream",
     "text": [
      "torch.Size([1, 1, 30, 45])\n",
      "torch.Size([1, 1, 32, 32])\n",
      "torch.Size([1, 1, 30, 45])\n",
      "torch.Size([1, 1, 32, 32])\n"
     ]
    },
    {
     "name": "stderr",
     "output_type": "stream",
     "text": []
    },
    {
     "name": "stdout",
     "output_type": "stream",
     "text": [
      "torch.Size([1, 1, 30, 45])\n",
      "torch.Size([1, 1, 32, 32])\n",
      "torch.Size([1, 1, 30, 45])\n",
      "torch.Size([1, 1, 32, 32])\n"
     ]
    },
    {
     "name": "stderr",
     "output_type": "stream",
     "text": []
    },
    {
     "name": "stdout",
     "output_type": "stream",
     "text": [
      "torch.Size([1, 1, 30, 45])\n",
      "torch.Size([1, 1, 32, 32])\n"
     ]
    },
    {
     "name": "stderr",
     "output_type": "stream",
     "text": []
    },
    {
     "name": "stdout",
     "output_type": "stream",
     "text": [
      "torch.Size([1, 1, 30, 45])\n",
      "torch.Size([1, 1, 32, 32])\n",
      "torch.Size([1, 1, 30, 45])\n",
      "torch.Size([1, 1, 32, 32])\n"
     ]
    },
    {
     "name": "stderr",
     "output_type": "stream",
     "text": []
    },
    {
     "name": "stdout",
     "output_type": "stream",
     "text": [
      "torch.Size([1, 1, 30, 45])\n",
      "torch.Size([1, 1, 32, 32])\n",
      "torch.Size([1, 1, 30, 45])\n",
      "torch.Size([1, 1, 32, 32])\n"
     ]
    },
    {
     "name": "stderr",
     "output_type": "stream",
     "text": []
    },
    {
     "name": "stdout",
     "output_type": "stream",
     "text": [
      "torch.Size([1, 1, 30, 45])\n",
      "torch.Size([1, 1, 32, 32])\n"
     ]
    },
    {
     "name": "stderr",
     "output_type": "stream",
     "text": []
    },
    {
     "name": "stdout",
     "output_type": "stream",
     "text": [
      "torch.Size([1, 1, 30, 45])\n",
      "torch.Size([1, 1, 32, 32])\n"
     ]
    },
    {
     "name": "stderr",
     "output_type": "stream",
     "text": []
    },
    {
     "name": "stdout",
     "output_type": "stream",
     "text": [
      "torch.Size([1, 1, 30, 45])\n",
      "torch.Size([1, 1, 32, 32])\n",
      "torch.Size([1, 1, 30, 45])"
     ]
    },
    {
     "name": "stderr",
     "output_type": "stream",
     "text": []
    },
    {
     "name": "stdout",
     "output_type": "stream",
     "text": [
      "\n",
      "torch.Size([1, 1, 32, 32])\n",
      "torch.Size([1, 1, 30, 45])\n",
      "torch.Size([1, 1, 32, 32])\n"
     ]
    },
    {
     "name": "stderr",
     "output_type": "stream",
     "text": []
    },
    {
     "name": "stdout",
     "output_type": "stream",
     "text": [
      "torch.Size([1, 1, 30, 45])\n",
      "torch.Size([1, 1, 32, 32])\n",
      "torch.Size([1, 1, 30, 45])\n",
      "torch.Size([1, 1, 32, 32])\n"
     ]
    },
    {
     "name": "stderr",
     "output_type": "stream",
     "text": []
    },
    {
     "name": "stdout",
     "output_type": "stream",
     "text": [
      "torch.Size([1, 1, 30, 45])\n",
      "torch.Size([1, 1, 32, 32])\n",
      "torch.Size([1, 1, 30, 45])\n",
      "torch.Size([1, 1, 32, 32])\n"
     ]
    },
    {
     "name": "stderr",
     "output_type": "stream",
     "text": []
    },
    {
     "name": "stdout",
     "output_type": "stream",
     "text": [
      "torch.Size([1, 1, 30, 45])\n",
      "torch.Size([1, 1, 32, 32])\n",
      "torch.Size([1, 1, 30, 45])\n",
      "torch.Size([1, 1, 32, 32])\n"
     ]
    },
    {
     "name": "stderr",
     "output_type": "stream",
     "text": []
    },
    {
     "name": "stdout",
     "output_type": "stream",
     "text": [
      "torch.Size([1, 1, 30, 45])\n",
      "torch.Size([1, 1, 32, 32])\n",
      "torch.Size([1, 1, 30, 45])\n",
      "torch.Size([1, 1, 32, 32])\n"
     ]
    },
    {
     "name": "stderr",
     "output_type": "stream",
     "text": []
    },
    {
     "name": "stdout",
     "output_type": "stream",
     "text": [
      "torch.Size([1, 1, 30, 45])\n",
      "torch.Size([1, 1, 32, 32])\n"
     ]
    },
    {
     "name": "stderr",
     "output_type": "stream",
     "text": []
    },
    {
     "name": "stdout",
     "output_type": "stream",
     "text": [
      "torch.Size([1, 1, 30, 45])\n",
      "torch.Size([1, 1, 32, 32])\n",
      "torch.Size([1, 1, 30, 45])\n",
      "torch.Size([1, 1, 32, 32])\n"
     ]
    },
    {
     "name": "stderr",
     "output_type": "stream",
     "text": []
    },
    {
     "name": "stdout",
     "output_type": "stream",
     "text": [
      "torch.Size([1, 1, 30, 45])\n",
      "torch.Size([1, 1, 32, 32])\n",
      "torch.Size([1, 1, 30, 45])\n",
      "torch.Size([1, 1, 32, 32])\n"
     ]
    },
    {
     "name": "stderr",
     "output_type": "stream",
     "text": []
    },
    {
     "name": "stdout",
     "output_type": "stream",
     "text": [
      "torch.Size([1, 1, 30, 45])\n",
      "torch.Size([1, 1, 32, 32])\n",
      "torch.Size([1, 1, 30, 45])\n",
      "torch.Size([1, 1, 32, 32])\n"
     ]
    },
    {
     "name": "stderr",
     "output_type": "stream",
     "text": []
    },
    {
     "name": "stdout",
     "output_type": "stream",
     "text": [
      "torch.Size([1, 1, 30, 45])\n",
      "torch.Size([1, 1, 32, 32])\n",
      "torch.Size([1, 1, 30, 45])\n",
      "torch.Size([1, 1, 32, 32])\n"
     ]
    },
    {
     "name": "stderr",
     "output_type": "stream",
     "text": []
    },
    {
     "name": "stdout",
     "output_type": "stream",
     "text": [
      "torch.Size([1, 1, 30, 45])\n",
      "torch.Size([1, 1, 32, 32])\n",
      "torch.Size([1, 1, 30, 45])\n",
      "torch.Size([1, 1, 32, 32])\n"
     ]
    },
    {
     "name": "stderr",
     "output_type": "stream",
     "text": []
    },
    {
     "name": "stdout",
     "output_type": "stream",
     "text": [
      "torch.Size([1, 1, 30, 45])\n",
      "torch.Size([1, 1, 32, 32])\n",
      "torch.Size([1, 1, 30, 45])\n",
      "torch.Size([1, 1, 32, 32])\n"
     ]
    },
    {
     "name": "stderr",
     "output_type": "stream",
     "text": []
    },
    {
     "name": "stdout",
     "output_type": "stream",
     "text": [
      "torch.Size([1, 1, 30, 45])\n",
      "torch.Size([1, 1, 32, 32])\n",
      "torch.Size([1, 1, 30, 45])\n",
      "torch.Size([1, 1, 32, 32])\n"
     ]
    },
    {
     "name": "stderr",
     "output_type": "stream",
     "text": []
    },
    {
     "name": "stdout",
     "output_type": "stream",
     "text": [
      "torch.Size([1, 1, 30, 45])\n",
      "torch.Size([1, 1, 32, 32])\n",
      "torch.Size([1, 1, 30, 45])\n",
      "torch.Size([1, 1, 32, 32])\n"
     ]
    },
    {
     "name": "stderr",
     "output_type": "stream",
     "text": []
    },
    {
     "name": "stdout",
     "output_type": "stream",
     "text": [
      "torch.Size([1, 1, 30, 45])\n",
      "torch.Size([1, 1, 32, 32])\n"
     ]
    },
    {
     "name": "stderr",
     "output_type": "stream",
     "text": []
    },
    {
     "name": "stdout",
     "output_type": "stream",
     "text": [
      "torch.Size([1, 1, 30, 45])\n",
      "torch.Size([1, 1, 32, 32])\n"
     ]
    },
    {
     "name": "stderr",
     "output_type": "stream",
     "text": []
    },
    {
     "name": "stdout",
     "output_type": "stream",
     "text": [
      "torch.Size([1, 1, 30, 45])\n",
      "torch.Size([1, 1, 32, 32])\n"
     ]
    },
    {
     "name": "stderr",
     "output_type": "stream",
     "text": []
    },
    {
     "name": "stdout",
     "output_type": "stream",
     "text": [
      "torch.Size([1, 1, 30, 45])\n",
      "torch.Size([1, 1, 32, 32])\n"
     ]
    },
    {
     "name": "stderr",
     "output_type": "stream",
     "text": []
    },
    {
     "name": "stdout",
     "output_type": "stream",
     "text": [
      "torch.Size([1, 1, 30, 45])\n",
      "torch.Size([1, 1, 32, 32])\n"
     ]
    },
    {
     "name": "stderr",
     "output_type": "stream",
     "text": [
      "\n"
     ]
    },
    {
     "name": "stdout",
     "output_type": "stream",
     "text": [
      "torch.Size([1, 1, 30, 45])\n",
      "torch.Size([1, 1, 32, 32])\n"
     ]
    },
    {
     "name": "stderr",
     "output_type": "stream",
     "text": []
    },
    {
     "name": "stdout",
     "output_type": "stream",
     "text": [
      "torch.Size([1, 1, 30, 45])\n",
      "torch.Size([1, 1, 32, 32])\n"
     ]
    },
    {
     "name": "stderr",
     "output_type": "stream",
     "text": []
    },
    {
     "name": "stdout",
     "output_type": "stream",
     "text": [
      "torch.Size([1, 1, 30, 45])\n",
      "torch.Size([1, 1, 32, 32])\n"
     ]
    },
    {
     "name": "stderr",
     "output_type": "stream",
     "text": []
    },
    {
     "name": "stdout",
     "output_type": "stream",
     "text": [
      "torch.Size([1, 1, 30, 45])\n",
      "torch.Size([1, 1, 32, 32])\n"
     ]
    },
    {
     "name": "stderr",
     "output_type": "stream",
     "text": []
    },
    {
     "name": "stdout",
     "output_type": "stream",
     "text": [
      "torch.Size([1, 1, 30, 45])\n",
      "torch.Size([1, 1, 32, 32])\n",
      "torch.Size([1, 1, 30, 45])"
     ]
    },
    {
     "name": "stderr",
     "output_type": "stream",
     "text": []
    },
    {
     "name": "stdout",
     "output_type": "stream",
     "text": [
      "\n",
      "torch.Size([1, 1, 32, 32])\n",
      "torch.Size([1, 1, 30, 45])"
     ]
    },
    {
     "name": "stderr",
     "output_type": "stream",
     "text": []
    },
    {
     "name": "stdout",
     "output_type": "stream",
     "text": [
      "\n",
      "torch.Size([1, 1, 32, 32])\n",
      "torch.Size([1, 1, 30, 45])\n",
      "torch.Size([1, 1, 32, 32])\n"
     ]
    },
    {
     "name": "stderr",
     "output_type": "stream",
     "text": []
    },
    {
     "name": "stdout",
     "output_type": "stream",
     "text": [
      "torch.Size([1, 1, 30, 45])\n",
      "torch.Size([1, 1, 32, 32])\n",
      "torch.Size([1, 1, 30, 45])\n",
      "torch.Size([1, 1, 32, 32])\n"
     ]
    },
    {
     "name": "stderr",
     "output_type": "stream",
     "text": []
    },
    {
     "name": "stdout",
     "output_type": "stream",
     "text": [
      "torch.Size([1, 1, 30, 45])\n",
      "torch.Size([1, 1, 32, 32])\n"
     ]
    },
    {
     "name": "stderr",
     "output_type": "stream",
     "text": []
    },
    {
     "name": "stdout",
     "output_type": "stream",
     "text": [
      "torch.Size([1, 1, 30, 45])\n",
      "torch.Size([1, 1, 32, 32])\n"
     ]
    },
    {
     "name": "stderr",
     "output_type": "stream",
     "text": []
    },
    {
     "name": "stdout",
     "output_type": "stream",
     "text": [
      "torch.Size([1, 1, 30, 45])\n",
      "torch.Size([1, 1, 32, 32])\n",
      "torch.Size([1, 1, 30, 45])\n",
      "torch.Size([1, 1, 32, 32])"
     ]
    },
    {
     "name": "stderr",
     "output_type": "stream",
     "text": []
    },
    {
     "name": "stdout",
     "output_type": "stream",
     "text": [
      "\n",
      "torch.Size([1, 1, 30, 45])\n",
      "torch.Size([1, 1, 32, 32])\n"
     ]
    },
    {
     "name": "stderr",
     "output_type": "stream",
     "text": []
    },
    {
     "name": "stdout",
     "output_type": "stream",
     "text": [
      "torch.Size([1, 1, 30, 45])\n",
      "torch.Size([1, 1, 32, 32])\n",
      "torch.Size([1, 1, 30, 45])\n",
      "torch.Size([1, 1, 32, 32])\n"
     ]
    },
    {
     "name": "stderr",
     "output_type": "stream",
     "text": []
    },
    {
     "name": "stdout",
     "output_type": "stream",
     "text": [
      "torch.Size([1, 1, 30, 45])\n",
      "torch.Size([1, 1, 32, 32])\n",
      "torch.Size([1, 1, 30, 45])\n",
      "torch.Size([1, 1, 32, 32])\n"
     ]
    },
    {
     "name": "stderr",
     "output_type": "stream",
     "text": []
    },
    {
     "name": "stdout",
     "output_type": "stream",
     "text": [
      "torch.Size([1, 1, 30, 45])\n",
      "torch.Size([1, 1, 32, 32])\n",
      "torch.Size([1, 1, 30, 45])\n",
      "torch.Size([1, 1, 32, 32])\n"
     ]
    },
    {
     "name": "stderr",
     "output_type": "stream",
     "text": []
    },
    {
     "name": "stdout",
     "output_type": "stream",
     "text": [
      "torch.Size([1, 1, 30, 45])\n",
      "torch.Size([1, 1, 32, 32])\n"
     ]
    },
    {
     "name": "stderr",
     "output_type": "stream",
     "text": []
    },
    {
     "name": "stdout",
     "output_type": "stream",
     "text": [
      "torch.Size([1, 1, 30, 45])\n",
      "torch.Size([1, 1, 32, 32])\n",
      "torch.Size([1, 1, 30, 45])\n",
      "torch.Size([1, 1, 32, 32])\n"
     ]
    },
    {
     "name": "stderr",
     "output_type": "stream",
     "text": []
    },
    {
     "name": "stdout",
     "output_type": "stream",
     "text": [
      "torch.Size([1, 1, 30, 45])\n",
      "torch.Size([1, 1, 32, 32])\n"
     ]
    },
    {
     "name": "stderr",
     "output_type": "stream",
     "text": []
    },
    {
     "name": "stdout",
     "output_type": "stream",
     "text": [
      "torch.Size([1, 1, 30, 45])\n",
      "torch.Size([1, 1, 32, 32])\n"
     ]
    },
    {
     "name": "stderr",
     "output_type": "stream",
     "text": []
    },
    {
     "name": "stdout",
     "output_type": "stream",
     "text": [
      "torch.Size([1, 1, 30, 45])\n",
      "torch.Size([1, 1, 32, 32])\n",
      "torch.Size([1, 1, 30, 45])\n",
      "torch.Size([1, 1, 32, 32])\n"
     ]
    },
    {
     "name": "stderr",
     "output_type": "stream",
     "text": []
    },
    {
     "name": "stdout",
     "output_type": "stream",
     "text": [
      "torch.Size([1, 1, 30, 45])\n",
      "torch.Size([1, 1, 32, 32])\n",
      "torch.Size([1, 1, 30, 45])\n",
      "torch.Size([1, 1, 32, 32])\n"
     ]
    },
    {
     "name": "stderr",
     "output_type": "stream",
     "text": []
    },
    {
     "name": "stdout",
     "output_type": "stream",
     "text": [
      "torch.Size([1, 1, 30, 45])\n",
      "torch.Size([1, 1, 32, 32])\n",
      "torch.Size([1, 1, 30, 45])\n",
      "torch.Size([1, 1, 32, 32])\n"
     ]
    },
    {
     "name": "stderr",
     "output_type": "stream",
     "text": []
    },
    {
     "name": "stdout",
     "output_type": "stream",
     "text": [
      "torch.Size([1, 1, 30, 45])\n",
      "torch.Size([1, 1, 32, 32])\n",
      "torch.Size([1, 1, 30, 45])\n",
      "torch.Size([1, 1, 32, 32])\n"
     ]
    },
    {
     "name": "stderr",
     "output_type": "stream",
     "text": []
    },
    {
     "name": "stdout",
     "output_type": "stream",
     "text": [
      "torch.Size([1, 1, 30, 45])\n",
      "torch.Size([1, 1, 32, 32])\n",
      "torch.Size([1, 1, 30, 45])\n",
      "torch.Size([1, 1, 32, 32])\n"
     ]
    },
    {
     "name": "stderr",
     "output_type": "stream",
     "text": []
    },
    {
     "name": "stdout",
     "output_type": "stream",
     "text": [
      "torch.Size([1, 1, 30, 45])\n",
      "torch.Size([1, 1, 32, 32])\n",
      "torch.Size([1, 1, 30, 45])\n",
      "torch.Size([1, 1, 32, 32])\n"
     ]
    },
    {
     "name": "stderr",
     "output_type": "stream",
     "text": []
    },
    {
     "name": "stdout",
     "output_type": "stream",
     "text": [
      "torch.Size([1, 1, 30, 45])\n",
      "torch.Size([1, 1, 32, 32])\n"
     ]
    },
    {
     "name": "stderr",
     "output_type": "stream",
     "text": []
    },
    {
     "name": "stdout",
     "output_type": "stream",
     "text": [
      "torch.Size([1, 1, 30, 45])\n",
      "torch.Size([1, 1, 32, 32])\n",
      "torch.Size([1, 1, 30, 45])\n",
      "torch.Size([1, 1, 32, 32])\n"
     ]
    },
    {
     "name": "stderr",
     "output_type": "stream",
     "text": []
    },
    {
     "name": "stdout",
     "output_type": "stream",
     "text": [
      "torch.Size([1, 1, 30, 45])\n",
      "torch.Size([1, 1, 32, 32])\n",
      "torch.Size([1, 1, 30, 45])\n",
      "torch.Size([1, 1, 32, 32])\n"
     ]
    },
    {
     "name": "stderr",
     "output_type": "stream",
     "text": []
    },
    {
     "name": "stdout",
     "output_type": "stream",
     "text": [
      "torch.Size([1, 1, 30, 45])\n",
      "torch.Size([1, 1, 32, 32])\n",
      "torch.Size([1, 1, 30, 45])\n",
      "torch.Size([1, 1, 32, 32])\n"
     ]
    },
    {
     "name": "stderr",
     "output_type": "stream",
     "text": []
    },
    {
     "name": "stdout",
     "output_type": "stream",
     "text": [
      "torch.Size([1, 1, 30, 45])\n",
      "torch.Size([1, 1, 32, 32])\n",
      "torch.Size([1, 1, 30, 45])\n",
      "torch.Size([1, 1, 32, 32])\n",
      "torch.Size([1, 1, 30, 45])"
     ]
    },
    {
     "name": "stderr",
     "output_type": "stream",
     "text": []
    },
    {
     "name": "stdout",
     "output_type": "stream",
     "text": [
      "\n",
      "torch.Size([1, 1, 32, 32])\n",
      "torch.Size([1, 1, 30, 45])\n",
      "torch.Size([1, 1, 32, 32])\n"
     ]
    },
    {
     "name": "stderr",
     "output_type": "stream",
     "text": []
    },
    {
     "name": "stdout",
     "output_type": "stream",
     "text": [
      "torch.Size([1, 1, 30, 45])\n",
      "torch.Size([1, 1, 32, 32])\n",
      "torch.Size([1, 1, 30, 45])\n",
      "torch.Size([1, 1, 32, 32])\n"
     ]
    },
    {
     "name": "stderr",
     "output_type": "stream",
     "text": []
    },
    {
     "name": "stdout",
     "output_type": "stream",
     "text": [
      "torch.Size([1, 1, 30, 45])\n",
      "torch.Size([1, 1, 32, 32])\n",
      "torch.Size([1, 1, 30, 45])\n",
      "torch.Size([1, 1, 32, 32])\n",
      "torch.Size([1, 1, 30, 45])"
     ]
    },
    {
     "name": "stderr",
     "output_type": "stream",
     "text": []
    },
    {
     "name": "stdout",
     "output_type": "stream",
     "text": [
      "\n",
      "torch.Size([1, 1, 32, 32])\n",
      "torch.Size([1, 1, 30, 45])\n",
      "torch.Size([1, 1, 32, 32])\n"
     ]
    },
    {
     "name": "stderr",
     "output_type": "stream",
     "text": []
    },
    {
     "name": "stdout",
     "output_type": "stream",
     "text": [
      "torch.Size([1, 1, 30, 45])\n",
      "torch.Size([1, 1, 32, 32])\n",
      "torch.Size([1, 1, 30, 45])\n",
      "torch.Size([1, 1, 32, 32])\n"
     ]
    },
    {
     "name": "stderr",
     "output_type": "stream",
     "text": []
    },
    {
     "name": "stdout",
     "output_type": "stream",
     "text": [
      "torch.Size([1, 1, 30, 45])\n",
      "torch.Size([1, 1, 32, 32])\n",
      "torch.Size([1, 1, 30, 45])\n",
      "torch.Size([1, 1, 32, 32])\n"
     ]
    },
    {
     "name": "stderr",
     "output_type": "stream",
     "text": []
    },
    {
     "name": "stdout",
     "output_type": "stream",
     "text": [
      "torch.Size([1, 1, 30, 45])\n",
      "torch.Size([1, 1, 32, 32])\n",
      "torch.Size([1, 1, 30, 45])\n",
      "torch.Size([1, 1, 32, 32])\n"
     ]
    },
    {
     "name": "stderr",
     "output_type": "stream",
     "text": []
    },
    {
     "name": "stdout",
     "output_type": "stream",
     "text": [
      "torch.Size([1, 1, 30, 45])\n",
      "torch.Size([1, 1, 32, 32])\n"
     ]
    },
    {
     "name": "stderr",
     "output_type": "stream",
     "text": []
    },
    {
     "name": "stdout",
     "output_type": "stream",
     "text": [
      "torch.Size([1, 1, 30, 45])\n",
      "torch.Size([1, 1, 32, 32])\n",
      "torch.Size([1, 1, 30, 45])\n",
      "torch.Size([1, 1, 32, 32])\n"
     ]
    },
    {
     "name": "stderr",
     "output_type": "stream",
     "text": []
    },
    {
     "name": "stdout",
     "output_type": "stream",
     "text": [
      "torch.Size([1, 1, 30, 45])\n",
      "torch.Size([1, 1, 32, 32])\n"
     ]
    },
    {
     "name": "stderr",
     "output_type": "stream",
     "text": []
    },
    {
     "name": "stdout",
     "output_type": "stream",
     "text": [
      "torch.Size([1, 1, 30, 45])\n",
      "torch.Size([1, 1, 32, 32])\n",
      "torch.Size([1, 1, 30, 45])\n",
      "torch.Size([1, 1, 32, 32])\n"
     ]
    },
    {
     "name": "stderr",
     "output_type": "stream",
     "text": []
    },
    {
     "name": "stdout",
     "output_type": "stream",
     "text": [
      "torch.Size([1, 1, 30, 45])\n",
      "torch.Size([1, 1, 32, 32])\n"
     ]
    },
    {
     "name": "stderr",
     "output_type": "stream",
     "text": []
    },
    {
     "name": "stdout",
     "output_type": "stream",
     "text": [
      "torch.Size([1, 1, 30, 45])\n",
      "torch.Size([1, 1, 32, 32])\n",
      "torch.Size([1, 1, 30, 45])"
     ]
    },
    {
     "name": "stderr",
     "output_type": "stream",
     "text": []
    },
    {
     "name": "stdout",
     "output_type": "stream",
     "text": [
      "\n",
      "torch.Size([1, 1, 32, 32])\n",
      "torch.Size([1, 1, 30, 45])\n",
      "torch.Size([1, 1, 32, 32])\n",
      "torch.Size([1, 1, 30, 45])\n",
      "torch.Size([1, 1, 32, 32])\n"
     ]
    },
    {
     "name": "stderr",
     "output_type": "stream",
     "text": []
    },
    {
     "name": "stdout",
     "output_type": "stream",
     "text": [
      "torch.Size([1, 1, 30, 45])\n",
      "torch.Size([1, 1, 32, 32])\n",
      "torch.Size([1, 1, 30, 45])\n",
      "torch.Size([1, 1, 32, 32])\n"
     ]
    },
    {
     "name": "stderr",
     "output_type": "stream",
     "text": []
    },
    {
     "name": "stdout",
     "output_type": "stream",
     "text": [
      "torch.Size([1, 1, 30, 45])\n",
      "torch.Size([1, 1, 32, 32])\n",
      "torch.Size([1, 1, 30, 45])\n",
      "torch.Size([1, 1, 32, 32])\n"
     ]
    },
    {
     "name": "stderr",
     "output_type": "stream",
     "text": []
    },
    {
     "name": "stdout",
     "output_type": "stream",
     "text": [
      "torch.Size([1, 1, 30, 45])\n",
      "torch.Size([1, 1, 32, 32])\n",
      "torch.Size([1, 1, 30, 45])\n",
      "torch.Size([1, 1, 32, 32])\n"
     ]
    },
    {
     "name": "stderr",
     "output_type": "stream",
     "text": []
    },
    {
     "name": "stdout",
     "output_type": "stream",
     "text": [
      "torch.Size([1, 1, 30, 45])\n",
      "torch.Size([1, 1, 32, 32])\n",
      "torch.Size([1, 1, 30, 45])\n",
      "torch.Size([1, 1, 32, 32])\n"
     ]
    },
    {
     "name": "stderr",
     "output_type": "stream",
     "text": []
    },
    {
     "name": "stdout",
     "output_type": "stream",
     "text": [
      "torch.Size([1, 1, 30, 45])\n",
      "torch.Size([1, 1, 32, 32])\n"
     ]
    },
    {
     "name": "stderr",
     "output_type": "stream",
     "text": []
    },
    {
     "name": "stdout",
     "output_type": "stream",
     "text": [
      "torch.Size([1, 1, 30, 45])\n",
      "torch.Size([1, 1, 32, 32])\n",
      "torch.Size([1, 1, 30, 45])\n",
      "torch.Size([1, 1, 32, 32])\n"
     ]
    },
    {
     "name": "stderr",
     "output_type": "stream",
     "text": []
    },
    {
     "name": "stdout",
     "output_type": "stream",
     "text": [
      "torch.Size([1, 1, 30, 45])\n",
      "torch.Size([1, 1, 32, 32])\n",
      "torch.Size([1, 1, 30, 45])\n",
      "torch.Size([1, 1, 32, 32])\n"
     ]
    },
    {
     "name": "stderr",
     "output_type": "stream",
     "text": []
    },
    {
     "name": "stdout",
     "output_type": "stream",
     "text": [
      "torch.Size([1, 1, 30, 45])\n",
      "torch.Size([1, 1, 32, 32])\n"
     ]
    },
    {
     "name": "stderr",
     "output_type": "stream",
     "text": []
    },
    {
     "name": "stdout",
     "output_type": "stream",
     "text": [
      "torch.Size([1, 1, 30, 45])\n",
      "torch.Size([1, 1, 32, 32])\n",
      "torch.Size([1, 1, 30, 45])\n",
      "torch.Size([1, 1, 32, 32])\n"
     ]
    },
    {
     "name": "stderr",
     "output_type": "stream",
     "text": []
    },
    {
     "name": "stdout",
     "output_type": "stream",
     "text": [
      "torch.Size([1, 1, 30, 45])\n",
      "torch.Size([1, 1, 32, 32])\n",
      "torch.Size([1, 1, 30, 45])\n",
      "torch.Size([1, 1, 32, 32])\n"
     ]
    },
    {
     "name": "stderr",
     "output_type": "stream",
     "text": []
    },
    {
     "name": "stdout",
     "output_type": "stream",
     "text": [
      "torch.Size([1, 1, 30, 45])\n",
      "torch.Size([1, 1, 32, 32])\n",
      "torch.Size([1, 1, 30, 45])\n",
      "torch.Size([1, 1, 32, 32])\n"
     ]
    },
    {
     "name": "stderr",
     "output_type": "stream",
     "text": []
    },
    {
     "name": "stdout",
     "output_type": "stream",
     "text": [
      "torch.Size([1, 1, 30, 45])\n",
      "torch.Size([1, 1, 32, 32])\n"
     ]
    },
    {
     "name": "stderr",
     "output_type": "stream",
     "text": []
    },
    {
     "name": "stdout",
     "output_type": "stream",
     "text": [
      "torch.Size([1, 1, 30, 45])\n",
      "torch.Size([1, 1, 32, 32])\n"
     ]
    },
    {
     "name": "stderr",
     "output_type": "stream",
     "text": []
    },
    {
     "name": "stdout",
     "output_type": "stream",
     "text": [
      "torch.Size([1, 1, 30, 45])\n",
      "torch.Size([1, 1, 32, 32])\n"
     ]
    },
    {
     "name": "stderr",
     "output_type": "stream",
     "text": []
    },
    {
     "name": "stdout",
     "output_type": "stream",
     "text": [
      "torch.Size([1, 1, 30, 45])\n",
      "torch.Size([1, 1, 32, 32])\n",
      "torch.Size([1, 1, 30, 45])\n",
      "torch.Size([1, 1, 32, 32])\n"
     ]
    },
    {
     "name": "stderr",
     "output_type": "stream",
     "text": []
    },
    {
     "name": "stdout",
     "output_type": "stream",
     "text": [
      "torch.Size([1, 1, 30, 45])\n",
      "torch.Size([1, 1, 32, 32])\n",
      "torch.Size([1, 1, 30, 45])\n",
      "torch.Size([1, 1, 32, 32])\n"
     ]
    },
    {
     "name": "stderr",
     "output_type": "stream",
     "text": [
      "\n"
     ]
    },
    {
     "name": "stdout",
     "output_type": "stream",
     "text": [
      "torch.Size([1, 1, 30, 45])\n",
      "torch.Size([1, 1, 32, 32])\n",
      "torch.Size([1, 1, 30, 45])\n",
      "torch.Size([1, 1, 32, 32])\n"
     ]
    },
    {
     "name": "stderr",
     "output_type": "stream",
     "text": []
    },
    {
     "name": "stdout",
     "output_type": "stream",
     "text": [
      "torch.Size([1, 1, 30, 45])\n",
      "torch.Size([1, 1, 32, 32])\n",
      "torch.Size([1, 1, 30, 45])\n",
      "torch.Size([1, 1, 32, 32])\n"
     ]
    },
    {
     "name": "stderr",
     "output_type": "stream",
     "text": []
    },
    {
     "name": "stdout",
     "output_type": "stream",
     "text": [
      "torch.Size([1, 1, 30, 45])\n",
      "torch.Size([1, 1, 32, 32])\n"
     ]
    },
    {
     "name": "stderr",
     "output_type": "stream",
     "text": []
    },
    {
     "name": "stdout",
     "output_type": "stream",
     "text": [
      "torch.Size([1, 1, 30, 45])\n",
      "torch.Size([1, 1, 32, 32])\n",
      "torch.Size([1, 1, 30, 45])\n",
      "torch.Size([1, 1, 32, 32])\n"
     ]
    },
    {
     "name": "stderr",
     "output_type": "stream",
     "text": []
    },
    {
     "name": "stdout",
     "output_type": "stream",
     "text": [
      "torch.Size([1, 1, 30, 45])\n",
      "torch.Size([1, 1, 32, 32])\n",
      "torch.Size([1, 1, 30, 45])\n",
      "torch.Size([1, 1, 32, 32])\n"
     ]
    },
    {
     "name": "stderr",
     "output_type": "stream",
     "text": []
    },
    {
     "name": "stdout",
     "output_type": "stream",
     "text": [
      "torch.Size([1, 1, 30, 45])\n",
      "torch.Size([1, 1, 32, 32])\n",
      "torch.Size([1, 1, 30, 45])\n",
      "torch.Size([1, 1, 32, 32])\n"
     ]
    },
    {
     "name": "stderr",
     "output_type": "stream",
     "text": []
    },
    {
     "name": "stdout",
     "output_type": "stream",
     "text": [
      "torch.Size([1, 1, 30, 45])\n",
      "torch.Size([1, 1, 32, 32])\n",
      "torch.Size([1, 1, 30, 45])"
     ]
    },
    {
     "name": "stderr",
     "output_type": "stream",
     "text": []
    },
    {
     "name": "stdout",
     "output_type": "stream",
     "text": [
      "\n",
      "torch.Size([1, 1, 32, 32])\n",
      "torch.Size([1, 1, 30, 45])"
     ]
    },
    {
     "name": "stderr",
     "output_type": "stream",
     "text": []
    },
    {
     "name": "stdout",
     "output_type": "stream",
     "text": [
      "\n",
      "torch.Size([1, 1, 32, 32])\n",
      "torch.Size([1, 1, 30, 45])\n",
      "torch.Size([1, 1, 32, 32])\n"
     ]
    },
    {
     "name": "stderr",
     "output_type": "stream",
     "text": []
    },
    {
     "name": "stdout",
     "output_type": "stream",
     "text": [
      "torch.Size([1, 1, 30, 45])\n",
      "torch.Size([1, 1, 32, 32])\n"
     ]
    },
    {
     "name": "stderr",
     "output_type": "stream",
     "text": []
    },
    {
     "name": "stdout",
     "output_type": "stream",
     "text": [
      "torch.Size([1, 1, 30, 45])\n",
      "torch.Size([1, 1, 32, 32])\n",
      "torch.Size([1, 1, 30, 45])\n",
      "torch.Size([1, 1, 32, 32])\n"
     ]
    },
    {
     "name": "stderr",
     "output_type": "stream",
     "text": []
    },
    {
     "name": "stdout",
     "output_type": "stream",
     "text": [
      "torch.Size([1, 1, 30, 45])\n",
      "torch.Size([1, 1, 32, 32])\n",
      "torch.Size([1, 1, 30, 45])\n",
      "torch.Size([1, 1, 32, 32])\n"
     ]
    },
    {
     "name": "stderr",
     "output_type": "stream",
     "text": []
    },
    {
     "name": "stdout",
     "output_type": "stream",
     "text": [
      "torch.Size([1, 1, 30, 45])\n",
      "torch.Size([1, 1, 32, 32])\n",
      "torch.Size([1, 1, 30, 45])\n",
      "torch.Size([1, 1, 32, 32])\n"
     ]
    },
    {
     "name": "stderr",
     "output_type": "stream",
     "text": []
    },
    {
     "name": "stdout",
     "output_type": "stream",
     "text": [
      "torch.Size([1, 1, 30, 45])\n",
      "torch.Size([1, 1, 32, 32])\n",
      "torch.Size([1, 1, 30, 45])\n",
      "torch.Size([1, 1, 32, 32])\n"
     ]
    },
    {
     "name": "stderr",
     "output_type": "stream",
     "text": []
    },
    {
     "name": "stdout",
     "output_type": "stream",
     "text": [
      "torch.Size([1, 1, 30, 45])\n",
      "torch.Size([1, 1, 32, 32])\n",
      "torch.Size([1, 1, 30, 45])\n",
      "torch.Size([1, 1, 32, 32])\n"
     ]
    },
    {
     "name": "stderr",
     "output_type": "stream",
     "text": []
    },
    {
     "name": "stdout",
     "output_type": "stream",
     "text": [
      "torch.Size([1, 1, 30, 45])\n",
      "torch.Size([1, 1, 32, 32])\n",
      "torch.Size([1, 1, 30, 45])\n",
      "torch.Size([1, 1, 32, 32])\n"
     ]
    },
    {
     "name": "stderr",
     "output_type": "stream",
     "text": []
    },
    {
     "name": "stdout",
     "output_type": "stream",
     "text": [
      "torch.Size([1, 1, 30, 45])\n",
      "torch.Size([1, 1, 32, 32])\n"
     ]
    },
    {
     "name": "stderr",
     "output_type": "stream",
     "text": []
    },
    {
     "name": "stdout",
     "output_type": "stream",
     "text": [
      "torch.Size([1, 1, 30, 45])\n",
      "torch.Size([1, 1, 32, 32])\n"
     ]
    },
    {
     "name": "stderr",
     "output_type": "stream",
     "text": []
    },
    {
     "name": "stdout",
     "output_type": "stream",
     "text": [
      "torch.Size([1, 1, 30, 45])\n",
      "torch.Size([1, 1, 32, 32])\n",
      "torch.Size([1, 1, 30, 45])"
     ]
    },
    {
     "name": "stderr",
     "output_type": "stream",
     "text": []
    },
    {
     "name": "stdout",
     "output_type": "stream",
     "text": [
      "\n",
      "torch.Size([1, 1, 32, 32])\n",
      "torch.Size([1, 1, 30, 45])\n",
      "torch.Size([1, 1, 32, 32])\n"
     ]
    },
    {
     "name": "stderr",
     "output_type": "stream",
     "text": []
    },
    {
     "name": "stdout",
     "output_type": "stream",
     "text": [
      "torch.Size([1, 1, 30, 45])\n",
      "torch.Size([1, 1, 32, 32])\n",
      "torch.Size([1, 1, 30, 45])\n"
     ]
    },
    {
     "name": "stderr",
     "output_type": "stream",
     "text": []
    },
    {
     "name": "stdout",
     "output_type": "stream",
     "text": [
      "torch.Size([1, 1, 32, 32])\n",
      "torch.Size([1, 1, 30, 45])\n",
      "torch.Size([1, 1, 32, 32])\n"
     ]
    },
    {
     "name": "stderr",
     "output_type": "stream",
     "text": []
    },
    {
     "name": "stdout",
     "output_type": "stream",
     "text": [
      "torch.Size([1, 1, 30, 45])\n",
      "torch.Size([1, 1, 32, 32])\n",
      "torch.Size([1, 1, 30, 45])\n",
      "torch.Size([1, 1, 32, 32])\n"
     ]
    },
    {
     "name": "stderr",
     "output_type": "stream",
     "text": []
    },
    {
     "name": "stdout",
     "output_type": "stream",
     "text": [
      "torch.Size([1, 1, 30, 45])\n",
      "torch.Size([1, 1, 32, 32])\n",
      "torch.Size([1, 1, 30, 45])\n",
      "torch.Size([1, 1, 32, 32])\n"
     ]
    },
    {
     "name": "stderr",
     "output_type": "stream",
     "text": []
    },
    {
     "name": "stdout",
     "output_type": "stream",
     "text": [
      "torch.Size([1, 1, 30, 45])\n",
      "torch.Size([1, 1, 32, 32])\n",
      "torch.Size([1, 1, 30, 45])\n",
      "torch.Size([1, 1, 32, 32])\n"
     ]
    },
    {
     "name": "stderr",
     "output_type": "stream",
     "text": []
    },
    {
     "name": "stdout",
     "output_type": "stream",
     "text": [
      "torch.Size([1, 1, 30, 45])\n",
      "torch.Size([1, 1, 32, 32])\n",
      "torch.Size([1, 1, 30, 45])\n",
      "torch.Size([1, 1, 32, 32])\n"
     ]
    },
    {
     "name": "stderr",
     "output_type": "stream",
     "text": []
    },
    {
     "name": "stdout",
     "output_type": "stream",
     "text": [
      "torch.Size([1, 1, 30, 45])\n",
      "torch.Size([1, 1, 32, 32])\n",
      "torch.Size([1, 1, 30, 45])\n",
      "torch.Size([1, 1, 32, 32])\n"
     ]
    },
    {
     "name": "stderr",
     "output_type": "stream",
     "text": []
    },
    {
     "name": "stdout",
     "output_type": "stream",
     "text": [
      "torch.Size([1, 1, 30, 45])\n",
      "torch.Size([1, 1, 32, 32])\n",
      "torch.Size([1, 1, 30, 45])\n",
      "torch.Size([1, 1, 32, 32])\n"
     ]
    },
    {
     "name": "stderr",
     "output_type": "stream",
     "text": []
    },
    {
     "name": "stdout",
     "output_type": "stream",
     "text": [
      "torch.Size([1, 1, 30, 45])\n",
      "torch.Size([1, 1, 32, 32])\n",
      "torch.Size([1, 1, 30, 45])\n",
      "torch.Size([1, 1, 32, 32])\n",
      "torch.Size([1, 1, 30, 45])"
     ]
    },
    {
     "name": "stderr",
     "output_type": "stream",
     "text": []
    },
    {
     "name": "stdout",
     "output_type": "stream",
     "text": [
      "\n",
      "torch.Size([1, 1, 32, 32])\n",
      "torch.Size([1, 1, 30, 45])\n",
      "torch.Size([1, 1, 32, 32])\n"
     ]
    },
    {
     "name": "stderr",
     "output_type": "stream",
     "text": []
    },
    {
     "name": "stdout",
     "output_type": "stream",
     "text": [
      "torch.Size([1, 1, 30, 45])\n",
      "torch.Size([1, 1, 32, 32])\n",
      "torch.Size([1, 1, 30, 45])\n",
      "torch.Size([1, 1, 32, 32])\n"
     ]
    },
    {
     "name": "stderr",
     "output_type": "stream",
     "text": []
    },
    {
     "name": "stdout",
     "output_type": "stream",
     "text": [
      "torch.Size([1, 1, 30, 45])\n",
      "torch.Size([1, 1, 32, 32])\n",
      "torch.Size([1, 1, 30, 45])\n",
      "torch.Size([1, 1, 32, 32])\n"
     ]
    },
    {
     "name": "stderr",
     "output_type": "stream",
     "text": []
    },
    {
     "name": "stdout",
     "output_type": "stream",
     "text": [
      "torch.Size([1, 1, 30, 45])\n",
      "torch.Size([1, 1, 32, 32])\n"
     ]
    },
    {
     "name": "stderr",
     "output_type": "stream",
     "text": []
    },
    {
     "name": "stdout",
     "output_type": "stream",
     "text": [
      "torch.Size([1, 1, 30, 45])\n",
      "torch.Size([1, 1, 32, 32])\n",
      "torch.Size([1, 1, 30, 45])\n",
      "torch.Size([1, 1, 32, 32])\n"
     ]
    },
    {
     "name": "stderr",
     "output_type": "stream",
     "text": []
    },
    {
     "name": "stdout",
     "output_type": "stream",
     "text": [
      "torch.Size([1, 1, 30, 45])\n",
      "torch.Size([1, 1, 32, 32])\n"
     ]
    },
    {
     "name": "stderr",
     "output_type": "stream",
     "text": []
    },
    {
     "name": "stdout",
     "output_type": "stream",
     "text": [
      "torch.Size([1, 1, 30, 45])\n",
      "torch.Size([1, 1, 32, 32])\n"
     ]
    },
    {
     "name": "stderr",
     "output_type": "stream",
     "text": []
    },
    {
     "name": "stdout",
     "output_type": "stream",
     "text": [
      "torch.Size([1, 1, 30, 45])\n",
      "torch.Size([1, 1, 32, 32])\n",
      "torch.Size([1, 1, 30, 45])\n",
      "torch.Size([1, 1, 32, 32])\n"
     ]
    },
    {
     "name": "stderr",
     "output_type": "stream",
     "text": []
    },
    {
     "name": "stdout",
     "output_type": "stream",
     "text": [
      "torch.Size([1, 1, 30, 45])\n",
      "torch.Size([1, 1, 32, 32])\n"
     ]
    },
    {
     "name": "stderr",
     "output_type": "stream",
     "text": []
    },
    {
     "name": "stdout",
     "output_type": "stream",
     "text": [
      "torch.Size([1, 1, 30, 45])\n",
      "torch.Size([1, 1, 32, 32])\n",
      "torch.Size([1, 1, 30, 45])\n",
      "torch.Size([1, 1, 32, 32])\n"
     ]
    },
    {
     "name": "stderr",
     "output_type": "stream",
     "text": []
    },
    {
     "name": "stdout",
     "output_type": "stream",
     "text": [
      "torch.Size([1, 1, 30, 45])\n",
      "torch.Size([1, 1, 32, 32])\n",
      "torch.Size([1, 1, 30, 45])\n",
      "torch.Size([1, 1, 32, 32])\n"
     ]
    },
    {
     "name": "stderr",
     "output_type": "stream",
     "text": []
    },
    {
     "name": "stdout",
     "output_type": "stream",
     "text": [
      "torch.Size([1, 1, 30, 45])\n",
      "torch.Size([1, 1, 32, 32])\n",
      "torch.Size([1, 1, 30, 45])\n",
      "torch.Size([1, 1, 32, 32])\n"
     ]
    },
    {
     "name": "stderr",
     "output_type": "stream",
     "text": []
    },
    {
     "name": "stdout",
     "output_type": "stream",
     "text": [
      "torch.Size([1, 1, 30, 45])\n",
      "torch.Size([1, 1, 32, 32])\n"
     ]
    },
    {
     "name": "stderr",
     "output_type": "stream",
     "text": []
    },
    {
     "name": "stdout",
     "output_type": "stream",
     "text": [
      "torch.Size([1, 1, 30, 45])\n",
      "torch.Size([1, 1, 32, 32])\n",
      "torch.Size([1, 1, 30, 45])\n",
      "torch.Size([1, 1, 32, 32])\n"
     ]
    },
    {
     "name": "stderr",
     "output_type": "stream",
     "text": []
    },
    {
     "name": "stdout",
     "output_type": "stream",
     "text": [
      "torch.Size([1, 1, 30, 45])\n",
      "torch.Size([1, 1, 32, 32])\n"
     ]
    },
    {
     "name": "stderr",
     "output_type": "stream",
     "text": [
      "\n",
      " 64%|██████▍   | 1286/2000 [04:09<02:54,  4.10it/s]"
     ]
    },
    {
     "name": "stdout",
     "output_type": "stream",
     "text": [
      "torch.Size([1, 1, 30, 45])\n",
      "torch.Size([1, 1, 32, 32])\n"
     ]
    },
    {
     "name": "stderr",
     "output_type": "stream",
     "text": [
      "\u001b[A"
     ]
    },
    {
     "name": "stdout",
     "output_type": "stream",
     "text": [
      "torch.Size([1, 1, 30, 45])\n",
      "torch.Size([1, 1, 32, 32])\n",
      "torch.Size([1, 1, 30, 45])\n",
      "torch.Size([1, 1, 32, 32])\n"
     ]
    },
    {
     "name": "stderr",
     "output_type": "stream",
     "text": []
    },
    {
     "name": "stdout",
     "output_type": "stream",
     "text": [
      "torch.Size([1, 1, 30, 45])\n",
      "torch.Size([1, 1, 32, 32])\n",
      "torch.Size([1, 1, 30, 45])\n",
      "torch.Size([1, 1, 32, 32])\n"
     ]
    },
    {
     "name": "stderr",
     "output_type": "stream",
     "text": []
    },
    {
     "name": "stdout",
     "output_type": "stream",
     "text": [
      "torch.Size([1, 1, 30, 45])\n",
      "torch.Size([1, 1, 32, 32])\n",
      "torch.Size([1, 1, 30, 45])\n",
      "torch.Size([1, 1, 32, 32])\n",
      "torch.Size([1, 1, 30, 45])"
     ]
    },
    {
     "name": "stderr",
     "output_type": "stream",
     "text": []
    },
    {
     "name": "stdout",
     "output_type": "stream",
     "text": [
      "\n",
      "torch.Size([1, 1, 32, 32])\n",
      "torch.Size([1, 1, 30, 45])\n",
      "torch.Size([1, 1, 32, 32])\n",
      "torch.Size([1, 1, 30, 45])"
     ]
    },
    {
     "name": "stderr",
     "output_type": "stream",
     "text": []
    },
    {
     "name": "stdout",
     "output_type": "stream",
     "text": [
      "\n",
      "torch.Size([1, 1, 32, 32])\n",
      "torch.Size([1, 1, 30, 45])\n",
      "torch.Size([1, 1, 32, 32])\n",
      "torch.Size([1, 1, 30, 45])"
     ]
    },
    {
     "name": "stderr",
     "output_type": "stream",
     "text": []
    },
    {
     "name": "stdout",
     "output_type": "stream",
     "text": [
      "\n",
      "torch.Size([1, 1, 32, 32])\n",
      "torch.Size([1, 1, 30, 45])\n",
      "torch.Size([1, 1, 32, 32])\n"
     ]
    },
    {
     "name": "stderr",
     "output_type": "stream",
     "text": []
    },
    {
     "name": "stdout",
     "output_type": "stream",
     "text": [
      "torch.Size([1, 1, 30, 45])\n",
      "torch.Size([1, 1, 32, 32])\n",
      "torch.Size([1, 1, 30, 45])\n",
      "torch.Size([1, 1, 32, 32])\n"
     ]
    },
    {
     "name": "stderr",
     "output_type": "stream",
     "text": []
    },
    {
     "name": "stdout",
     "output_type": "stream",
     "text": [
      "torch.Size([1, 1, 30, 45])\n",
      "torch.Size([1, 1, 32, 32])\n",
      "torch.Size([1, 1, 30, 45])\n",
      "torch.Size([1, 1, 32, 32])\n",
      "torch.Size([1, 1, 30, 45])\n",
      "torch.Size([1, 1, 32, 32])\n"
     ]
    },
    {
     "name": "stderr",
     "output_type": "stream",
     "text": []
    },
    {
     "name": "stdout",
     "output_type": "stream",
     "text": [
      "torch.Size([1, 1, 30, 45])\n",
      "torch.Size([1, 1, 32, 32])\n",
      "torch.Size([1, 1, 30, 45])\n",
      "torch.Size([1, 1, 32, 32])\n"
     ]
    },
    {
     "name": "stderr",
     "output_type": "stream",
     "text": []
    },
    {
     "name": "stdout",
     "output_type": "stream",
     "text": [
      "torch.Size([1, 1, 30, 45])\n",
      "torch.Size([1, 1, 32, 32])\n",
      "torch.Size([1, 1, 30, 45])\n",
      "torch.Size([1, 1, 32, 32])\n",
      "torch.Size([1, 1, 30, 45])\n",
      "torch.Size([1, 1, 32, 32])\n"
     ]
    },
    {
     "name": "stderr",
     "output_type": "stream",
     "text": []
    },
    {
     "name": "stdout",
     "output_type": "stream",
     "text": [
      "torch.Size([1, 1, 30, 45])\n",
      "torch.Size([1, 1, 32, 32])\n",
      "torch.Size([1, 1, 30, 45])\n",
      "torch.Size([1, 1, 32, 32])\n",
      "torch.Size([1, 1, 30, 45])\n",
      "torch.Size([1, 1, 32, 32])\n"
     ]
    },
    {
     "name": "stderr",
     "output_type": "stream",
     "text": []
    },
    {
     "name": "stdout",
     "output_type": "stream",
     "text": [
      "torch.Size([1, 1, 30, 45])\n",
      "torch.Size([1, 1, 32, 32])\n"
     ]
    },
    {
     "name": "stderr",
     "output_type": "stream",
     "text": []
    },
    {
     "name": "stdout",
     "output_type": "stream",
     "text": [
      "torch.Size([1, 1, 30, 45])\n",
      "torch.Size([1, 1, 32, 32])\n",
      "torch.Size([1, 1, 30, 45])\n",
      "torch.Size([1, 1, 32, 32])\n"
     ]
    },
    {
     "name": "stderr",
     "output_type": "stream",
     "text": []
    },
    {
     "name": "stdout",
     "output_type": "stream",
     "text": [
      "torch.Size([1, 1, 30, 45])\n",
      "torch.Size([1, 1, 32, 32])\n",
      "torch.Size([1, 1, 30, 45])\n",
      "torch.Size([1, 1, 32, 32])\n"
     ]
    },
    {
     "name": "stderr",
     "output_type": "stream",
     "text": []
    },
    {
     "name": "stdout",
     "output_type": "stream",
     "text": [
      "torch.Size([1, 1, 30, 45])\n",
      "torch.Size([1, 1, 32, 32])\n",
      "torch.Size([1, 1, 30, 45])\n",
      "torch.Size([1, 1, 32, 32])\n",
      "torch.Size([1, 1, 30, 45])"
     ]
    },
    {
     "name": "stderr",
     "output_type": "stream",
     "text": []
    },
    {
     "name": "stdout",
     "output_type": "stream",
     "text": [
      "\n",
      "torch.Size([1, 1, 32, 32])\n",
      "torch.Size([1, 1, 30, 45])\n",
      "torch.Size([1, 1, 32, 32])\n"
     ]
    },
    {
     "name": "stderr",
     "output_type": "stream",
     "text": []
    },
    {
     "name": "stdout",
     "output_type": "stream",
     "text": [
      "torch.Size([1, 1, 30, 45])\n",
      "torch.Size([1, 1, 32, 32])\n",
      "torch.Size([1, 1, 30, 45])\n",
      "torch.Size([1, 1, 32, 32])\n"
     ]
    },
    {
     "name": "stderr",
     "output_type": "stream",
     "text": []
    },
    {
     "name": "stdout",
     "output_type": "stream",
     "text": [
      "torch.Size([1, 1, 30, 45])\n",
      "torch.Size([1, 1, 32, 32])\n",
      "torch.Size([1, 1, 30, 45])\n",
      "torch.Size([1, 1, 32, 32])\n"
     ]
    },
    {
     "name": "stderr",
     "output_type": "stream",
     "text": [
      "\n"
     ]
    },
    {
     "name": "stdout",
     "output_type": "stream",
     "text": [
      "torch.Size([1, 1, 30, 45])\n",
      "torch.Size([1, 1, 32, 32])\n",
      "torch.Size([1, 1, 30, 45])\n",
      "torch.Size([1, 1, 32, 32])\n"
     ]
    },
    {
     "name": "stderr",
     "output_type": "stream",
     "text": []
    },
    {
     "name": "stdout",
     "output_type": "stream",
     "text": [
      "torch.Size([1, 1, 30, 45])\n",
      "torch.Size([1, 1, 32, 32])\n",
      "torch.Size([1, 1, 30, 45])\n",
      "torch.Size([1, 1, 32, 32])\n",
      "torch.Size([1, 1, 30, 45])\n",
      "torch.Size([1, 1, 32, 32])\n"
     ]
    },
    {
     "name": "stderr",
     "output_type": "stream",
     "text": []
    },
    {
     "name": "stdout",
     "output_type": "stream",
     "text": [
      "torch.Size([1, 1, 30, 45])\n",
      "torch.Size([1, 1, 32, 32])\n",
      "torch.Size([1, 1, 30, 45])\n",
      "torch.Size([1, 1, 32, 32])\n"
     ]
    },
    {
     "name": "stderr",
     "output_type": "stream",
     "text": []
    },
    {
     "name": "stdout",
     "output_type": "stream",
     "text": [
      "torch.Size([1, 1, 30, 45])\n",
      "torch.Size([1, 1, 32, 32])\n",
      "torch.Size([1, 1, 30, 45])\n",
      "torch.Size([1, 1, 32, 32])\n",
      "torch.Size([1, 1, 30, 45])"
     ]
    },
    {
     "name": "stderr",
     "output_type": "stream",
     "text": []
    },
    {
     "name": "stdout",
     "output_type": "stream",
     "text": [
      "\n",
      "torch.Size([1, 1, 32, 32])\n",
      "torch.Size([1, 1, 30, 45])\n",
      "torch.Size([1, 1, 32, 32])\n"
     ]
    },
    {
     "name": "stderr",
     "output_type": "stream",
     "text": []
    },
    {
     "name": "stdout",
     "output_type": "stream",
     "text": [
      "torch.Size([1, 1, 30, 45])\n",
      "torch.Size([1, 1, 32, 32])\n"
     ]
    },
    {
     "name": "stderr",
     "output_type": "stream",
     "text": []
    },
    {
     "name": "stdout",
     "output_type": "stream",
     "text": [
      "torch.Size([1, 1, 30, 45])\n",
      "torch.Size([1, 1, 32, 32])\n"
     ]
    },
    {
     "name": "stderr",
     "output_type": "stream",
     "text": []
    },
    {
     "name": "stdout",
     "output_type": "stream",
     "text": [
      "torch.Size([1, 1, 30, 45])\n",
      "torch.Size([1, 1, 32, 32])\n",
      "torch.Size([1, 1, 30, 45])\n",
      "torch.Size([1, 1, 32, 32])\n"
     ]
    },
    {
     "name": "stderr",
     "output_type": "stream",
     "text": []
    },
    {
     "name": "stdout",
     "output_type": "stream",
     "text": [
      "torch.Size([1, 1, 30, 45])\n",
      "torch.Size([1, 1, 32, 32])\n",
      "torch.Size([1, 1, 30, 45])\n",
      "torch.Size([1, 1, 32, 32])\n",
      "torch.Size([1, 1, 30, 45])\n",
      "torch.Size([1, 1, 32, 32])\n"
     ]
    },
    {
     "name": "stderr",
     "output_type": "stream",
     "text": []
    },
    {
     "name": "stdout",
     "output_type": "stream",
     "text": [
      "torch.Size([1, 1, 30, 45])\n",
      "torch.Size([1, 1, 32, 32])\n",
      "torch.Size([1, 1, 30, 45])\n",
      "torch.Size([1, 1, 32, 32])\n"
     ]
    },
    {
     "name": "stderr",
     "output_type": "stream",
     "text": []
    },
    {
     "name": "stdout",
     "output_type": "stream",
     "text": [
      "torch.Size([1, 1, 30, 45])\n",
      "torch.Size([1, 1, 32, 32])\n",
      "torch.Size([1, 1, 30, 45])\n",
      "torch.Size([1, 1, 32, 32])\n"
     ]
    },
    {
     "name": "stderr",
     "output_type": "stream",
     "text": []
    },
    {
     "name": "stdout",
     "output_type": "stream",
     "text": [
      "torch.Size([1, 1, 30, 45])\n",
      "torch.Size([1, 1, 32, 32])\n",
      "torch.Size([1, 1, 30, 45])\n",
      "torch.Size([1, 1, 32, 32])\n",
      "torch.Size([1, 1, 30, 45])"
     ]
    },
    {
     "name": "stderr",
     "output_type": "stream",
     "text": []
    },
    {
     "name": "stdout",
     "output_type": "stream",
     "text": [
      "\n",
      "torch.Size([1, 1, 32, 32])\n",
      "torch.Size([1, 1, 30, 45])\n",
      "torch.Size([1, 1, 32, 32])\n"
     ]
    },
    {
     "name": "stderr",
     "output_type": "stream",
     "text": []
    },
    {
     "name": "stdout",
     "output_type": "stream",
     "text": [
      "torch.Size([1, 1, 30, 45])\n",
      "torch.Size([1, 1, 32, 32])\n",
      "torch.Size([1, 1, 30, 45])\n",
      "torch.Size([1, 1, 32, 32])\n"
     ]
    },
    {
     "name": "stderr",
     "output_type": "stream",
     "text": []
    },
    {
     "name": "stdout",
     "output_type": "stream",
     "text": [
      "torch.Size([1, 1, 30, 45])\n",
      "torch.Size([1, 1, 32, 32])\n",
      "torch.Size([1, 1, 30, 45])\n",
      "torch.Size([1, 1, 32, 32])\n"
     ]
    },
    {
     "name": "stderr",
     "output_type": "stream",
     "text": [
      "\n"
     ]
    },
    {
     "name": "stdout",
     "output_type": "stream",
     "text": [
      "torch.Size([1, 1, 30, 45])\n",
      "torch.Size([1, 1, 32, 32])\n",
      "torch.Size([1, 1, 30, 45])\n",
      "torch.Size([1, 1, 32, 32])\n"
     ]
    },
    {
     "name": "stderr",
     "output_type": "stream",
     "text": []
    },
    {
     "name": "stdout",
     "output_type": "stream",
     "text": [
      "torch.Size([1, 1, 30, 45])\n",
      "torch.Size([1, 1, 32, 32])\n",
      "torch.Size([1, 1, 30, 45])\n",
      "torch.Size([1, 1, 32, 32])\n",
      "torch.Size([1, 1, 30, 45])"
     ]
    },
    {
     "name": "stderr",
     "output_type": "stream",
     "text": []
    },
    {
     "name": "stdout",
     "output_type": "stream",
     "text": [
      "\n",
      "torch.Size([1, 1, 32, 32])\n",
      "torch.Size([1, 1, 30, 45])\n",
      "torch.Size([1, 1, 32, 32])\n",
      "torch.Size([1, 1, 30, 45])\n"
     ]
    },
    {
     "name": "stderr",
     "output_type": "stream",
     "text": []
    },
    {
     "name": "stdout",
     "output_type": "stream",
     "text": [
      "torch.Size([1, 1, 32, 32])\n",
      "torch.Size([1, 1, 30, 45])\n",
      "torch.Size([1, 1, 32, 32])\n",
      "torch.Size([1, 1, 30, 45])"
     ]
    },
    {
     "name": "stderr",
     "output_type": "stream",
     "text": []
    },
    {
     "name": "stdout",
     "output_type": "stream",
     "text": [
      "\n",
      "torch.Size([1, 1, 32, 32])\n",
      "torch.Size([1, 1, 30, 45])\n",
      "torch.Size([1, 1, 32, 32])\n",
      "torch.Size([1, 1, 30, 45])\n",
      "torch.Size([1, 1, 32, 32])\n"
     ]
    },
    {
     "name": "stderr",
     "output_type": "stream",
     "text": []
    },
    {
     "name": "stdout",
     "output_type": "stream",
     "text": [
      "torch.Size([1, 1, 30, 45])\n",
      "torch.Size([1, 1, 32, 32])\n",
      "torch.Size([1, 1, 30, 45])\n",
      "torch.Size([1, 1, 32, 32])\n",
      "torch.Size([1, 1, 30, 45])"
     ]
    },
    {
     "name": "stderr",
     "output_type": "stream",
     "text": []
    },
    {
     "name": "stdout",
     "output_type": "stream",
     "text": [
      "\n",
      "torch.Size([1, 1, 32, 32])\n",
      "torch.Size([1, 1, 30, 45])\n",
      "torch.Size([1, 1, 32, 32])\n",
      "torch.Size([1, 1, 30, 45])\n",
      "torch.Size([1, 1, 32, 32])\n"
     ]
    },
    {
     "name": "stderr",
     "output_type": "stream",
     "text": []
    },
    {
     "name": "stdout",
     "output_type": "stream",
     "text": [
      "torch.Size([1, 1, 30, 45])\n",
      "torch.Size([1, 1, 32, 32])\n",
      "torch.Size([1, 1, 30, 45])\n",
      "torch.Size([1, 1, 32, 32])\n"
     ]
    },
    {
     "name": "stderr",
     "output_type": "stream",
     "text": []
    },
    {
     "name": "stdout",
     "output_type": "stream",
     "text": [
      "torch.Size([1, 1, 30, 45])\n",
      "torch.Size([1, 1, 32, 32])\n",
      "torch.Size([1, 1, 30, 45])\n",
      "torch.Size([1, 1, 32, 32])\n"
     ]
    },
    {
     "name": "stderr",
     "output_type": "stream",
     "text": []
    },
    {
     "name": "stdout",
     "output_type": "stream",
     "text": [
      "torch.Size([1, 1, 30, 45])\n",
      "torch.Size([1, 1, 32, 32])\n",
      "torch.Size([1, 1, 30, 45])\n",
      "torch.Size([1, 1, 32, 32])\n"
     ]
    },
    {
     "name": "stderr",
     "output_type": "stream",
     "text": []
    },
    {
     "name": "stdout",
     "output_type": "stream",
     "text": [
      "torch.Size([1, 1, 30, 45])\n",
      "torch.Size([1, 1, 32, 32])\n",
      "torch.Size([1, 1, 30, 45])\n",
      "torch.Size([1, 1, 32, 32])\n",
      "torch.Size([1, 1, 30, 45])"
     ]
    },
    {
     "name": "stderr",
     "output_type": "stream",
     "text": []
    },
    {
     "name": "stdout",
     "output_type": "stream",
     "text": [
      "\n",
      "torch.Size([1, 1, 32, 32])\n",
      "torch.Size([1, 1, 30, 45])\n",
      "torch.Size([1, 1, 32, 32])\n",
      "torch.Size([1, 1, 30, 45])\n",
      "torch.Size([1, 1, 32, 32])\n"
     ]
    },
    {
     "name": "stderr",
     "output_type": "stream",
     "text": []
    },
    {
     "name": "stdout",
     "output_type": "stream",
     "text": [
      "torch.Size([1, 1, 30, 45])\n",
      "torch.Size([1, 1, 32, 32])\n",
      "torch.Size([1, 1, 30, 45])\n",
      "torch.Size([1, 1, 32, 32])\n",
      "torch.Size([1, 1, 30, 45])\n",
      "torch.Size([1, 1, 32, 32])\n"
     ]
    },
    {
     "name": "stderr",
     "output_type": "stream",
     "text": []
    },
    {
     "name": "stdout",
     "output_type": "stream",
     "text": [
      "torch.Size([1, 1, 30, 45])\n",
      "torch.Size([1, 1, 32, 32])\n",
      "torch.Size([1, 1, 30, 45])\n",
      "torch.Size([1, 1, 32, 32])\n",
      "torch.Size([1, 1, 30, 45])"
     ]
    },
    {
     "name": "stderr",
     "output_type": "stream",
     "text": []
    },
    {
     "name": "stdout",
     "output_type": "stream",
     "text": [
      "\n",
      "torch.Size([1, 1, 32, 32])\n",
      "torch.Size([1, 1, 30, 45])\n",
      "torch.Size([1, 1, 32, 32])\n",
      "torch.Size([1, 1, 30, 45])"
     ]
    },
    {
     "name": "stderr",
     "output_type": "stream",
     "text": []
    },
    {
     "name": "stdout",
     "output_type": "stream",
     "text": [
      "\n",
      "torch.Size([1, 1, 32, 32])\n",
      "torch.Size([1, 1, 30, 45])\n",
      "torch.Size([1, 1, 32, 32])\n",
      "torch.Size([1, 1, 30, 45])"
     ]
    },
    {
     "name": "stderr",
     "output_type": "stream",
     "text": []
    },
    {
     "name": "stdout",
     "output_type": "stream",
     "text": [
      "\n",
      "torch.Size([1, 1, 32, 32])\n",
      "torch.Size([1, 1, 30, 45])\n",
      "torch.Size([1, 1, 32, 32])\n",
      "torch.Size([1, 1, 30, 45])\n",
      "torch.Size([1, 1, 32, 32])\n"
     ]
    },
    {
     "name": "stderr",
     "output_type": "stream",
     "text": []
    },
    {
     "name": "stdout",
     "output_type": "stream",
     "text": [
      "torch.Size([1, 1, 30, 45])\n",
      "torch.Size([1, 1, 32, 32])\n",
      "torch.Size([1, 1, 30, 45])\n",
      "torch.Size([1, 1, 32, 32])\n",
      "torch.Size([1, 1, 30, 45])"
     ]
    },
    {
     "name": "stderr",
     "output_type": "stream",
     "text": []
    },
    {
     "name": "stdout",
     "output_type": "stream",
     "text": [
      "\n",
      "torch.Size([1, 1, 32, 32])\n",
      "torch.Size([1, 1, 30, 45])\n",
      "torch.Size([1, 1, 32, 32])\n"
     ]
    },
    {
     "name": "stderr",
     "output_type": "stream",
     "text": []
    },
    {
     "name": "stdout",
     "output_type": "stream",
     "text": [
      "torch.Size([1, 1, 30, 45])\n",
      "torch.Size([1, 1, 32, 32])\n",
      "torch.Size([1, 1, 30, 45])\n",
      "torch.Size([1, 1, 32, 32])\n"
     ]
    },
    {
     "name": "stderr",
     "output_type": "stream",
     "text": []
    },
    {
     "name": "stdout",
     "output_type": "stream",
     "text": [
      "torch.Size([1, 1, 30, 45])\n",
      "torch.Size([1, 1, 32, 32])\n"
     ]
    },
    {
     "name": "stderr",
     "output_type": "stream",
     "text": []
    },
    {
     "name": "stdout",
     "output_type": "stream",
     "text": [
      "torch.Size([1, 1, 30, 45])\n",
      "torch.Size([1, 1, 32, 32])\n"
     ]
    },
    {
     "name": "stderr",
     "output_type": "stream",
     "text": []
    },
    {
     "name": "stdout",
     "output_type": "stream",
     "text": [
      "torch.Size([1, 1, 30, 45])\n",
      "torch.Size([1, 1, 32, 32])\n"
     ]
    },
    {
     "name": "stderr",
     "output_type": "stream",
     "text": []
    },
    {
     "name": "stdout",
     "output_type": "stream",
     "text": [
      "torch.Size([1, 1, 30, 45])\n",
      "torch.Size([1, 1, 32, 32])\n"
     ]
    },
    {
     "name": "stderr",
     "output_type": "stream",
     "text": [
      "\n",
      " 70%|███████   | 1404/2000 [04:27<04:22,  2.27it/s]"
     ]
    },
    {
     "name": "stdout",
     "output_type": "stream",
     "text": [
      "torch.Size([1, 1, 30, 45])\n",
      "torch.Size([1, 1, 32, 32])\n"
     ]
    },
    {
     "name": "stderr",
     "output_type": "stream",
     "text": [
      "\u001b[A"
     ]
    },
    {
     "name": "stdout",
     "output_type": "stream",
     "text": [
      "torch.Size([1, 1, 30, 45])\n",
      "torch.Size([1, 1, 32, 32])\n",
      "torch.Size([1, 1, 30, 45])\n",
      "torch.Size([1, 1, 32, 32])\n"
     ]
    },
    {
     "name": "stderr",
     "output_type": "stream",
     "text": []
    },
    {
     "name": "stdout",
     "output_type": "stream",
     "text": [
      "torch.Size([1, 1, 30, 45])\n",
      "torch.Size([1, 1, 32, 32])\n",
      "torch.Size([1, 1, 30, 45])\n",
      "torch.Size([1, 1, 32, 32])\n"
     ]
    },
    {
     "name": "stderr",
     "output_type": "stream",
     "text": []
    },
    {
     "name": "stdout",
     "output_type": "stream",
     "text": [
      "torch.Size([1, 1, 30, 45])\n",
      "torch.Size([1, 1, 32, 32])\n"
     ]
    },
    {
     "name": "stderr",
     "output_type": "stream",
     "text": []
    },
    {
     "name": "stdout",
     "output_type": "stream",
     "text": [
      "torch.Size([1, 1, 30, 45])\n",
      "torch.Size([1, 1, 32, 32])\n",
      "torch.Size([1, 1, 30, 45])\n",
      "torch.Size([1, 1, 32, 32])\n"
     ]
    },
    {
     "name": "stderr",
     "output_type": "stream",
     "text": []
    },
    {
     "name": "stdout",
     "output_type": "stream",
     "text": [
      "torch.Size([1, 1, 30, 45])\n",
      "torch.Size([1, 1, 32, 32])\n",
      "torch.Size([1, 1, 30, 45])\n",
      "torch.Size([1, 1, 32, 32])\n"
     ]
    },
    {
     "name": "stderr",
     "output_type": "stream",
     "text": []
    },
    {
     "name": "stdout",
     "output_type": "stream",
     "text": [
      "torch.Size([1, 1, 30, 45])\n",
      "torch.Size([1, 1, 32, 32])\n",
      "torch.Size([1, 1, 30, 45])\n",
      "torch.Size([1, 1, 32, 32])\n"
     ]
    },
    {
     "name": "stderr",
     "output_type": "stream",
     "text": []
    },
    {
     "name": "stdout",
     "output_type": "stream",
     "text": [
      "torch.Size([1, 1, 30, 45])\n",
      "torch.Size([1, 1, 32, 32])\n",
      "torch.Size([1, 1, 30, 45])\n",
      "torch.Size([1, 1, 32, 32])\n",
      "torch.Size([1, 1, 30, 45])\n",
      "torch.Size([1, 1, 32, 32])\n"
     ]
    },
    {
     "name": "stderr",
     "output_type": "stream",
     "text": []
    },
    {
     "name": "stdout",
     "output_type": "stream",
     "text": [
      "torch.Size([1, 1, 30, 45])\n",
      "torch.Size([1, 1, 32, 32])\n",
      "torch.Size([1, 1, 30, 45])\n",
      "torch.Size([1, 1, 32, 32])\n"
     ]
    },
    {
     "name": "stderr",
     "output_type": "stream",
     "text": []
    },
    {
     "name": "stdout",
     "output_type": "stream",
     "text": [
      "torch.Size([1, 1, 30, 45])\n",
      "torch.Size([1, 1, 32, 32])\n",
      "torch.Size([1, 1, 30, 45])\n",
      "torch.Size([1, 1, 32, 32])\n",
      "torch.Size([1, 1, 30, 45])\n"
     ]
    },
    {
     "name": "stderr",
     "output_type": "stream",
     "text": []
    },
    {
     "name": "stdout",
     "output_type": "stream",
     "text": [
      "torch.Size([1, 1, 32, 32])\n",
      "torch.Size([1, 1, 30, 45])\n",
      "torch.Size([1, 1, 32, 32])\n",
      "torch.Size([1, 1, 30, 45])"
     ]
    },
    {
     "name": "stderr",
     "output_type": "stream",
     "text": []
    },
    {
     "name": "stdout",
     "output_type": "stream",
     "text": [
      "\n",
      "torch.Size([1, 1, 32, 32])\n",
      "torch.Size([1, 1, 30, 45])\n",
      "torch.Size([1, 1, 32, 32])\n"
     ]
    },
    {
     "name": "stderr",
     "output_type": "stream",
     "text": []
    },
    {
     "name": "stdout",
     "output_type": "stream",
     "text": [
      "torch.Size([1, 1, 30, 45])\n",
      "torch.Size([1, 1, 32, 32])\n",
      "torch.Size([1, 1, 30, 45])\n",
      "torch.Size([1, 1, 32, 32])\n"
     ]
    },
    {
     "name": "stderr",
     "output_type": "stream",
     "text": []
    },
    {
     "name": "stdout",
     "output_type": "stream",
     "text": [
      "torch.Size([1, 1, 30, 45])\n",
      "torch.Size([1, 1, 32, 32])\n",
      "torch.Size([1, 1, 30, 45])\n",
      "torch.Size([1, 1, 32, 32])\n"
     ]
    },
    {
     "name": "stderr",
     "output_type": "stream",
     "text": []
    },
    {
     "name": "stdout",
     "output_type": "stream",
     "text": [
      "torch.Size([1, 1, 30, 45])\n",
      "torch.Size([1, 1, 32, 32])\n",
      "torch.Size([1, 1, 30, 45])\n",
      "torch.Size([1, 1, 32, 32])\n"
     ]
    },
    {
     "name": "stderr",
     "output_type": "stream",
     "text": []
    },
    {
     "name": "stdout",
     "output_type": "stream",
     "text": [
      "torch.Size([1, 1, 30, 45])\n",
      "torch.Size([1, 1, 32, 32])\n",
      "torch.Size([1, 1, 30, 45])\n",
      "torch.Size([1, 1, 32, 32])\n"
     ]
    },
    {
     "name": "stderr",
     "output_type": "stream",
     "text": []
    },
    {
     "name": "stdout",
     "output_type": "stream",
     "text": [
      "torch.Size([1, 1, 30, 45])\n",
      "torch.Size([1, 1, 32, 32])\n",
      "torch.Size([1, 1, 30, 45])\n",
      "torch.Size([1, 1, 32, 32])\n"
     ]
    },
    {
     "name": "stderr",
     "output_type": "stream",
     "text": []
    },
    {
     "name": "stdout",
     "output_type": "stream",
     "text": [
      "torch.Size([1, 1, 30, 45])\n",
      "torch.Size([1, 1, 32, 32])\n"
     ]
    },
    {
     "name": "stderr",
     "output_type": "stream",
     "text": []
    },
    {
     "name": "stdout",
     "output_type": "stream",
     "text": [
      "torch.Size([1, 1, 30, 45])\n",
      "torch.Size([1, 1, 32, 32])\n",
      "torch.Size([1, 1, 30, 45])\n",
      "torch.Size([1, 1, 32, 32])\n",
      "torch.Size([1, 1, 30, 45])\n",
      "torch.Size([1, 1, 32, 32])\n"
     ]
    },
    {
     "name": "stderr",
     "output_type": "stream",
     "text": []
    },
    {
     "name": "stdout",
     "output_type": "stream",
     "text": [
      "torch.Size([1, 1, 30, 45])\n",
      "torch.Size([1, 1, 32, 32])\n",
      "torch.Size([1, 1, 30, 45])\n",
      "torch.Size([1, 1, 32, 32])\n"
     ]
    },
    {
     "name": "stderr",
     "output_type": "stream",
     "text": []
    },
    {
     "name": "stdout",
     "output_type": "stream",
     "text": [
      "torch.Size([1, 1, 30, 45])\n",
      "torch.Size([1, 1, 32, 32])\n",
      "torch.Size([1, 1, 30, 45])\n",
      "torch.Size([1, 1, 32, 32])\n"
     ]
    },
    {
     "name": "stderr",
     "output_type": "stream",
     "text": []
    },
    {
     "name": "stdout",
     "output_type": "stream",
     "text": [
      "torch.Size([1, 1, 30, 45])\n",
      "torch.Size([1, 1, 32, 32])\n",
      "torch.Size([1, 1, 30, 45])\n",
      "torch.Size([1, 1, 32, 32])\n",
      "torch.Size([1, 1, 30, 45])"
     ]
    },
    {
     "name": "stderr",
     "output_type": "stream",
     "text": []
    },
    {
     "name": "stdout",
     "output_type": "stream",
     "text": [
      "\n",
      "torch.Size([1, 1, 32, 32])\n",
      "torch.Size([1, 1, 30, 45])\n",
      "torch.Size([1, 1, 32, 32])\n",
      "torch.Size([1, 1, 30, 45])"
     ]
    },
    {
     "name": "stderr",
     "output_type": "stream",
     "text": []
    },
    {
     "name": "stdout",
     "output_type": "stream",
     "text": [
      "\n",
      "torch.Size([1, 1, 32, 32])\n",
      "torch.Size([1, 1, 30, 45])\n",
      "torch.Size([1, 1, 32, 32])\n"
     ]
    },
    {
     "name": "stderr",
     "output_type": "stream",
     "text": [
      "\n"
     ]
    },
    {
     "name": "stdout",
     "output_type": "stream",
     "text": [
      "torch.Size([1, 1, 30, 45])\n",
      "torch.Size([1, 1, 32, 32])\n"
     ]
    },
    {
     "name": "stderr",
     "output_type": "stream",
     "text": []
    },
    {
     "name": "stdout",
     "output_type": "stream",
     "text": [
      "torch.Size([1, 1, 30, 45])\n",
      "torch.Size([1, 1, 32, 32])\n"
     ]
    },
    {
     "name": "stderr",
     "output_type": "stream",
     "text": []
    },
    {
     "name": "stdout",
     "output_type": "stream",
     "text": [
      "torch.Size([1, 1, 30, 45])\n",
      "torch.Size([1, 1, 32, 32])\n",
      "torch.Size([1, 1, 30, 45])"
     ]
    },
    {
     "name": "stderr",
     "output_type": "stream",
     "text": []
    },
    {
     "name": "stdout",
     "output_type": "stream",
     "text": [
      "\n",
      "torch.Size([1, 1, 32, 32])\n",
      "torch.Size([1, 1, 30, 45])\n",
      "torch.Size([1, 1, 32, 32])\n"
     ]
    },
    {
     "name": "stderr",
     "output_type": "stream",
     "text": []
    },
    {
     "name": "stdout",
     "output_type": "stream",
     "text": [
      "torch.Size([1, 1, 30, 45])\n",
      "torch.Size([1, 1, 32, 32])\n",
      "torch.Size([1, 1, 30, 45])\n",
      "torch.Size([1, 1, 32, 32])\n"
     ]
    },
    {
     "name": "stderr",
     "output_type": "stream",
     "text": []
    },
    {
     "name": "stdout",
     "output_type": "stream",
     "text": [
      "torch.Size([1, 1, 30, 45])\n",
      "torch.Size([1, 1, 32, 32])\n"
     ]
    },
    {
     "name": "stderr",
     "output_type": "stream",
     "text": []
    },
    {
     "name": "stdout",
     "output_type": "stream",
     "text": [
      "torch.Size([1, 1, 30, 45])\n",
      "torch.Size([1, 1, 32, 32])\n",
      "torch.Size([1, 1, 30, 45])\n",
      "torch.Size([1, 1, 32, 32])\n"
     ]
    },
    {
     "name": "stderr",
     "output_type": "stream",
     "text": []
    },
    {
     "name": "stdout",
     "output_type": "stream",
     "text": [
      "torch.Size([1, 1, 30, 45])\n",
      "torch.Size([1, 1, 32, 32])\n",
      "torch.Size([1, 1, 30, 45])\n",
      "torch.Size([1, 1, 32, 32])\n"
     ]
    },
    {
     "name": "stderr",
     "output_type": "stream",
     "text": []
    },
    {
     "name": "stdout",
     "output_type": "stream",
     "text": [
      "torch.Size([1, 1, 30, 45])\n",
      "torch.Size([1, 1, 32, 32])\n",
      "torch.Size([1, 1, 30, 45])\n",
      "torch.Size([1, 1, 32, 32])\n"
     ]
    },
    {
     "name": "stderr",
     "output_type": "stream",
     "text": []
    },
    {
     "name": "stdout",
     "output_type": "stream",
     "text": [
      "torch.Size([1, 1, 30, 45])\n",
      "torch.Size([1, 1, 32, 32])\n",
      "torch.Size([1, 1, 30, 45])\n",
      "torch.Size([1, 1, 32, 32])\n",
      "torch.Size([1, 1, 30, 45])"
     ]
    },
    {
     "name": "stderr",
     "output_type": "stream",
     "text": []
    },
    {
     "name": "stdout",
     "output_type": "stream",
     "text": [
      "\n",
      "torch.Size([1, 1, 32, 32])\n",
      "torch.Size([1, 1, 30, 45])\n",
      "torch.Size([1, 1, 32, 32])\n"
     ]
    },
    {
     "name": "stderr",
     "output_type": "stream",
     "text": []
    },
    {
     "name": "stdout",
     "output_type": "stream",
     "text": [
      "torch.Size([1, 1, 30, 45])\n",
      "torch.Size([1, 1, 32, 32])\n",
      "torch.Size([1, 1, 30, 45])\n",
      "torch.Size([1, 1, 32, 32])\n"
     ]
    },
    {
     "name": "stderr",
     "output_type": "stream",
     "text": []
    },
    {
     "name": "stdout",
     "output_type": "stream",
     "text": [
      "torch.Size([1, 1, 30, 45])\n",
      "torch.Size([1, 1, 32, 32])\n",
      "torch.Size([1, 1, 30, 45])\n",
      "torch.Size([1, 1, 32, 32])\n"
     ]
    },
    {
     "name": "stderr",
     "output_type": "stream",
     "text": []
    },
    {
     "name": "stdout",
     "output_type": "stream",
     "text": [
      "torch.Size([1, 1, 30, 45])\n",
      "torch.Size([1, 1, 32, 32])\n",
      "torch.Size([1, 1, 30, 45])\n",
      "torch.Size([1, 1, 32, 32])\n",
      "torch.Size([1, 1, 30, 45])"
     ]
    },
    {
     "name": "stderr",
     "output_type": "stream",
     "text": []
    },
    {
     "name": "stdout",
     "output_type": "stream",
     "text": [
      "\n",
      "torch.Size([1, 1, 32, 32])\n",
      "torch.Size([1, 1, 30, 45])\n",
      "torch.Size([1, 1, 32, 32])\n"
     ]
    },
    {
     "name": "stderr",
     "output_type": "stream",
     "text": []
    },
    {
     "name": "stdout",
     "output_type": "stream",
     "text": [
      "torch.Size([1, 1, 30, 45])\n",
      "torch.Size([1, 1, 32, 32])\n",
      "torch.Size([1, 1, 30, 45])\n",
      "torch.Size([1, 1, 32, 32])\n"
     ]
    },
    {
     "name": "stderr",
     "output_type": "stream",
     "text": []
    },
    {
     "name": "stdout",
     "output_type": "stream",
     "text": [
      "torch.Size([1, 1, 30, 45])\n",
      "torch.Size([1, 1, 32, 32])\n",
      "torch.Size([1, 1, 30, 45])\n",
      "torch.Size([1, 1, 32, 32])\n"
     ]
    },
    {
     "name": "stderr",
     "output_type": "stream",
     "text": []
    },
    {
     "name": "stdout",
     "output_type": "stream",
     "text": [
      "torch.Size([1, 1, 30, 45])\n",
      "torch.Size([1, 1, 32, 32])\n",
      "torch.Size([1, 1, 30, 45])\n",
      "torch.Size([1, 1, 32, 32])\n"
     ]
    },
    {
     "name": "stderr",
     "output_type": "stream",
     "text": []
    },
    {
     "name": "stdout",
     "output_type": "stream",
     "text": [
      "torch.Size([1, 1, 30, 45])\n",
      "torch.Size([1, 1, 32, 32])\n",
      "torch.Size([1, 1, 30, 45])"
     ]
    },
    {
     "name": "stderr",
     "output_type": "stream",
     "text": []
    },
    {
     "name": "stdout",
     "output_type": "stream",
     "text": [
      "\n",
      "torch.Size([1, 1, 32, 32])\n",
      "torch.Size([1, 1, 30, 45])\n",
      "torch.Size([1, 1, 32, 32])\n"
     ]
    },
    {
     "name": "stderr",
     "output_type": "stream",
     "text": []
    },
    {
     "name": "stdout",
     "output_type": "stream",
     "text": [
      "torch.Size([1, 1, 30, 45])\n",
      "torch.Size([1, 1, 32, 32])\n",
      "torch.Size([1, 1, 30, 45])\n",
      "torch.Size([1, 1, 32, 32])\n"
     ]
    },
    {
     "name": "stderr",
     "output_type": "stream",
     "text": []
    },
    {
     "name": "stdout",
     "output_type": "stream",
     "text": [
      "torch.Size([1, 1, 30, 45])\n",
      "torch.Size([1, 1, 32, 32])\n",
      "torch.Size([1, 1, 30, 45])\n",
      "torch.Size([1, 1, 32, 32])\n",
      "torch.Size([1, 1, 30, 45])"
     ]
    },
    {
     "name": "stderr",
     "output_type": "stream",
     "text": []
    },
    {
     "name": "stdout",
     "output_type": "stream",
     "text": [
      "\n",
      "torch.Size([1, 1, 32, 32])\n",
      "torch.Size([1, 1, 30, 45])\n",
      "torch.Size([1, 1, 32, 32])\n",
      "torch.Size([1, 1, 30, 45])"
     ]
    },
    {
     "name": "stderr",
     "output_type": "stream",
     "text": []
    },
    {
     "name": "stdout",
     "output_type": "stream",
     "text": [
      "\n",
      "torch.Size([1, 1, 32, 32])\n",
      "torch.Size([1, 1, 30, 45])\n",
      "torch.Size([1, 1, 32, 32])\n"
     ]
    },
    {
     "name": "stderr",
     "output_type": "stream",
     "text": []
    },
    {
     "name": "stdout",
     "output_type": "stream",
     "text": [
      "torch.Size([1, 1, 30, 45])\n",
      "torch.Size([1, 1, 32, 32])\n",
      "torch.Size([1, 1, 30, 45])"
     ]
    },
    {
     "name": "stderr",
     "output_type": "stream",
     "text": []
    },
    {
     "name": "stdout",
     "output_type": "stream",
     "text": [
      "\n",
      "torch.Size([1, 1, 32, 32])\n",
      "torch.Size([1, 1, 30, 45])\n",
      "torch.Size([1, 1, 32, 32])\n"
     ]
    },
    {
     "name": "stderr",
     "output_type": "stream",
     "text": []
    },
    {
     "name": "stdout",
     "output_type": "stream",
     "text": [
      "torch.Size([1, 1, 30, 45])\n",
      "torch.Size([1, 1, 32, 32])\n",
      "torch.Size([1, 1, 30, 45])\n",
      "torch.Size([1, 1, 32, 32])\n"
     ]
    },
    {
     "name": "stderr",
     "output_type": "stream",
     "text": []
    },
    {
     "name": "stdout",
     "output_type": "stream",
     "text": [
      "torch.Size([1, 1, 30, 45])\n",
      "torch.Size([1, 1, 32, 32])\n",
      "torch.Size([1, 1, 30, 45])\n",
      "torch.Size([1, 1, 32, 32])\n"
     ]
    },
    {
     "name": "stderr",
     "output_type": "stream",
     "text": []
    },
    {
     "name": "stdout",
     "output_type": "stream",
     "text": [
      "torch.Size([1, 1, 30, 45])\n",
      "torch.Size([1, 1, 32, 32])\n",
      "torch.Size([1, 1, 30, 45])"
     ]
    },
    {
     "name": "stderr",
     "output_type": "stream",
     "text": []
    },
    {
     "name": "stdout",
     "output_type": "stream",
     "text": [
      "\n",
      "torch.Size([1, 1, 32, 32])\n",
      "torch.Size([1, 1, 30, 45])\n",
      "torch.Size([1, 1, 32, 32])\n"
     ]
    },
    {
     "name": "stderr",
     "output_type": "stream",
     "text": []
    },
    {
     "name": "stdout",
     "output_type": "stream",
     "text": [
      "torch.Size([1, 1, 30, 45])\n",
      "torch.Size([1, 1, 32, 32])\n",
      "torch.Size([1, 1, 30, 45])\n",
      "torch.Size([1, 1, 32, 32])\n"
     ]
    },
    {
     "name": "stderr",
     "output_type": "stream",
     "text": []
    },
    {
     "name": "stdout",
     "output_type": "stream",
     "text": [
      "torch.Size([1, 1, 30, 45])\n",
      "torch.Size([1, 1, 32, 32])\n",
      "torch.Size([1, 1, 30, 45])\n",
      "torch.Size([1, 1, 32, 32])\n"
     ]
    },
    {
     "name": "stderr",
     "output_type": "stream",
     "text": []
    },
    {
     "name": "stdout",
     "output_type": "stream",
     "text": [
      "torch.Size([1, 1, 30, 45])\n",
      "torch.Size([1, 1, 32, 32])\n",
      "torch.Size([1, 1, 30, 45])\n",
      "torch.Size([1, 1, 32, 32])\n",
      "torch.Size([1, 1, 30, 45])"
     ]
    },
    {
     "name": "stderr",
     "output_type": "stream",
     "text": []
    },
    {
     "name": "stdout",
     "output_type": "stream",
     "text": [
      "\n",
      "torch.Size([1, 1, 32, 32])\n",
      "torch.Size([1, 1, 30, 45])\n",
      "torch.Size([1, 1, 32, 32])\n"
     ]
    },
    {
     "name": "stderr",
     "output_type": "stream",
     "text": []
    },
    {
     "name": "stdout",
     "output_type": "stream",
     "text": [
      "torch.Size([1, 1, 30, 45])\n",
      "torch.Size([1, 1, 32, 32])\n",
      "torch.Size([1, 1, 30, 45])\n",
      "torch.Size([1, 1, 32, 32])\n"
     ]
    },
    {
     "name": "stderr",
     "output_type": "stream",
     "text": []
    },
    {
     "name": "stdout",
     "output_type": "stream",
     "text": [
      "torch.Size([1, 1, 30, 45])\n",
      "torch.Size([1, 1, 32, 32])\n",
      "torch.Size([1, 1, 30, 45])\n",
      "torch.Size([1, 1, 32, 32])\n"
     ]
    },
    {
     "name": "stderr",
     "output_type": "stream",
     "text": []
    },
    {
     "name": "stdout",
     "output_type": "stream",
     "text": [
      "torch.Size([1, 1, 30, 45])\n",
      "torch.Size([1, 1, 32, 32])\n"
     ]
    },
    {
     "name": "stderr",
     "output_type": "stream",
     "text": [
      "\n"
     ]
    },
    {
     "name": "stdout",
     "output_type": "stream",
     "text": [
      "torch.Size([1, 1, 30, 45])\n",
      "torch.Size([1, 1, 32, 32])\n",
      "torch.Size([1, 1, 30, 45])\n",
      "torch.Size([1, 1, 32, 32])\n"
     ]
    },
    {
     "name": "stderr",
     "output_type": "stream",
     "text": []
    },
    {
     "name": "stdout",
     "output_type": "stream",
     "text": [
      "torch.Size([1, 1, 30, 45])\n",
      "torch.Size([1, 1, 32, 32])\n",
      "torch.Size([1, 1, 30, 45])\n",
      "torch.Size([1, 1, 32, 32])\n"
     ]
    },
    {
     "name": "stderr",
     "output_type": "stream",
     "text": []
    },
    {
     "name": "stdout",
     "output_type": "stream",
     "text": [
      "torch.Size([1, 1, 30, 45])\n",
      "torch.Size([1, 1, 32, 32])\n",
      "torch.Size([1, 1, 30, 45])\n",
      "torch.Size([1, 1, 32, 32])\n"
     ]
    },
    {
     "name": "stderr",
     "output_type": "stream",
     "text": []
    },
    {
     "name": "stdout",
     "output_type": "stream",
     "text": [
      "torch.Size([1, 1, 30, 45])\n",
      "torch.Size([1, 1, 32, 32])\n",
      "torch.Size([1, 1, 30, 45])\n",
      "torch.Size([1, 1, 32, 32])\n"
     ]
    },
    {
     "name": "stderr",
     "output_type": "stream",
     "text": []
    },
    {
     "name": "stdout",
     "output_type": "stream",
     "text": [
      "torch.Size([1, 1, 30, 45])\n",
      "torch.Size([1, 1, 32, 32])\n",
      "torch.Size([1, 1, 30, 45])\n",
      "torch.Size([1, 1, 32, 32])\n",
      "torch.Size([1, 1, 30, 45])"
     ]
    },
    {
     "name": "stderr",
     "output_type": "stream",
     "text": []
    },
    {
     "name": "stdout",
     "output_type": "stream",
     "text": [
      "\n",
      "torch.Size([1, 1, 32, 32])\n",
      "torch.Size([1, 1, 30, 45])\n",
      "torch.Size([1, 1, 32, 32])\n"
     ]
    },
    {
     "name": "stderr",
     "output_type": "stream",
     "text": []
    },
    {
     "name": "stdout",
     "output_type": "stream",
     "text": [
      "torch.Size([1, 1, 30, 45])\n",
      "torch.Size([1, 1, 32, 32])\n",
      "torch.Size([1, 1, 30, 45])\n",
      "torch.Size([1, 1, 32, 32])\n"
     ]
    },
    {
     "name": "stderr",
     "output_type": "stream",
     "text": []
    },
    {
     "name": "stdout",
     "output_type": "stream",
     "text": [
      "torch.Size([1, 1, 30, 45])\n",
      "torch.Size([1, 1, 32, 32])\n",
      "torch.Size([1, 1, 30, 45])\n",
      "torch.Size([1, 1, 32, 32])\n",
      "torch.Size([1, 1, 30, 45])"
     ]
    },
    {
     "name": "stderr",
     "output_type": "stream",
     "text": []
    },
    {
     "name": "stdout",
     "output_type": "stream",
     "text": [
      "\n",
      "torch.Size([1, 1, 32, 32])\n",
      "torch.Size([1, 1, 30, 45])\n",
      "torch.Size([1, 1, 32, 32])\n",
      "torch.Size([1, 1, 30, 45])"
     ]
    },
    {
     "name": "stderr",
     "output_type": "stream",
     "text": []
    },
    {
     "name": "stdout",
     "output_type": "stream",
     "text": [
      "\n",
      "torch.Size([1, 1, 32, 32])\n",
      "torch.Size([1, 1, 30, 45])\n",
      "torch.Size([1, 1, 32, 32])\n"
     ]
    },
    {
     "name": "stderr",
     "output_type": "stream",
     "text": []
    },
    {
     "name": "stdout",
     "output_type": "stream",
     "text": [
      "torch.Size([1, 1, 30, 45])\n",
      "torch.Size([1, 1, 32, 32])\n",
      "torch.Size([1, 1, 30, 45])\n",
      "torch.Size([1, 1, 32, 32])\n"
     ]
    },
    {
     "name": "stderr",
     "output_type": "stream",
     "text": []
    },
    {
     "name": "stdout",
     "output_type": "stream",
     "text": [
      "torch.Size([1, 1, 30, 45])\n",
      "torch.Size([1, 1, 32, 32])\n",
      "torch.Size([1, 1, 30, 45])\n",
      "torch.Size([1, 1, 32, 32])\n"
     ]
    },
    {
     "name": "stderr",
     "output_type": "stream",
     "text": []
    },
    {
     "name": "stdout",
     "output_type": "stream",
     "text": [
      "torch.Size([1, 1, 30, 45])\n",
      "torch.Size([1, 1, 32, 32])\n",
      "torch.Size([1, 1, 30, 45])\n",
      "torch.Size([1, 1, 32, 32])\n"
     ]
    },
    {
     "name": "stderr",
     "output_type": "stream",
     "text": []
    },
    {
     "name": "stdout",
     "output_type": "stream",
     "text": [
      "torch.Size([1, 1, 30, 45])\n",
      "torch.Size([1, 1, 32, 32])\n",
      "torch.Size([1, 1, 30, 45])\n",
      "torch.Size([1, 1, 32, 32])\n"
     ]
    },
    {
     "name": "stderr",
     "output_type": "stream",
     "text": []
    },
    {
     "name": "stdout",
     "output_type": "stream",
     "text": [
      "torch.Size([1, 1, 30, 45])\n",
      "torch.Size([1, 1, 32, 32])\n",
      "torch.Size([1, 1, 30, 45])"
     ]
    },
    {
     "name": "stderr",
     "output_type": "stream",
     "text": []
    },
    {
     "name": "stdout",
     "output_type": "stream",
     "text": [
      "\n",
      "torch.Size([1, 1, 32, 32])\n",
      "torch.Size([1, 1, 30, 45])\n",
      "torch.Size([1, 1, 32, 32])\n"
     ]
    },
    {
     "name": "stderr",
     "output_type": "stream",
     "text": []
    },
    {
     "name": "stdout",
     "output_type": "stream",
     "text": [
      "torch.Size([1, 1, 30, 45])\n",
      "torch.Size([1, 1, 32, 32])\n",
      "torch.Size([1, 1, 30, 45])\n",
      "torch.Size([1, 1, 32, 32])\n",
      "torch.Size([1, 1, 30, 45])\n",
      "torch.Size([1, 1, 32, 32])\n"
     ]
    },
    {
     "name": "stderr",
     "output_type": "stream",
     "text": []
    },
    {
     "name": "stdout",
     "output_type": "stream",
     "text": [
      "torch.Size([1, 1, 30, 45])\n",
      "torch.Size([1, 1, 32, 32])\n",
      "torch.Size([1, 1, 30, 45])\n",
      "torch.Size([1, 1, 32, 32])\n",
      "torch.Size([1, 1, 30, 45])"
     ]
    },
    {
     "name": "stderr",
     "output_type": "stream",
     "text": []
    },
    {
     "name": "stdout",
     "output_type": "stream",
     "text": [
      "\n",
      "torch.Size([1, 1, 32, 32])\n",
      "torch.Size([1, 1, 30, 45])\n",
      "torch.Size([1, 1, 32, 32])\n",
      "torch.Size([1, 1, 30, 45])\n",
      "torch.Size([1, 1, 32, 32])\n",
      "torch.Size([1, 1, 30, 45])\n",
      "torch.Size([1, 1, 32, 32])\n"
     ]
    },
    {
     "name": "stderr",
     "output_type": "stream",
     "text": []
    },
    {
     "name": "stdout",
     "output_type": "stream",
     "text": [
      "torch.Size([1, 1, 30, 45])\n",
      "torch.Size([1, 1, 32, 32])\n",
      "torch.Size([1, 1, 30, 45])\n",
      "torch.Size([1, 1, 32, 32])\n"
     ]
    },
    {
     "name": "stderr",
     "output_type": "stream",
     "text": []
    },
    {
     "name": "stdout",
     "output_type": "stream",
     "text": [
      "torch.Size([1, 1, 30, 45])\n",
      "torch.Size([1, 1, 32, 32])\n",
      "torch.Size([1, 1, 30, 45])\n",
      "torch.Size([1, 1, 32, 32])\n"
     ]
    },
    {
     "name": "stderr",
     "output_type": "stream",
     "text": []
    },
    {
     "name": "stdout",
     "output_type": "stream",
     "text": [
      "torch.Size([1, 1, 30, 45])\n",
      "torch.Size([1, 1, 32, 32])\n",
      "torch.Size([1, 1, 30, 45])\n",
      "torch.Size([1, 1, 32, 32])\n"
     ]
    },
    {
     "name": "stderr",
     "output_type": "stream",
     "text": []
    },
    {
     "name": "stdout",
     "output_type": "stream",
     "text": [
      "torch.Size([1, 1, 30, 45])\n",
      "torch.Size([1, 1, 32, 32])\n",
      "torch.Size([1, 1, 30, 45])\n",
      "torch.Size([1, 1, 32, 32])\n"
     ]
    },
    {
     "name": "stderr",
     "output_type": "stream",
     "text": []
    },
    {
     "name": "stdout",
     "output_type": "stream",
     "text": [
      "torch.Size([1, 1, 30, 45])\n",
      "torch.Size([1, 1, 32, 32])\n"
     ]
    },
    {
     "name": "stderr",
     "output_type": "stream",
     "text": []
    },
    {
     "name": "stdout",
     "output_type": "stream",
     "text": [
      "torch.Size([1, 1, 30, 45])\n",
      "torch.Size([1, 1, 32, 32])\n",
      "torch.Size([1, 1, 30, 45])\n",
      "torch.Size([1, 1, 32, 32])\n",
      "torch.Size([1, 1, 30, 45])"
     ]
    },
    {
     "name": "stderr",
     "output_type": "stream",
     "text": []
    },
    {
     "name": "stdout",
     "output_type": "stream",
     "text": [
      "\n",
      "torch.Size([1, 1, 32, 32])\n",
      "torch.Size([1, 1, 30, 45])\n",
      "torch.Size([1, 1, 32, 32])\n"
     ]
    },
    {
     "name": "stderr",
     "output_type": "stream",
     "text": []
    },
    {
     "name": "stdout",
     "output_type": "stream",
     "text": [
      "torch.Size([1, 1, 30, 45])\n",
      "torch.Size([1, 1, 32, 32])\n",
      "torch.Size([1, 1, 30, 45])\n",
      "torch.Size([1, 1, 32, 32])\n"
     ]
    },
    {
     "name": "stderr",
     "output_type": "stream",
     "text": []
    },
    {
     "name": "stdout",
     "output_type": "stream",
     "text": [
      "torch.Size([1, 1, 30, 45])\n",
      "torch.Size([1, 1, 32, 32])\n",
      "torch.Size([1, 1, 30, 45])\n",
      "torch.Size([1, 1, 32, 32])\n",
      "torch.Size([1, 1, 30, 45])"
     ]
    },
    {
     "name": "stderr",
     "output_type": "stream",
     "text": []
    },
    {
     "name": "stdout",
     "output_type": "stream",
     "text": [
      "\n",
      "torch.Size([1, 1, 32, 32])\n",
      "torch.Size([1, 1, 30, 45])\n",
      "torch.Size([1, 1, 32, 32])\n"
     ]
    },
    {
     "name": "stderr",
     "output_type": "stream",
     "text": []
    },
    {
     "name": "stdout",
     "output_type": "stream",
     "text": [
      "torch.Size([1, 1, 30, 45])\n",
      "torch.Size([1, 1, 32, 32])\n",
      "torch.Size([1, 1, 30, 45])\n",
      "torch.Size([1, 1, 32, 32])\n",
      "torch.Size([1, 1, 30, 45])"
     ]
    },
    {
     "name": "stderr",
     "output_type": "stream",
     "text": []
    },
    {
     "name": "stdout",
     "output_type": "stream",
     "text": [
      "\n",
      "torch.Size([1, 1, 32, 32])\n",
      "torch.Size([1, 1, 30, 45])\n",
      "torch.Size([1, 1, 32, 32])\n",
      "torch.Size([1, 1, 30, 45])"
     ]
    },
    {
     "name": "stderr",
     "output_type": "stream",
     "text": []
    },
    {
     "name": "stdout",
     "output_type": "stream",
     "text": [
      "\n",
      "torch.Size([1, 1, 32, 32])\n",
      "torch.Size([1, 1, 30, 45])\n",
      "torch.Size([1, 1, 32, 32])\n",
      "torch.Size([1, 1, 30, 45])"
     ]
    },
    {
     "name": "stderr",
     "output_type": "stream",
     "text": []
    },
    {
     "name": "stdout",
     "output_type": "stream",
     "text": [
      "\n",
      "torch.Size([1, 1, 32, 32])\n",
      "torch.Size([1, 1, 30, 45])\n",
      "torch.Size([1, 1, 32, 32])\n"
     ]
    },
    {
     "name": "stderr",
     "output_type": "stream",
     "text": []
    },
    {
     "name": "stdout",
     "output_type": "stream",
     "text": [
      "torch.Size([1, 1, 30, 45])\n",
      "torch.Size([1, 1, 32, 32])\n",
      "torch.Size([1, 1, 30, 45])\n",
      "torch.Size([1, 1, 32, 32])\n"
     ]
    },
    {
     "name": "stderr",
     "output_type": "stream",
     "text": []
    },
    {
     "name": "stdout",
     "output_type": "stream",
     "text": [
      "torch.Size([1, 1, 30, 45])\n",
      "torch.Size([1, 1, 32, 32])\n",
      "torch.Size([1, 1, 30, 45])\n",
      "torch.Size([1, 1, 32, 32])\n"
     ]
    },
    {
     "name": "stderr",
     "output_type": "stream",
     "text": []
    },
    {
     "name": "stdout",
     "output_type": "stream",
     "text": [
      "torch.Size([1, 1, 30, 45])\n",
      "torch.Size([1, 1, 32, 32])\n",
      "torch.Size([1, 1, 30, 45])\n",
      "torch.Size([1, 1, 32, 32])\n"
     ]
    },
    {
     "name": "stderr",
     "output_type": "stream",
     "text": []
    },
    {
     "name": "stdout",
     "output_type": "stream",
     "text": [
      "torch.Size([1, 1, 30, 45])\n",
      "torch.Size([1, 1, 32, 32])\n",
      "torch.Size([1, 1, 30, 45])\n",
      "torch.Size([1, 1, 32, 32])\n"
     ]
    },
    {
     "name": "stderr",
     "output_type": "stream",
     "text": []
    },
    {
     "name": "stdout",
     "output_type": "stream",
     "text": [
      "torch.Size([1, 1, 30, 45])\n",
      "torch.Size([1, 1, 32, 32])\n",
      "torch.Size([1, 1, 30, 45])\n",
      "torch.Size([1, 1, 32, 32])\n"
     ]
    },
    {
     "name": "stderr",
     "output_type": "stream",
     "text": []
    },
    {
     "name": "stdout",
     "output_type": "stream",
     "text": [
      "torch.Size([1, 1, 30, 45])\n",
      "torch.Size([1, 1, 32, 32])\n",
      "torch.Size([1, 1, 30, 45])\n",
      "torch.Size([1, 1, 32, 32])\n",
      "torch.Size([1, 1, 30, 45])\n"
     ]
    },
    {
     "name": "stderr",
     "output_type": "stream",
     "text": []
    },
    {
     "name": "stdout",
     "output_type": "stream",
     "text": [
      "torch.Size([1, 1, 32, 32])\n",
      "torch.Size([1, 1, 30, 45])\n",
      "torch.Size([1, 1, 32, 32])\n",
      "torch.Size([1, 1, 30, 45])"
     ]
    },
    {
     "name": "stderr",
     "output_type": "stream",
     "text": []
    },
    {
     "name": "stdout",
     "output_type": "stream",
     "text": [
      "\n",
      "torch.Size([1, 1, 32, 32])\n",
      "torch.Size([1, 1, 30, 45])\n",
      "torch.Size([1, 1, 32, 32])\n"
     ]
    },
    {
     "name": "stderr",
     "output_type": "stream",
     "text": []
    },
    {
     "name": "stdout",
     "output_type": "stream",
     "text": [
      "torch.Size([1, 1, 30, 45])\n",
      "torch.Size([1, 1, 32, 32])\n",
      "torch.Size([1, 1, 30, 45])\n",
      "torch.Size([1, 1, 32, 32])\n"
     ]
    },
    {
     "name": "stderr",
     "output_type": "stream",
     "text": []
    },
    {
     "name": "stdout",
     "output_type": "stream",
     "text": [
      "torch.Size([1, 1, 30, 45])\n",
      "torch.Size([1, 1, 32, 32])\n",
      "torch.Size([1, 1, 30, 45])\n",
      "torch.Size([1, 1, 32, 32])\n",
      "torch.Size([1, 1, 30, 45])"
     ]
    },
    {
     "name": "stderr",
     "output_type": "stream",
     "text": []
    },
    {
     "name": "stdout",
     "output_type": "stream",
     "text": [
      "\n",
      "torch.Size([1, 1, 32, 32])\n",
      "torch.Size([1, 1, 30, 45])\n",
      "torch.Size([1, 1, 32, 32])\n"
     ]
    },
    {
     "name": "stderr",
     "output_type": "stream",
     "text": []
    },
    {
     "name": "stdout",
     "output_type": "stream",
     "text": [
      "torch.Size([1, 1, 30, 45])\n",
      "torch.Size([1, 1, 32, 32])\n",
      "torch.Size([1, 1, 30, 45])\n",
      "torch.Size([1, 1, 32, 32])\n"
     ]
    },
    {
     "name": "stderr",
     "output_type": "stream",
     "text": []
    },
    {
     "name": "stdout",
     "output_type": "stream",
     "text": [
      "torch.Size([1, 1, 30, 45])\n",
      "torch.Size([1, 1, 32, 32])\n"
     ]
    },
    {
     "name": "stderr",
     "output_type": "stream",
     "text": []
    },
    {
     "name": "stdout",
     "output_type": "stream",
     "text": [
      "torch.Size([1, 1, 30, 45])\n",
      "torch.Size([1, 1, 32, 32])\n",
      "torch.Size([1, 1, 30, 45])\n",
      "torch.Size([1, 1, 32, 32])\n"
     ]
    },
    {
     "name": "stderr",
     "output_type": "stream",
     "text": []
    },
    {
     "name": "stdout",
     "output_type": "stream",
     "text": [
      "torch.Size([1, 1, 30, 45])\n",
      "torch.Size([1, 1, 32, 32])\n",
      "torch.Size([1, 1, 30, 45])\n",
      "torch.Size([1, 1, 32, 32])\n"
     ]
    },
    {
     "name": "stderr",
     "output_type": "stream",
     "text": []
    },
    {
     "name": "stdout",
     "output_type": "stream",
     "text": [
      "torch.Size([1, 1, 30, 45])\n",
      "torch.Size([1, 1, 32, 32])\n",
      "torch.Size([1, 1, 30, 45])\n",
      "torch.Size([1, 1, 32, 32])\n"
     ]
    },
    {
     "name": "stderr",
     "output_type": "stream",
     "text": []
    },
    {
     "name": "stdout",
     "output_type": "stream",
     "text": [
      "torch.Size([1, 1, 30, 45])\n",
      "torch.Size([1, 1, 32, 32])\n",
      "torch.Size([1, 1, 30, 45])\n",
      "torch.Size([1, 1, 32, 32])\n"
     ]
    },
    {
     "name": "stderr",
     "output_type": "stream",
     "text": []
    },
    {
     "name": "stdout",
     "output_type": "stream",
     "text": [
      "torch.Size([1, 1, 30, 45])\n",
      "torch.Size([1, 1, 32, 32])\n",
      "torch.Size([1, 1, 30, 45])\n",
      "torch.Size([1, 1, 32, 32])\n"
     ]
    },
    {
     "name": "stderr",
     "output_type": "stream",
     "text": []
    },
    {
     "name": "stdout",
     "output_type": "stream",
     "text": [
      "torch.Size([1, 1, 30, 45])\n",
      "torch.Size([1, 1, 32, 32])\n",
      "torch.Size([1, 1, 30, 45])\n",
      "torch.Size([1, 1, 32, 32])\n"
     ]
    },
    {
     "name": "stderr",
     "output_type": "stream",
     "text": []
    },
    {
     "name": "stdout",
     "output_type": "stream",
     "text": [
      "torch.Size([1, 1, 30, 45])\n",
      "torch.Size([1, 1, 32, 32])\n",
      "torch.Size([1, 1, 30, 45])\n",
      "torch.Size([1, 1, 32, 32])\n"
     ]
    },
    {
     "name": "stderr",
     "output_type": "stream",
     "text": []
    },
    {
     "name": "stdout",
     "output_type": "stream",
     "text": [
      "torch.Size([1, 1, 30, 45])\n",
      "torch.Size([1, 1, 32, 32])\n",
      "torch.Size([1, 1, 30, 45])\n",
      "torch.Size([1, 1, 32, 32])\n"
     ]
    },
    {
     "name": "stderr",
     "output_type": "stream",
     "text": []
    },
    {
     "name": "stdout",
     "output_type": "stream",
     "text": [
      "torch.Size([1, 1, 30, 45])\n",
      "torch.Size([1, 1, 32, 32])\n"
     ]
    },
    {
     "name": "stderr",
     "output_type": "stream",
     "text": []
    },
    {
     "name": "stdout",
     "output_type": "stream",
     "text": [
      "torch.Size([1, 1, 30, 45])\n",
      "torch.Size([1, 1, 32, 32])\n",
      "torch.Size([1, 1, 30, 45])\n",
      "torch.Size([1, 1, 32, 32])\n"
     ]
    },
    {
     "name": "stderr",
     "output_type": "stream",
     "text": []
    },
    {
     "name": "stdout",
     "output_type": "stream",
     "text": [
      "torch.Size([1, 1, 30, 45])\n",
      "torch.Size([1, 1, 32, 32])\n"
     ]
    },
    {
     "name": "stderr",
     "output_type": "stream",
     "text": []
    },
    {
     "name": "stdout",
     "output_type": "stream",
     "text": [
      "torch.Size([1, 1, 30, 45])\n",
      "torch.Size([1, 1, 32, 32])\n",
      "torch.Size([1, 1, 30, 45])"
     ]
    },
    {
     "name": "stderr",
     "output_type": "stream",
     "text": []
    },
    {
     "name": "stdout",
     "output_type": "stream",
     "text": [
      "\n",
      "torch.Size([1, 1, 32, 32])\n",
      "torch.Size([1, 1, 30, 45])\n",
      "torch.Size([1, 1, 32, 32])\n"
     ]
    },
    {
     "name": "stderr",
     "output_type": "stream",
     "text": []
    },
    {
     "name": "stdout",
     "output_type": "stream",
     "text": [
      "torch.Size([1, 1, 30, 45])\n",
      "torch.Size([1, 1, 32, 32])\n"
     ]
    },
    {
     "name": "stderr",
     "output_type": "stream",
     "text": []
    },
    {
     "name": "stdout",
     "output_type": "stream",
     "text": [
      "torch.Size([1, 1, 30, 45])\n",
      "torch.Size([1, 1, 32, 32])\n",
      "torch.Size([1, 1, 30, 45])\n",
      "torch.Size([1, 1, 32, 32])\n"
     ]
    },
    {
     "name": "stderr",
     "output_type": "stream",
     "text": []
    },
    {
     "name": "stdout",
     "output_type": "stream",
     "text": [
      "torch.Size([1, 1, 30, 45])\n",
      "torch.Size([1, 1, 32, 32])\n",
      "torch.Size([1, 1, 30, 45])\n",
      "torch.Size([1, 1, 32, 32])\n"
     ]
    },
    {
     "name": "stderr",
     "output_type": "stream",
     "text": []
    },
    {
     "name": "stdout",
     "output_type": "stream",
     "text": [
      "torch.Size([1, 1, 30, 45])\n",
      "torch.Size([1, 1, 32, 32])\n",
      "torch.Size([1, 1, 30, 45])\n",
      "torch.Size([1, 1, 32, 32])\n"
     ]
    },
    {
     "name": "stderr",
     "output_type": "stream",
     "text": [
      "\n"
     ]
    },
    {
     "name": "stdout",
     "output_type": "stream",
     "text": [
      "torch.Size([1, 1, 30, 45])\n",
      "torch.Size([1, 1, 32, 32])\n",
      "torch.Size([1, 1, 30, 45])\n",
      "torch.Size([1, 1, 32, 32])\n"
     ]
    },
    {
     "name": "stderr",
     "output_type": "stream",
     "text": []
    },
    {
     "name": "stdout",
     "output_type": "stream",
     "text": [
      "torch.Size([1, 1, 30, 45])\n",
      "torch.Size([1, 1, 32, 32])\n",
      "torch.Size([1, 1, 30, 45])\n",
      "torch.Size([1, 1, 32, 32])\n"
     ]
    },
    {
     "name": "stderr",
     "output_type": "stream",
     "text": []
    },
    {
     "name": "stdout",
     "output_type": "stream",
     "text": [
      "torch.Size([1, 1, 30, 45])\n",
      "torch.Size([1, 1, 32, 32])\n",
      "torch.Size([1, 1, 30, 45])\n",
      "torch.Size([1, 1, 32, 32])\n",
      "torch.Size([1, 1, 30, 45])"
     ]
    },
    {
     "name": "stderr",
     "output_type": "stream",
     "text": []
    },
    {
     "name": "stdout",
     "output_type": "stream",
     "text": [
      "\n",
      "torch.Size([1, 1, 32, 32])\n",
      "torch.Size([1, 1, 30, 45])\n",
      "torch.Size([1, 1, 32, 32])\n",
      "torch.Size([1, 1, 30, 45])"
     ]
    },
    {
     "name": "stderr",
     "output_type": "stream",
     "text": []
    },
    {
     "name": "stdout",
     "output_type": "stream",
     "text": [
      "\n",
      "torch.Size([1, 1, 32, 32])\n",
      "torch.Size([1, 1, 30, 45])\n",
      "torch.Size([1, 1, 32, 32])\n",
      "torch.Size([1, 1, 30, 45])\n",
      "torch.Size([1, 1, 32, 32])\n"
     ]
    },
    {
     "name": "stderr",
     "output_type": "stream",
     "text": []
    },
    {
     "name": "stdout",
     "output_type": "stream",
     "text": [
      "torch.Size([1, 1, 30, 45])\n",
      "torch.Size([1, 1, 32, 32])\n",
      "torch.Size([1, 1, 30, 45])\n",
      "torch.Size([1, 1, 32, 32])\n"
     ]
    },
    {
     "name": "stderr",
     "output_type": "stream",
     "text": []
    },
    {
     "name": "stdout",
     "output_type": "stream",
     "text": [
      "torch.Size([1, 1, 30, 45])\n",
      "torch.Size([1, 1, 32, 32])\n",
      "torch.Size([1, 1, 30, 45])\n",
      "torch.Size([1, 1, 32, 32])\n"
     ]
    },
    {
     "name": "stderr",
     "output_type": "stream",
     "text": []
    },
    {
     "name": "stdout",
     "output_type": "stream",
     "text": [
      "torch.Size([1, 1, 30, 45])\n",
      "torch.Size([1, 1, 32, 32])\n",
      "torch.Size([1, 1, 30, 45])\n",
      "torch.Size([1, 1, 32, 32])\n"
     ]
    },
    {
     "name": "stderr",
     "output_type": "stream",
     "text": []
    },
    {
     "name": "stdout",
     "output_type": "stream",
     "text": [
      "torch.Size([1, 1, 30, 45])\n",
      "torch.Size([1, 1, 32, 32])\n",
      "torch.Size([1, 1, 30, 45])\n",
      "torch.Size([1, 1, 32, 32])\n"
     ]
    },
    {
     "name": "stderr",
     "output_type": "stream",
     "text": []
    },
    {
     "name": "stdout",
     "output_type": "stream",
     "text": [
      "torch.Size([1, 1, 30, 45])\n",
      "torch.Size([1, 1, 32, 32])\n",
      "torch.Size([1, 1, 30, 45])"
     ]
    },
    {
     "name": "stderr",
     "output_type": "stream",
     "text": []
    },
    {
     "name": "stdout",
     "output_type": "stream",
     "text": [
      "\n",
      "torch.Size([1, 1, 32, 32])\n",
      "torch.Size([1, 1, 30, 45])\n",
      "torch.Size([1, 1, 32, 32])\n"
     ]
    },
    {
     "name": "stderr",
     "output_type": "stream",
     "text": []
    },
    {
     "name": "stdout",
     "output_type": "stream",
     "text": [
      "torch.Size([1, 1, 30, 45])\n",
      "torch.Size([1, 1, 32, 32])\n",
      "torch.Size([1, 1, 30, 45])\n",
      "torch.Size([1, 1, 32, 32])\n"
     ]
    },
    {
     "name": "stderr",
     "output_type": "stream",
     "text": []
    },
    {
     "name": "stdout",
     "output_type": "stream",
     "text": [
      "torch.Size([1, 1, 30, 45])\n",
      "torch.Size([1, 1, 32, 32])\n",
      "torch.Size([1, 1, 30, 45])\n",
      "torch.Size([1, 1, 32, 32])\n"
     ]
    },
    {
     "name": "stderr",
     "output_type": "stream",
     "text": []
    },
    {
     "name": "stdout",
     "output_type": "stream",
     "text": [
      "torch.Size([1, 1, 30, 45])\n",
      "torch.Size([1, 1, 32, 32])\n",
      "torch.Size([1, 1, 30, 45])\n",
      "torch.Size([1, 1, 32, 32])\n"
     ]
    },
    {
     "name": "stderr",
     "output_type": "stream",
     "text": []
    },
    {
     "name": "stdout",
     "output_type": "stream",
     "text": [
      "torch.Size([1, 1, 30, 45])\n",
      "torch.Size([1, 1, 32, 32])\n",
      "torch.Size([1, 1, 30, 45])\n",
      "torch.Size([1, 1, 32, 32])\n"
     ]
    },
    {
     "name": "stderr",
     "output_type": "stream",
     "text": []
    },
    {
     "name": "stdout",
     "output_type": "stream",
     "text": [
      "torch.Size([1, 1, 30, 45])\n",
      "torch.Size([1, 1, 32, 32])\n",
      "torch.Size([1, 1, 30, 45])\n",
      "torch.Size([1, 1, 32, 32])\n"
     ]
    },
    {
     "name": "stderr",
     "output_type": "stream",
     "text": []
    },
    {
     "name": "stdout",
     "output_type": "stream",
     "text": [
      "torch.Size([1, 1, 30, 45])\n",
      "torch.Size([1, 1, 32, 32])\n",
      "torch.Size([1, 1, 30, 45])\n",
      "torch.Size([1, 1, 32, 32])\n"
     ]
    },
    {
     "name": "stderr",
     "output_type": "stream",
     "text": []
    },
    {
     "name": "stdout",
     "output_type": "stream",
     "text": [
      "torch.Size([1, 1, 30, 45])\n",
      "torch.Size([1, 1, 32, 32])\n",
      "torch.Size([1, 1, 30, 45])"
     ]
    },
    {
     "name": "stderr",
     "output_type": "stream",
     "text": [
      "\n"
     ]
    },
    {
     "name": "stdout",
     "output_type": "stream",
     "text": [
      "\n",
      "torch.Size([1, 1, 32, 32])\n",
      "torch.Size([1, 1, 30, 45])\n",
      "torch.Size([1, 1, 32, 32])\n"
     ]
    },
    {
     "name": "stderr",
     "output_type": "stream",
     "text": []
    },
    {
     "name": "stdout",
     "output_type": "stream",
     "text": [
      "torch.Size([1, 1, 30, 45])\n",
      "torch.Size([1, 1, 32, 32])\n",
      "torch.Size([1, 1, 30, 45])\n",
      "torch.Size([1, 1, 32, 32])\n"
     ]
    },
    {
     "name": "stderr",
     "output_type": "stream",
     "text": []
    },
    {
     "name": "stdout",
     "output_type": "stream",
     "text": [
      "torch.Size([1, 1, 30, 45])\n",
      "torch.Size([1, 1, 32, 32])\n",
      "torch.Size([1, 1, 30, 45])\n",
      "torch.Size([1, 1, 32, 32])\n"
     ]
    },
    {
     "name": "stderr",
     "output_type": "stream",
     "text": []
    },
    {
     "name": "stdout",
     "output_type": "stream",
     "text": [
      "torch.Size([1, 1, 30, 45])\n",
      "torch.Size([1, 1, 32, 32])\n",
      "torch.Size([1, 1, 30, 45])\n",
      "torch.Size([1, 1, 32, 32])\n",
      "torch.Size([1, 1, 30, 45])"
     ]
    },
    {
     "name": "stderr",
     "output_type": "stream",
     "text": []
    },
    {
     "name": "stdout",
     "output_type": "stream",
     "text": [
      "\n",
      "torch.Size([1, 1, 32, 32])\n",
      "torch.Size([1, 1, 30, 45])\n",
      "torch.Size([1, 1, 32, 32])\n"
     ]
    },
    {
     "name": "stderr",
     "output_type": "stream",
     "text": []
    },
    {
     "name": "stdout",
     "output_type": "stream",
     "text": [
      "torch.Size([1, 1, 30, 45])\n",
      "torch.Size([1, 1, 32, 32])\n",
      "torch.Size([1, 1, 30, 45])\n",
      "torch.Size([1, 1, 32, 32])\n",
      "torch.Size([1, 1, 30, 45])"
     ]
    },
    {
     "name": "stderr",
     "output_type": "stream",
     "text": []
    },
    {
     "name": "stdout",
     "output_type": "stream",
     "text": [
      "\n",
      "torch.Size([1, 1, 32, 32])\n",
      "torch.Size([1, 1, 30, 45])\n",
      "torch.Size([1, 1, 32, 32])\n"
     ]
    },
    {
     "name": "stderr",
     "output_type": "stream",
     "text": []
    },
    {
     "name": "stdout",
     "output_type": "stream",
     "text": [
      "torch.Size([1, 1, 30, 45])\n",
      "torch.Size([1, 1, 32, 32])\n",
      "torch.Size([1, 1, 30, 45])\n",
      "torch.Size([1, 1, 32, 32])\n",
      "torch.Size([1, 1, 30, 45])\n"
     ]
    },
    {
     "name": "stderr",
     "output_type": "stream",
     "text": []
    },
    {
     "name": "stdout",
     "output_type": "stream",
     "text": [
      "torch.Size([1, 1, 32, 32])\n",
      "torch.Size([1, 1, 30, 45])\n",
      "torch.Size([1, 1, 32, 32])\n",
      "torch.Size([1, 1, 30, 45])"
     ]
    },
    {
     "name": "stderr",
     "output_type": "stream",
     "text": []
    },
    {
     "name": "stdout",
     "output_type": "stream",
     "text": [
      "\n",
      "torch.Size([1, 1, 32, 32])\n",
      "torch.Size([1, 1, 30, 45])\n",
      "torch.Size([1, 1, 32, 32])\n"
     ]
    },
    {
     "name": "stderr",
     "output_type": "stream",
     "text": []
    },
    {
     "name": "stdout",
     "output_type": "stream",
     "text": [
      "torch.Size([1, 1, 30, 45])\n",
      "torch.Size([1, 1, 32, 32])\n",
      "torch.Size([1, 1, 30, 45])\n",
      "torch.Size([1, 1, 32, 32])\n",
      "torch.Size([1, 1, 30, 45])\n",
      "torch.Size([1, 1, 32, 32])\n"
     ]
    },
    {
     "name": "stderr",
     "output_type": "stream",
     "text": []
    },
    {
     "name": "stdout",
     "output_type": "stream",
     "text": [
      "torch.Size([1, 1, 30, 45])\n",
      "torch.Size([1, 1, 32, 32])\n",
      "torch.Size([1, 1, 30, 45])\n",
      "torch.Size([1, 1, 32, 32])\n"
     ]
    },
    {
     "name": "stderr",
     "output_type": "stream",
     "text": []
    },
    {
     "name": "stdout",
     "output_type": "stream",
     "text": [
      "torch.Size([1, 1, 30, 45])\n",
      "torch.Size([1, 1, 32, 32])\n",
      "torch.Size([1, 1, 30, 45])\n",
      "torch.Size([1, 1, 32, 32])\n"
     ]
    },
    {
     "name": "stderr",
     "output_type": "stream",
     "text": []
    },
    {
     "name": "stdout",
     "output_type": "stream",
     "text": [
      "torch.Size([1, 1, 30, 45])\n",
      "torch.Size([1, 1, 32, 32])\n",
      "torch.Size([1, 1, 30, 45])\n",
      "torch.Size([1, 1, 32, 32])\n",
      "torch.Size([1, 1, 30, 45])"
     ]
    },
    {
     "name": "stderr",
     "output_type": "stream",
     "text": []
    },
    {
     "name": "stdout",
     "output_type": "stream",
     "text": [
      "\n",
      "torch.Size([1, 1, 32, 32])\n",
      "torch.Size([1, 1, 30, 45])\n",
      "torch.Size([1, 1, 32, 32])\n"
     ]
    },
    {
     "name": "stderr",
     "output_type": "stream",
     "text": []
    },
    {
     "name": "stdout",
     "output_type": "stream",
     "text": [
      "torch.Size([1, 1, 30, 45])\n",
      "torch.Size([1, 1, 32, 32])\n"
     ]
    },
    {
     "name": "stderr",
     "output_type": "stream",
     "text": []
    },
    {
     "name": "stdout",
     "output_type": "stream",
     "text": [
      "torch.Size([1, 1, 30, 45])\n",
      "torch.Size([1, 1, 32, 32])\n",
      "torch.Size([1, 1, 30, 45])\n",
      "torch.Size([1, 1, 32, 32])\n"
     ]
    },
    {
     "name": "stderr",
     "output_type": "stream",
     "text": []
    },
    {
     "name": "stdout",
     "output_type": "stream",
     "text": [
      "torch.Size([1, 1, 30, 45])\n",
      "torch.Size([1, 1, 32, 32])\n",
      "torch.Size([1, 1, 30, 45])\n",
      "torch.Size([1, 1, 32, 32])\n",
      "torch.Size([1, 1, 30, 45])"
     ]
    },
    {
     "name": "stderr",
     "output_type": "stream",
     "text": []
    },
    {
     "name": "stdout",
     "output_type": "stream",
     "text": [
      "\n",
      "torch.Size([1, 1, 32, 32])\n",
      "torch.Size([1, 1, 30, 45])\n",
      "torch.Size([1, 1, 32, 32])\n"
     ]
    },
    {
     "name": "stderr",
     "output_type": "stream",
     "text": []
    },
    {
     "name": "stdout",
     "output_type": "stream",
     "text": [
      "torch.Size([1, 1, 30, 45])\n",
      "torch.Size([1, 1, 32, 32])\n",
      "torch.Size([1, 1, 30, 45])\n",
      "torch.Size([1, 1, 32, 32])\n",
      "torch.Size([1, 1, 30, 45])"
     ]
    },
    {
     "name": "stderr",
     "output_type": "stream",
     "text": []
    },
    {
     "name": "stdout",
     "output_type": "stream",
     "text": [
      "\n",
      "torch.Size([1, 1, 32, 32])\n",
      "torch.Size([1, 1, 30, 45])\n",
      "torch.Size([1, 1, 32, 32])\n"
     ]
    },
    {
     "name": "stderr",
     "output_type": "stream",
     "text": []
    },
    {
     "name": "stdout",
     "output_type": "stream",
     "text": [
      "torch.Size([1, 1, 30, 45])\n",
      "torch.Size([1, 1, 32, 32])\n",
      "torch.Size([1, 1, 30, 45])\n",
      "torch.Size([1, 1, 32, 32])\n",
      "torch.Size([1, 1, 30, 45])"
     ]
    },
    {
     "name": "stderr",
     "output_type": "stream",
     "text": []
    },
    {
     "name": "stdout",
     "output_type": "stream",
     "text": [
      "\n",
      "torch.Size([1, 1, 32, 32])\n",
      "torch.Size([1, 1, 30, 45])\n",
      "torch.Size([1, 1, 32, 32])\n"
     ]
    },
    {
     "name": "stderr",
     "output_type": "stream",
     "text": []
    },
    {
     "name": "stdout",
     "output_type": "stream",
     "text": [
      "torch.Size([1, 1, 30, 45])\n",
      "torch.Size([1, 1, 32, 32])\n",
      "torch.Size([1, 1, 30, 45])\n",
      "torch.Size([1, 1, 32, 32])\n"
     ]
    },
    {
     "name": "stderr",
     "output_type": "stream",
     "text": []
    },
    {
     "name": "stdout",
     "output_type": "stream",
     "text": [
      "torch.Size([1, 1, 30, 45])\n",
      "torch.Size([1, 1, 32, 32])\n",
      "torch.Size([1, 1, 30, 45])\n",
      "torch.Size([1, 1, 32, 32])\n"
     ]
    },
    {
     "name": "stderr",
     "output_type": "stream",
     "text": []
    },
    {
     "name": "stdout",
     "output_type": "stream",
     "text": [
      "torch.Size([1, 1, 30, 45])\n",
      "torch.Size([1, 1, 32, 32])\n",
      "torch.Size([1, 1, 30, 45])\n",
      "torch.Size([1, 1, 32, 32])\n"
     ]
    },
    {
     "name": "stderr",
     "output_type": "stream",
     "text": []
    },
    {
     "name": "stdout",
     "output_type": "stream",
     "text": [
      "torch.Size([1, 1, 30, 45])\n",
      "torch.Size([1, 1, 32, 32])\n",
      "torch.Size([1, 1, 30, 45])\n",
      "torch.Size([1, 1, 32, 32])\n"
     ]
    },
    {
     "name": "stderr",
     "output_type": "stream",
     "text": []
    },
    {
     "name": "stdout",
     "output_type": "stream",
     "text": [
      "torch.Size([1, 1, 30, 45])\n",
      "torch.Size([1, 1, 32, 32])\n",
      "torch.Size([1, 1, 30, 45])\n",
      "torch.Size([1, 1, 32, 32])\n"
     ]
    },
    {
     "name": "stderr",
     "output_type": "stream",
     "text": []
    },
    {
     "name": "stdout",
     "output_type": "stream",
     "text": [
      "torch.Size([1, 1, 30, 45])\n",
      "torch.Size([1, 1, 32, 32])\n",
      "torch.Size([1, 1, 30, 45])\n",
      "torch.Size([1, 1, 32, 32])\n"
     ]
    },
    {
     "name": "stderr",
     "output_type": "stream",
     "text": []
    },
    {
     "name": "stdout",
     "output_type": "stream",
     "text": [
      "torch.Size([1, 1, 30, 45])\n",
      "torch.Size([1, 1, 32, 32])\n",
      "torch.Size([1, 1, 30, 45])\n",
      "torch.Size([1, 1, 32, 32])\n",
      "torch.Size([1, 1, 30, 45])"
     ]
    },
    {
     "name": "stderr",
     "output_type": "stream",
     "text": []
    },
    {
     "name": "stdout",
     "output_type": "stream",
     "text": [
      "\n",
      "torch.Size([1, 1, 32, 32])\n",
      "torch.Size([1, 1, 30, 45])\n",
      "torch.Size([1, 1, 32, 32])\n"
     ]
    },
    {
     "name": "stderr",
     "output_type": "stream",
     "text": []
    },
    {
     "name": "stdout",
     "output_type": "stream",
     "text": [
      "torch.Size([1, 1, 30, 45])\n",
      "torch.Size([1, 1, 32, 32])\n",
      "torch.Size([1, 1, 30, 45])\n",
      "torch.Size([1, 1, 32, 32])\n",
      "torch.Size([1, 1, 30, 45])\n",
      "torch.Size([1, 1, 32, 32])\n"
     ]
    },
    {
     "name": "stderr",
     "output_type": "stream",
     "text": []
    },
    {
     "name": "stdout",
     "output_type": "stream",
     "text": [
      "torch.Size([1, 1, 30, 45])\n",
      "torch.Size([1, 1, 32, 32])\n",
      "torch.Size([1, 1, 30, 45])\n",
      "torch.Size([1, 1, 32, 32])\n"
     ]
    },
    {
     "name": "stderr",
     "output_type": "stream",
     "text": []
    },
    {
     "name": "stdout",
     "output_type": "stream",
     "text": [
      "torch.Size([1, 1, 30, 45])\n",
      "torch.Size([1, 1, 32, 32])\n",
      "torch.Size([1, 1, 30, 45])\n",
      "torch.Size([1, 1, 32, 32])\n"
     ]
    },
    {
     "name": "stderr",
     "output_type": "stream",
     "text": []
    },
    {
     "name": "stdout",
     "output_type": "stream",
     "text": [
      "torch.Size([1, 1, 30, 45])\n",
      "torch.Size([1, 1, 32, 32])\n",
      "torch.Size([1, 1, 30, 45])\n",
      "torch.Size([1, 1, 32, 32])\n",
      "torch.Size([1, 1, 30, 45])"
     ]
    },
    {
     "name": "stderr",
     "output_type": "stream",
     "text": []
    },
    {
     "name": "stdout",
     "output_type": "stream",
     "text": [
      "\n",
      "torch.Size([1, 1, 32, 32])\n",
      "torch.Size([1, 1, 30, 45])\n",
      "torch.Size([1, 1, 32, 32])\n"
     ]
    },
    {
     "name": "stderr",
     "output_type": "stream",
     "text": []
    },
    {
     "name": "stdout",
     "output_type": "stream",
     "text": [
      "torch.Size([1, 1, 30, 45])\n",
      "torch.Size([1, 1, 32, 32])\n",
      "torch.Size([1, 1, 30, 45])\n",
      "torch.Size([1, 1, 32, 32])\n"
     ]
    },
    {
     "name": "stderr",
     "output_type": "stream",
     "text": []
    },
    {
     "name": "stdout",
     "output_type": "stream",
     "text": [
      "torch.Size([1, 1, 30, 45])\n",
      "torch.Size([1, 1, 32, 32])\n",
      "torch.Size([1, 1, 30, 45])\n",
      "torch.Size([1, 1, 32, 32])\n"
     ]
    },
    {
     "name": "stderr",
     "output_type": "stream",
     "text": []
    },
    {
     "name": "stdout",
     "output_type": "stream",
     "text": [
      "torch.Size([1, 1, 30, 45])\n",
      "torch.Size([1, 1, 32, 32])\n",
      "torch.Size([1, 1, 30, 45])\n",
      "torch.Size([1, 1, 32, 32])\n"
     ]
    },
    {
     "name": "stderr",
     "output_type": "stream",
     "text": []
    },
    {
     "name": "stdout",
     "output_type": "stream",
     "text": [
      "torch.Size([1, 1, 30, 45])\n",
      "torch.Size([1, 1, 32, 32])\n",
      "torch.Size([1, 1, 30, 45])\n",
      "torch.Size([1, 1, 32, 32])\n",
      "torch.Size([1, 1, 30, 45])"
     ]
    },
    {
     "name": "stderr",
     "output_type": "stream",
     "text": []
    },
    {
     "name": "stdout",
     "output_type": "stream",
     "text": [
      "\n",
      "torch.Size([1, 1, 32, 32])\n",
      "torch.Size([1, 1, 30, 45])\n",
      "torch.Size([1, 1, 32, 32])\n"
     ]
    },
    {
     "name": "stderr",
     "output_type": "stream",
     "text": []
    },
    {
     "name": "stdout",
     "output_type": "stream",
     "text": [
      "torch.Size([1, 1, 30, 45])\n",
      "torch.Size([1, 1, 32, 32])\n",
      "torch.Size([1, 1, 30, 45])\n",
      "torch.Size([1, 1, 32, 32])\n",
      "torch.Size([1, 1, 30, 45])"
     ]
    },
    {
     "name": "stderr",
     "output_type": "stream",
     "text": [
      "\n"
     ]
    },
    {
     "name": "stdout",
     "output_type": "stream",
     "text": [
      "\n",
      "torch.Size([1, 1, 32, 32])\n",
      "torch.Size([1, 1, 30, 45])\n",
      "torch.Size([1, 1, 32, 32])\n"
     ]
    },
    {
     "name": "stderr",
     "output_type": "stream",
     "text": []
    },
    {
     "name": "stdout",
     "output_type": "stream",
     "text": [
      "torch.Size([1, 1, 30, 45])\n",
      "torch.Size([1, 1, 32, 32])\n",
      "torch.Size([1, 1, 30, 45])\n",
      "torch.Size([1, 1, 32, 32])\n",
      "torch.Size([1, 1, 30, 45])"
     ]
    },
    {
     "name": "stderr",
     "output_type": "stream",
     "text": []
    },
    {
     "name": "stdout",
     "output_type": "stream",
     "text": [
      "\n",
      "torch.Size([1, 1, 32, 32])\n",
      "torch.Size([1, 1, 30, 45])\n",
      "torch.Size([1, 1, 32, 32])\n"
     ]
    },
    {
     "name": "stderr",
     "output_type": "stream",
     "text": []
    },
    {
     "name": "stdout",
     "output_type": "stream",
     "text": [
      "torch.Size([1, 1, 30, 45])\n",
      "torch.Size([1, 1, 32, 32])\n",
      "torch.Size([1, 1, 30, 45])\n",
      "torch.Size([1, 1, 32, 32])\n"
     ]
    },
    {
     "name": "stderr",
     "output_type": "stream",
     "text": []
    },
    {
     "name": "stdout",
     "output_type": "stream",
     "text": [
      "torch.Size([1, 1, 30, 45])\n",
      "torch.Size([1, 1, 32, 32])\n",
      "torch.Size([1, 1, 30, 45])\n",
      "torch.Size([1, 1, 32, 32])\n"
     ]
    },
    {
     "name": "stderr",
     "output_type": "stream",
     "text": []
    },
    {
     "name": "stdout",
     "output_type": "stream",
     "text": [
      "torch.Size([1, 1, 30, 45])\n",
      "torch.Size([1, 1, 32, 32])\n",
      "torch.Size([1, 1, 30, 45])\n",
      "torch.Size([1, 1, 32, 32])\n",
      "torch.Size([1, 1, 30, 45])"
     ]
    },
    {
     "name": "stderr",
     "output_type": "stream",
     "text": []
    },
    {
     "name": "stdout",
     "output_type": "stream",
     "text": [
      "\n",
      "torch.Size([1, 1, 32, 32])\n",
      "torch.Size([1, 1, 30, 45])\n",
      "torch.Size([1, 1, 32, 32])\n",
      "torch.Size([1, 1, 30, 45])"
     ]
    },
    {
     "name": "stderr",
     "output_type": "stream",
     "text": [
      "\n"
     ]
    },
    {
     "name": "stdout",
     "output_type": "stream",
     "text": [
      "\n",
      "torch.Size([1, 1, 32, 32])\n",
      "torch.Size([1, 1, 30, 45])\n",
      "torch.Size([1, 1, 32, 32])\n"
     ]
    },
    {
     "name": "stderr",
     "output_type": "stream",
     "text": []
    },
    {
     "name": "stdout",
     "output_type": "stream",
     "text": [
      "torch.Size([1, 1, 30, 45])\n",
      "torch.Size([1, 1, 32, 32])\n"
     ]
    },
    {
     "name": "stderr",
     "output_type": "stream",
     "text": []
    },
    {
     "name": "stdout",
     "output_type": "stream",
     "text": [
      "torch.Size([1, 1, 30, 45])\n",
      "torch.Size([1, 1, 32, 32])\n",
      "torch.Size([1, 1, 30, 45])\n",
      "torch.Size([1, 1, 32, 32])\n"
     ]
    },
    {
     "name": "stderr",
     "output_type": "stream",
     "text": []
    },
    {
     "name": "stdout",
     "output_type": "stream",
     "text": [
      "torch.Size([1, 1, 30, 45])\n",
      "torch.Size([1, 1, 32, 32])\n",
      "torch.Size([1, 1, 30, 45])\n",
      "torch.Size([1, 1, 32, 32])\n"
     ]
    },
    {
     "name": "stderr",
     "output_type": "stream",
     "text": []
    },
    {
     "name": "stdout",
     "output_type": "stream",
     "text": [
      "torch.Size([1, 1, 30, 45])\n",
      "torch.Size([1, 1, 32, 32])\n",
      "torch.Size([1, 1, 30, 45])\n",
      "torch.Size([1, 1, 32, 32])\n",
      "torch.Size([1, 1, 30, 45])"
     ]
    },
    {
     "name": "stderr",
     "output_type": "stream",
     "text": []
    },
    {
     "name": "stdout",
     "output_type": "stream",
     "text": [
      "\n",
      "torch.Size([1, 1, 32, 32])\n",
      "torch.Size([1, 1, 30, 45])\n",
      "torch.Size([1, 1, 32, 32])\n"
     ]
    },
    {
     "name": "stderr",
     "output_type": "stream",
     "text": []
    },
    {
     "name": "stdout",
     "output_type": "stream",
     "text": [
      "torch.Size([1, 1, 30, 45])\n",
      "torch.Size([1, 1, 32, 32])\n",
      "torch.Size([1, 1, 30, 45])\n",
      "torch.Size([1, 1, 32, 32])\n"
     ]
    },
    {
     "name": "stderr",
     "output_type": "stream",
     "text": []
    },
    {
     "name": "stdout",
     "output_type": "stream",
     "text": [
      "torch.Size([1, 1, 30, 45])\n",
      "torch.Size([1, 1, 32, 32])\n",
      "torch.Size([1, 1, 30, 45])\n",
      "torch.Size([1, 1, 32, 32])\n"
     ]
    },
    {
     "name": "stderr",
     "output_type": "stream",
     "text": []
    },
    {
     "name": "stdout",
     "output_type": "stream",
     "text": [
      "torch.Size([1, 1, 30, 45])\n",
      "torch.Size([1, 1, 32, 32])\n"
     ]
    },
    {
     "name": "stderr",
     "output_type": "stream",
     "text": []
    },
    {
     "name": "stdout",
     "output_type": "stream",
     "text": [
      "torch.Size([1, 1, 30, 45])\n",
      "torch.Size([1, 1, 32, 32])\n",
      "torch.Size([1, 1, 30, 45])\n",
      "torch.Size([1, 1, 32, 32])\n"
     ]
    },
    {
     "name": "stderr",
     "output_type": "stream",
     "text": []
    },
    {
     "name": "stdout",
     "output_type": "stream",
     "text": [
      "torch.Size([1, 1, 30, 45])\n",
      "torch.Size([1, 1, 32, 32])\n",
      "torch.Size([1, 1, 30, 45])\n",
      "torch.Size([1, 1, 32, 32])\n",
      "torch.Size([1, 1, 30, 45])"
     ]
    },
    {
     "name": "stderr",
     "output_type": "stream",
     "text": []
    },
    {
     "name": "stdout",
     "output_type": "stream",
     "text": [
      "\n",
      "torch.Size([1, 1, 32, 32])\n",
      "torch.Size([1, 1, 30, 45])\n",
      "torch.Size([1, 1, 32, 32])\n",
      "torch.Size([1, 1, 30, 45])"
     ]
    },
    {
     "name": "stderr",
     "output_type": "stream",
     "text": []
    },
    {
     "name": "stdout",
     "output_type": "stream",
     "text": [
      "\n",
      "torch.Size([1, 1, 32, 32])\n",
      "torch.Size([1, 1, 30, 45])\n",
      "torch.Size([1, 1, 32, 32])\n"
     ]
    },
    {
     "name": "stderr",
     "output_type": "stream",
     "text": []
    },
    {
     "name": "stdout",
     "output_type": "stream",
     "text": [
      "torch.Size([1, 1, 30, 45])\n",
      "torch.Size([1, 1, 32, 32])\n",
      "torch.Size([1, 1, 30, 45])\n",
      "torch.Size([1, 1, 32, 32])\n"
     ]
    },
    {
     "name": "stderr",
     "output_type": "stream",
     "text": [
      "\n"
     ]
    },
    {
     "name": "stdout",
     "output_type": "stream",
     "text": [
      "torch.Size([1, 1, 30, 45])\n",
      "torch.Size([1, 1, 32, 32])\n"
     ]
    },
    {
     "name": "stderr",
     "output_type": "stream",
     "text": []
    },
    {
     "name": "stdout",
     "output_type": "stream",
     "text": [
      "torch.Size([1, 1, 30, 45])\n",
      "torch.Size([1, 1, 32, 32])\n",
      "torch.Size([1, 1, 30, 45])\n",
      "torch.Size([1, 1, 32, 32])\n"
     ]
    },
    {
     "name": "stderr",
     "output_type": "stream",
     "text": []
    },
    {
     "name": "stdout",
     "output_type": "stream",
     "text": [
      "torch.Size([1, 1, 30, 45])\n",
      "torch.Size([1, 1, 32, 32])\n",
      "torch.Size([1, 1, 30, 45])\n",
      "torch.Size([1, 1, 32, 32])\n"
     ]
    },
    {
     "name": "stderr",
     "output_type": "stream",
     "text": []
    },
    {
     "name": "stdout",
     "output_type": "stream",
     "text": [
      "torch.Size([1, 1, 30, 45])\n",
      "torch.Size([1, 1, 32, 32])\n",
      "torch.Size([1, 1, 30, 45])\n",
      "torch.Size([1, 1, 32, 32])\n"
     ]
    },
    {
     "name": "stderr",
     "output_type": "stream",
     "text": []
    },
    {
     "name": "stdout",
     "output_type": "stream",
     "text": [
      "torch.Size([1, 1, 30, 45])\n",
      "torch.Size([1, 1, 32, 32])\n",
      "torch.Size([1, 1, 30, 45])\n",
      "torch.Size([1, 1, 32, 32])\n"
     ]
    },
    {
     "name": "stderr",
     "output_type": "stream",
     "text": []
    },
    {
     "name": "stdout",
     "output_type": "stream",
     "text": [
      "torch.Size([1, 1, 30, 45])\n",
      "torch.Size([1, 1, 32, 32])\n",
      "torch.Size([1, 1, 30, 45])\n",
      "torch.Size([1, 1, 32, 32])\n"
     ]
    },
    {
     "name": "stderr",
     "output_type": "stream",
     "text": []
    },
    {
     "name": "stdout",
     "output_type": "stream",
     "text": [
      "torch.Size([1, 1, 30, 45])\n",
      "torch.Size([1, 1, 32, 32])\n",
      "torch.Size([1, 1, 30, 45])\n",
      "torch.Size([1, 1, 32, 32])\n",
      "torch.Size([1, 1, 30, 45])"
     ]
    },
    {
     "name": "stderr",
     "output_type": "stream",
     "text": []
    },
    {
     "name": "stdout",
     "output_type": "stream",
     "text": [
      "\n",
      "torch.Size([1, 1, 32, 32])\n",
      "torch.Size([1, 1, 30, 45])\n",
      "torch.Size([1, 1, 32, 32])\n"
     ]
    },
    {
     "name": "stderr",
     "output_type": "stream",
     "text": []
    },
    {
     "name": "stdout",
     "output_type": "stream",
     "text": [
      "torch.Size([1, 1, 30, 45])\n",
      "torch.Size([1, 1, 32, 32])\n",
      "torch.Size([1, 1, 30, 45])\n",
      "torch.Size([1, 1, 32, 32])\n"
     ]
    },
    {
     "name": "stderr",
     "output_type": "stream",
     "text": []
    },
    {
     "name": "stdout",
     "output_type": "stream",
     "text": [
      "torch.Size([1, 1, 30, 45])\n",
      "torch.Size([1, 1, 32, 32])\n",
      "torch.Size([1, 1, 30, 45])\n",
      "torch.Size([1, 1, 32, 32])\n"
     ]
    },
    {
     "name": "stderr",
     "output_type": "stream",
     "text": []
    },
    {
     "name": "stdout",
     "output_type": "stream",
     "text": [
      "torch.Size([1, 1, 30, 45])\n",
      "torch.Size([1, 1, 32, 32])\n",
      "torch.Size([1, 1, 30, 45])\n",
      "torch.Size([1, 1, 32, 32])\n"
     ]
    },
    {
     "name": "stderr",
     "output_type": "stream",
     "text": []
    },
    {
     "name": "stdout",
     "output_type": "stream",
     "text": [
      "torch.Size([1, 1, 30, 45])\n",
      "torch.Size([1, 1, 32, 32])\n",
      "torch.Size([1, 1, 30, 45])\n",
      "torch.Size([1, 1, 32, 32])\n"
     ]
    },
    {
     "name": "stderr",
     "output_type": "stream",
     "text": [
      "\n"
     ]
    },
    {
     "name": "stdout",
     "output_type": "stream",
     "text": [
      "torch.Size([1, 1, 30, 45])\n",
      "torch.Size([1, 1, 32, 32])\n"
     ]
    },
    {
     "name": "stderr",
     "output_type": "stream",
     "text": []
    },
    {
     "name": "stdout",
     "output_type": "stream",
     "text": [
      "torch.Size([1, 1, 30, 45])\n",
      "torch.Size([1, 1, 32, 32])\n",
      "torch.Size([1, 1, 30, 45])\n",
      "torch.Size([1, 1, 32, 32])\n"
     ]
    },
    {
     "name": "stderr",
     "output_type": "stream",
     "text": []
    },
    {
     "name": "stdout",
     "output_type": "stream",
     "text": [
      "torch.Size([1, 1, 30, 45])\n",
      "torch.Size([1, 1, 32, 32])\n"
     ]
    },
    {
     "name": "stderr",
     "output_type": "stream",
     "text": []
    },
    {
     "name": "stdout",
     "output_type": "stream",
     "text": [
      "torch.Size([1, 1, 30, 45])\n",
      "torch.Size([1, 1, 32, 32])\n",
      "torch.Size([1, 1, 30, 45])"
     ]
    },
    {
     "name": "stderr",
     "output_type": "stream",
     "text": []
    },
    {
     "name": "stdout",
     "output_type": "stream",
     "text": [
      "\n",
      "torch.Size([1, 1, 32, 32])\n",
      "torch.Size([1, 1, 30, 45])\n",
      "torch.Size([1, 1, 32, 32])\n",
      "torch.Size([1, 1, 30, 45])\n",
      "torch.Size([1, 1, 32, 32])\n"
     ]
    },
    {
     "name": "stderr",
     "output_type": "stream",
     "text": []
    },
    {
     "name": "stdout",
     "output_type": "stream",
     "text": [
      "torch.Size([1, 1, 30, 45])\n",
      "torch.Size([1, 1, 32, 32])\n",
      "torch.Size([1, 1, 30, 45])\n",
      "torch.Size([1, 1, 32, 32])\n"
     ]
    },
    {
     "name": "stderr",
     "output_type": "stream",
     "text": []
    },
    {
     "name": "stdout",
     "output_type": "stream",
     "text": [
      "torch.Size([1, 1, 30, 45])\n",
      "torch.Size([1, 1, 32, 32])\n",
      "torch.Size([1, 1, 30, 45])\n",
      "torch.Size([1, 1, 32, 32])\n",
      "torch.Size([1, 1, 30, 45])"
     ]
    },
    {
     "name": "stderr",
     "output_type": "stream",
     "text": []
    },
    {
     "name": "stdout",
     "output_type": "stream",
     "text": [
      "\n",
      "torch.Size([1, 1, 32, 32])\n",
      "torch.Size([1, 1, 30, 45])\n",
      "torch.Size([1, 1, 32, 32])\n"
     ]
    },
    {
     "name": "stderr",
     "output_type": "stream",
     "text": []
    },
    {
     "name": "stdout",
     "output_type": "stream",
     "text": [
      "torch.Size([1, 1, 30, 45])\n",
      "torch.Size([1, 1, 32, 32])\n",
      "torch.Size([1, 1, 30, 45])\n",
      "torch.Size([1, 1, 32, 32])\n",
      "torch.Size([1, 1, 30, 45])\n",
      "torch.Size([1, 1, 32, 32])\n"
     ]
    },
    {
     "name": "stderr",
     "output_type": "stream",
     "text": []
    },
    {
     "name": "stdout",
     "output_type": "stream",
     "text": [
      "torch.Size([1, 1, 30, 45])\n",
      "torch.Size([1, 1, 32, 32])\n",
      "torch.Size([1, 1, 30, 45])\n",
      "torch.Size([1, 1, 32, 32])\n"
     ]
    },
    {
     "name": "stderr",
     "output_type": "stream",
     "text": []
    },
    {
     "name": "stdout",
     "output_type": "stream",
     "text": [
      "torch.Size([1, 1, 30, 45])\n",
      "torch.Size([1, 1, 32, 32])\n",
      "torch.Size([1, 1, 30, 45])\n",
      "torch.Size([1, 1, 32, 32])\n"
     ]
    },
    {
     "name": "stderr",
     "output_type": "stream",
     "text": []
    },
    {
     "name": "stdout",
     "output_type": "stream",
     "text": [
      "torch.Size([1, 1, 30, 45])\n",
      "torch.Size([1, 1, 32, 32])\n",
      "torch.Size([1, 1, 30, 45])\n",
      "torch.Size([1, 1, 32, 32])\n"
     ]
    },
    {
     "name": "stderr",
     "output_type": "stream",
     "text": []
    },
    {
     "name": "stdout",
     "output_type": "stream",
     "text": [
      "torch.Size([1, 1, 30, 45])\n",
      "torch.Size([1, 1, 32, 32])\n",
      "torch.Size([1, 1, 30, 45])\n",
      "torch.Size([1, 1, 32, 32])\n"
     ]
    },
    {
     "name": "stderr",
     "output_type": "stream",
     "text": []
    },
    {
     "name": "stdout",
     "output_type": "stream",
     "text": [
      "torch.Size([1, 1, 30, 45])\n",
      "torch.Size([1, 1, 32, 32])\n",
      "torch.Size([1, 1, 30, 45])\n",
      "torch.Size([1, 1, 32, 32])\n"
     ]
    },
    {
     "name": "stderr",
     "output_type": "stream",
     "text": []
    },
    {
     "name": "stdout",
     "output_type": "stream",
     "text": [
      "torch.Size([1, 1, 30, 45])\n",
      "torch.Size([1, 1, 32, 32])\n",
      "torch.Size([1, 1, 30, 45])"
     ]
    },
    {
     "name": "stderr",
     "output_type": "stream",
     "text": []
    },
    {
     "name": "stdout",
     "output_type": "stream",
     "text": [
      "\n",
      "torch.Size([1, 1, 32, 32])\n",
      "torch.Size([1, 1, 30, 45])\n",
      "torch.Size([1, 1, 32, 32])\n",
      "torch.Size([1, 1, 30, 45])"
     ]
    },
    {
     "name": "stderr",
     "output_type": "stream",
     "text": []
    },
    {
     "name": "stdout",
     "output_type": "stream",
     "text": [
      "\n",
      "torch.Size([1, 1, 32, 32])\n",
      "torch.Size([1, 1, 30, 45])\n",
      "torch.Size([1, 1, 32, 32])\n"
     ]
    },
    {
     "name": "stderr",
     "output_type": "stream",
     "text": []
    },
    {
     "name": "stdout",
     "output_type": "stream",
     "text": [
      "torch.Size([1, 1, 30, 45])\n",
      "torch.Size([1, 1, 32, 32])\n",
      "torch.Size([1, 1, 30, 45])\n",
      "torch.Size([1, 1, 32, 32])\n"
     ]
    },
    {
     "name": "stderr",
     "output_type": "stream",
     "text": [
      "\n",
      " 93%|█████████▎| 1857/2000 [05:28<00:17,  8.15it/s]"
     ]
    },
    {
     "name": "stdout",
     "output_type": "stream",
     "text": [
      "torch.Size([1, 1, 30, 45])\n",
      "torch.Size([1, 1, 32, 32])\n",
      "torch.Size([1, 1, 30, 45])\n",
      "torch.Size([1, 1, 32, 32])\n"
     ]
    },
    {
     "name": "stderr",
     "output_type": "stream",
     "text": [
      "\u001b[A"
     ]
    },
    {
     "name": "stdout",
     "output_type": "stream",
     "text": [
      "torch.Size([1, 1, 30, 45])\n",
      "torch.Size([1, 1, 32, 32])\n",
      "torch.Size([1, 1, 30, 45])\n",
      "torch.Size([1, 1, 32, 32])\n"
     ]
    },
    {
     "name": "stderr",
     "output_type": "stream",
     "text": []
    },
    {
     "name": "stdout",
     "output_type": "stream",
     "text": [
      "torch.Size([1, 1, 30, 45])\n",
      "torch.Size([1, 1, 32, 32])\n",
      "torch.Size([1, 1, 30, 45])\n",
      "torch.Size([1, 1, 32, 32])\n"
     ]
    },
    {
     "name": "stderr",
     "output_type": "stream",
     "text": []
    },
    {
     "name": "stdout",
     "output_type": "stream",
     "text": [
      "torch.Size([1, 1, 30, 45])\n",
      "torch.Size([1, 1, 32, 32])\n",
      "torch.Size([1, 1, 30, 45])\n",
      "torch.Size([1, 1, 32, 32])\n"
     ]
    },
    {
     "name": "stderr",
     "output_type": "stream",
     "text": []
    },
    {
     "name": "stdout",
     "output_type": "stream",
     "text": [
      "torch.Size([1, 1, 30, 45])\n",
      "torch.Size([1, 1, 32, 32])\n",
      "torch.Size([1, 1, 30, 45])\n",
      "torch.Size([1, 1, 32, 32])\n"
     ]
    },
    {
     "name": "stderr",
     "output_type": "stream",
     "text": []
    },
    {
     "name": "stdout",
     "output_type": "stream",
     "text": [
      "torch.Size([1, 1, 30, 45])\n",
      "torch.Size([1, 1, 32, 32])\n",
      "torch.Size([1, 1, 30, 45])\n",
      "torch.Size([1, 1, 32, 32])"
     ]
    },
    {
     "name": "stderr",
     "output_type": "stream",
     "text": []
    },
    {
     "name": "stdout",
     "output_type": "stream",
     "text": [
      "\n",
      "torch.Size([1, 1, 30, 45])\n",
      "torch.Size([1, 1, 32, 32])\n"
     ]
    },
    {
     "name": "stderr",
     "output_type": "stream",
     "text": []
    },
    {
     "name": "stdout",
     "output_type": "stream",
     "text": [
      "torch.Size([1, 1, 30, 45])\n",
      "torch.Size([1, 1, 32, 32])\n",
      "torch.Size([1, 1, 30, 45])\n",
      "torch.Size([1, 1, 32, 32])\n",
      "torch.Size([1, 1, 30, 45])\n",
      "torch.Size([1, 1, 32, 32])\n"
     ]
    },
    {
     "name": "stderr",
     "output_type": "stream",
     "text": []
    },
    {
     "name": "stdout",
     "output_type": "stream",
     "text": [
      "torch.Size([1, 1, 30, 45])\n",
      "torch.Size([1, 1, 32, 32])\n",
      "torch.Size([1, 1, 30, 45])\n",
      "torch.Size([1, 1, 32, 32])\n",
      "torch.Size([1, 1, 30, 45])"
     ]
    },
    {
     "name": "stderr",
     "output_type": "stream",
     "text": []
    },
    {
     "name": "stdout",
     "output_type": "stream",
     "text": [
      "\n",
      "torch.Size([1, 1, 32, 32])\n",
      "torch.Size([1, 1, 30, 45])\n",
      "torch.Size([1, 1, 32, 32])\n",
      "torch.Size([1, 1, 30, 45])"
     ]
    },
    {
     "name": "stderr",
     "output_type": "stream",
     "text": []
    },
    {
     "name": "stdout",
     "output_type": "stream",
     "text": [
      "\n",
      "torch.Size([1, 1, 32, 32])\n",
      "torch.Size([1, 1, 30, 45])\n",
      "torch.Size([1, 1, 32, 32])\n"
     ]
    },
    {
     "name": "stderr",
     "output_type": "stream",
     "text": []
    },
    {
     "name": "stdout",
     "output_type": "stream",
     "text": [
      "torch.Size([1, 1, 30, 45])\n",
      "torch.Size([1, 1, 32, 32])\n",
      "torch.Size([1, 1, 30, 45])\n",
      "torch.Size([1, 1, 32, 32])\n"
     ]
    },
    {
     "name": "stderr",
     "output_type": "stream",
     "text": []
    },
    {
     "name": "stdout",
     "output_type": "stream",
     "text": [
      "torch.Size([1, 1, 30, 45])\n",
      "torch.Size([1, 1, 32, 32])\n",
      "torch.Size([1, 1, 30, 45])\n",
      "torch.Size([1, 1, 32, 32])\n"
     ]
    },
    {
     "name": "stderr",
     "output_type": "stream",
     "text": []
    },
    {
     "name": "stdout",
     "output_type": "stream",
     "text": [
      "torch.Size([1, 1, 30, 45])\n",
      "torch.Size([1, 1, 32, 32])\n"
     ]
    },
    {
     "name": "stderr",
     "output_type": "stream",
     "text": []
    },
    {
     "name": "stdout",
     "output_type": "stream",
     "text": [
      "torch.Size([1, 1, 30, 45])\n",
      "torch.Size([1, 1, 32, 32])\n",
      "torch.Size([1, 1, 30, 45])\n",
      "torch.Size([1, 1, 32, 32])\n"
     ]
    },
    {
     "name": "stderr",
     "output_type": "stream",
     "text": []
    },
    {
     "name": "stdout",
     "output_type": "stream",
     "text": [
      "torch.Size([1, 1, 30, 45])\n",
      "torch.Size([1, 1, 32, 32])\n",
      "torch.Size([1, 1, 30, 45])\n",
      "torch.Size([1, 1, 32, 32])\n",
      "torch.Size([1, 1, 30, 45])"
     ]
    },
    {
     "name": "stderr",
     "output_type": "stream",
     "text": []
    },
    {
     "name": "stdout",
     "output_type": "stream",
     "text": [
      "\n",
      "torch.Size([1, 1, 32, 32])\n",
      "torch.Size([1, 1, 30, 45])\n",
      "torch.Size([1, 1, 32, 32])\n"
     ]
    },
    {
     "name": "stderr",
     "output_type": "stream",
     "text": []
    },
    {
     "name": "stdout",
     "output_type": "stream",
     "text": [
      "torch.Size([1, 1, 30, 45])\n",
      "torch.Size([1, 1, 32, 32])\n",
      "torch.Size([1, 1, 30, 45])\n",
      "torch.Size([1, 1, 32, 32])\n",
      "torch.Size([1, 1, 30, 45])"
     ]
    },
    {
     "name": "stderr",
     "output_type": "stream",
     "text": []
    },
    {
     "name": "stdout",
     "output_type": "stream",
     "text": [
      "\n",
      "torch.Size([1, 1, 32, 32])\n",
      "torch.Size([1, 1, 30, 45])\n",
      "torch.Size([1, 1, 32, 32])\n"
     ]
    },
    {
     "name": "stderr",
     "output_type": "stream",
     "text": []
    },
    {
     "name": "stdout",
     "output_type": "stream",
     "text": [
      "torch.Size([1, 1, 30, 45])\n",
      "torch.Size([1, 1, 32, 32])\n"
     ]
    },
    {
     "name": "stderr",
     "output_type": "stream",
     "text": []
    },
    {
     "name": "stdout",
     "output_type": "stream",
     "text": [
      "torch.Size([1, 1, 30, 45])\n",
      "torch.Size([1, 1, 32, 32])\n",
      "torch.Size([1, 1, 30, 45])\n",
      "torch.Size([1, 1, 32, 32])\n"
     ]
    },
    {
     "name": "stderr",
     "output_type": "stream",
     "text": []
    },
    {
     "name": "stdout",
     "output_type": "stream",
     "text": [
      "torch.Size([1, 1, 30, 45])\n",
      "torch.Size([1, 1, 32, 32])\n",
      "torch.Size([1, 1, 30, 45])\n",
      "torch.Size([1, 1, 32, 32])\n"
     ]
    },
    {
     "name": "stderr",
     "output_type": "stream",
     "text": []
    },
    {
     "name": "stdout",
     "output_type": "stream",
     "text": [
      "torch.Size([1, 1, 30, 45])\n",
      "torch.Size([1, 1, 32, 32])\n",
      "torch.Size([1, 1, 30, 45])\n",
      "torch.Size([1, 1, 32, 32])\n",
      "torch.Size([1, 1, 30, 45])"
     ]
    },
    {
     "name": "stderr",
     "output_type": "stream",
     "text": []
    },
    {
     "name": "stdout",
     "output_type": "stream",
     "text": [
      "\n",
      "torch.Size([1, 1, 32, 32])\n",
      "torch.Size([1, 1, 30, 45])\n",
      "torch.Size([1, 1, 32, 32])\n",
      "torch.Size([1, 1, 30, 45])"
     ]
    },
    {
     "name": "stderr",
     "output_type": "stream",
     "text": []
    },
    {
     "name": "stdout",
     "output_type": "stream",
     "text": [
      "\n",
      "torch.Size([1, 1, 32, 32])\n",
      "torch.Size([1, 1, 30, 45])\n",
      "torch.Size([1, 1, 32, 32])\n",
      "torch.Size([1, 1, 30, 45])\n",
      "torch.Size([1, 1, 32, 32])\n"
     ]
    },
    {
     "name": "stderr",
     "output_type": "stream",
     "text": []
    },
    {
     "name": "stdout",
     "output_type": "stream",
     "text": [
      "torch.Size([1, 1, 30, 45])\n",
      "torch.Size([1, 1, 32, 32])\n",
      "torch.Size([1, 1, 30, 45])\n",
      "torch.Size([1, 1, 32, 32])\n"
     ]
    },
    {
     "name": "stderr",
     "output_type": "stream",
     "text": []
    },
    {
     "name": "stdout",
     "output_type": "stream",
     "text": [
      "torch.Size([1, 1, 30, 45])\n",
      "torch.Size([1, 1, 32, 32])\n",
      "torch.Size([1, 1, 30, 45])\n",
      "torch.Size([1, 1, 32, 32])\n"
     ]
    },
    {
     "name": "stderr",
     "output_type": "stream",
     "text": []
    },
    {
     "name": "stdout",
     "output_type": "stream",
     "text": [
      "torch.Size([1, 1, 30, 45])\n",
      "torch.Size([1, 1, 32, 32])\n",
      "torch.Size([1, 1, 30, 45])\n",
      "torch.Size([1, 1, 32, 32])\n"
     ]
    },
    {
     "name": "stderr",
     "output_type": "stream",
     "text": []
    },
    {
     "name": "stdout",
     "output_type": "stream",
     "text": [
      "torch.Size([1, 1, 30, 45])\n",
      "torch.Size([1, 1, 32, 32])\n",
      "torch.Size([1, 1, 30, 45])\n",
      "torch.Size([1, 1, 32, 32])\n"
     ]
    },
    {
     "name": "stderr",
     "output_type": "stream",
     "text": []
    },
    {
     "name": "stdout",
     "output_type": "stream",
     "text": [
      "torch.Size([1, 1, 30, 45])\n",
      "torch.Size([1, 1, 32, 32])\n",
      "torch.Size([1, 1, 30, 45])\n",
      "torch.Size([1, 1, 32, 32])\n"
     ]
    },
    {
     "name": "stderr",
     "output_type": "stream",
     "text": []
    },
    {
     "name": "stdout",
     "output_type": "stream",
     "text": [
      "torch.Size([1, 1, 30, 45])\n",
      "torch.Size([1, 1, 32, 32])\n",
      "torch.Size([1, 1, 30, 45])\n",
      "torch.Size([1, 1, 32, 32])\n"
     ]
    },
    {
     "name": "stderr",
     "output_type": "stream",
     "text": []
    },
    {
     "name": "stdout",
     "output_type": "stream",
     "text": [
      "torch.Size([1, 1, 30, 45])\n",
      "torch.Size([1, 1, 32, 32])\n",
      "torch.Size([1, 1, 30, 45])\n",
      "torch.Size([1, 1, 32, 32])\n"
     ]
    },
    {
     "name": "stderr",
     "output_type": "stream",
     "text": []
    },
    {
     "name": "stdout",
     "output_type": "stream",
     "text": [
      "torch.Size([1, 1, 30, 45])\n",
      "torch.Size([1, 1, 32, 32])\n",
      "torch.Size([1, 1, 30, 45])\n",
      "torch.Size([1, 1, 32, 32])\n"
     ]
    },
    {
     "name": "stderr",
     "output_type": "stream",
     "text": []
    },
    {
     "name": "stdout",
     "output_type": "stream",
     "text": [
      "torch.Size([1, 1, 30, 45])\n",
      "torch.Size([1, 1, 32, 32])\n",
      "torch.Size([1, 1, 30, 45])\n",
      "torch.Size([1, 1, 32, 32])\n"
     ]
    },
    {
     "name": "stderr",
     "output_type": "stream",
     "text": []
    },
    {
     "name": "stdout",
     "output_type": "stream",
     "text": [
      "torch.Size([1, 1, 30, 45])\n",
      "torch.Size([1, 1, 32, 32])\n",
      "torch.Size([1, 1, 30, 45])\n",
      "torch.Size([1, 1, 32, 32])\n"
     ]
    },
    {
     "name": "stderr",
     "output_type": "stream",
     "text": []
    },
    {
     "name": "stdout",
     "output_type": "stream",
     "text": [
      "torch.Size([1, 1, 30, 45])\n",
      "torch.Size([1, 1, 32, 32])\n",
      "torch.Size([1, 1, 30, 45])\n",
      "torch.Size([1, 1, 32, 32])\n",
      "torch.Size([1, 1, 30, 45])"
     ]
    },
    {
     "name": "stderr",
     "output_type": "stream",
     "text": []
    },
    {
     "name": "stdout",
     "output_type": "stream",
     "text": [
      "\n",
      "torch.Size([1, 1, 32, 32])\n",
      "torch.Size([1, 1, 30, 45])"
     ]
    },
    {
     "name": "stderr",
     "output_type": "stream",
     "text": []
    },
    {
     "name": "stdout",
     "output_type": "stream",
     "text": [
      "\n",
      "torch.Size([1, 1, 32, 32])\n",
      "torch.Size([1, 1, 30, 45])\n",
      "torch.Size([1, 1, 32, 32])\n"
     ]
    },
    {
     "name": "stderr",
     "output_type": "stream",
     "text": []
    },
    {
     "name": "stdout",
     "output_type": "stream",
     "text": [
      "torch.Size([1, 1, 30, 45])\n",
      "torch.Size([1, 1, 32, 32])\n",
      "torch.Size([1, 1, 30, 45])\n",
      "torch.Size([1, 1, 32, 32])\n"
     ]
    },
    {
     "name": "stderr",
     "output_type": "stream",
     "text": []
    },
    {
     "name": "stdout",
     "output_type": "stream",
     "text": [
      "torch.Size([1, 1, 30, 45])\n",
      "torch.Size([1, 1, 32, 32])\n",
      "torch.Size([1, 1, 30, 45])\n",
      "torch.Size([1, 1, 32, 32])\n"
     ]
    },
    {
     "name": "stderr",
     "output_type": "stream",
     "text": []
    },
    {
     "name": "stdout",
     "output_type": "stream",
     "text": [
      "torch.Size([1, 1, 30, 45])\n",
      "torch.Size([1, 1, 32, 32])\n"
     ]
    },
    {
     "name": "stderr",
     "output_type": "stream",
     "text": []
    },
    {
     "name": "stdout",
     "output_type": "stream",
     "text": [
      "torch.Size([1, 1, 30, 45])\n",
      "torch.Size([1, 1, 32, 32])\n",
      "torch.Size([1, 1, 30, 45])\n",
      "torch.Size([1, 1, 32, 32])\n",
      "torch.Size([1, 1, 30, 45])"
     ]
    },
    {
     "name": "stderr",
     "output_type": "stream",
     "text": []
    },
    {
     "name": "stdout",
     "output_type": "stream",
     "text": [
      "\n",
      "torch.Size([1, 1, 32, 32])\n",
      "torch.Size([1, 1, 30, 45])\n",
      "torch.Size([1, 1, 32, 32])\n"
     ]
    },
    {
     "name": "stderr",
     "output_type": "stream",
     "text": []
    },
    {
     "name": "stdout",
     "output_type": "stream",
     "text": [
      "torch.Size([1, 1, 30, 45])\n",
      "torch.Size([1, 1, 32, 32])\n",
      "torch.Size([1, 1, 30, 45])\n",
      "torch.Size([1, 1, 32, 32])\n"
     ]
    },
    {
     "name": "stderr",
     "output_type": "stream",
     "text": []
    },
    {
     "name": "stdout",
     "output_type": "stream",
     "text": [
      "torch.Size([1, 1, 30, 45])\n",
      "torch.Size([1, 1, 32, 32])\n",
      "torch.Size([1, 1, 30, 45])\n",
      "torch.Size([1, 1, 32, 32])\n",
      "torch.Size([1, 1, 30, 45])\n",
      "torch.Size([1, 1, 32, 32])\n"
     ]
    },
    {
     "name": "stderr",
     "output_type": "stream",
     "text": []
    },
    {
     "name": "stdout",
     "output_type": "stream",
     "text": [
      "torch.Size([1, 1, 30, 45])\n",
      "torch.Size([1, 1, 32, 32])\n",
      "torch.Size([1, 1, 30, 45])\n",
      "torch.Size([1, 1, 32, 32])\n"
     ]
    },
    {
     "name": "stderr",
     "output_type": "stream",
     "text": []
    },
    {
     "name": "stdout",
     "output_type": "stream",
     "text": [
      "torch.Size([1, 1, 30, 45])\n",
      "torch.Size([1, 1, 32, 32])\n",
      "torch.Size([1, 1, 30, 45])\n",
      "torch.Size([1, 1, 32, 32])\n"
     ]
    },
    {
     "name": "stderr",
     "output_type": "stream",
     "text": []
    },
    {
     "name": "stdout",
     "output_type": "stream",
     "text": [
      "torch.Size([1, 1, 30, 45])\n",
      "torch.Size([1, 1, 32, 32])\n",
      "torch.Size([1, 1, 30, 45])\n",
      "torch.Size([1, 1, 32, 32])\n"
     ]
    },
    {
     "name": "stderr",
     "output_type": "stream",
     "text": []
    },
    {
     "name": "stdout",
     "output_type": "stream",
     "text": [
      "torch.Size([1, 1, 30, 45])\n",
      "torch.Size([1, 1, 32, 32])\n",
      "torch.Size([1, 1, 30, 45])\n",
      "torch.Size([1, 1, 32, 32])\n"
     ]
    },
    {
     "name": "stderr",
     "output_type": "stream",
     "text": []
    },
    {
     "name": "stdout",
     "output_type": "stream",
     "text": [
      "torch.Size([1, 1, 30, 45])\n",
      "torch.Size([1, 1, 32, 32])\n",
      "torch.Size([1, 1, 30, 45])\n",
      "torch.Size([1, 1, 32, 32])\n"
     ]
    },
    {
     "name": "stderr",
     "output_type": "stream",
     "text": []
    },
    {
     "name": "stdout",
     "output_type": "stream",
     "text": [
      "torch.Size([1, 1, 30, 45])\n",
      "torch.Size([1, 1, 32, 32])\n",
      "torch.Size([1, 1, 30, 45])\n",
      "torch.Size([1, 1, 32, 32])\n"
     ]
    },
    {
     "name": "stderr",
     "output_type": "stream",
     "text": []
    },
    {
     "name": "stdout",
     "output_type": "stream",
     "text": [
      "torch.Size([1, 1, 30, 45])\n",
      "torch.Size([1, 1, 32, 32])\n",
      "torch.Size([1, 1, 30, 45])\n",
      "torch.Size([1, 1, 32, 32])\n"
     ]
    },
    {
     "name": "stderr",
     "output_type": "stream",
     "text": []
    },
    {
     "name": "stdout",
     "output_type": "stream",
     "text": [
      "torch.Size([1, 1, 30, 45])\n",
      "torch.Size([1, 1, 32, 32])\n",
      "torch.Size([1, 1, 30, 45])\n",
      "torch.Size([1, 1, 32, 32])\n"
     ]
    },
    {
     "name": "stderr",
     "output_type": "stream",
     "text": []
    },
    {
     "name": "stdout",
     "output_type": "stream",
     "text": [
      "torch.Size([1, 1, 30, 45])\n",
      "torch.Size([1, 1, 32, 32])\n",
      "torch.Size([1, 1, 30, 45])\n",
      "torch.Size([1, 1, 32, 32])\n"
     ]
    },
    {
     "name": "stderr",
     "output_type": "stream",
     "text": []
    },
    {
     "name": "stdout",
     "output_type": "stream",
     "text": [
      "torch.Size([1, 1, 30, 45])\n",
      "torch.Size([1, 1, 32, 32])\n"
     ]
    },
    {
     "name": "stderr",
     "output_type": "stream",
     "text": []
    },
    {
     "name": "stdout",
     "output_type": "stream",
     "text": [
      "torch.Size([1, 1, 30, 45])\n",
      "torch.Size([1, 1, 32, 32])\n"
     ]
    },
    {
     "name": "stderr",
     "output_type": "stream",
     "text": []
    },
    {
     "name": "stdout",
     "output_type": "stream",
     "text": [
      "torch.Size([1, 1, 30, 45])\n",
      "torch.Size([1, 1, 32, 32])\n",
      "torch.Size([1, 1, 30, 45])\n",
      "torch.Size([1, 1, 32, 32])\n"
     ]
    },
    {
     "name": "stderr",
     "output_type": "stream",
     "text": []
    },
    {
     "name": "stdout",
     "output_type": "stream",
     "text": [
      "torch.Size([1, 1, 30, 45])\n",
      "torch.Size([1, 1, 32, 32])\n",
      "torch.Size([1, 1, 30, 45])\n",
      "torch.Size([1, 1, 32, 32])\n"
     ]
    },
    {
     "name": "stderr",
     "output_type": "stream",
     "text": []
    },
    {
     "name": "stdout",
     "output_type": "stream",
     "text": [
      "torch.Size([1, 1, 30, 45])\n",
      "torch.Size([1, 1, 32, 32])\n",
      "torch.Size([1, 1, 30, 45])\n",
      "torch.Size([1, 1, 32, 32])\n",
      "torch.Size([1, 1, 30, 45])"
     ]
    },
    {
     "name": "stderr",
     "output_type": "stream",
     "text": []
    },
    {
     "name": "stdout",
     "output_type": "stream",
     "text": [
      "\n",
      "torch.Size([1, 1, 32, 32])\n",
      "torch.Size([1, 1, 30, 45])\n",
      "torch.Size([1, 1, 32, 32])\n"
     ]
    },
    {
     "name": "stderr",
     "output_type": "stream",
     "text": []
    },
    {
     "name": "stdout",
     "output_type": "stream",
     "text": [
      "torch.Size([1, 1, 30, 45])\n",
      "torch.Size([1, 1, 32, 32])\n",
      "torch.Size([1, 1, 30, 45])\n",
      "torch.Size([1, 1, 32, 32])\n"
     ]
    },
    {
     "name": "stderr",
     "output_type": "stream",
     "text": []
    },
    {
     "name": "stdout",
     "output_type": "stream",
     "text": [
      "torch.Size([1, 1, 30, 45])\n",
      "torch.Size([1, 1, 32, 32])\n",
      "torch.Size([1, 1, 30, 45])\n",
      "torch.Size([1, 1, 32, 32])\n",
      "torch.Size([1, 1, 30, 45])\n",
      "torch.Size([1, 1, 32, 32])\n"
     ]
    },
    {
     "name": "stderr",
     "output_type": "stream",
     "text": []
    },
    {
     "name": "stdout",
     "output_type": "stream",
     "text": [
      "torch.Size([1, 1, 30, 45])\n",
      "torch.Size([1, 1, 32, 32])\n",
      "torch.Size([1, 1, 30, 45])\n",
      "torch.Size([1, 1, 32, 32])\n"
     ]
    },
    {
     "name": "stderr",
     "output_type": "stream",
     "text": []
    },
    {
     "name": "stdout",
     "output_type": "stream",
     "text": [
      "torch.Size([1, 1, 30, 45])\n",
      "torch.Size([1, 1, 32, 32])\n",
      "torch.Size([1, 1, 30, 45])\n",
      "torch.Size([1, 1, 32, 32])\n",
      "torch.Size([1, 1, 30, 45])"
     ]
    },
    {
     "name": "stderr",
     "output_type": "stream",
     "text": []
    },
    {
     "name": "stdout",
     "output_type": "stream",
     "text": [
      "\n",
      "torch.Size([1, 1, 32, 32])\n",
      "torch.Size([1, 1, 30, 45])\n",
      "torch.Size([1, 1, 32, 32])\n"
     ]
    },
    {
     "name": "stderr",
     "output_type": "stream",
     "text": []
    },
    {
     "name": "stdout",
     "output_type": "stream",
     "text": [
      "torch.Size([1, 1, 30, 45])\n",
      "torch.Size([1, 1, 32, 32])\n",
      "torch.Size([1, 1, 30, 45])\n",
      "torch.Size([1, 1, 32, 32])\n"
     ]
    },
    {
     "name": "stderr",
     "output_type": "stream",
     "text": []
    },
    {
     "name": "stdout",
     "output_type": "stream",
     "text": [
      "torch.Size([1, 1, 30, 45])\n",
      "torch.Size([1, 1, 32, 32])\n",
      "torch.Size([1, 1, 30, 45])\n",
      "torch.Size([1, 1, 32, 32])\n",
      "torch.Size([1, 1, 30, 45])"
     ]
    },
    {
     "name": "stderr",
     "output_type": "stream",
     "text": []
    },
    {
     "name": "stdout",
     "output_type": "stream",
     "text": [
      "\n",
      "torch.Size([1, 1, 32, 32])\n",
      "torch.Size([1, 1, 30, 45])\n",
      "torch.Size([1, 1, 32, 32])\n"
     ]
    },
    {
     "name": "stderr",
     "output_type": "stream",
     "text": []
    },
    {
     "name": "stdout",
     "output_type": "stream",
     "text": [
      "torch.Size([1, 1, 30, 45])\n",
      "torch.Size([1, 1, 32, 32])\n",
      "torch.Size([1, 1, 30, 45])\n",
      "torch.Size([1, 1, 32, 32])\n"
     ]
    },
    {
     "name": "stderr",
     "output_type": "stream",
     "text": []
    },
    {
     "name": "stdout",
     "output_type": "stream",
     "text": [
      "torch.Size([1, 1, 30, 45])\n",
      "torch.Size([1, 1, 32, 32])\n",
      "torch.Size([1, 1, 30, 45])\n",
      "torch.Size([1, 1, 32, 32])\n",
      "torch.Size([1, 1, 30, 45])\n",
      "torch.Size([1, 1, 32, 32])\n"
     ]
    },
    {
     "name": "stderr",
     "output_type": "stream",
     "text": []
    },
    {
     "name": "stdout",
     "output_type": "stream",
     "text": [
      "torch.Size([1, 1, 30, 45])\n",
      "torch.Size([1, 1, 32, 32])\n",
      "torch.Size([1, 1, 30, 45])\n",
      "torch.Size([1, 1, 32, 32])\n"
     ]
    },
    {
     "name": "stderr",
     "output_type": "stream",
     "text": []
    },
    {
     "name": "stdout",
     "output_type": "stream",
     "text": [
      "torch.Size([1, 1, 30, 45])\n",
      "torch.Size([1, 1, 32, 32])\n",
      "torch.Size([1, 1, 30, 45])\n",
      "torch.Size([1, 1, 32, 32])\n",
      "torch.Size([1, 1, 30, 45])"
     ]
    },
    {
     "name": "stderr",
     "output_type": "stream",
     "text": []
    },
    {
     "name": "stdout",
     "output_type": "stream",
     "text": [
      "\n",
      "torch.Size([1, 1, 32, 32])\n",
      "torch.Size([1, 1, 30, 45])\n",
      "torch.Size([1, 1, 32, 32])\n"
     ]
    },
    {
     "name": "stderr",
     "output_type": "stream",
     "text": []
    },
    {
     "name": "stdout",
     "output_type": "stream",
     "text": [
      "torch.Size([1, 1, 30, 45])\n",
      "torch.Size([1, 1, 32, 32])\n",
      "torch.Size([16, 1, 30, 45])\n",
      "torch.Size([16, 1, 32, 32])\n",
      "Epoch 0: : 1it [05:47, 347.25s/it, loss=0.207, v_num=11]torch.Size([16, 1, 30, 45])\n",
      "torch.Size([16, 1, 32, 32])\n",
      "Epoch 0: : 2it [05:47, 173.76s/it, loss=0.0469, v_num=11]torch.Size([16, 1, 30, 45])\n",
      "torch.Size([16, 1, 32, 32])\n",
      "Epoch 0: : 3it [05:47, 115.86s/it, loss=0.0344, v_num=11]torch.Size([16, 1, 30, 45])\n",
      "torch.Size([16, 1, 32, 32])\n",
      "Epoch 0: : 4it [05:47, 86.91s/it, loss=-0.00765, v_num=11]torch.Size([16, 1, 30, 45])\n",
      "torch.Size([16, 1, 32, 32])\n",
      "Epoch 0: : 5it [05:47, 69.55s/it, loss=-0.0276, v_num=11] torch.Size([16, 1, 30, 45])\n",
      "torch.Size([16, 1, 32, 32])\n",
      "Epoch 0: : 6it [05:47, 57.97s/it, loss=-0.0085, v_num=11]torch.Size([16, 1, 30, 45])\n",
      "torch.Size([16, 1, 32, 32])\n",
      "Epoch 0: : 7it [05:47, 49.70s/it, loss=-0.0254, v_num=11]torch.Size([16, 1, 30, 45])\n",
      "torch.Size([16, 1, 32, 32])\n",
      "Epoch 0: : 8it [05:47, 43.49s/it, loss=0.00511, v_num=11]torch.Size([16, 1, 30, 45])\n",
      "torch.Size([16, 1, 32, 32])\n",
      "Epoch 0: : 9it [05:48, 38.67s/it, loss=0.00576, v_num=11]torch.Size([16, 1, 30, 45])\n",
      "torch.Size([16, 1, 32, 32])\n",
      "Epoch 0: : 10it [05:48, 34.81s/it, loss=-0.00401, v_num=11]torch.Size([16, 1, 30, 45])\n",
      "torch.Size([16, 1, 32, 32])\n",
      "Epoch 0: : 11it [05:48, 31.66s/it, loss=-0.0199, v_num=11] torch.Size([16, 1, 30, 45])\n",
      "torch.Size([16, 1, 32, 32])\n",
      "Epoch 0: : 12it [05:48, 29.03s/it, loss=-0.0284, v_num=11]torch.Size([8, 1, 30, 45])\n",
      "torch.Size([8, 1, 32, 32])\n",
      "Epoch 0: : 13it [05:48, 26.80s/it, loss=-0.0459, v_num=11]\n",
      "[Button.MOVE_LEFT, Button.MOVE_RIGHT, Button.ATTACK, Button.MOVE_FORWARD, Button.MOVE_BACKWARD, Button.TURN_LEFT, Button.TURN_RIGHT]\n",
      "torch.Size([1, 1, 30, 45])\n",
      "torch.Size([1, 1, 32, 32])\n",
      "torch.Size([1, 1, 30, 45])\n",
      "torch.Size([1, 1, 32, 32])\n",
      "torch.Size([1, 1, 30, 45])\n",
      "torch.Size([1, 1, 32, 32])\n",
      "torch.Size([1, 1, 30, 45])\n",
      "torch.Size([1, 1, 32, 32])\n",
      "torch.Size([1, 1, 30, 45])\n",
      "torch.Size([1, 1, 32, 32])\n",
      "torch.Size([1, 1, 30, 45])\n",
      "torch.Size([1, 1, 32, 32])\n",
      "torch.Size([1, 1, 30, 45])\n",
      "torch.Size([1, 1, 32, 32])\n",
      "torch.Size([1, 1, 30, 45])\n",
      "torch.Size([1, 1, 32, 32])\n",
      "torch.Size([1, 1, 30, 45])\n",
      "torch.Size([1, 1, 32, 32])\n",
      "torch.Size([1, 1, 30, 45])\n",
      "torch.Size([1, 1, 32, 32])\n",
      "torch.Size([1, 1, 30, 45])\n",
      "torch.Size([1, 1, 32, 32])\n",
      "torch.Size([1, 1, 30, 45])\n",
      "torch.Size([1, 1, 32, 32])\n",
      "test/total_score -93.10841369628906\n",
      "test/total_reward -87.14521853708789\n",
      "torch.Size([1, 1, 30, 45])\n",
      "torch.Size([1, 1, 32, 32])\n",
      "torch.Size([1, 1, 30, 45])\n",
      "torch.Size([1, 1, 32, 32])\n",
      "torch.Size([1, 1, 30, 45])\n",
      "torch.Size([1, 1, 32, 32])\n",
      "torch.Size([1, 1, 30, 45])\n",
      "torch.Size([1, 1, 32, 32])\n",
      "torch.Size([1, 1, 30, 45])\n",
      "torch.Size([1, 1, 32, 32])\n",
      "torch.Size([1, 1, 30, 45])\n",
      "torch.Size([1, 1, 32, 32])\n",
      "torch.Size([1, 1, 30, 45])\n",
      "torch.Size([1, 1, 32, 32])\n",
      "torch.Size([1, 1, 30, 45])\n",
      "torch.Size([1, 1, 32, 32])\n",
      "torch.Size([1, 1, 30, 45])\n",
      "torch.Size([1, 1, 32, 32])\n",
      "torch.Size([1, 1, 30, 45])\n",
      "torch.Size([1, 1, 32, 32])\n",
      "torch.Size([1, 1, 30, 45])\n",
      "torch.Size([1, 1, 32, 32])\n",
      "torch.Size([1, 1, 30, 45])\n",
      "torch.Size([1, 1, 32, 32])\n",
      "test/total_score 173.8245391845703\n",
      "test/total_reward 205.7808615119029\n",
      "torch.Size([1, 1, 30, 45])\n",
      "torch.Size([1, 1, 32, 32])\n",
      "torch.Size([1, 1, 30, 45])\n",
      "torch.Size([1, 1, 32, 32])\n",
      "torch.Size([1, 1, 30, 45])\n",
      "torch.Size([1, 1, 32, 32])\n",
      "torch.Size([1, 1, 30, 45])\n",
      "torch.Size([1, 1, 32, 32])\n",
      "torch.Size([1, 1, 30, 45])\n",
      "torch.Size([1, 1, 32, 32])\n",
      "torch.Size([1, 1, 30, 45])\n",
      "torch.Size([1, 1, 32, 32])\n",
      "torch.Size([1, 1, 30, 45])\n",
      "torch.Size([1, 1, 32, 32])\n",
      "test/total_score -49.263580322265625\n",
      "test/total_reward -101.36503254299078\n",
      "torch.Size([1, 1, 30, 45])\n",
      "torch.Size([1, 1, 32, 32])\n",
      "torch.Size([1, 1, 30, 45])\n",
      "torch.Size([1, 1, 32, 32])\n",
      "torch.Size([1, 1, 30, 45])\n",
      "torch.Size([1, 1, 32, 32])\n",
      "torch.Size([1, 1, 30, 45])\n",
      "torch.Size([1, 1, 32, 32])\n",
      "torch.Size([1, 1, 30, 45])\n",
      "torch.Size([1, 1, 32, 32])\n",
      "torch.Size([1, 1, 30, 45])\n",
      "torch.Size([1, 1, 32, 32])\n",
      "torch.Size([1, 1, 30, 45])\n",
      "torch.Size([1, 1, 32, 32])\n",
      "test/total_score 51.530975341796875\n",
      "test/total_reward 75.45690553101053\n",
      "torch.Size([1, 1, 30, 45])\n",
      "torch.Size([1, 1, 32, 32])\n",
      "torch.Size([1, 1, 30, 45])\n",
      "torch.Size([1, 1, 32, 32])\n",
      "torch.Size([1, 1, 30, 45])\n",
      "torch.Size([1, 1, 32, 32])\n",
      "torch.Size([1, 1, 30, 45])\n",
      "torch.Size([1, 1, 32, 32])\n",
      "torch.Size([1, 1, 30, 45])\n",
      "torch.Size([1, 1, 32, 32])\n",
      "torch.Size([1, 1, 30, 45])\n",
      "torch.Size([1, 1, 32, 32])\n",
      "torch.Size([1, 1, 30, 45])\n",
      "torch.Size([1, 1, 32, 32])\n",
      "test/total_score -67.05033874511719\n",
      "test/total_reward -17.064752353288668\n",
      "torch.Size([1, 1, 30, 45])\n",
      "torch.Size([1, 1, 32, 32])\n",
      "torch.Size([1, 1, 30, 45])\n",
      "torch.Size([1, 1, 32, 32])\n",
      "torch.Size([1, 1, 30, 45])\n",
      "torch.Size([1, 1, 32, 32])\n",
      "torch.Size([1, 1, 30, 45])\n",
      "torch.Size([1, 1, 32, 32])\n",
      "torch.Size([1, 1, 30, 45])\n",
      "torch.Size([1, 1, 32, 32])\n",
      "torch.Size([1, 1, 30, 45])\n",
      "torch.Size([1, 1, 32, 32])\n",
      "torch.Size([1, 1, 30, 45])\n",
      "torch.Size([1, 1, 32, 32])\n",
      "torch.Size([1, 1, 30, 45])\n",
      "torch.Size([1, 1, 32, 32])\n",
      "torch.Size([1, 1, 30, 45])\n",
      "torch.Size([1, 1, 32, 32])\n",
      "torch.Size([1, 1, 30, 45])\n",
      "torch.Size([1, 1, 32, 32])\n",
      "test/total_score -58.07624816894531\n",
      "test/total_reward -126.17672800831224\n",
      "torch.Size([1, 1, 30, 45])\n",
      "torch.Size([1, 1, 32, 32])\n",
      "torch.Size([1, 1, 30, 45])\n",
      "torch.Size([1, 1, 32, 32])\n",
      "torch.Size([1, 1, 30, 45])\n",
      "torch.Size([1, 1, 32, 32])\n",
      "torch.Size([1, 1, 30, 45])\n",
      "torch.Size([1, 1, 32, 32])\n",
      "test/total_score -115.71385192871094\n",
      "test/total_reward -169.71389035337597\n",
      "torch.Size([1, 1, 30, 45])\n",
      "torch.Size([1, 1, 32, 32])\n",
      "torch.Size([1, 1, 30, 45])\n",
      "torch.Size([1, 1, 32, 32])\n",
      "torch.Size([1, 1, 30, 45])\n",
      "torch.Size([1, 1, 32, 32])\n",
      "torch.Size([1, 1, 30, 45])\n",
      "torch.Size([1, 1, 32, 32])\n",
      "torch.Size([1, 1, 30, 45])\n",
      "torch.Size([1, 1, 32, 32])\n",
      "torch.Size([1, 1, 30, 45])\n",
      "torch.Size([1, 1, 32, 32])\n",
      "torch.Size([1, 1, 30, 45])\n",
      "torch.Size([1, 1, 32, 32])\n",
      "test/total_score -1.4779052734375\n",
      "test/total_reward 134.5129170307482\n",
      "torch.Size([1, 1, 30, 45])\n",
      "torch.Size([1, 1, 32, 32])\n",
      "torch.Size([1, 1, 30, 45])\n",
      "torch.Size([1, 1, 32, 32])\n",
      "torch.Size([1, 1, 30, 45])\n",
      "torch.Size([1, 1, 32, 32])\n",
      "torch.Size([1, 1, 30, 45])\n",
      "torch.Size([1, 1, 32, 32])\n",
      "torch.Size([1, 1, 30, 45])\n",
      "torch.Size([1, 1, 32, 32])\n",
      "torch.Size([1, 1, 30, 45])\n",
      "torch.Size([1, 1, 32, 32])\n",
      "torch.Size([1, 1, 30, 45])\n",
      "torch.Size([1, 1, 32, 32])\n",
      "test/total_score -73.73420715332031\n",
      "test/total_reward -153.8334694886937\n",
      "torch.Size([1, 1, 30, 45])\n",
      "torch.Size([1, 1, 32, 32])\n",
      "torch.Size([1, 1, 30, 45])\n",
      "torch.Size([1, 1, 32, 32])\n",
      "torch.Size([1, 1, 30, 45])\n",
      "torch.Size([1, 1, 32, 32])\n",
      "torch.Size([1, 1, 30, 45])\n",
      "torch.Size([1, 1, 32, 32])\n",
      "torch.Size([1, 1, 30, 45])\n",
      "torch.Size([1, 1, 32, 32])\n",
      "torch.Size([1, 1, 30, 45])\n",
      "torch.Size([1, 1, 32, 32])\n",
      "torch.Size([1, 1, 30, 45])\n",
      "torch.Size([1, 1, 32, 32])\n",
      "torch.Size([1, 1, 30, 45])\n",
      "torch.Size([1, 1, 32, 32])\n",
      "torch.Size([1, 1, 30, 45])\n",
      "torch.Size([1, 1, 32, 32])\n",
      "torch.Size([1, 1, 30, 45])\n",
      "torch.Size([1, 1, 32, 32])\n",
      "torch.Size([1, 1, 30, 45])\n",
      "torch.Size([1, 1, 32, 32])\n",
      "torch.Size([1, 1, 30, 45])\n",
      "torch.Size([1, 1, 32, 32])\n",
      "torch.Size([1, 1, 30, 45])\n",
      "torch.Size([1, 1, 32, 32])\n",
      "torch.Size([1, 1, 30, 45])\n",
      "torch.Size([1, 1, 32, 32])\n",
      "torch.Size([1, 1, 30, 45])\n",
      "torch.Size([1, 1, 32, 32])\n",
      "torch.Size([1, 1, 30, 45])\n",
      "torch.Size([1, 1, 32, 32])\n",
      "torch.Size([1, 1, 30, 45])\n",
      "torch.Size([1, 1, 32, 32])\n",
      "torch.Size([1, 1, 30, 45])\n",
      "torch.Size([1, 1, 32, 32])\n",
      "torch.Size([1, 1, 30, 45])\n",
      "torch.Size([1, 1, 32, 32])\n",
      "torch.Size([1, 1, 30, 45])\n",
      "torch.Size([1, 1, 32, 32])\n",
      "torch.Size([1, 1, 30, 45])\n",
      "torch.Size([1, 1, 32, 32])\n",
      "torch.Size([1, 1, 30, 45])\n",
      "torch.Size([1, 1, 32, 32])\n",
      "torch.Size([1, 1, 30, 45])\n",
      "torch.Size([1, 1, 32, 32])\n",
      "torch.Size([1, 1, 30, 45])\n",
      "torch.Size([1, 1, 32, 32])\n",
      "torch.Size([1, 1, 30, 45])\n",
      "torch.Size([1, 1, 32, 32])\n",
      "torch.Size([1, 1, 30, 45])\n",
      "torch.Size([1, 1, 32, 32])\n",
      "torch.Size([1, 1, 30, 45])\n",
      "torch.Size([1, 1, 32, 32])\n",
      "torch.Size([1, 1, 30, 45])\n",
      "torch.Size([1, 1, 32, 32])\n",
      "torch.Size([1, 1, 30, 45])\n",
      "torch.Size([1, 1, 32, 32])\n",
      "torch.Size([1, 1, 30, 45])\n",
      "torch.Size([1, 1, 32, 32])\n",
      "torch.Size([1, 1, 30, 45])\n",
      "torch.Size([1, 1, 32, 32])\n",
      "torch.Size([1, 1, 30, 45])\n",
      "torch.Size([1, 1, 32, 32])\n",
      "test/total_score 3.1834564208984375\n",
      "test/total_reward -82.90713525397337\n"
     ]
    }
   ],
   "source": [
    "trainer = pl.Trainer(\n",
    "    logger = wandb_logger,    # W&B integration\n",
    "    log_every_n_steps = 10,   # set the logging frequency\n",
    "    gpus = 0,                # use all GPUs\n",
    "    max_epochs = 1,           # number of epochs\n",
    "    deterministic = True,     # keep it deterministic\n",
    "    default_root_dir = \"./\"\n",
    ")\n",
    "\n",
    "model = PolicyModel(preprocess=True,use_original_model=True)\n",
    "trainer.fit(model)\n",
    "wandb.finish()"
   ]
  },
  {
   "cell_type": "code",
   "execution_count": null,
   "metadata": {},
   "outputs": [],
   "source": [
    "#Experimento 1  - B : Modelo base con preprocessing\n",
    "# 10 epochs\n",
    "\n",
    "model = PolicyModel.load_from_checkpoint(\".\\VDoomLearning\\8okrjet9\\checkpoints\\epoch=9-step=129.ckpt\")\n",
    "trainer.fit(model)\n",
    "\n",
    "# 20 epochs\n",
    "model = PolicyModel.load_from_checkpoint(\".\\VDoomLearning\\wey0bmbx\\checkpoints\\epoch=9-step=129.ckpt\")\n",
    "trainer.fit(model)"
   ]
  },
  {
   "cell_type": "code",
   "execution_count": 16,
   "metadata": {},
   "outputs": [
    {
     "name": "stdout",
     "output_type": "stream",
     "text": [
      "[Button.MOVE_LEFT, Button.MOVE_RIGHT, Button.ATTACK, Button.MOVE_FORWARD, Button.MOVE_BACKWARD, Button.TURN_LEFT, Button.TURN_RIGHT]\n",
      "test/total_score -115.9661865234375\n",
      "test/total_reward -158.0419307805082\n",
      "test/total_score -57.20109558105469\n",
      "test/total_reward -19.301644506768753\n",
      "test/total_score -115.88810729980469\n",
      "test/total_reward -215.98433079185907\n",
      "test/total_score 255.37130737304688\n",
      "test/total_reward 207.35014150402765\n",
      "test/total_score -14.294937133789062\n",
      "test/total_reward -2.399085928059094\n",
      "test/total_score -115.87547302246094\n",
      "test/total_reward -105.92908885757174\n",
      "test/total_score -8.891693115234375\n",
      "test/total_reward 21.00364566536905\n",
      "test/total_score 10.726028442382812\n",
      "test/total_reward -47.38049131919615\n",
      "test/total_score 111.82083129882812\n",
      "test/total_reward 53.70461698709414\n",
      "test/total_score -106.0924072265625\n",
      "test/total_reward -186.10739132573872\n"
     ]
    }
   ],
   "source": [
    "model = PolicyModel.load_from_checkpoint(\".\\VDoomLearning\\wey0bmbx\\checkpoints\\epoch=9-step=129.ckpt\")\n",
    "model.on_train_end()"
   ]
  }
 ],
 "metadata": {
  "interpreter": {
   "hash": "9b31cb8f29005d79cbadb50c628970629d89324bc24395466016ed12a0acc794"
  },
  "kernelspec": {
   "display_name": "Python 3.6.4 64-bit",
   "language": "python",
   "name": "python3"
  },
  "language_info": {
   "codemirror_mode": {
    "name": "ipython",
    "version": 3
   },
   "file_extension": ".py",
   "mimetype": "text/x-python",
   "name": "python",
   "nbconvert_exporter": "python",
   "pygments_lexer": "ipython3",
   "version": "3.6.4"
  },
  "orig_nbformat": 4
 },
 "nbformat": 4,
 "nbformat_minor": 2
}
