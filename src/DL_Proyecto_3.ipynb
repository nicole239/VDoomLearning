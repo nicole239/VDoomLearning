{
 "cells": [
  {
   "cell_type": "markdown",
   "metadata": {},
   "source": [
    "#Deep Learning - Proyecto 1"
   ]
  },
  {
   "cell_type": "code",
   "execution_count": 1,
   "metadata": {},
   "outputs": [],
   "source": [
    "from __future__ import division\n",
    "from __future__ import print_function\n",
    "from vizdoom import *\n",
    "import itertools as it\n",
    "from random import sample, randint, random\n",
    "from time import time, sleep\n",
    "import numpy as np\n",
    "import skimage.color, skimage.transform\n",
    "import torch\n",
    "import torch.nn as nn\n",
    "import torch.nn.functional as F\n",
    "import torch.optim as optim\n",
    "from torchvision import datasets, transforms\n",
    "from torch.autograd import Variable\n",
    "from tqdm import trange\n",
    "from torch.utils.data import IterableDataset, DataLoader\n",
    "from torch.distributions import Categorical\n",
    "# ⚡ PyTorch Lightning\n",
    "import pytorch_lightning as pl\n",
    "\n",
    "# 🏋️‍♀️ Weights & Biases\n",
    "import wandb\n",
    "\n",
    "# ⚡ 🤝 🏋️‍♀️\n",
    "from pytorch_lightning.loggers import WandbLogger"
   ]
  },
  {
   "cell_type": "markdown",
   "metadata": {},
   "source": [
    "##Configuracion"
   ]
  },
  {
   "cell_type": "code",
   "execution_count": 2,
   "metadata": {},
   "outputs": [
    {
     "name": "stderr",
     "output_type": "stream",
     "text": [
      "Global seed set to 3568881279\n"
     ]
    },
    {
     "data": {
      "text/plain": [
       "3568881279"
      ]
     },
     "execution_count": 2,
     "metadata": {},
     "output_type": "execute_result"
    }
   ],
   "source": [
    "# Q-learning settings\n",
    "learning_rate = 0.00025\n",
    "discount_factor = 0.99\n",
    "epochs = 20\n",
    "learning_steps_per_epoch = 2000\n",
    "replay_memory_size = 10000\n",
    "\n",
    "# NN learning settings\n",
    "batch_size = 64\n",
    "\n",
    "# Training regime\n",
    "test_episodes_per_epoch = 100\n",
    "\n",
    "# Other parameters\n",
    "frame_repeat = 12\n",
    "resolution = (30, 45)\n",
    "episodes_to_watch = 10\n",
    "\n",
    "model_savefile = \"./model-doom.pth\"\n",
    "save_model = True\n",
    "load_model = False\n",
    "skip_learning = False\n",
    "\n",
    "# Configuration file path\n",
    "#config_file_path = \"../scenarios/simpler_basic.cfg\"\n",
    "config_file_path = \"../../scenarios/rocket_basic.cfg\"\n",
    "# config_file_path = \"../../scenarios/basic.cfg\"\n",
    "\n",
    "pl.seed_everything(hash(\"setting random seeds\") % 2**32 - 1)"
   ]
  },
  {
   "cell_type": "markdown",
   "metadata": {},
   "source": [
    "##Preprocesamiento"
   ]
  },
  {
   "cell_type": "code",
   "execution_count": 3,
   "metadata": {},
   "outputs": [],
   "source": [
    "# Converts and down-samples the input image\n",
    "def preprocess(img):\n",
    "    img = skimage.transform.resize(img, resolution)\n",
    "    img = img.astype(np.float32)\n",
    "    img = img.reshape([1, 1, resolution[0], resolution[1]])\n",
    "    img = torch.from_numpy(img)\n",
    "    img = Variable(img)\n",
    "    return img"
   ]
  },
  {
   "cell_type": "markdown",
   "metadata": {},
   "source": [
    "##Reproducir juego aprendido"
   ]
  },
  {
   "cell_type": "code",
   "execution_count": 4,
   "metadata": {},
   "outputs": [],
   "source": [
    "class ReplayMemory:\n",
    "    def __init__(self, capacity):\n",
    "        channels = 1\n",
    "        state_shape = (capacity, channels, resolution[0], resolution[1])\n",
    "        self.s1 = np.zeros(state_shape, dtype=np.float32)\n",
    "        self.s2 = np.zeros(state_shape, dtype=np.float32)\n",
    "        self.a = np.zeros(capacity, dtype=np.int32)\n",
    "        self.r = np.zeros(capacity, dtype=np.float32)\n",
    "        self.isterminal = np.zeros(capacity, dtype=np.float32)\n",
    "\n",
    "        self.capacity = capacity\n",
    "        self.size = 0\n",
    "        self.pos = 0\n",
    "\n",
    "    def add_transition(self, s1, action, s2, isterminal, reward):\n",
    "        self.s1[self.pos, 0, :, :] = s1\n",
    "        self.a[self.pos] = action\n",
    "        if not isterminal:\n",
    "            self.s2[self.pos, 0, :, :] = s2\n",
    "        self.isterminal[self.pos] = isterminal\n",
    "        self.r[self.pos] = reward\n",
    "\n",
    "        self.pos = (self.pos + 1) % self.capacity\n",
    "        self.size = min(self.size + 1, self.capacity)\n",
    "\n",
    "    def get_sample(self, sample_size):\n",
    "        i = sample(range(0, self.size), sample_size)\n",
    "        return self.s1[i], self.a[i], self.r[i], self.isterminal[i], self.s2[i] \n",
    "\n",
    "    def clean_memory(self):\n",
    "        self.pos = 0\n",
    "        self.size = 0\n",
    "\n"
   ]
  },
  {
   "cell_type": "code",
   "execution_count": 5,
   "metadata": {},
   "outputs": [],
   "source": [
    "class RLDataset(IterableDataset):\n",
    "    \"\"\"\n",
    "    Iterable Dataset containing the ReplayMemory\n",
    "    which will be updated with new experiences during training\n",
    "    Args:\n",
    "        buffer: replay buffer\n",
    "        sample_size: number of experiences to sample at a time\n",
    "    \"\"\"\n",
    "\n",
    "    def __init__(self, buffer: ReplayMemory, sample_size: int = batch_size) -> None:\n",
    "        self.buffer = buffer\n",
    "        self.sample_size = sample_size\n",
    "\n",
    "    def __iter__(self):\n",
    "        states, actions, rewards, dones, new_states = self.buffer.get_sample(self.sample_size)\n",
    "        for i in range(len(dones)):\n",
    "            yield states[i], actions[i], rewards[i], dones[i], new_states[i]"
   ]
  },
  {
   "cell_type": "markdown",
   "metadata": {},
   "source": [
    "##Modelo de Policy"
   ]
  },
  {
   "cell_type": "code",
   "execution_count": 6,
   "metadata": {},
   "outputs": [],
   "source": [
    "class Net(nn.Module):\n",
    "    def __init__(self, available_actions_count):\n",
    "        super(Net, self).__init__()\n",
    "        self.conv1 = nn.Conv2d(1, 8, kernel_size=6, stride=3)\n",
    "        self.conv2 = nn.Conv2d(8, 8, kernel_size=3, stride=2)\n",
    "        self.fc1 = nn.Linear(192, 128)\n",
    "        self.fc2 = nn.Linear(128, available_actions_count)\n",
    "\n",
    "    def forward(self, x):\n",
    "        x = F.relu(self.conv1(x))\n",
    "        x = F.relu(self.conv2(x))\n",
    "        x = x.view(-1, 192)\n",
    "        x = F.relu(self.fc1(x))\n",
    "        x = self.fc2(x)\n",
    "        return x"
   ]
  },
  {
   "cell_type": "code",
   "execution_count": 7,
   "metadata": {},
   "outputs": [],
   "source": [
    "class PolicyModel(pl.LightningModule):\n",
    "    def __init__(self):\n",
    "        super().__init__()\n",
    "        self.lr      = learning_rate\n",
    "\n",
    "        # Create Doom instance\n",
    "        self.game = self.initialize_vizdoom(config_file_path)\n",
    "\n",
    "        # Action = which buttons are pressed\n",
    "        n = self.game.get_available_buttons_size()\n",
    "        self.actions = [list(a) for a in it.product([0, 1], repeat=n)]\n",
    "\n",
    "        # Create replay memory which will store the transitions\n",
    "        self.memory = ReplayMemory(capacity=replay_memory_size)\n",
    "\n",
    "        if load_model:\n",
    "            print(\"Loading model from: \", model_savefile)\n",
    "            self.net = torch.load(model_savefile)\n",
    "        else:\n",
    "            self.net = Net(len(self.actions))\n",
    "        \n",
    "    def initialize_vizdoom(self, config_file_path):\n",
    "        game = DoomGame()\n",
    "        game.load_config(config_file_path)\n",
    "        game.set_window_visible(False)\n",
    "        game.set_mode(Mode.PLAYER)\n",
    "        game.set_screen_format(ScreenFormat.GRAY8)\n",
    "        game.set_screen_resolution(ScreenResolution.RES_640X480)\n",
    "        game.init()\n",
    "        return game\n",
    "\n",
    "    def forward(self, x): \n",
    "        logits = self.net(x)\n",
    "        return Categorical(logits=logits)\n",
    "\n",
    "    def get_action(self,state):\n",
    "        return self(state).sample().item()\n",
    "        \n",
    "    def loss(self,state, action, reward):       \n",
    "        logp = self(state).log_prob(action)\n",
    "        return -(logp * reward).mean()\n",
    "\n",
    "    def on_train_epoch_start(self):\n",
    "        #Llena la memoria\n",
    "        self.memory.clean_memory()\n",
    "        self.game.new_episode()\n",
    "        for learning_step in trange(learning_steps_per_epoch, leave=False):            \n",
    "            state = preprocess(self.game.get_state().screen_buffer)\n",
    "            action= self.get_action(state)\n",
    "            reward = self.game.make_action(self.actions[action], frame_repeat)\n",
    "            done = self.game.is_episode_finished()\n",
    "            next_state = preprocess(self.game.get_state().screen_buffer) if not done else None\n",
    "            # Remember the transition that was just experienced.\n",
    "            self.memory.add_transition(state, action, next_state, done, reward)\n",
    "            \n",
    "            if self.game.is_episode_finished():\n",
    "                score = self.game.get_total_reward()\n",
    "                self.log('train/score', score, on_epoch=True)                \n",
    "                self.game.new_episode()        \n",
    "\n",
    "    def discount_reward(self,reward):\n",
    "        R = 0\n",
    "        rewards_with_discount=[]\n",
    "        for r in torch.flip(reward, [0]):\n",
    "            R = r + discount_factor * R\n",
    "            rewards_with_discount.insert(0,R)\n",
    "        \n",
    "        # Scale rewards\n",
    "        rewards_with_discount = torch.FloatTensor(rewards_with_discount)\n",
    "        rewards_with_discount = (rewards_with_discount - rewards_with_discount.mean()) / (rewards_with_discount.std() + np.finfo(np.float32).eps)\n",
    "        return rewards_with_discount\n",
    "\n",
    "    def training_step(self, batch, batch_idx):\n",
    "        state, action, reward, _, _ = batch\n",
    "\n",
    "        # Discount future rewards back to the present       \n",
    "        reward = self.discount_reward(reward) \n",
    "        \n",
    "        # Calculate loss\n",
    "        loss = self.loss(state,action,reward)        \n",
    "\n",
    "        # logging metrics we calculated by hand\n",
    "        self.log('train/loss', loss, on_epoch=True)\n",
    "        \n",
    "        return loss\n",
    "\n",
    "    def configure_optimizers(self):\n",
    "        return torch.optim.SGD(model.parameters(), self.lr)\n",
    "\n",
    "    #paso de pruebas que se realizarán al finalizar todo el entrenamiento\n",
    "    def test_step(self, batch, batch_idx):\n",
    "        print(\"Hola\")\n",
    "        \n",
    "\n",
    "    def on_validation_start(self):      \n",
    "        for _ in trange(test_episodes_per_epoch, leave=False):\n",
    "            self.game.new_episode()\n",
    "            while not self.game.is_episode_finished():\n",
    "                state = preprocess(self.game.get_state().screen_buffer)\n",
    "                action= self.get_action(state)\n",
    "                self.game.make_action(self.actions[action], frame_repeat)\n",
    "\n",
    "            r = self.game.get_total_reward()\n",
    "            self.log(\"val/total_score\", r, on_step=True, on_epoch=True)\n",
    "\n",
    "    def on_train_end(self):\n",
    "        self.game.close()\n",
    "\n",
    "        # Reinitialize the game with window visible\n",
    "        self.game.set_window_visible(True)\n",
    "        self.game.set_mode(Mode.ASYNC_PLAYER)\n",
    "        self.game.init()\n",
    "\n",
    "        for _ in range(episodes_to_watch):\n",
    "            self.game.new_episode()\n",
    "            while not self.game.is_episode_finished():\n",
    "                state = preprocess(self.game.get_state().screen_buffer)\n",
    "                action = self.get_action(state)\n",
    "\n",
    "                # Instead of make_action(a, frame_repeat) in order to make the animation smooth\n",
    "                self.game.set_action(self.actions[action])\n",
    "                for _ in range(frame_repeat):\n",
    "                    self.game.advance_action()\n",
    "\n",
    "            # Sleep between episodes\n",
    "            sleep(1.0)\n",
    "            score = self.game.get_total_reward()\n",
    "            print(\"test/total_score\", score)\n",
    "\n",
    "        torch.save(self.net, model_savefile)\n",
    "\n",
    "    def train_dataloader(self) -> DataLoader:\n",
    "        \"\"\"Initialize the Replay Buffer dataset used for retrieving experiences\"\"\"\n",
    "        self.hparams.episode_length = 200\n",
    "        self.hparams.batch_size = 16\n",
    "        dataset = RLDataset(self.memory, self.hparams.episode_length)\n",
    "        dataloader = DataLoader(dataset=dataset,\n",
    "                                batch_size=self.hparams.batch_size,\n",
    "                                )\n",
    "        return dataloader\n",
    "            "
   ]
  },
  {
   "cell_type": "code",
   "execution_count": 8,
   "metadata": {},
   "outputs": [
    {
     "name": "stderr",
     "output_type": "stream",
     "text": [
      "wandb: Appending key for api.wandb.ai to your netrc file: C:\\Users\\ruben/.netrc\n",
      "wandb: Network error (ConnectionError), entering retry loop.\n"
     ]
    }
   ],
   "source": [
    "!wandb login --relogin 70434303a5ed54f05105b62078db2447874ee020\n",
    "wandb_logger = WandbLogger(project=\"VDoomLearning\")"
   ]
  },
  {
   "cell_type": "code",
   "execution_count": 9,
   "metadata": {},
   "outputs": [
    {
     "name": "stderr",
     "output_type": "stream",
     "text": [
      "GPU available: False, used: False\n",
      "TPU available: False, using: 0 TPU cores\n",
      "IPU available: False, using: 0 IPUs\n",
      "Failed to detect the name of this notebook, you can set it manually with the WANDB_NOTEBOOK_NAME environment variable to enable code saving.\n",
      "\u001b[34m\u001b[1mwandb\u001b[0m: Currently logged in as: \u001b[33mteccr\u001b[0m (use `wandb login --relogin` to force relogin)\n"
     ]
    },
    {
     "data": {
      "text/html": [
       "\n",
       "                    Syncing run <strong><a href=\"https://wandb.ai/teccr/VDoomLearning/runs/1b5x5u0p\" target=\"_blank\">gallant-sound-4</a></strong> to <a href=\"https://wandb.ai/teccr/VDoomLearning\" target=\"_blank\">Weights & Biases</a> (<a href=\"https://docs.wandb.com/integrations/jupyter.html\" target=\"_blank\">docs</a>).<br/>\n",
       "\n",
       "                "
      ],
      "text/plain": [
       "<IPython.core.display.HTML object>"
      ]
     },
     "metadata": {},
     "output_type": "display_data"
    },
    {
     "name": "stderr",
     "output_type": "stream",
     "text": [
      "\n",
      "  | Name | Type | Params\n",
      "------------------------------\n",
      "0 | net  | Net  | 26.6 K\n",
      "------------------------------\n",
      "26.6 K    Trainable params\n",
      "0         Non-trainable params\n",
      "26.6 K    Total params\n",
      "0.106     Total estimated model params size (MB)\n",
      "C:\\Users\\ruben\\AppData\\Local\\Programs\\Python\\Python36\\lib\\site-packages\\pytorch_lightning\\trainer\\data_loading.py:111: UserWarning: The dataloader, train_dataloader, does not have many workers which may be a bottleneck. Consider increasing the value of the `num_workers` argument` (try 8 which is the number of cpus on this machine) in the `DataLoader` init to improve performance.\n",
      "  f\"The dataloader, {name}, does not have many workers which may be a bottleneck.\"\n"
     ]
    },
    {
     "name": "stdout",
     "output_type": "stream",
     "text": [
      "Epoch 0: : 0it [00:00, ?it/s]"
     ]
    },
    {
     "name": "stderr",
     "output_type": "stream",
     "text": []
    },
    {
     "name": "stdout",
     "output_type": "stream",
     "text": [
      "Epoch 1: : 0it [00:00, ?it/s, loss=-0.00498, v_num=5u0p]"
     ]
    },
    {
     "name": "stderr",
     "output_type": "stream",
     "text": []
    },
    {
     "name": "stdout",
     "output_type": "stream",
     "text": [
      "Epoch 1: : 0it [00:10, ?it/s, loss=-0.00498, v_num=5u0p]"
     ]
    },
    {
     "name": "stderr",
     "output_type": "stream",
     "text": []
    },
    {
     "name": "stdout",
     "output_type": "stream",
     "text": [
      "Epoch 2: : 0it [00:00, ?it/s, loss=-0.00584, v_num=5u0p]"
     ]
    },
    {
     "name": "stderr",
     "output_type": "stream",
     "text": []
    },
    {
     "name": "stdout",
     "output_type": "stream",
     "text": [
      "Epoch 2: : 0it [00:16, ?it/s, loss=-0.00584, v_num=5u0p]"
     ]
    },
    {
     "name": "stderr",
     "output_type": "stream",
     "text": []
    },
    {
     "name": "stdout",
     "output_type": "stream",
     "text": [
      "Epoch 3: : 0it [00:00, ?it/s, loss=0.00165, v_num=5u0p]"
     ]
    },
    {
     "name": "stderr",
     "output_type": "stream",
     "text": []
    },
    {
     "name": "stdout",
     "output_type": "stream",
     "text": [
      "Epoch 4: : 0it [00:00, ?it/s, loss=0.00117, v_num=5u0p]"
     ]
    },
    {
     "name": "stderr",
     "output_type": "stream",
     "text": []
    },
    {
     "name": "stdout",
     "output_type": "stream",
     "text": [
      "Epoch 5: : 0it [00:00, ?it/s, loss=-1.81e-05, v_num=5u0p]"
     ]
    },
    {
     "name": "stderr",
     "output_type": "stream",
     "text": []
    },
    {
     "name": "stdout",
     "output_type": "stream",
     "text": [
      "Epoch 6: : 0it [00:00, ?it/s, loss=-0.00543, v_num=5u0p]"
     ]
    },
    {
     "name": "stderr",
     "output_type": "stream",
     "text": []
    },
    {
     "name": "stdout",
     "output_type": "stream",
     "text": [
      "Epoch 7: : 0it [00:00, ?it/s, loss=-0.00528, v_num=5u0p]"
     ]
    },
    {
     "name": "stderr",
     "output_type": "stream",
     "text": []
    },
    {
     "name": "stdout",
     "output_type": "stream",
     "text": [
      "Epoch 8: : 0it [00:00, ?it/s, loss=-0.00743, v_num=5u0p]"
     ]
    },
    {
     "name": "stderr",
     "output_type": "stream",
     "text": []
    },
    {
     "name": "stdout",
     "output_type": "stream",
     "text": [
      "Epoch 9: : 0it [00:00, ?it/s, loss=-0.00715, v_num=5u0p]"
     ]
    },
    {
     "name": "stderr",
     "output_type": "stream",
     "text": []
    },
    {
     "name": "stdout",
     "output_type": "stream",
     "text": [
      "Epoch 9: : 13it [03:03, 14.11s/it, loss=-0.000214, v_num=5u0p]\n",
      "test/total_score -104.0\n",
      "test/total_score 58.0\n",
      "test/total_score -330.0\n",
      "test/total_score 70.0\n",
      "test/total_score 36.0\n",
      "test/total_score -187.0\n",
      "test/total_score -213.0\n",
      "test/total_score 52.0\n",
      "test/total_score 94.0\n",
      "test/total_score -111.0\n"
     ]
    },
    {
     "data": {
      "text/html": [
       "<br/>Waiting for W&B process to finish, PID 7516... <strong style=\"color:green\">(success).</strong>"
      ],
      "text/plain": [
       "<IPython.core.display.HTML object>"
      ]
     },
     "metadata": {},
     "output_type": "display_data"
    },
    {
     "data": {
      "application/vnd.jupyter.widget-view+json": {
       "model_id": "c89121b3213742edadd482e3ad3966da",
       "version_major": 2,
       "version_minor": 0
      },
      "text/plain": [
       "VBox(children=(Label(value=' 0.00MB of 0.00MB uploaded (0.00MB deduped)\\r'), FloatProgress(value=1.0, max=1.0)…"
      ]
     },
     "metadata": {},
     "output_type": "display_data"
    },
    {
     "data": {
      "text/html": [
       "<style>\n",
       "    table.wandb td:nth-child(1) { padding: 0 10px; text-align: right }\n",
       "    .wandb-row { display: flex; flex-direction: row; flex-wrap: wrap; width: 100% }\n",
       "    .wandb-col { display: flex; flex-direction: column; flex-basis: 100%; flex: 1; padding: 10px; }\n",
       "    </style>\n",
       "<div class=\"wandb-row\"><div class=\"wandb-col\">\n",
       "<h3>Run history:</h3><br/><table class=\"wandb\"><tr><td>epoch</td><td>▁▁▂▂▃▃▃▃▃▄▄▅▅▆▆▆▆▆▇▇███</td></tr><tr><td>train/loss_epoch</td><td>▃▅▅▄█▁▄▂▁▇</td></tr><tr><td>train/loss_step</td><td>▂▅▁▅▄▆▃▆▄▄▁█▁</td></tr><tr><td>train/score</td><td>█▁▇▂▃▆▂▃▃▆</td></tr><tr><td>trainer/global_step</td><td>▁▁▂▂▂▃▃▃▃▄▄▅▅▅▆▆▆▆▇▇▇██</td></tr></table><br/></div><div class=\"wandb-col\">\n",
       "<h3>Run summary:</h3><br/><table class=\"wandb\"><tr><td>epoch</td><td>9</td></tr><tr><td>train/loss_epoch</td><td>0.0062</td></tr><tr><td>train/loss_step</td><td>-0.0323</td></tr><tr><td>train/score</td><td>-65.98959</td></tr><tr><td>trainer/global_step</td><td>129</td></tr></table>\n",
       "</div></div>\n",
       "Synced 5 W&B file(s), 0 media file(s), 0 artifact file(s) and 0 other file(s)\n",
       "<br/>Synced <strong style=\"color:#cdcd00\">gallant-sound-4</strong>: <a href=\"https://wandb.ai/teccr/VDoomLearning/runs/1b5x5u0p\" target=\"_blank\">https://wandb.ai/teccr/VDoomLearning/runs/1b5x5u0p</a><br/>\n",
       "Find logs at: <code>.\\wandb\\run-20211114_221220-1b5x5u0p\\logs</code><br/>\n"
      ],
      "text/plain": [
       "<IPython.core.display.HTML object>"
      ]
     },
     "metadata": {},
     "output_type": "display_data"
    }
   ],
   "source": [
    "trainer = pl.Trainer(\n",
    "    logger = wandb_logger,    # W&B integration\n",
    "    log_every_n_steps = 10,   # set the logging frequency\n",
    "    gpus = 0,                # use all GPUs\n",
    "    max_epochs = 10,           # number of epochs\n",
    "    deterministic = True,     # keep it deterministic\n",
    "    default_root_dir = \"./\"\n",
    ")\n",
    "\n",
    "model = PolicyModel()\n",
    "trainer.fit(model)\n",
    "wandb.finish()"
   ]
  }
 ],
 "metadata": {
  "interpreter": {
   "hash": "9b31cb8f29005d79cbadb50c628970629d89324bc24395466016ed12a0acc794"
  },
  "kernelspec": {
   "display_name": "Python 3.6.4 64-bit",
   "language": "python",
   "name": "python3"
  },
  "language_info": {
   "codemirror_mode": {
    "name": "ipython",
    "version": 3
   },
   "file_extension": ".py",
   "mimetype": "text/x-python",
   "name": "python",
   "nbconvert_exporter": "python",
   "pygments_lexer": "ipython3",
   "version": "3.6.4"
  },
  "orig_nbformat": 4
 },
 "nbformat": 4,
 "nbformat_minor": 2
}
